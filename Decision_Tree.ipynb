{
  "nbformat": 4,
  "nbformat_minor": 0,
  "metadata": {
    "colab": {
      "provenance": []
    },
    "kernelspec": {
      "name": "python3",
      "display_name": "Python 3"
    },
    "language_info": {
      "name": "python"
    }
  },
  "cells": [
    {
      "cell_type": "markdown",
      "source": [
        "# **Theoretical**"
      ],
      "metadata": {
        "id": "HnKCADKnhQV7"
      }
    },
    {
      "cell_type": "markdown",
      "source": [
        "# 1. What is a Decision Tree, and how does it work\t?\n",
        "### **Ans:-**A **Decision Tree** is a supervised machine learning algorithm used for classification and regression tasks. It is a tree-like structure where each internal node represents a decision rule based on a feature, each branch represents the outcome of a decision, and each leaf node represents a class label (for classification) or a numerical value (for regression).  \n",
        "\n",
        "### **How It Works:**\n",
        "1. **Start with the Root Node** – The algorithm selects the best feature to split the data based on a criterion such as **Gini impurity**, **Entropy (Information Gain)** (for classification), or **Mean Squared Error (MSE)** (for regression).\n",
        "2. **Splitting the Data** – The dataset is split into smaller subsets based on the selected feature’s values.\n",
        "3. **Recursive Splitting** – The process is repeated for each subset, forming branches, until a stopping condition is met (e.g., maximum depth, minimum samples per node, or pure class labels in a leaf node).\n",
        "4. **Leaf Nodes** – Once the splitting stops, the final nodes (leaf nodes) contain the predicted class labels or regression values.\n",
        "\n"
      ],
      "metadata": {
        "id": "vtLeXPPJWAaT"
      }
    },
    {
      "cell_type": "markdown",
      "source": [
        "# 2. What are impurity measures in Decision Trees ?\n",
        "### **Ans:-** **Impurity Measures in Decision Trees**\n",
        "\n",
        "1. **Gini Impurity**  \n",
        "   - Measures how often a randomly chosen element would be incorrectly classified.  \n",
        "   - The lower the value, the purer the node.  \n",
        "   - Example: If a node contains 80% of class A and 20% of class B, the impurity is **0.32** (lower values are better).  \n",
        "\n",
        "2. **Entropy**  \n",
        "   - Measures the randomness or disorder in the dataset.  \n",
        "   - If all elements belong to the same class, entropy is zero (perfect purity).  \n",
        "   - Example: If a node contains 80% of class A and 20% of class B, the entropy is **0.72** (lower values indicate purer nodes).  \n",
        "\n",
        "3. **Variance (For Regression Trees)**  \n",
        "   - Measures the spread of numerical values in a node.  \n",
        "   - A lower variance means the node contains values that are closer together.  \n",
        "   - Example: If the values in a node are 3, 5, and 7, the variance is **2.67** (higher variance means greater spread).  \n",
        "\n",
        "4. **Mean Squared Error (MSE) (For Regression Trees)**  \n",
        "   - Measures the average squared difference between actual and predicted values.  \n",
        "   - A lower MSE means better accuracy.  \n",
        "   - Example: If actual values are 3, 5, and 7, and predicted values are 4, 6, and 8, the MSE is **1.00** (lower values mean better predictions).  \n"
      ],
      "metadata": {
        "id": "Wb0HwAwTX1g8"
      }
    },
    {
      "cell_type": "markdown",
      "source": [
        "# 3. What is the mathematical formula for Gini Impurity\n",
        "### **Ans:-**The **mathematical formula** for **Gini Impurity** is:  \n",
        "\n",
        "\n",
        "\n",
        "```\n",
        "Gini Impurity = 1 - (p1^2 + p2^2 + ... + pn^2)\n",
        "```\n",
        "\n",
        "Where:\n",
        "- `p1, p2, ..., pn` are the probabilities of each class in the dataset.\n",
        "\n",
        "  \n",
        "\n",
        "### **Example Calculation**  \n",
        "If a node contains 80% of class A and 20% of class B:  \n",
        "\n",
        "\\[\n",
        "Gini = 1 - (0.8^2 + 0.2^2)\n",
        "\\]\n",
        "\n",
        "\\[\n",
        "= 1 - (0.64 + 0.04)\n",
        "\\]\n",
        "\n",
        "\\[\n",
        "= 1 - 0.68\n",
        "\\]\n",
        "\n",
        "\\[\n",
        "= 0.32\n",
        "\\]\n",
        "\n",
        "A **lower Gini impurity** indicates a **purer** node. 🚀"
      ],
      "metadata": {
        "id": "hE7wVChsYrcB"
      }
    },
    {
      "cell_type": "markdown",
      "source": [
        "# 4. What is the mathematical formula for Entropy\n",
        "### **Ans:-** **Here's the mathematical formula for Entropy**\n",
        "\n",
        "```\n",
        "Entropy = - (p1 * log2(p1) + p2 * log2(p2) + ... + pn * log2(pn))\n",
        "```\n",
        "\n",
        "Where:\n",
        "- `p1, p2, ..., pn` are the probabilities of each class in the dataset.\n",
        "- `log2` denotes the logarithm base 2."
      ],
      "metadata": {
        "id": "phxg1tSkaWwt"
      }
    },
    {
      "cell_type": "markdown",
      "source": [
        "# 5. What is Information Gain, and how is it used in Decision Trees\n",
        "### **Ans:-**  **Information Gain in Decision Trees**  \n",
        "\n",
        "**Definition:**  \n",
        "Information Gain (IG) measures the **reduction in entropy** when a dataset is split based on an attribute. It helps **decide which feature to split on** in a decision tree.  \n",
        "\n",
        "---\n",
        "\n",
        "### **Mathematical Formula**\n",
        "```\n",
        "Information Gain = Entropy(Parent) - Σ [ (Weighted Entropy of each Child) ]\n",
        "```\n",
        "Where:  \n",
        "- `Entropy(Parent)` is the entropy before splitting.  \n",
        "- `Weighted Entropy of each Child` is the entropy of a child node, weighted by the proportion of samples in that node.  \n",
        "- The summation (Σ) runs over all child nodes.  \n",
        "\n",
        "---\n",
        "\n",
        "### **How It Works in Decision Trees**  \n",
        "1. **Calculate Entropy of the Parent Node** (before the split).  \n",
        "2. **Split the Data** based on an attribute.  \n",
        "3. **Calculate the Entropy of Child Nodes** (after the split).  \n",
        "4. **Compute Information Gain** by subtracting the weighted entropy of child nodes from the parent entropy.  \n",
        "5. **Choose the Attribute with the Highest Information Gain** for splitting.  \n",
        "\n",
        "---\n",
        "\n",
        "### **Example Calculation**  \n",
        "Suppose we have a dataset with **10 samples**:\n",
        "- **6 are Class A**,  \n",
        "- **4 are Class B**.\n",
        "\n",
        "#### **Step 1: Calculate Parent Entropy**\n",
        "```\n",
        "Entropy(Parent) = - [(6/10) * log2(6/10) + (4/10) * log2(4/10)]\n",
        "                ≈ 0.97\n",
        "```\n",
        "\n",
        "#### **Step 2: Split the Data**\n",
        "Assume splitting by a feature creates two child nodes:\n",
        "1. **Child 1:** 4 samples (3 Class A, 1 Class B)  \n",
        "2. **Child 2:** 6 samples (3 Class A, 3 Class B)  \n",
        "\n",
        "#### **Step 3: Calculate Entropy of Each Child**\n",
        "```\n",
        "Entropy(Child 1) = - [(3/4) * log2(3/4) + (1/4) * log2(1/4)]\n",
        "                 ≈ 0.81\n",
        "```\n",
        "```\n",
        "Entropy(Child 2) = - [(3/6) * log2(3/6) + (3/6) * log2(3/6)]\n",
        "                 = 1.00\n",
        "```\n",
        "\n",
        "#### **Step 4: Compute Weighted Entropy**\n",
        "```\n",
        "Weighted Entropy = (4/10 * 0.81) + (6/10 * 1.00)\n",
        "                 ≈ 0.92\n",
        "```\n",
        "\n",
        "#### **Step 5: Compute Information Gain**\n",
        "```\n",
        "Information Gain = 0.97 - 0.92\n",
        "                 = 0.05\n",
        "```\n",
        "\n",
        "A **higher Information Gain** means the feature is **better for splitting**. The decision tree algorithm picks the feature with the highest IG at each step. 🚀"
      ],
      "metadata": {
        "id": "euDYwgbwbCY8"
      }
    },
    {
      "cell_type": "markdown",
      "source": [
        "# 6. What is Information Gain, and how is it used in Decision Trees\n",
        "\n",
        "### **Ans:-** **Difference Between Gini Impurity and Entropy**  \n",
        "\n",
        "| **Aspect**        | **Gini Impurity** | **Entropy** |\n",
        "|-------------------|-----------------|------------|\n",
        "| **Definition** | Measures the probability of misclassifying a randomly chosen element. | Measures the amount of randomness (uncertainty) in the dataset. |\n",
        "| **Formula** (Plain Text) | `Gini = 1 - (p1^2 + p2^2 + ... + pn^2)` | `Entropy = - (p1 * log2(p1) + p2 * log2(p2) + ... + pn * log2(pn))` |\n",
        "| **Range** | Between 0 and 0.5 for a binary classification. | Between 0 and 1 for a binary classification. |\n",
        "| **Interpretation** | A lower Gini means purer nodes (less impurity). | A lower Entropy means less randomness (more certainty). |\n",
        "| **Computation Speed** | Faster (no logarithmic calculations). | Slower (involves logarithm calculations). |\n",
        "| **Preference** | Often used in **CART (Classification and Regression Trees)**. | Used in **ID3 and C4.5 decision tree algorithms**. |\n",
        "\n",
        "### **Example Comparison**  \n",
        "If a node has **80% Class A** and **20% Class B**:\n",
        "\n",
        "1. **Gini Impurity Calculation**  \n",
        "   ```\n",
        "   Gini = 1 - (0.8^2 + 0.2^2)  \n",
        "        = 1 - (0.64 + 0.04)  \n",
        "        = 0.32  \n",
        "   ```\n",
        "\n",
        "2. **Entropy Calculation**  \n",
        "   ```\n",
        "   Entropy = - (0.8 * log2(0.8) + 0.2 * log2(0.2))  \n",
        "           ≈ - (0.8 * -0.32 + 0.2 * -2.32)  \n",
        "           ≈ 0.72  \n",
        "   ```\n",
        "\n",
        "### **Which One to Use?**  \n",
        "- **Gini Impurity** is preferred when computation speed is important.  \n",
        "- **Entropy** is preferred when the focus is on information gain and understanding dataset uncertainty.  \n",
        "- In practice, both lead to similar decision trees, so many algorithms default to **Gini Impurity** for efficiency. 🚀"
      ],
      "metadata": {
        "id": "K_f-y3T9b-sx"
      }
    },
    {
      "cell_type": "markdown",
      "source": [
        "# 7. What is the mathematical explanation behind Decision Trees\n",
        "### **Ans:-** **Mathematical Explanation Behind Decision Trees**  \n",
        "\n",
        "A **Decision Tree** is a supervised learning algorithm that splits a dataset into smaller subsets using a recursive approach based on mathematical criteria like **Gini Impurity, Entropy, or Variance Reduction** (for regression).  \n",
        "\n",
        "---\n",
        "\n",
        "### **Step-by-Step Mathematical Process**  \n",
        "\n",
        "#### **1. Selecting the Best Split**  \n",
        "At each step, the algorithm evaluates all possible **features** and **split points** to maximize information gain (for classification) or variance reduction (for regression).  \n",
        "\n",
        "#### **2. Impurity Measures (Classification)**  \n",
        "The goal is to minimize impurity after splitting. Two common measures:  \n",
        "\n",
        "- **Gini Impurity** (Used in CART)  \n",
        "  ```\n",
        "  Gini = 1 - Σ (pi^2)\n",
        "  ```\n",
        "  Where `pi` is the probability of class `i`.  \n",
        "\n",
        "- **Entropy** (Used in ID3, C4.5)  \n",
        "  ```\n",
        "  Entropy = - Σ (pi * log2(pi))\n",
        "  ```\n",
        "  Lower entropy means a purer split.  \n",
        "\n",
        "#### **3. Information Gain (Classification)**  \n",
        "Once we calculate impurity, we measure how much it reduces after a split using **Information Gain (IG)**:  \n",
        "\n",
        "```\n",
        "IG = Entropy(Parent) - Σ (Weighted Entropy of Child Nodes)\n",
        "```\n",
        "\n",
        "The feature with the highest **Information Gain** is chosen for the split.  \n",
        "\n",
        "#### **4. Variance Reduction (Regression Trees)**  \n",
        "For regression, impurity is measured using variance instead of entropy or Gini:  \n",
        "\n",
        "```\n",
        "Variance = (1/n) Σ (yi - mean(y))^2\n",
        "```\n",
        "\n",
        "The feature that minimizes the total variance after splitting is chosen.  \n",
        "\n",
        "#### **5. Recursive Splitting**  \n",
        "The process continues recursively on each child node until:  \n",
        "- A stopping condition is met (e.g., max depth reached, minimum samples per leaf).  \n",
        "- The node becomes **pure** (all samples belong to one class).  \n",
        "\n",
        "---\n",
        "\n",
        "### **Example Calculation**  \n",
        "\n",
        "**Dataset Before Split**:  \n",
        "- Class A: 6 samples  \n",
        "- Class B: 4 samples  \n",
        "\n",
        "1. **Calculate Parent Entropy**  \n",
        "   ```\n",
        "   Entropy(Parent) = - [(6/10) log2(6/10) + (4/10) log2(4/10)]\n",
        "                   ≈ 0.97\n",
        "   ```\n",
        "\n",
        "2. **Split the Data**  \n",
        "   Suppose a split creates two child nodes:  \n",
        "   - **Child 1:** 4 samples (3 Class A, 1 Class B)  \n",
        "   - **Child 2:** 6 samples (3 Class A, 3 Class B)  \n",
        "\n",
        "3. **Calculate Child Entropy**  \n",
        "   ```\n",
        "   Entropy(Child 1) = - [(3/4) log2(3/4) + (1/4) log2(1/4)]\n",
        "                    ≈ 0.81\n",
        "   ```\n",
        "   ```\n",
        "   Entropy(Child 2) = - [(3/6) log2(3/6) + (3/6) log2(3/6)]\n",
        "                    = 1.00\n",
        "   ```\n",
        "\n",
        "4. **Compute Weighted Entropy**  \n",
        "   ```\n",
        "   Weighted Entropy = (4/10 * 0.81) + (6/10 * 1.00)\n",
        "                    ≈ 0.92\n",
        "   ```\n",
        "\n",
        "5. **Calculate Information Gain**  \n",
        "   ```\n",
        "   IG = 0.97 - 0.92 = 0.05\n",
        "   ```\n",
        "\n",
        "Since **higher Information Gain is better**, we choose the feature with the highest IG for splitting.  \n",
        "\n",
        "---\n",
        "\n",
        "### **Conclusion**  \n",
        "The mathematical foundation of Decision Trees revolves around:  \n",
        "- **Gini Impurity or Entropy** for classification.  \n",
        "- **Variance Reduction** for regression.  \n",
        "- **Information Gain** to determine the best split.  \n",
        "\n",
        "This recursive process creates an efficient and interpretable model for decision-making. 🚀"
      ],
      "metadata": {
        "id": "qGq16NWTcpdf"
      }
    },
    {
      "cell_type": "markdown",
      "source": [
        "# 8. What is Pre-Pruning in Decision Trees\n",
        "### **Ans:-** **Pre-Pruning in Decision Trees**  \n",
        "\n",
        "**Definition:**  \n",
        "Pre-Pruning (also called **early stopping**) is a technique used to prevent a Decision Tree from growing too deep, reducing **overfitting**. It stops the tree-building process before it becomes too complex by applying certain constraints.  \n",
        "\n",
        "---\n",
        "\n",
        "### **How Pre-Pruning Works**  \n",
        "Before making a split, the algorithm evaluates whether further splitting is beneficial based on conditions like:  \n",
        "\n",
        "1. **Maximum Depth Constraint**  \n",
        "   - Stops the tree from growing beyond a set depth (`max_depth`).  \n",
        "   - Prevents excessive branching.  \n",
        "\n",
        "2. **Minimum Samples per Node**  \n",
        "   - Requires a node to have at least a minimum number of samples (`min_samples_split`) before splitting.  \n",
        "   - Example: If `min_samples_split = 5`, a node with fewer than 5 samples won’t split.  \n",
        "\n",
        "3. **Minimum Information Gain**  \n",
        "   - Splitting happens only if it increases Information Gain (or decreases impurity) beyond a threshold.  \n",
        "\n",
        "4. **Chi-Square Test (For Categorical Data)**  \n",
        "   - Ensures a split is statistically significant before proceeding.  \n",
        "\n",
        "5. **Maximum Number of Leaf Nodes**  \n",
        "   - Limits the total number of leaf nodes (`max_leaf_nodes`).  \n",
        "\n",
        "---\n",
        "\n",
        "### **Example**  \n",
        "Without pre-pruning, a Decision Tree may keep splitting until each leaf contains only **one** sample, causing overfitting.  \n",
        "\n",
        "With pre-pruning:  \n",
        "- If a split **does not reduce impurity significantly**, it is **prevented**.  \n",
        "- If a node has **too few samples**, it remains a leaf.  \n",
        "\n",
        "---\n",
        "\n",
        "### **Advantages of Pre-Pruning**  \n",
        "✅ Prevents overfitting by **stopping early**.  \n",
        "✅ Reduces training time and improves efficiency.  \n",
        "✅ Creates simpler, more interpretable trees.  \n",
        "\n",
        "### **Disadvantages of Pre-Pruning**  \n",
        "❌ May **underfit** if stopping criteria are too strict.  \n",
        "❌ Choosing the **right threshold** is tricky.  \n",
        "\n",
        "---\n",
        "\n",
        "### **Conclusion**  \n",
        "Pre-pruning **controls tree growth** by applying constraints **before** fully building the tree. It ensures the model remains generalizable and avoids unnecessary complexity. 🚀"
      ],
      "metadata": {
        "id": "j6KZr89xdNMF"
      }
    },
    {
      "cell_type": "markdown",
      "source": [
        "# 9. What is Post-Pruning in Decision Trees\n",
        "### **Ans:-**  **Post-Pruning in Decision Trees**  \n",
        "\n",
        "#### **Definition:**  \n",
        "Post-Pruning (also called **Pruning after training**) is a technique used to **reduce overfitting** by **trimming branches** from a fully grown Decision Tree. Unlike **Pre-Pruning**, which stops tree growth early, **Post-Pruning allows the tree to grow completely and then removes less significant branches.**  \n",
        "\n",
        "---\n",
        "\n",
        "### **How Post-Pruning Works**  \n",
        "After building the Decision Tree, the pruning process follows these steps:  \n",
        "\n",
        "1. **Grow the Full Tree**  \n",
        "   - The tree is constructed **without constraints**, leading to deep branches that may overfit the training data.  \n",
        "\n",
        "2. **Evaluate Leaf Nodes**  \n",
        "   - The **accuracy** of subtrees (or nodes) is tested on a **validation set**.  \n",
        "\n",
        "3. **Prune Nodes with Low Contribution**  \n",
        "   - If removing a subtree **does not significantly decrease accuracy**, it is **removed**.  \n",
        "   - The node is **converted into a leaf**, using the majority class or average value of the remaining data.  \n",
        "\n",
        "4. **Repeat Until No More Improvement**  \n",
        "   - The process continues until pruning no longer improves validation accuracy.  \n",
        "\n",
        "---\n",
        "\n",
        "### **Types of Post-Pruning**  \n",
        "\n",
        "1. **Cost Complexity Pruning (CCP) (Used in CART)**  \n",
        "   - Uses a parameter `α` (alpha) to balance tree complexity and accuracy.  \n",
        "   - Nodes are removed based on a cost function that penalizes overly complex trees.  \n",
        "\n",
        "2. **Reduced Error Pruning (REP) (Used in ID3, C4.5)**  \n",
        "   - Each subtree is replaced by a leaf if the **accuracy on a validation set improves** after pruning.  \n",
        "\n",
        "---\n",
        "\n",
        "### **Example**  \n",
        "\n",
        "#### **Before Pruning (Overfitting Example)**  \n",
        "```\n",
        "       Outlook\n",
        "      /       \\\n",
        "   Sunny     Rainy\n",
        "   /   \\       /   \\\n",
        "Hot  Mild  Windy  Calm\n",
        "```\n",
        "\n",
        "#### **After Post-Pruning (Simplified Tree)**  \n",
        "```\n",
        "       Outlook\n",
        "      /       \\\n",
        "   Sunny     Rainy\n",
        "```\n",
        "- If **temperature** and **wind** do not significantly impact predictions, those branches are **removed**, making the model simpler and more generalizable.  \n",
        "\n",
        "---\n",
        "\n",
        "### **Advantages of Post-Pruning**  \n",
        "✅ Reduces **overfitting**, improving generalization.  \n",
        "✅ Results in a **simpler** and more interpretable tree.  \n",
        "✅ Allows the model to **learn patterns before deciding** which parts to remove.  \n",
        "\n",
        "### **Disadvantages of Post-Pruning**  \n",
        "❌ Requires a **validation set**, increasing data requirements.  \n",
        "❌ **Computationally expensive**, as it needs to evaluate multiple pruned versions.  \n",
        "\n",
        "---\n",
        "\n",
        "### **Conclusion**  \n",
        "Post-Pruning is a powerful way to **fine-tune** a Decision Tree **after training** by removing unnecessary complexity, making it more **accurate on unseen data**. 🚀"
      ],
      "metadata": {
        "id": "-xOWCdVbdm3N"
      }
    },
    {
      "cell_type": "markdown",
      "source": [
        "# 10. What is the difference between Pre-Pruning and Post-Pruning\n",
        "### **Ans:-** **Difference Between Pre-Pruning and Post-Pruning**  \n",
        "\n",
        "| Feature           | **Pre-Pruning (Early Stopping)** | **Post-Pruning (Pruning After Training)** |\n",
        "|------------------|--------------------------------|--------------------------------|\n",
        "| **Definition**    | Stops tree growth **before** it becomes too deep. | Grows the full tree first, then removes unnecessary branches. |\n",
        "| **When It Happens** | **Before training is complete** (during tree construction). | **After training is complete** (on the fully grown tree). |\n",
        "| **How It Works** | Applies constraints like `max_depth`, `min_samples_split`, and `max_leaf_nodes`. | Evaluates the tree on a **validation set** and prunes nodes that do not improve performance. |\n",
        "| **Purpose** | Prevents overfitting **by stopping early**. | Prevents overfitting **by simplifying the trained model**. |\n",
        "| **Risk** | May cause **underfitting** if stopped too soon. | Less risk of underfitting since the tree is trained fully before pruning. |\n",
        "| **Computational Cost** | Lower, as it prevents unnecessary tree growth. | Higher, as it requires **training a full tree first** and then pruning. |\n",
        "| **Common Techniques** | - Limit tree depth (`max_depth`).  <br> - Require a minimum number of samples to split (`min_samples_split`). | - **Reduced Error Pruning (REP)** (removes nodes if validation accuracy improves). <br> - **Cost Complexity Pruning (CCP)** (removes nodes based on a penalty function). |\n",
        "| **Best Used When** | You want to **control model complexity** from the start. | You want the model to **learn everything first** before deciding what to remove. |\n",
        "\n",
        "### **Conclusion**\n",
        "- **Pre-Pruning** = \"Stop early before overfitting happens.\"  \n",
        "- **Post-Pruning** = \"Grow fully, then trim unnecessary parts.\"  \n",
        "\n",
        "👉 **Post-Pruning is generally preferred**, as it ensures the model learns before reducing complexity. 🚀"
      ],
      "metadata": {
        "id": "ERvGDKvYd3ab"
      }
    },
    {
      "cell_type": "markdown",
      "source": [
        "# 11. What is a Decision Tree Regressor\n",
        "### **Ans:-**  **Decision Tree Regressor**  \n",
        "\n",
        "A **Decision Tree Regressor** is a type of Decision Tree used for **regression tasks**, meaning it predicts **continuous numerical values** instead of discrete classes (as in classification).  \n",
        "\n",
        "---\n",
        "\n",
        "### **How It Works**  \n",
        "1. **Splitting**:  \n",
        "   - The dataset is recursively split based on **features** to minimize prediction error.  \n",
        "   - Instead of reducing classification impurity (like Gini or Entropy), it minimizes **variance** in the target values.  \n",
        "\n",
        "2. **Leaf Nodes Contain Numerical Values**:  \n",
        "   - Each leaf node represents a **predicted numerical output**, which is typically the **mean** of the target values in that region.  \n",
        "\n",
        "3. **Splitting Criteria (Error Reduction Metrics)**:  \n",
        "   - **Mean Squared Error (MSE)**: Measures variance within each split.  \n",
        "   - **Mean Absolute Error (MAE)**: Uses absolute differences to measure error.  \n",
        "   - **Poisson Deviance**: Used for modeling count-based predictions.  \n",
        "\n",
        "---\n",
        "\n",
        "### **Example**  \n",
        "#### **Dataset: Predicting House Prices**  \n",
        "| Square Feet | Bedrooms | Price (in $) |\n",
        "|------------|---------|-------------|\n",
        "| 1000       | 2       | 150,000     |\n",
        "| 1200       | 2       | 180,000     |\n",
        "| 2000       | 3       | 250,000     |\n",
        "| 2200       | 3       | 275,000     |\n",
        "\n",
        "#### **Decision Tree Regressor Output:**  \n",
        "- Splits based on **square feet** or **bedrooms** to group similar house prices.  \n",
        "- Final predictions in each leaf node are the **average price** of grouped houses.  \n",
        "\n",
        "---\n",
        "\n",
        "### **Advantages of Decision Tree Regressor**  \n",
        "✅ **Easy to understand and interpret**  \n",
        "✅ **Handles both numerical and categorical data**  \n",
        "✅ **Captures non-linear relationships**  \n",
        "\n",
        "### **Disadvantages**  \n",
        "❌ **Prone to overfitting** (without pruning)  \n",
        "❌ **Sensitive to small data variations**  \n",
        "\n",
        "---\n",
        "\n",
        "### **Conclusion**  \n",
        "A **Decision Tree Regressor** predicts continuous values by recursively splitting data and averaging outputs in leaf nodes. It works well for simple problems but requires **pruning or ensemble methods** (like Random Forest) to improve performance. 🚀"
      ],
      "metadata": {
        "id": "XZzS8GEOeGCh"
      }
    },
    {
      "cell_type": "markdown",
      "source": [
        "# 12. What are the advantages and disadvantages of Decision Trees\n",
        "### **Ans:-**  **Advantages and Disadvantages of Decision Trees**  \n",
        "\n",
        "---\n",
        "\n",
        "### **✅ Advantages**  \n",
        "\n",
        "1. **Easy to Understand & Interpret**  \n",
        "   - Decision Trees are simple and visually intuitive, making them easy to explain to non-technical stakeholders.  \n",
        "\n",
        "2. **Handles Both Numerical & Categorical Data**  \n",
        "   - Unlike some models that require data transformations, Decision Trees naturally work with both types.  \n",
        "\n",
        "3. **Non-Linear Relationships**  \n",
        "   - Can model complex, non-linear relationships without needing feature scaling.  \n",
        "\n",
        "4. **No Need for Feature Scaling**  \n",
        "   - Unlike SVM or logistic regression, Decision Trees don’t require standardization or normalization.  \n",
        "\n",
        "5. **Feature Selection is Built-in**  \n",
        "   - Important features are automatically selected based on how well they split the data.  \n",
        "\n",
        "6. **Handles Missing Values**  \n",
        "   - Can work even if some data points are missing by using surrogate splits.  \n",
        "\n",
        "7. **Works Well with Large Datasets**  \n",
        "   - Efficient for large datasets, especially when using ensemble methods like **Random Forest**.  \n",
        "\n",
        "8. **Fast Training & Prediction**  \n",
        "   - Training and prediction are relatively fast compared to deep learning models.  \n",
        "\n",
        "---\n",
        "\n",
        "### **❌ Disadvantages**  \n",
        "\n",
        "1. **Prone to Overfitting**  \n",
        "   - Deep trees can memorize training data, leading to poor generalization.  \n",
        "   - **Solution:** Use **pruning**, set `max_depth`, or use ensemble methods like **Random Forest**.  \n",
        "\n",
        "2. **Sensitive to Noisy Data**  \n",
        "   - Small variations in training data can create very different trees.  \n",
        "   - **Solution:** Use ensemble techniques like **Bagging** or **Boosting**.  \n",
        "\n",
        "3. **Greedy Algorithm (Locally Optimal Splits)**  \n",
        "   - Splits are based on local decisions, which may not always lead to a globally optimal tree.  \n",
        "   - **Solution:** Use **random forests** or **hyperparameter tuning**.  \n",
        "\n",
        "4. **Biased When Class Imbalance Exists**  \n",
        "   - If one class dominates, the tree may favor it.  \n",
        "   - **Solution:** Use **balanced datasets** or adjust class weights.  \n",
        "\n",
        "5. **Computationally Expensive for Large Feature Spaces**  \n",
        "   - For datasets with **many features**, training can become slow.  \n",
        "   - **Solution:** Perform **feature selection** before training.  \n",
        "\n",
        "---\n",
        "\n",
        "### **Conclusion**  \n",
        "- **Decision Trees are simple, interpretable, and effective for many tasks.**  \n",
        "- However, they **overfit easily** and can be **unstable with small changes** in data.  \n",
        "- **Solution?** Use **Pruning**, **Random Forest**, or **Boosting** to improve performance! 🚀"
      ],
      "metadata": {
        "id": "TOgC2y7Te533"
      }
    },
    {
      "cell_type": "markdown",
      "source": [
        "# 13. How does a Decision Tree handle missing values\n",
        "### **Ans:-** **How a Decision Tree Handles Missing Values**  \n",
        "\n",
        "Decision Trees are quite flexible and can handle missing values in multiple ways. Here are the common approaches:\n",
        "\n",
        "---\n",
        "\n",
        "### **1️⃣ Ignoring Missing Values (Default Behavior)**\n",
        "- If a feature is missing for a data point, the Decision Tree **excludes** that instance while determining splits.  \n",
        "- This works well for small amounts of missing data but reduces training samples.\n",
        "\n",
        "---\n",
        "\n",
        "### **2️⃣ Using Surrogate Splits**\n",
        "- Instead of discarding missing values, Decision Trees use **alternative (surrogate) features** to make splits.  \n",
        "- The tree selects another feature that closely mimics the original split decision.  \n",
        "- **Example:** If `Age` is missing but `Income` is correlated, the tree may use `Income` instead.\n",
        "\n",
        "---\n",
        "\n",
        "### **3️⃣ Assigning the Most Frequent or Mean Value (Imputation)**\n",
        "- For categorical features → **Replace missing values with the most common category**.  \n",
        "- For numerical features → **Replace missing values with the mean or median**.  \n",
        "- This prevents data loss but may introduce bias.\n",
        "\n",
        "---\n",
        "\n",
        "### **4️⃣ Assigning Probabilistic Splits**\n",
        "- If a feature value is missing, the tree distributes the instance **across all possible branches** based on probability.  \n",
        "- The probability is derived from the distribution of existing non-missing values.\n",
        "\n",
        "---\n",
        "\n",
        "### **5️⃣ Using Ensemble Methods (Random Forest)**\n",
        "- **Random Forests** handle missing data better because:\n",
        "  - Each tree in the ensemble sees different subsets of data.\n",
        "  - Missing values have less impact due to averaging multiple models.\n",
        "\n",
        "---\n",
        "\n",
        "### **Which Method to Use?**\n",
        "| Situation | Best Method |\n",
        "|-----------|------------|\n",
        "| Few missing values | Ignore or Impute (Mean/Mode) |\n",
        "| Many missing values in a feature | Remove feature or use Surrogate Splits |\n",
        "| Large dataset with missing values scattered | Probabilistic Splits or Random Forest |\n",
        "\n",
        "---\n",
        "\n",
        "### **Conclusion**\n",
        "Decision Trees are **naturally robust** to missing values due to **Surrogate Splits** and **Probabilistic Assignments**. However, **preprocessing techniques** like **imputation** and **ensemble learning (Random Forests)** can further improve performance. 🚀"
      ],
      "metadata": {
        "id": "myDGrC-YfSq2"
      }
    },
    {
      "cell_type": "markdown",
      "source": [
        "# 14. How does a Decision Tree handle categorical features\n",
        "### **Ans:-**  **How a Decision Tree Handles Categorical Features**  \n",
        "\n",
        "Decision Trees can **natively** handle categorical data by splitting on feature values. The way they handle categorical features depends on whether the algorithm is **CART (used in Scikit-learn)** or **ID3/C4.5/C5.0**.\n",
        "\n",
        "---\n",
        "\n",
        "### **1️⃣ One-Hot Encoding (For CART - Scikit-learn)**\n",
        "- The **CART algorithm** (used in Scikit-learn) only supports **numerical splits**, so categorical data is first **converted into numerical form**.  \n",
        "- **One-Hot Encoding** creates separate binary columns for each category (e.g., \"Red\", \"Blue\", \"Green\" → 3 separate columns).  \n",
        "- **Limitation:** Increases the number of features, making the tree **more complex and slower**.\n",
        "\n",
        "\n",
        "---\n",
        "\n",
        "### **2️⃣ Label Encoding (For CART - Scikit-learn)**\n",
        "- **Assigns numerical labels** to categorical values (`Red = 0, Blue = 1, Green = 2`).  \n",
        "- **Limitation:** The tree may treat numerical values **as ordered**, which is incorrect for nominal categories.\n",
        "\n",
        "---\n",
        "\n",
        "### **3️⃣ Direct Categorical Splitting (For ID3, C4.5, C5.0)**\n",
        "- Algorithms like **ID3, C4.5, C5.0** can **natively handle categorical features**.  \n",
        "- The tree **splits based on unique values of the categorical feature** without converting them into numbers.\n",
        "\n",
        "**Example:**  \n",
        "If a feature **\"Weather\"** has categories **(Sunny, Rainy, Cloudy)**, the tree can **directly** split into three branches:\n",
        "\n",
        "```\n",
        "     Weather\n",
        "     /   |   \\\n",
        " Sunny  Rainy  Cloudy\n",
        "```\n",
        "\n",
        "---\n",
        "\n",
        "### **4️⃣ Grouping Categories (For High-Cardinality Features)**\n",
        "- If a feature has **too many categories** (e.g., \"City\" with 1000 values), one-hot encoding is inefficient.\n",
        "- Instead, the tree can **group similar categories** based on statistical relationships.\n",
        "\n",
        "---\n",
        "\n",
        "### **Which Method is Best?**\n",
        "| Scenario | Best Approach |\n",
        "|----------|--------------|\n",
        "| Small number of categories (e.g., 3-5) | One-Hot Encoding (if using CART) |\n",
        "| Large number of categories (e.g., 10+) | Grouping or Label Encoding (if order matters) |\n",
        "| If using ID3, C4.5, C5.0 | Direct categorical splits (No encoding needed) |\n",
        "\n",
        "---\n",
        "\n",
        "### **Conclusion**  \n",
        "- **CART (Scikit-learn)** requires **One-Hot or Label Encoding**.  \n",
        "- **ID3, C4.5, C5.0** can handle categorical features **natively**.  \n",
        "- If a categorical feature has **many unique values**, **grouping** or **feature engineering** is recommended to avoid tree complexity. 🚀"
      ],
      "metadata": {
        "id": "ICRM4_JKfuyS"
      }
    },
    {
      "cell_type": "markdown",
      "source": [
        "# 15. What are some real-world applications of Decision Trees.\n",
        "### **Ans:-**  **Real-World Applications of Decision Trees**  \n",
        "\n",
        "Decision Trees are widely used across industries due to their simplicity, interpretability, and ability to handle both numerical and categorical data. Here are some key applications:  \n",
        "\n",
        "---\n",
        "\n",
        "### **1️⃣ Healthcare & Medical Diagnosis** 🏥  \n",
        "- **Disease Prediction & Diagnosis** (e.g., predicting diabetes, heart disease, or cancer).  \n",
        "- **Medical Treatment Recommendations** (e.g., choosing the best treatment based on patient symptoms).  \n",
        "- **Patient Risk Assessment** (e.g., determining the likelihood of readmission).  \n",
        "\n",
        "**Example:** A Decision Tree can classify whether a patient has **diabetes** based on features like **age, blood pressure, glucose levels, BMI, etc.**  \n",
        "\n",
        "---\n",
        "\n",
        "### **2️⃣ Finance & Banking** 💰  \n",
        "- **Credit Scoring & Loan Approval** (e.g., deciding if a customer is eligible for a loan based on income, credit history, and past transactions).  \n",
        "- **Fraud Detection** (e.g., identifying unusual credit card transactions).  \n",
        "- **Investment & Stock Market Analysis** (e.g., predicting stock price movements).  \n",
        "\n",
        "**Example:** Banks use Decision Trees to **approve or reject** loan applications based on factors like **credit score, income, debt-to-income ratio, and employment history**.  \n",
        "\n",
        "---\n",
        "\n",
        "### **3️⃣ E-Commerce & Retail** 🛒  \n",
        "- **Customer Churn Prediction** (e.g., identifying customers likely to stop using a service).  \n",
        "- **Product Recommendation Systems** (e.g., suggesting products based on user behavior).  \n",
        "- **Price Optimization** (e.g., deciding optimal discounts for different customer segments).  \n",
        "\n",
        "**Example:** An online store can use Decision Trees to **recommend products** based on a customer’s **past purchases and browsing history**.  \n",
        "\n",
        "---\n",
        "\n",
        "### **4️⃣ Marketing & Customer Segmentation** 📢  \n",
        "- **Targeted Advertising** (e.g., predicting which customers are likely to respond to a specific campaign).  \n",
        "- **Lead Scoring** (e.g., identifying high-potential customers for sales teams).  \n",
        "- **Sentiment Analysis** (e.g., analyzing customer feedback to improve service).  \n",
        "\n",
        "**Example:** A telecom company can classify customers into different segments (e.g., **\"High Value\" vs. \"Low Value\"**) and target marketing accordingly.  \n",
        "\n",
        "---\n",
        "\n",
        "### **5️⃣ Manufacturing & Quality Control** 🏭  \n",
        "- **Defect Detection** (e.g., identifying faulty products in an assembly line).  \n",
        "- **Predictive Maintenance** (e.g., predicting when machinery will fail and scheduling maintenance).  \n",
        "- **Supply Chain Optimization** (e.g., determining the best suppliers based on cost and quality).  \n",
        "\n",
        "**Example:** A car manufacturer can use Decision Trees to **detect faulty engine parts** based on sensor data.  \n",
        "\n",
        "---\n",
        "\n",
        "### **6️⃣ Human Resources & Employee Management** 👥  \n",
        "- **Hiring & Recruitment** (e.g., filtering job applicants based on qualifications and experience).  \n",
        "- **Employee Performance Evaluation** (e.g., predicting which employees are likely to be promoted).  \n",
        "- **Attrition Prediction** (e.g., identifying employees at risk of leaving).  \n",
        "\n",
        "**Example:** An HR team can use Decision Trees to **predict employee turnover** based on **salary, work environment, and job satisfaction**.  \n",
        "\n",
        "---\n",
        "\n",
        "### **7️⃣ Education & Student Performance Prediction** 🎓  \n",
        "- **Student Dropout Prediction** (e.g., identifying students at risk of dropping out).  \n",
        "- **Personalized Learning Recommendations** (e.g., suggesting study resources based on performance).  \n",
        "- **Exam Performance Forecasting** (e.g., predicting whether a student will pass or fail an exam).  \n",
        "\n",
        "**Example:** A university can use Decision Trees to **identify struggling students** and provide early intervention.  \n",
        "\n",
        "---\n",
        "\n",
        "### **8️⃣ Fraud Detection & Cybersecurity** 🔒  \n",
        "- **Detecting Spam Emails & Phishing Attacks** (e.g., classifying emails as spam or legitimate).  \n",
        "- **Intrusion Detection Systems (IDS)** (e.g., identifying unauthorized access to a network).  \n",
        "- **Anomaly Detection in Transactions** (e.g., flagging fraudulent bank transactions).  \n",
        "\n",
        "**Example:** A bank can use Decision Trees to **detect fraud** by analyzing **transaction amount, location, and time of purchase**.  \n",
        "\n",
        "---\n",
        "\n",
        "### **9️⃣ Autonomous Vehicles & Traffic Management** 🚗  \n",
        "- **Self-Driving Cars** (e.g., deciding whether to brake, accelerate, or change lanes).  \n",
        "- **Traffic Signal Optimization** (e.g., adjusting signal timings based on traffic conditions).  \n",
        "- **Road Accident Prediction** (e.g., identifying high-risk driving behavior).  \n",
        "\n",
        "**Example:** A self-driving car can use Decision Trees to **decide whether to stop at an intersection based on traffic signals and surrounding vehicles**.  \n",
        "\n",
        "---\n",
        "\n",
        "### **🔹 Conclusion**  \n",
        "Decision Trees are **widely used in various industries** due to their **interpretability, efficiency, and flexibility**. They power applications in **healthcare, finance, marketing, retail, cybersecurity, education, and more**. 🚀"
      ],
      "metadata": {
        "id": "1xdI9C4Fg1_4"
      }
    },
    {
      "cell_type": "markdown",
      "source": [
        "# **Practical**"
      ],
      "metadata": {
        "id": "HgXNVGa7hKcq"
      }
    },
    {
      "cell_type": "markdown",
      "source": [
        "# 16.  Write a Python program to train a Decision Tree Classifier on the Iris dataset and print the model accuracy"
      ],
      "metadata": {
        "id": "RJSWBc6EhiWU"
      }
    },
    {
      "cell_type": "code",
      "source": [
        "from sklearn.datasets import load_iris\n",
        "from sklearn.model_selection import train_test_split\n",
        "from sklearn.tree import DecisionTreeClassifier\n",
        "from sklearn.metrics import accuracy_score\n",
        "\n",
        "# Load the Iris dataset\n",
        "iris = load_iris()\n",
        "X, y = iris.data, iris.target  # Features and labels\n",
        "\n",
        "# Split dataset into training and testing sets (80% train, 20% test)\n",
        "X_train, X_test, y_train, y_test = train_test_split(X, y, test_size=0.2, random_state=42)\n",
        "\n",
        "# Initialize and train the Decision Tree model\n",
        "clf = DecisionTreeClassifier()\n",
        "clf.fit(X_train, y_train)\n",
        "\n",
        "# Make predictions\n",
        "y_pred = clf.predict(X_test)\n",
        "\n",
        "# Calculate and print accuracy\n",
        "accuracy = accuracy_score(y_test, y_pred)\n",
        "print(f\"Model Accuracy: {accuracy:.2f}\")\n"
      ],
      "metadata": {
        "colab": {
          "base_uri": "https://localhost:8080/"
        },
        "id": "TfsncD0Vhthi",
        "outputId": "093dbd00-9119-4153-db57-456e2f2020f8"
      },
      "execution_count": 1,
      "outputs": [
        {
          "output_type": "stream",
          "name": "stdout",
          "text": [
            "Model Accuracy: 1.00\n"
          ]
        }
      ]
    },
    {
      "cell_type": "markdown",
      "source": [
        "# 17. Write a Python program to train a Decision Tree Classifier using Gini Impurity as the criterion and print the feature importances\n"
      ],
      "metadata": {
        "id": "7y0gGVeGh_C8"
      }
    },
    {
      "cell_type": "code",
      "source": [
        "from sklearn.datasets import load_iris\n",
        "from sklearn.model_selection import train_test_split\n",
        "from sklearn.tree import DecisionTreeClassifier\n",
        "\n",
        "# Load the Iris dataset\n",
        "iris = load_iris()\n",
        "X, y = iris.data, iris.target\n",
        "\n",
        "# Split the dataset into training and testing sets (80% train, 20% test)\n",
        "X_train, X_test, y_train, y_test = train_test_split(X, y, test_size=0.2, random_state=42)\n",
        "\n",
        "# Initialize the Decision Tree Classifier with Gini Impurity as the criterion\n",
        "clf = DecisionTreeClassifier(criterion='gini', random_state=42)\n",
        "\n",
        "# Train the model\n",
        "clf.fit(X_train, y_train)\n",
        "\n",
        "# Print feature importances\n",
        "print(\"Feature importances:\")\n",
        "for feature_name, importance in zip(iris.feature_names, clf.feature_importances_):\n",
        "    print(f\"{feature_name}: {importance:.4f}\")\n"
      ],
      "metadata": {
        "colab": {
          "base_uri": "https://localhost:8080/"
        },
        "id": "2raLN0xsiQeW",
        "outputId": "788d7897-8e41-4e71-8d8d-d56b0392711f"
      },
      "execution_count": 2,
      "outputs": [
        {
          "output_type": "stream",
          "name": "stdout",
          "text": [
            "Feature importances:\n",
            "sepal length (cm): 0.0000\n",
            "sepal width (cm): 0.0167\n",
            "petal length (cm): 0.9061\n",
            "petal width (cm): 0.0772\n"
          ]
        }
      ]
    },
    {
      "cell_type": "markdown",
      "source": [
        "# 18. Write a Python program to train a Decision Tree Classifier using Entropy as the splitting criterion and print the model accuracy\n"
      ],
      "metadata": {
        "id": "3lqEDVWJiq4h"
      }
    },
    {
      "cell_type": "code",
      "source": [
        "from sklearn.datasets import load_iris\n",
        "from sklearn.model_selection import train_test_split\n",
        "from sklearn.tree import DecisionTreeClassifier\n",
        "from sklearn.metrics import accuracy_score\n",
        "\n",
        "# Load the Iris dataset\n",
        "iris = load_iris()\n",
        "X, y = iris.data, iris.target\n",
        "\n",
        "# Split the dataset into training and testing sets (80% train, 20% test)\n",
        "X_train, X_test, y_train, y_test = train_test_split(X, y, test_size=0.2, random_state=42)\n",
        "\n",
        "# Initialize the Decision Tree Classifier with Entropy as the splitting criterion\n",
        "clf = DecisionTreeClassifier(criterion='entropy', random_state=42)\n",
        "\n",
        "# Train the model on the training data\n",
        "clf.fit(X_train, y_train)\n",
        "\n",
        "# Predict the test data\n",
        "y_pred = clf.predict(X_test)\n",
        "\n",
        "# Calculate the model accuracy\n",
        "accuracy = accuracy_score(y_test, y_pred)\n",
        "print(f\"Model Accuracy: {accuracy:.2f}\")\n"
      ],
      "metadata": {
        "colab": {
          "base_uri": "https://localhost:8080/"
        },
        "id": "w4MAzopEi18I",
        "outputId": "1c176925-1464-4ce4-b8f5-b353dfb32be8"
      },
      "execution_count": 3,
      "outputs": [
        {
          "output_type": "stream",
          "name": "stdout",
          "text": [
            "Model Accuracy: 1.00\n"
          ]
        }
      ]
    },
    {
      "cell_type": "markdown",
      "source": [
        "# 19. Write a Python program to train a Decision Tree Regressor on a housing dataset and evaluate using Mean Squared Error (MSE)\n"
      ],
      "metadata": {
        "id": "WftGDIXujKZs"
      }
    },
    {
      "cell_type": "code",
      "source": [
        "from sklearn.datasets import fetch_california_housing\n",
        "from sklearn.model_selection import train_test_split\n",
        "from sklearn.tree import DecisionTreeRegressor\n",
        "from sklearn.metrics import mean_squared_error\n",
        "\n",
        "# Load the California housing dataset\n",
        "housing = fetch_california_housing()\n",
        "X, y = housing.data, housing.target\n",
        "\n",
        "# Split the data into training and testing sets (80% train, 20% test)\n",
        "X_train, X_test, y_train, y_test = train_test_split(X, y, test_size=0.2, random_state=42)\n",
        "\n",
        "# Initialize the Decision Tree Regressor\n",
        "regressor = DecisionTreeRegressor(random_state=42)\n",
        "\n",
        "# Train the model on the training data\n",
        "regressor.fit(X_train, y_train)\n",
        "\n",
        "# Make predictions on the test set\n",
        "y_pred = regressor.predict(X_test)\n",
        "\n",
        "# Evaluate the model using Mean Squared Error (MSE)\n",
        "mse = mean_squared_error(y_test, y_pred)\n",
        "print(f\"Mean Squared Error: {mse:.4f}\")\n"
      ],
      "metadata": {
        "colab": {
          "base_uri": "https://localhost:8080/"
        },
        "id": "MKE8SryhjUrK",
        "outputId": "b0180f4b-1c4f-41b2-bd4a-5c5f0c1d3997"
      },
      "execution_count": 4,
      "outputs": [
        {
          "output_type": "stream",
          "name": "stdout",
          "text": [
            "Mean Squared Error: 0.4952\n"
          ]
        }
      ]
    },
    {
      "cell_type": "markdown",
      "source": [
        "# 20. Write a Python program to train a Decision Tree Classifier and visualize the tree using graphviz"
      ],
      "metadata": {
        "id": "vQMIRVj_jmb1"
      }
    },
    {
      "cell_type": "code",
      "source": [
        "from sklearn.datasets import load_iris\n",
        "from sklearn.model_selection import train_test_split\n",
        "from sklearn.tree import DecisionTreeClassifier, export_graphviz\n",
        "import graphviz\n",
        "\n",
        "# Load the Iris dataset\n",
        "iris = load_iris()\n",
        "X, y = iris.data, iris.target\n",
        "\n",
        "# Split data into training and testing sets (optional for visualization)\n",
        "X_train, X_test, y_train, y_test = train_test_split(X, y, test_size=0.2, random_state=42)\n",
        "\n",
        "# Train a Decision Tree Classifier\n",
        "clf = DecisionTreeClassifier(random_state=42)\n",
        "clf.fit(X_train, y_train)\n",
        "\n",
        "# Export the decision tree to a DOT format string\n",
        "dot_data = export_graphviz(\n",
        "    clf,\n",
        "    out_file=None,\n",
        "    feature_names=iris.feature_names,\n",
        "    class_names=iris.target_names,\n",
        "    filled=True,\n",
        "    rounded=True,\n",
        "    special_characters=True\n",
        ")\n",
        "\n",
        "# Visualize the tree using Graphviz\n",
        "graph = graphviz.Source(dot_data)\n",
        "#graph.render(\"iris_decision_tree\", format=\"png\", cleanup=True)  # Saves the tree visualization as a PNG file\n",
        "graph  # Display the graph in supported environments (e.g., Jupyter Notebook)\n"
      ],
      "metadata": {
        "colab": {
          "base_uri": "https://localhost:8080/",
          "height": 1000
        },
        "id": "8HnA791Hjq9G",
        "outputId": "9000d6ac-dea6-43d6-e8a0-061526207232"
      },
      "execution_count": 6,
      "outputs": [
        {
          "output_type": "execute_result",
          "data": {
            "image/svg+xml": "<?xml version=\"1.0\" encoding=\"UTF-8\" standalone=\"no\"?>\n<!DOCTYPE svg PUBLIC \"-//W3C//DTD SVG 1.1//EN\"\n \"http://www.w3.org/Graphics/SVG/1.1/DTD/svg11.dtd\">\n<!-- Generated by graphviz version 2.43.0 (0)\n -->\n<!-- Title: Tree Pages: 1 -->\n<svg width=\"751pt\" height=\"790pt\"\n viewBox=\"0.00 0.00 751.00 790.00\" xmlns=\"http://www.w3.org/2000/svg\" xmlns:xlink=\"http://www.w3.org/1999/xlink\">\n<g id=\"graph0\" class=\"graph\" transform=\"scale(1 1) rotate(0) translate(4 786)\">\n<title>Tree</title>\n<polygon fill=\"white\" stroke=\"transparent\" points=\"-4,4 -4,-786 747,-786 747,4 -4,4\"/>\n<!-- 0 -->\n<g id=\"node1\" class=\"node\">\n<title>0</title>\n<path fill=\"#fdfffd\" stroke=\"black\" d=\"M266,-782C266,-782 131,-782 131,-782 125,-782 119,-776 119,-770 119,-770 119,-711 119,-711 119,-705 125,-699 131,-699 131,-699 266,-699 266,-699 272,-699 278,-705 278,-711 278,-711 278,-770 278,-770 278,-776 272,-782 266,-782\"/>\n<text text-anchor=\"start\" x=\"127\" y=\"-766.8\" font-family=\"Helvetica,sans-Serif\" font-size=\"14.00\">petal length (cm) ≤ 2.45</text>\n<text text-anchor=\"start\" x=\"163\" y=\"-751.8\" font-family=\"Helvetica,sans-Serif\" font-size=\"14.00\">gini = 0.667</text>\n<text text-anchor=\"start\" x=\"153.5\" y=\"-736.8\" font-family=\"Helvetica,sans-Serif\" font-size=\"14.00\">samples = 120</text>\n<text text-anchor=\"start\" x=\"140.5\" y=\"-721.8\" font-family=\"Helvetica,sans-Serif\" font-size=\"14.00\">value = [40, 41, 39]</text>\n<text text-anchor=\"start\" x=\"146\" y=\"-706.8\" font-family=\"Helvetica,sans-Serif\" font-size=\"14.00\">class = versicolor</text>\n</g>\n<!-- 1 -->\n<g id=\"node2\" class=\"node\">\n<title>1</title>\n<path fill=\"#e58139\" stroke=\"black\" d=\"M167,-655.5C167,-655.5 74,-655.5 74,-655.5 68,-655.5 62,-649.5 62,-643.5 62,-643.5 62,-599.5 62,-599.5 62,-593.5 68,-587.5 74,-587.5 74,-587.5 167,-587.5 167,-587.5 173,-587.5 179,-593.5 179,-599.5 179,-599.5 179,-643.5 179,-643.5 179,-649.5 173,-655.5 167,-655.5\"/>\n<text text-anchor=\"start\" x=\"92.5\" y=\"-640.3\" font-family=\"Helvetica,sans-Serif\" font-size=\"14.00\">gini = 0.0</text>\n<text text-anchor=\"start\" x=\"79.5\" y=\"-625.3\" font-family=\"Helvetica,sans-Serif\" font-size=\"14.00\">samples = 40</text>\n<text text-anchor=\"start\" x=\"70\" y=\"-610.3\" font-family=\"Helvetica,sans-Serif\" font-size=\"14.00\">value = [40, 0, 0]</text>\n<text text-anchor=\"start\" x=\"77\" y=\"-595.3\" font-family=\"Helvetica,sans-Serif\" font-size=\"14.00\">class = setosa</text>\n</g>\n<!-- 0&#45;&gt;1 -->\n<g id=\"edge1\" class=\"edge\">\n<title>0&#45;&gt;1</title>\n<path fill=\"none\" stroke=\"black\" d=\"M171.44,-698.91C163.93,-687.65 155.78,-675.42 148.24,-664.11\"/>\n<polygon fill=\"black\" stroke=\"black\" points=\"151.07,-662.05 142.61,-655.67 145.25,-665.93 151.07,-662.05\"/>\n<text text-anchor=\"middle\" x=\"137.71\" y=\"-676.48\" font-family=\"Helvetica,sans-Serif\" font-size=\"14.00\">True</text>\n</g>\n<!-- 2 -->\n<g id=\"node3\" class=\"node\">\n<title>2</title>\n<path fill=\"#f5fef9\" stroke=\"black\" d=\"M344,-663C344,-663 209,-663 209,-663 203,-663 197,-657 197,-651 197,-651 197,-592 197,-592 197,-586 203,-580 209,-580 209,-580 344,-580 344,-580 350,-580 356,-586 356,-592 356,-592 356,-651 356,-651 356,-657 350,-663 344,-663\"/>\n<text text-anchor=\"start\" x=\"205\" y=\"-647.8\" font-family=\"Helvetica,sans-Serif\" font-size=\"14.00\">petal length (cm) ≤ 4.75</text>\n<text text-anchor=\"start\" x=\"248.5\" y=\"-632.8\" font-family=\"Helvetica,sans-Serif\" font-size=\"14.00\">gini = 0.5</text>\n<text text-anchor=\"start\" x=\"235.5\" y=\"-617.8\" font-family=\"Helvetica,sans-Serif\" font-size=\"14.00\">samples = 80</text>\n<text text-anchor=\"start\" x=\"222\" y=\"-602.8\" font-family=\"Helvetica,sans-Serif\" font-size=\"14.00\">value = [0, 41, 39]</text>\n<text text-anchor=\"start\" x=\"224\" y=\"-587.8\" font-family=\"Helvetica,sans-Serif\" font-size=\"14.00\">class = versicolor</text>\n</g>\n<!-- 0&#45;&gt;2 -->\n<g id=\"edge2\" class=\"edge\">\n<title>0&#45;&gt;2</title>\n<path fill=\"none\" stroke=\"black\" d=\"M225.56,-698.91C231.43,-690.1 237.7,-680.7 243.76,-671.61\"/>\n<polygon fill=\"black\" stroke=\"black\" points=\"246.85,-673.28 249.49,-663.02 241.03,-669.4 246.85,-673.28\"/>\n<text text-anchor=\"middle\" x=\"254.39\" y=\"-683.84\" font-family=\"Helvetica,sans-Serif\" font-size=\"14.00\">False</text>\n</g>\n<!-- 3 -->\n<g id=\"node4\" class=\"node\">\n<title>3</title>\n<path fill=\"#3ee684\" stroke=\"black\" d=\"M255.5,-544C255.5,-544 125.5,-544 125.5,-544 119.5,-544 113.5,-538 113.5,-532 113.5,-532 113.5,-473 113.5,-473 113.5,-467 119.5,-461 125.5,-461 125.5,-461 255.5,-461 255.5,-461 261.5,-461 267.5,-467 267.5,-473 267.5,-473 267.5,-532 267.5,-532 267.5,-538 261.5,-544 255.5,-544\"/>\n<text text-anchor=\"start\" x=\"121.5\" y=\"-528.8\" font-family=\"Helvetica,sans-Serif\" font-size=\"14.00\">petal width (cm) ≤ 1.65</text>\n<text text-anchor=\"start\" x=\"155\" y=\"-513.8\" font-family=\"Helvetica,sans-Serif\" font-size=\"14.00\">gini = 0.053</text>\n<text text-anchor=\"start\" x=\"149.5\" y=\"-498.8\" font-family=\"Helvetica,sans-Serif\" font-size=\"14.00\">samples = 37</text>\n<text text-anchor=\"start\" x=\"140\" y=\"-483.8\" font-family=\"Helvetica,sans-Serif\" font-size=\"14.00\">value = [0, 36, 1]</text>\n<text text-anchor=\"start\" x=\"138\" y=\"-468.8\" font-family=\"Helvetica,sans-Serif\" font-size=\"14.00\">class = versicolor</text>\n</g>\n<!-- 2&#45;&gt;3 -->\n<g id=\"edge3\" class=\"edge\">\n<title>2&#45;&gt;3</title>\n<path fill=\"none\" stroke=\"black\" d=\"M246.66,-579.91C240.13,-571.01 233.14,-561.51 226.39,-552.33\"/>\n<polygon fill=\"black\" stroke=\"black\" points=\"229.03,-550.01 220.28,-544.02 223.39,-554.15 229.03,-550.01\"/>\n</g>\n<!-- 6 -->\n<g id=\"node7\" class=\"node\">\n<title>6</title>\n<path fill=\"#9253e8\" stroke=\"black\" d=\"M427.5,-544C427.5,-544 297.5,-544 297.5,-544 291.5,-544 285.5,-538 285.5,-532 285.5,-532 285.5,-473 285.5,-473 285.5,-467 291.5,-461 297.5,-461 297.5,-461 427.5,-461 427.5,-461 433.5,-461 439.5,-467 439.5,-473 439.5,-473 439.5,-532 439.5,-532 439.5,-538 433.5,-544 427.5,-544\"/>\n<text text-anchor=\"start\" x=\"293.5\" y=\"-528.8\" font-family=\"Helvetica,sans-Serif\" font-size=\"14.00\">petal width (cm) ≤ 1.75</text>\n<text text-anchor=\"start\" x=\"327\" y=\"-513.8\" font-family=\"Helvetica,sans-Serif\" font-size=\"14.00\">gini = 0.206</text>\n<text text-anchor=\"start\" x=\"321.5\" y=\"-498.8\" font-family=\"Helvetica,sans-Serif\" font-size=\"14.00\">samples = 43</text>\n<text text-anchor=\"start\" x=\"312\" y=\"-483.8\" font-family=\"Helvetica,sans-Serif\" font-size=\"14.00\">value = [0, 5, 38]</text>\n<text text-anchor=\"start\" x=\"314\" y=\"-468.8\" font-family=\"Helvetica,sans-Serif\" font-size=\"14.00\">class = virginica</text>\n</g>\n<!-- 2&#45;&gt;6 -->\n<g id=\"edge6\" class=\"edge\">\n<title>2&#45;&gt;6</title>\n<path fill=\"none\" stroke=\"black\" d=\"M306.34,-579.91C312.87,-571.01 319.86,-561.51 326.61,-552.33\"/>\n<polygon fill=\"black\" stroke=\"black\" points=\"329.61,-554.15 332.72,-544.02 323.97,-550.01 329.61,-554.15\"/>\n</g>\n<!-- 4 -->\n<g id=\"node5\" class=\"node\">\n<title>4</title>\n<path fill=\"#39e581\" stroke=\"black\" d=\"M109,-417.5C109,-417.5 12,-417.5 12,-417.5 6,-417.5 0,-411.5 0,-405.5 0,-405.5 0,-361.5 0,-361.5 0,-355.5 6,-349.5 12,-349.5 12,-349.5 109,-349.5 109,-349.5 115,-349.5 121,-355.5 121,-361.5 121,-361.5 121,-405.5 121,-405.5 121,-411.5 115,-417.5 109,-417.5\"/>\n<text text-anchor=\"start\" x=\"32.5\" y=\"-402.3\" font-family=\"Helvetica,sans-Serif\" font-size=\"14.00\">gini = 0.0</text>\n<text text-anchor=\"start\" x=\"19.5\" y=\"-387.3\" font-family=\"Helvetica,sans-Serif\" font-size=\"14.00\">samples = 36</text>\n<text text-anchor=\"start\" x=\"10\" y=\"-372.3\" font-family=\"Helvetica,sans-Serif\" font-size=\"14.00\">value = [0, 36, 0]</text>\n<text text-anchor=\"start\" x=\"8\" y=\"-357.3\" font-family=\"Helvetica,sans-Serif\" font-size=\"14.00\">class = versicolor</text>\n</g>\n<!-- 3&#45;&gt;4 -->\n<g id=\"edge4\" class=\"edge\">\n<title>3&#45;&gt;4</title>\n<path fill=\"none\" stroke=\"black\" d=\"M145.4,-460.91C132.28,-449.1 117.96,-436.22 104.89,-424.45\"/>\n<polygon fill=\"black\" stroke=\"black\" points=\"107.13,-421.76 97.35,-417.67 102.44,-426.96 107.13,-421.76\"/>\n</g>\n<!-- 5 -->\n<g id=\"node6\" class=\"node\">\n<title>5</title>\n<path fill=\"#8139e5\" stroke=\"black\" d=\"M240,-417.5C240,-417.5 151,-417.5 151,-417.5 145,-417.5 139,-411.5 139,-405.5 139,-405.5 139,-361.5 139,-361.5 139,-355.5 145,-349.5 151,-349.5 151,-349.5 240,-349.5 240,-349.5 246,-349.5 252,-355.5 252,-361.5 252,-361.5 252,-405.5 252,-405.5 252,-411.5 246,-417.5 240,-417.5\"/>\n<text text-anchor=\"start\" x=\"167.5\" y=\"-402.3\" font-family=\"Helvetica,sans-Serif\" font-size=\"14.00\">gini = 0.0</text>\n<text text-anchor=\"start\" x=\"158\" y=\"-387.3\" font-family=\"Helvetica,sans-Serif\" font-size=\"14.00\">samples = 1</text>\n<text text-anchor=\"start\" x=\"148.5\" y=\"-372.3\" font-family=\"Helvetica,sans-Serif\" font-size=\"14.00\">value = [0, 0, 1]</text>\n<text text-anchor=\"start\" x=\"147\" y=\"-357.3\" font-family=\"Helvetica,sans-Serif\" font-size=\"14.00\">class = virginica</text>\n</g>\n<!-- 3&#45;&gt;5 -->\n<g id=\"edge5\" class=\"edge\">\n<title>3&#45;&gt;5</title>\n<path fill=\"none\" stroke=\"black\" d=\"M192.23,-460.91C192.69,-450.2 193.19,-438.62 193.65,-427.78\"/>\n<polygon fill=\"black\" stroke=\"black\" points=\"197.15,-427.81 194.08,-417.67 190.16,-427.51 197.15,-427.81\"/>\n</g>\n<!-- 7 -->\n<g id=\"node8\" class=\"node\">\n<title>7</title>\n<path fill=\"#ffffff\" stroke=\"black\" d=\"M426,-425C426,-425 291,-425 291,-425 285,-425 279,-419 279,-413 279,-413 279,-354 279,-354 279,-348 285,-342 291,-342 291,-342 426,-342 426,-342 432,-342 438,-348 438,-354 438,-354 438,-413 438,-413 438,-419 432,-425 426,-425\"/>\n<text text-anchor=\"start\" x=\"287\" y=\"-409.8\" font-family=\"Helvetica,sans-Serif\" font-size=\"14.00\">petal length (cm) ≤ 4.95</text>\n<text text-anchor=\"start\" x=\"330.5\" y=\"-394.8\" font-family=\"Helvetica,sans-Serif\" font-size=\"14.00\">gini = 0.5</text>\n<text text-anchor=\"start\" x=\"321\" y=\"-379.8\" font-family=\"Helvetica,sans-Serif\" font-size=\"14.00\">samples = 8</text>\n<text text-anchor=\"start\" x=\"311.5\" y=\"-364.8\" font-family=\"Helvetica,sans-Serif\" font-size=\"14.00\">value = [0, 4, 4]</text>\n<text text-anchor=\"start\" x=\"306\" y=\"-349.8\" font-family=\"Helvetica,sans-Serif\" font-size=\"14.00\">class = versicolor</text>\n</g>\n<!-- 6&#45;&gt;7 -->\n<g id=\"edge7\" class=\"edge\">\n<title>6&#45;&gt;7</title>\n<path fill=\"none\" stroke=\"black\" d=\"M361.11,-460.91C360.83,-452.56 360.52,-443.67 360.23,-435.02\"/>\n<polygon fill=\"black\" stroke=\"black\" points=\"363.73,-434.9 359.89,-425.02 356.73,-435.13 363.73,-434.9\"/>\n</g>\n<!-- 14 -->\n<g id=\"node15\" class=\"node\">\n<title>14</title>\n<path fill=\"#853fe6\" stroke=\"black\" d=\"M603,-425C603,-425 468,-425 468,-425 462,-425 456,-419 456,-413 456,-413 456,-354 456,-354 456,-348 462,-342 468,-342 468,-342 603,-342 603,-342 609,-342 615,-348 615,-354 615,-354 615,-413 615,-413 615,-419 609,-425 603,-425\"/>\n<text text-anchor=\"start\" x=\"464\" y=\"-409.8\" font-family=\"Helvetica,sans-Serif\" font-size=\"14.00\">petal length (cm) ≤ 4.85</text>\n<text text-anchor=\"start\" x=\"500\" y=\"-394.8\" font-family=\"Helvetica,sans-Serif\" font-size=\"14.00\">gini = 0.056</text>\n<text text-anchor=\"start\" x=\"494.5\" y=\"-379.8\" font-family=\"Helvetica,sans-Serif\" font-size=\"14.00\">samples = 35</text>\n<text text-anchor=\"start\" x=\"485\" y=\"-364.8\" font-family=\"Helvetica,sans-Serif\" font-size=\"14.00\">value = [0, 1, 34]</text>\n<text text-anchor=\"start\" x=\"487\" y=\"-349.8\" font-family=\"Helvetica,sans-Serif\" font-size=\"14.00\">class = virginica</text>\n</g>\n<!-- 6&#45;&gt;14 -->\n<g id=\"edge14\" class=\"edge\">\n<title>6&#45;&gt;14</title>\n<path fill=\"none\" stroke=\"black\" d=\"M422.52,-460.91C436.88,-451.2 452.31,-440.76 467.02,-430.81\"/>\n<polygon fill=\"black\" stroke=\"black\" points=\"469.26,-433.52 475.58,-425.02 465.34,-427.72 469.26,-433.52\"/>\n</g>\n<!-- 8 -->\n<g id=\"node9\" class=\"node\">\n<title>8</title>\n<path fill=\"#39e581\" stroke=\"black\" d=\"M254,-298.5C254,-298.5 157,-298.5 157,-298.5 151,-298.5 145,-292.5 145,-286.5 145,-286.5 145,-242.5 145,-242.5 145,-236.5 151,-230.5 157,-230.5 157,-230.5 254,-230.5 254,-230.5 260,-230.5 266,-236.5 266,-242.5 266,-242.5 266,-286.5 266,-286.5 266,-292.5 260,-298.5 254,-298.5\"/>\n<text text-anchor=\"start\" x=\"177.5\" y=\"-283.3\" font-family=\"Helvetica,sans-Serif\" font-size=\"14.00\">gini = 0.0</text>\n<text text-anchor=\"start\" x=\"168\" y=\"-268.3\" font-family=\"Helvetica,sans-Serif\" font-size=\"14.00\">samples = 2</text>\n<text text-anchor=\"start\" x=\"158.5\" y=\"-253.3\" font-family=\"Helvetica,sans-Serif\" font-size=\"14.00\">value = [0, 2, 0]</text>\n<text text-anchor=\"start\" x=\"153\" y=\"-238.3\" font-family=\"Helvetica,sans-Serif\" font-size=\"14.00\">class = versicolor</text>\n</g>\n<!-- 7&#45;&gt;8 -->\n<g id=\"edge8\" class=\"edge\">\n<title>7&#45;&gt;8</title>\n<path fill=\"none\" stroke=\"black\" d=\"M305.42,-341.91C289.69,-329.88 272.5,-316.73 256.88,-304.79\"/>\n<polygon fill=\"black\" stroke=\"black\" points=\"258.94,-301.96 248.87,-298.67 254.69,-307.52 258.94,-301.96\"/>\n</g>\n<!-- 9 -->\n<g id=\"node10\" class=\"node\">\n<title>9</title>\n<path fill=\"#c09cf2\" stroke=\"black\" d=\"M426.5,-306C426.5,-306 296.5,-306 296.5,-306 290.5,-306 284.5,-300 284.5,-294 284.5,-294 284.5,-235 284.5,-235 284.5,-229 290.5,-223 296.5,-223 296.5,-223 426.5,-223 426.5,-223 432.5,-223 438.5,-229 438.5,-235 438.5,-235 438.5,-294 438.5,-294 438.5,-300 432.5,-306 426.5,-306\"/>\n<text text-anchor=\"start\" x=\"292.5\" y=\"-290.8\" font-family=\"Helvetica,sans-Serif\" font-size=\"14.00\">petal width (cm) ≤ 1.55</text>\n<text text-anchor=\"start\" x=\"326\" y=\"-275.8\" font-family=\"Helvetica,sans-Serif\" font-size=\"14.00\">gini = 0.444</text>\n<text text-anchor=\"start\" x=\"324\" y=\"-260.8\" font-family=\"Helvetica,sans-Serif\" font-size=\"14.00\">samples = 6</text>\n<text text-anchor=\"start\" x=\"314.5\" y=\"-245.8\" font-family=\"Helvetica,sans-Serif\" font-size=\"14.00\">value = [0, 2, 4]</text>\n<text text-anchor=\"start\" x=\"313\" y=\"-230.8\" font-family=\"Helvetica,sans-Serif\" font-size=\"14.00\">class = virginica</text>\n</g>\n<!-- 7&#45;&gt;9 -->\n<g id=\"edge9\" class=\"edge\">\n<title>7&#45;&gt;9</title>\n<path fill=\"none\" stroke=\"black\" d=\"M359.54,-341.91C359.75,-333.56 359.98,-324.67 360.2,-316.02\"/>\n<polygon fill=\"black\" stroke=\"black\" points=\"363.7,-316.11 360.46,-306.02 356.71,-315.93 363.7,-316.11\"/>\n</g>\n<!-- 10 -->\n<g id=\"node11\" class=\"node\">\n<title>10</title>\n<path fill=\"#8139e5\" stroke=\"black\" d=\"M256,-179.5C256,-179.5 167,-179.5 167,-179.5 161,-179.5 155,-173.5 155,-167.5 155,-167.5 155,-123.5 155,-123.5 155,-117.5 161,-111.5 167,-111.5 167,-111.5 256,-111.5 256,-111.5 262,-111.5 268,-117.5 268,-123.5 268,-123.5 268,-167.5 268,-167.5 268,-173.5 262,-179.5 256,-179.5\"/>\n<text text-anchor=\"start\" x=\"183.5\" y=\"-164.3\" font-family=\"Helvetica,sans-Serif\" font-size=\"14.00\">gini = 0.0</text>\n<text text-anchor=\"start\" x=\"174\" y=\"-149.3\" font-family=\"Helvetica,sans-Serif\" font-size=\"14.00\">samples = 3</text>\n<text text-anchor=\"start\" x=\"164.5\" y=\"-134.3\" font-family=\"Helvetica,sans-Serif\" font-size=\"14.00\">value = [0, 0, 3]</text>\n<text text-anchor=\"start\" x=\"163\" y=\"-119.3\" font-family=\"Helvetica,sans-Serif\" font-size=\"14.00\">class = virginica</text>\n</g>\n<!-- 9&#45;&gt;10 -->\n<g id=\"edge10\" class=\"edge\">\n<title>9&#45;&gt;10</title>\n<path fill=\"none\" stroke=\"black\" d=\"M309.46,-222.91C294.18,-210.99 277.49,-197.98 262.29,-186.12\"/>\n<polygon fill=\"black\" stroke=\"black\" points=\"264.06,-183.06 254.02,-179.67 259.75,-188.58 264.06,-183.06\"/>\n</g>\n<!-- 11 -->\n<g id=\"node12\" class=\"node\">\n<title>11</title>\n<path fill=\"#9cf2c0\" stroke=\"black\" d=\"M433,-187C433,-187 298,-187 298,-187 292,-187 286,-181 286,-175 286,-175 286,-116 286,-116 286,-110 292,-104 298,-104 298,-104 433,-104 433,-104 439,-104 445,-110 445,-116 445,-116 445,-175 445,-175 445,-181 439,-187 433,-187\"/>\n<text text-anchor=\"start\" x=\"294\" y=\"-171.8\" font-family=\"Helvetica,sans-Serif\" font-size=\"14.00\">petal length (cm) ≤ 5.45</text>\n<text text-anchor=\"start\" x=\"330\" y=\"-156.8\" font-family=\"Helvetica,sans-Serif\" font-size=\"14.00\">gini = 0.444</text>\n<text text-anchor=\"start\" x=\"328\" y=\"-141.8\" font-family=\"Helvetica,sans-Serif\" font-size=\"14.00\">samples = 3</text>\n<text text-anchor=\"start\" x=\"318.5\" y=\"-126.8\" font-family=\"Helvetica,sans-Serif\" font-size=\"14.00\">value = [0, 2, 1]</text>\n<text text-anchor=\"start\" x=\"313\" y=\"-111.8\" font-family=\"Helvetica,sans-Serif\" font-size=\"14.00\">class = versicolor</text>\n</g>\n<!-- 9&#45;&gt;11 -->\n<g id=\"edge11\" class=\"edge\">\n<title>9&#45;&gt;11</title>\n<path fill=\"none\" stroke=\"black\" d=\"M362.89,-222.91C363.17,-214.56 363.48,-205.67 363.77,-197.02\"/>\n<polygon fill=\"black\" stroke=\"black\" points=\"367.27,-197.13 364.11,-187.02 360.27,-196.9 367.27,-197.13\"/>\n</g>\n<!-- 12 -->\n<g id=\"node13\" class=\"node\">\n<title>12</title>\n<path fill=\"#39e581\" stroke=\"black\" d=\"M347,-68C347,-68 250,-68 250,-68 244,-68 238,-62 238,-56 238,-56 238,-12 238,-12 238,-6 244,0 250,0 250,0 347,0 347,0 353,0 359,-6 359,-12 359,-12 359,-56 359,-56 359,-62 353,-68 347,-68\"/>\n<text text-anchor=\"start\" x=\"270.5\" y=\"-52.8\" font-family=\"Helvetica,sans-Serif\" font-size=\"14.00\">gini = 0.0</text>\n<text text-anchor=\"start\" x=\"261\" y=\"-37.8\" font-family=\"Helvetica,sans-Serif\" font-size=\"14.00\">samples = 2</text>\n<text text-anchor=\"start\" x=\"251.5\" y=\"-22.8\" font-family=\"Helvetica,sans-Serif\" font-size=\"14.00\">value = [0, 2, 0]</text>\n<text text-anchor=\"start\" x=\"246\" y=\"-7.8\" font-family=\"Helvetica,sans-Serif\" font-size=\"14.00\">class = versicolor</text>\n</g>\n<!-- 11&#45;&gt;12 -->\n<g id=\"edge12\" class=\"edge\">\n<title>11&#45;&gt;12</title>\n<path fill=\"none\" stroke=\"black\" d=\"M340.55,-103.73C335.19,-94.97 329.52,-85.7 324.14,-76.91\"/>\n<polygon fill=\"black\" stroke=\"black\" points=\"327.08,-75 318.88,-68.3 321.11,-78.66 327.08,-75\"/>\n</g>\n<!-- 13 -->\n<g id=\"node14\" class=\"node\">\n<title>13</title>\n<path fill=\"#8139e5\" stroke=\"black\" d=\"M478,-68C478,-68 389,-68 389,-68 383,-68 377,-62 377,-56 377,-56 377,-12 377,-12 377,-6 383,0 389,0 389,0 478,0 478,0 484,0 490,-6 490,-12 490,-12 490,-56 490,-56 490,-62 484,-68 478,-68\"/>\n<text text-anchor=\"start\" x=\"405.5\" y=\"-52.8\" font-family=\"Helvetica,sans-Serif\" font-size=\"14.00\">gini = 0.0</text>\n<text text-anchor=\"start\" x=\"396\" y=\"-37.8\" font-family=\"Helvetica,sans-Serif\" font-size=\"14.00\">samples = 1</text>\n<text text-anchor=\"start\" x=\"386.5\" y=\"-22.8\" font-family=\"Helvetica,sans-Serif\" font-size=\"14.00\">value = [0, 0, 1]</text>\n<text text-anchor=\"start\" x=\"385\" y=\"-7.8\" font-family=\"Helvetica,sans-Serif\" font-size=\"14.00\">class = virginica</text>\n</g>\n<!-- 11&#45;&gt;13 -->\n<g id=\"edge13\" class=\"edge\">\n<title>11&#45;&gt;13</title>\n<path fill=\"none\" stroke=\"black\" d=\"M390.82,-103.73C396.26,-94.97 402.01,-85.7 407.48,-76.91\"/>\n<polygon fill=\"black\" stroke=\"black\" points=\"410.52,-78.64 412.82,-68.3 404.57,-74.95 410.52,-78.64\"/>\n</g>\n<!-- 15 -->\n<g id=\"node16\" class=\"node\">\n<title>15</title>\n<path fill=\"#c09cf2\" stroke=\"black\" d=\"M596,-306C596,-306 471,-306 471,-306 465,-306 459,-300 459,-294 459,-294 459,-235 459,-235 459,-229 465,-223 471,-223 471,-223 596,-223 596,-223 602,-223 608,-229 608,-235 608,-235 608,-294 608,-294 608,-300 602,-306 596,-306\"/>\n<text text-anchor=\"start\" x=\"467\" y=\"-290.8\" font-family=\"Helvetica,sans-Serif\" font-size=\"14.00\">sepal width (cm) ≤ 3.1</text>\n<text text-anchor=\"start\" x=\"498\" y=\"-275.8\" font-family=\"Helvetica,sans-Serif\" font-size=\"14.00\">gini = 0.444</text>\n<text text-anchor=\"start\" x=\"496\" y=\"-260.8\" font-family=\"Helvetica,sans-Serif\" font-size=\"14.00\">samples = 3</text>\n<text text-anchor=\"start\" x=\"486.5\" y=\"-245.8\" font-family=\"Helvetica,sans-Serif\" font-size=\"14.00\">value = [0, 1, 2]</text>\n<text text-anchor=\"start\" x=\"485\" y=\"-230.8\" font-family=\"Helvetica,sans-Serif\" font-size=\"14.00\">class = virginica</text>\n</g>\n<!-- 14&#45;&gt;15 -->\n<g id=\"edge15\" class=\"edge\">\n<title>14&#45;&gt;15</title>\n<path fill=\"none\" stroke=\"black\" d=\"M534.81,-341.91C534.66,-333.56 534.51,-324.67 534.36,-316.02\"/>\n<polygon fill=\"black\" stroke=\"black\" points=\"537.86,-315.96 534.19,-306.02 530.86,-316.08 537.86,-315.96\"/>\n</g>\n<!-- 18 -->\n<g id=\"node19\" class=\"node\">\n<title>18</title>\n<path fill=\"#8139e5\" stroke=\"black\" d=\"M731,-298.5C731,-298.5 638,-298.5 638,-298.5 632,-298.5 626,-292.5 626,-286.5 626,-286.5 626,-242.5 626,-242.5 626,-236.5 632,-230.5 638,-230.5 638,-230.5 731,-230.5 731,-230.5 737,-230.5 743,-236.5 743,-242.5 743,-242.5 743,-286.5 743,-286.5 743,-292.5 737,-298.5 731,-298.5\"/>\n<text text-anchor=\"start\" x=\"656.5\" y=\"-283.3\" font-family=\"Helvetica,sans-Serif\" font-size=\"14.00\">gini = 0.0</text>\n<text text-anchor=\"start\" x=\"643.5\" y=\"-268.3\" font-family=\"Helvetica,sans-Serif\" font-size=\"14.00\">samples = 32</text>\n<text text-anchor=\"start\" x=\"634\" y=\"-253.3\" font-family=\"Helvetica,sans-Serif\" font-size=\"14.00\">value = [0, 0, 32]</text>\n<text text-anchor=\"start\" x=\"636\" y=\"-238.3\" font-family=\"Helvetica,sans-Serif\" font-size=\"14.00\">class = virginica</text>\n</g>\n<!-- 14&#45;&gt;18 -->\n<g id=\"edge18\" class=\"edge\">\n<title>14&#45;&gt;18</title>\n<path fill=\"none\" stroke=\"black\" d=\"M587.19,-341.91C602.37,-329.99 618.95,-316.98 634.04,-305.12\"/>\n<polygon fill=\"black\" stroke=\"black\" points=\"636.56,-307.6 642.26,-298.67 632.24,-302.09 636.56,-307.6\"/>\n</g>\n<!-- 16 -->\n<g id=\"node17\" class=\"node\">\n<title>16</title>\n<path fill=\"#8139e5\" stroke=\"black\" d=\"M575,-179.5C575,-179.5 486,-179.5 486,-179.5 480,-179.5 474,-173.5 474,-167.5 474,-167.5 474,-123.5 474,-123.5 474,-117.5 480,-111.5 486,-111.5 486,-111.5 575,-111.5 575,-111.5 581,-111.5 587,-117.5 587,-123.5 587,-123.5 587,-167.5 587,-167.5 587,-173.5 581,-179.5 575,-179.5\"/>\n<text text-anchor=\"start\" x=\"502.5\" y=\"-164.3\" font-family=\"Helvetica,sans-Serif\" font-size=\"14.00\">gini = 0.0</text>\n<text text-anchor=\"start\" x=\"493\" y=\"-149.3\" font-family=\"Helvetica,sans-Serif\" font-size=\"14.00\">samples = 2</text>\n<text text-anchor=\"start\" x=\"483.5\" y=\"-134.3\" font-family=\"Helvetica,sans-Serif\" font-size=\"14.00\">value = [0, 0, 2]</text>\n<text text-anchor=\"start\" x=\"482\" y=\"-119.3\" font-family=\"Helvetica,sans-Serif\" font-size=\"14.00\">class = virginica</text>\n</g>\n<!-- 15&#45;&gt;16 -->\n<g id=\"edge16\" class=\"edge\">\n<title>15&#45;&gt;16</title>\n<path fill=\"none\" stroke=\"black\" d=\"M532.46,-222.91C532.18,-212.2 531.89,-200.62 531.61,-189.78\"/>\n<polygon fill=\"black\" stroke=\"black\" points=\"535.11,-189.57 531.35,-179.67 528.11,-189.75 535.11,-189.57\"/>\n</g>\n<!-- 17 -->\n<g id=\"node18\" class=\"node\">\n<title>17</title>\n<path fill=\"#39e581\" stroke=\"black\" d=\"M714,-179.5C714,-179.5 617,-179.5 617,-179.5 611,-179.5 605,-173.5 605,-167.5 605,-167.5 605,-123.5 605,-123.5 605,-117.5 611,-111.5 617,-111.5 617,-111.5 714,-111.5 714,-111.5 720,-111.5 726,-117.5 726,-123.5 726,-123.5 726,-167.5 726,-167.5 726,-173.5 720,-179.5 714,-179.5\"/>\n<text text-anchor=\"start\" x=\"637.5\" y=\"-164.3\" font-family=\"Helvetica,sans-Serif\" font-size=\"14.00\">gini = 0.0</text>\n<text text-anchor=\"start\" x=\"628\" y=\"-149.3\" font-family=\"Helvetica,sans-Serif\" font-size=\"14.00\">samples = 1</text>\n<text text-anchor=\"start\" x=\"618.5\" y=\"-134.3\" font-family=\"Helvetica,sans-Serif\" font-size=\"14.00\">value = [0, 1, 0]</text>\n<text text-anchor=\"start\" x=\"613\" y=\"-119.3\" font-family=\"Helvetica,sans-Serif\" font-size=\"14.00\">class = versicolor</text>\n</g>\n<!-- 15&#45;&gt;17 -->\n<g id=\"edge17\" class=\"edge\">\n<title>15&#45;&gt;17</title>\n<path fill=\"none\" stroke=\"black\" d=\"M579.3,-222.91C592.62,-211.1 607.15,-198.22 620.43,-186.45\"/>\n<polygon fill=\"black\" stroke=\"black\" points=\"622.92,-188.92 628.08,-179.67 618.28,-183.68 622.92,-188.92\"/>\n</g>\n</g>\n</svg>\n",
            "text/plain": [
              "<graphviz.sources.Source at 0x7d6cf62f7d10>"
            ]
          },
          "metadata": {},
          "execution_count": 6
        }
      ]
    },
    {
      "cell_type": "markdown",
      "source": [
        "# 21. Write a Python program to train a Decision Tree Classifier with a maximum depth of 3 and compare its accuracy with a fully grown tree\n"
      ],
      "metadata": {
        "id": "1ajdam0UkXTX"
      }
    },
    {
      "cell_type": "code",
      "source": [
        "from sklearn.datasets import load_iris\n",
        "from sklearn.model_selection import train_test_split\n",
        "from sklearn.tree import DecisionTreeClassifier\n",
        "from sklearn.metrics import accuracy_score\n",
        "\n",
        "# Load the Iris dataset\n",
        "iris = load_iris()\n",
        "X, y = iris.data, iris.target\n",
        "\n",
        "# Split the data into training and testing sets (80% train, 20% test)\n",
        "X_train, X_test, y_train, y_test = train_test_split(X, y, test_size=0.2, random_state=42)\n",
        "\n",
        "# Train a Decision Tree Classifier with maximum depth of 3 (pruned tree)\n",
        "clf_pruned = DecisionTreeClassifier(max_depth=3, random_state=42)\n",
        "clf_pruned.fit(X_train, y_train)\n",
        "y_pred_pruned = clf_pruned.predict(X_test)\n",
        "accuracy_pruned = accuracy_score(y_test, y_pred_pruned)\n",
        "\n",
        "# Train a fully grown Decision Tree Classifier (no max_depth constraint)\n",
        "clf_full = DecisionTreeClassifier(random_state=42)\n",
        "clf_full.fit(X_train, y_train)\n",
        "y_pred_full = clf_full.predict(X_test)\n",
        "accuracy_full = accuracy_score(y_test, y_pred_full)\n",
        "\n",
        "# Print the accuracy for both models\n",
        "print(f\"Accuracy of Decision Tree with max_depth=3: {accuracy_pruned:.2f}\")\n",
        "print(f\"Accuracy of Fully Grown Decision Tree: {accuracy_full:.2f}\")\n"
      ],
      "metadata": {
        "colab": {
          "base_uri": "https://localhost:8080/"
        },
        "id": "gdEy7IAJkph3",
        "outputId": "db0bd3c9-5a37-4c49-ecd0-71023a6b3cc6"
      },
      "execution_count": 7,
      "outputs": [
        {
          "output_type": "stream",
          "name": "stdout",
          "text": [
            "Accuracy of Decision Tree with max_depth=3: 1.00\n",
            "Accuracy of Fully Grown Decision Tree: 1.00\n"
          ]
        }
      ]
    },
    {
      "cell_type": "markdown",
      "source": [
        "# 22.  Write a Python program to train a Decision Tree Classifier using min_samples_split=5 and compare its accuracy with a default tree\n"
      ],
      "metadata": {
        "id": "9t1eG9WBk3bd"
      }
    },
    {
      "cell_type": "code",
      "source": [
        "from sklearn.datasets import load_breast_cancer\n",
        "from sklearn.model_selection import train_test_split\n",
        "from sklearn.tree import DecisionTreeClassifier\n",
        "from sklearn.metrics import accuracy_score\n",
        "\n",
        "# Load the Breast Cancer Wisconsin dataset\n",
        "data = load_breast_cancer()\n",
        "X, y = data.data, data.target\n",
        "\n",
        "# Split the dataset into training and testing sets (80% train, 20% test)\n",
        "X_train, X_test, y_train, y_test = train_test_split(X, y, test_size=0.2, random_state=42)\n",
        "\n",
        "# Train a Decision Tree Classifier with min_samples_split=5\n",
        "clf_min_samples = DecisionTreeClassifier(min_samples_split=5, random_state=42)\n",
        "clf_min_samples.fit(X_train, y_train)\n",
        "y_pred_min_samples = clf_min_samples.predict(X_test)\n",
        "accuracy_min_samples = accuracy_score(y_test, y_pred_min_samples)\n",
        "\n",
        "# Train a default Decision Tree Classifier\n",
        "clf_default = DecisionTreeClassifier(random_state=42)\n",
        "clf_default.fit(X_train, y_train)\n",
        "y_pred_default = clf_default.predict(X_test)\n",
        "accuracy_default = accuracy_score(y_test, y_pred_default)\n",
        "\n",
        "# Print the accuracies for both models\n",
        "print(f\"Accuracy with min_samples_split=5: {accuracy_min_samples:.2f}\")\n",
        "print(f\"Accuracy with default settings: {accuracy_default:.2f}\")\n"
      ],
      "metadata": {
        "colab": {
          "base_uri": "https://localhost:8080/"
        },
        "id": "Re3wuph2lJMZ",
        "outputId": "0e556063-0f87-4d26-c49d-35e97ab70b86"
      },
      "execution_count": 8,
      "outputs": [
        {
          "output_type": "stream",
          "name": "stdout",
          "text": [
            "Accuracy with min_samples_split=5: 0.94\n",
            "Accuracy with default settings: 0.95\n"
          ]
        }
      ]
    },
    {
      "cell_type": "markdown",
      "source": [
        "# 23. Write a Python program to apply feature scaling before training a Decision Tree Classifier and compare its accuracy with unscaled data\n"
      ],
      "metadata": {
        "id": "9PoliF5TlOz3"
      }
    },
    {
      "cell_type": "code",
      "source": [
        "from sklearn.datasets import load_iris\n",
        "from sklearn.model_selection import train_test_split\n",
        "from sklearn.tree import DecisionTreeClassifier\n",
        "from sklearn.metrics import accuracy_score\n",
        "from sklearn.preprocessing import StandardScaler\n",
        "\n",
        "# Load the Iris dataset\n",
        "iris = load_iris()\n",
        "X, y = iris.data, iris.target\n",
        "\n",
        "# Split data into training and testing sets (80% train, 20% test)\n",
        "X_train, X_test, y_train, y_test = train_test_split(X, y, test_size=0.2, random_state=42)\n",
        "\n",
        "# -------------------------\n",
        "# Model with unscaled data\n",
        "# -------------------------\n",
        "clf_unscaled = DecisionTreeClassifier(random_state=42)\n",
        "clf_unscaled.fit(X_train, y_train)\n",
        "y_pred_unscaled = clf_unscaled.predict(X_test)\n",
        "accuracy_unscaled = accuracy_score(y_test, y_pred_unscaled)\n",
        "print(f\"Accuracy with unscaled data: {accuracy_unscaled:.2f}\")\n",
        "\n",
        "# ------------------------------------\n",
        "# Model with scaled data (StandardScaler)\n",
        "# ------------------------------------\n",
        "# Initialize the scaler\n",
        "scaler = StandardScaler()\n",
        "\n",
        "# Fit the scaler on training data and transform both training and testing data\n",
        "X_train_scaled = scaler.fit_transform(X_train)\n",
        "X_test_scaled = scaler.transform(X_test)\n",
        "\n",
        "# Train the classifier on scaled data\n",
        "clf_scaled = DecisionTreeClassifier(random_state=42)\n",
        "clf_scaled.fit(X_train_scaled, y_train)\n",
        "y_pred_scaled = clf_scaled.predict(X_test_scaled)\n",
        "accuracy_scaled = accuracy_score(y_test, y_pred_scaled)\n",
        "print(f\"Accuracy with scaled data: {accuracy_scaled:.2f}\")\n"
      ],
      "metadata": {
        "colab": {
          "base_uri": "https://localhost:8080/"
        },
        "id": "TizZkD4XlbRx",
        "outputId": "116cb14b-d541-4336-a62f-f4135cc8b4a5"
      },
      "execution_count": 9,
      "outputs": [
        {
          "output_type": "stream",
          "name": "stdout",
          "text": [
            "Accuracy with unscaled data: 1.00\n",
            "Accuracy with scaled data: 1.00\n"
          ]
        }
      ]
    },
    {
      "cell_type": "markdown",
      "source": [
        "# 24. Write a Python program to train a Decision Tree Classifier using One-vs-Rest (OvR) strategy for multiclass  classification\n"
      ],
      "metadata": {
        "id": "T1AbuGqilto5"
      }
    },
    {
      "cell_type": "code",
      "source": [
        "from sklearn.datasets import load_iris\n",
        "from sklearn.model_selection import train_test_split\n",
        "from sklearn.tree import DecisionTreeClassifier\n",
        "from sklearn.multiclass import OneVsRestClassifier\n",
        "from sklearn.metrics import accuracy_score\n",
        "\n",
        "# Load the Iris dataset\n",
        "iris = load_iris()\n",
        "X, y = iris.data, iris.target\n",
        "\n",
        "# Split the dataset into training and testing sets (80% train, 20% test)\n",
        "X_train, X_test, y_train, y_test = train_test_split(X, y, test_size=0.2, random_state=42)\n",
        "\n",
        "# Initialize the Decision Tree Classifier\n",
        "dt_classifier = DecisionTreeClassifier(random_state=42)\n",
        "\n",
        "# Wrap the classifier with OneVsRestClassifier for OvR strategy\n",
        "ovr_classifier = OneVsRestClassifier(dt_classifier)\n",
        "\n",
        "# Train the One-vs-Rest classifier on the training data\n",
        "ovr_classifier.fit(X_train, y_train)\n",
        "\n",
        "# Predict on the test set\n",
        "y_pred = ovr_classifier.predict(X_test)\n",
        "\n",
        "# Evaluate the model's accuracy\n",
        "accuracy = accuracy_score(y_test, y_pred)\n",
        "print(f\"One-vs-Rest Decision Tree Classifier Accuracy: {accuracy:.2f}\")\n"
      ],
      "metadata": {
        "colab": {
          "base_uri": "https://localhost:8080/"
        },
        "id": "9_7CEcBsmJSp",
        "outputId": "5097418d-dfb7-42ab-8f2d-2baa270429e4"
      },
      "execution_count": 10,
      "outputs": [
        {
          "output_type": "stream",
          "name": "stdout",
          "text": [
            "One-vs-Rest Decision Tree Classifier Accuracy: 1.00\n"
          ]
        }
      ]
    },
    {
      "cell_type": "markdown",
      "source": [
        "# 25. Write a Python program to train a Decision Tree Classifier and display the feature importance scores"
      ],
      "metadata": {
        "id": "auHVZK4YmMrl"
      }
    },
    {
      "cell_type": "code",
      "source": [
        "from sklearn.datasets import load_iris\n",
        "from sklearn.model_selection import train_test_split\n",
        "from sklearn.tree import DecisionTreeClassifier\n",
        "\n",
        "# Load the Iris dataset\n",
        "iris = load_iris()\n",
        "X, y = iris.data, iris.target\n",
        "\n",
        "# Split the dataset into training and testing sets (80% train, 20% test)\n",
        "X_train, X_test, y_train, y_test = train_test_split(X, y, test_size=0.2, random_state=42)\n",
        "\n",
        "# Initialize and train the Decision Tree Classifier\n",
        "clf = DecisionTreeClassifier(random_state=42)\n",
        "clf.fit(X_train, y_train)\n",
        "\n",
        "# Display the feature importance scores\n",
        "print(\"Feature Importances:\")\n",
        "for feature, importance in zip(iris.feature_names, clf.feature_importances_):\n",
        "    print(f\"{feature}: {importance:.4f}\")\n"
      ],
      "metadata": {
        "colab": {
          "base_uri": "https://localhost:8080/"
        },
        "id": "H3nxxr-tmWQ_",
        "outputId": "24c87473-47a0-445a-c96f-a11eae41b98b"
      },
      "execution_count": 12,
      "outputs": [
        {
          "output_type": "stream",
          "name": "stdout",
          "text": [
            "Feature Importances:\n",
            "sepal length (cm): 0.0000\n",
            "sepal width (cm): 0.0167\n",
            "petal length (cm): 0.9061\n",
            "petal width (cm): 0.0772\n"
          ]
        }
      ]
    },
    {
      "cell_type": "markdown",
      "source": [
        "# 26. Write a Python program to train a Decision Tree Regressor with max_depth=5 and compare its performance with an unrestricted tree\n"
      ],
      "metadata": {
        "id": "KykvUiL5mu7R"
      }
    },
    {
      "cell_type": "code",
      "source": [
        "from sklearn.datasets import fetch_california_housing\n",
        "from sklearn.model_selection import train_test_split\n",
        "from sklearn.tree import DecisionTreeRegressor\n",
        "from sklearn.metrics import mean_squared_error\n",
        "\n",
        "# Load the California housing dataset\n",
        "housing = fetch_california_housing()\n",
        "X, y = housing.data, housing.target\n",
        "\n",
        "# Split the dataset into training and testing sets (80% train, 20% test)\n",
        "X_train, X_test, y_train, y_test = train_test_split(X, y, test_size=0.2, random_state=42)\n",
        "\n",
        "# Train a Decision Tree Regressor with max_depth=5\n",
        "regressor_limited = DecisionTreeRegressor(max_depth=5, random_state=42)\n",
        "regressor_limited.fit(X_train, y_train)\n",
        "y_pred_limited = regressor_limited.predict(X_test)\n",
        "mse_limited = mean_squared_error(y_test, y_pred_limited)\n",
        "\n",
        "# Train an unrestricted Decision Tree Regressor (no max_depth limit)\n",
        "regressor_unrestricted = DecisionTreeRegressor(random_state=42)\n",
        "regressor_unrestricted.fit(X_train, y_train)\n",
        "y_pred_unrestricted = regressor_unrestricted.predict(X_test)\n",
        "mse_unrestricted = mean_squared_error(y_test, y_pred_unrestricted)\n",
        "\n",
        "# Compare the performance\n",
        "print(\"Decision Tree Regressor Performance:\")\n",
        "print(f\"  MSE with max_depth=5: {mse_limited:.4f}\")\n",
        "print(f\"  MSE with unrestricted tree: {mse_unrestricted:.4f}\")\n"
      ],
      "metadata": {
        "colab": {
          "base_uri": "https://localhost:8080/"
        },
        "id": "i3XPgfG3m_k0",
        "outputId": "d274b5d6-7247-4e5d-d9ad-84f39eb42932"
      },
      "execution_count": 13,
      "outputs": [
        {
          "output_type": "stream",
          "name": "stdout",
          "text": [
            "Decision Tree Regressor Performance:\n",
            "  MSE with max_depth=5: 0.5245\n",
            "  MSE with unrestricted tree: 0.4952\n"
          ]
        }
      ]
    },
    {
      "cell_type": "markdown",
      "source": [
        "# 27. Write a Python program to train a Decision Tree Classifier, apply Cost Complexity Pruning (CCP), and visualize its effect on accuracy\n"
      ],
      "metadata": {
        "id": "_IfXU4kYne_N"
      }
    },
    {
      "cell_type": "code",
      "source": [
        "import numpy as np\n",
        "import matplotlib.pyplot as plt\n",
        "from sklearn.datasets import load_iris\n",
        "from sklearn.model_selection import train_test_split\n",
        "from sklearn.tree import DecisionTreeClassifier\n",
        "from sklearn.metrics import accuracy_score\n",
        "\n",
        "# Load Iris data and split\n",
        "iris = load_iris()\n",
        "X_train, X_test, y_train, y_test = train_test_split(iris.data, iris.target,\n",
        "                                                    test_size=0.2, random_state=42)\n",
        "\n",
        "# Train an unpruned tree and get CCP path\n",
        "clf = DecisionTreeClassifier(random_state=42)\n",
        "clf.fit(X_train, y_train)\n",
        "path = clf.cost_complexity_pruning_path(X_train, y_train)\n",
        "ccp_alphas = path.ccp_alphas[:-1]  # Exclude the maximum alpha\n",
        "\n",
        "# Train trees for each alpha and record test accuracy\n",
        "test_scores = []\n",
        "for alpha in ccp_alphas:\n",
        "    clf_alpha = DecisionTreeClassifier(random_state=42, ccp_alpha=alpha)\n",
        "    clf_alpha.fit(X_train, y_train)\n",
        "    test_scores.append(accuracy_score(y_test, clf_alpha.predict(X_test)))\n",
        "\n",
        "# Plot test accuracy vs ccp_alpha\n",
        "plt.figure(figsize=(8, 5))\n",
        "plt.plot(ccp_alphas, test_scores, marker='o', drawstyle=\"steps-post\")\n",
        "plt.xlabel(\"ccp_alpha\")\n",
        "plt.ylabel(\"Test Accuracy\")\n",
        "plt.title(\"CCP: Test Accuracy vs. Alpha\")\n",
        "plt.grid(True)\n",
        "plt.show()\n"
      ],
      "metadata": {
        "colab": {
          "base_uri": "https://localhost:8080/",
          "height": 487
        },
        "id": "iPflKia8oFSa",
        "outputId": "3dfc0f02-fbe2-4ec7-9af9-8fc243944909"
      },
      "execution_count": 15,
      "outputs": [
        {
          "output_type": "display_data",
          "data": {
            "text/plain": [
              "<Figure size 800x500 with 1 Axes>"
            ],
            "image/png": "[encoded data removed]"
          },
          "metadata": {}
        }
      ]
    },
    {
      "cell_type": "markdown",
      "source": [
        "# 28. Write a Python program to train a Decision Tree Classifier and evaluate its performance using Precision,Recall, and F1-Score\n"
      ],
      "metadata": {
        "id": "J9TmFqxkoNAU"
      }
    },
    {
      "cell_type": "code",
      "source": [
        "from sklearn.datasets import load_iris\n",
        "from sklearn.model_selection import train_test_split\n",
        "from sklearn.tree import DecisionTreeClassifier\n",
        "from sklearn.metrics import precision_score, recall_score, f1_score, classification_report\n",
        "\n",
        "# Load the Iris dataset\n",
        "iris = load_iris()\n",
        "X, y = iris.data, iris.target\n",
        "\n",
        "# Split the dataset into training (80%) and testing (20%) sets\n",
        "X_train, X_test, y_train, y_test = train_test_split(X, y, test_size=0.2, random_state=42)\n",
        "\n",
        "# Initialize and train the Decision Tree Classifier\n",
        "clf = DecisionTreeClassifier(random_state=42)\n",
        "clf.fit(X_train, y_train)\n",
        "\n",
        "# Make predictions on the test set\n",
        "y_pred = clf.predict(X_test)\n",
        "\n",
        "# Evaluate performance using Precision, Recall, and F1-Score\n",
        "precision = precision_score(y_test, y_pred, average='weighted')\n",
        "recall    = recall_score(y_test, y_pred, average='weighted')\n",
        "f1        = f1_score(y_test, y_pred, average='weighted')\n",
        "\n",
        "print(\"Performance Metrics:\")\n",
        "print(f\"Precision: {precision:.2f}\")\n",
        "print(f\"Recall:    {recall:.2f}\")\n",
        "print(f\"F1-Score:  {f1:.2f}\")\n",
        "\n",
        "# Alternatively, print a detailed classification report\n",
        "print(\"\\nClassification Report:\")\n",
        "print(classification_report(y_test, y_pred, target_names=iris.target_names))\n"
      ],
      "metadata": {
        "colab": {
          "base_uri": "https://localhost:8080/"
        },
        "id": "l8QKVzEHoZcL",
        "outputId": "b1c45200-97cf-4ce1-ab9a-f2d762acce5b"
      },
      "execution_count": 16,
      "outputs": [
        {
          "output_type": "stream",
          "name": "stdout",
          "text": [
            "Performance Metrics:\n",
            "Precision: 1.00\n",
            "Recall:    1.00\n",
            "F1-Score:  1.00\n",
            "\n",
            "Classification Report:\n",
            "              precision    recall  f1-score   support\n",
            "\n",
            "      setosa       1.00      1.00      1.00        10\n",
            "  versicolor       1.00      1.00      1.00         9\n",
            "   virginica       1.00      1.00      1.00        11\n",
            "\n",
            "    accuracy                           1.00        30\n",
            "   macro avg       1.00      1.00      1.00        30\n",
            "weighted avg       1.00      1.00      1.00        30\n",
            "\n"
          ]
        }
      ]
    },
    {
      "cell_type": "markdown",
      "source": [
        "# 29.  Write a Python program to train a Decision Tree Classifier and visualize the confusion matrix using seaborn"
      ],
      "metadata": {
        "id": "1b6q8eHroq9a"
      }
    },
    {
      "cell_type": "code",
      "source": [
        "import seaborn as sns\n",
        "import matplotlib.pyplot as plt\n",
        "from sklearn.datasets import load_iris\n",
        "from sklearn.model_selection import train_test_split\n",
        "from sklearn.tree import DecisionTreeClassifier\n",
        "from sklearn.metrics import confusion_matrix\n",
        "\n",
        "# Load the Iris dataset\n",
        "iris = load_iris()\n",
        "X, y = iris.data, iris.target\n",
        "\n",
        "# Split the dataset (80% training, 20% testing)\n",
        "X_train, X_test, y_train, y_test = train_test_split(X, y, test_size=0.2, random_state=42)\n",
        "\n",
        "# Train the Decision Tree Classifier\n",
        "clf = DecisionTreeClassifier(random_state=42)\n",
        "clf.fit(X_train, y_train)\n",
        "y_pred = clf.predict(X_test)\n",
        "\n",
        "# Compute the confusion matrix\n",
        "cm = confusion_matrix(y_test, y_pred)\n",
        "\n",
        "# Create a heatmap for the confusion matrix\n",
        "plt.figure(figsize=(8, 6))\n",
        "sns.heatmap(cm, annot=True, fmt='d', cmap='Blues',\n",
        "            xticklabels=iris.target_names,\n",
        "            yticklabels=iris.target_names)\n",
        "plt.xlabel('Predicted Label')\n",
        "plt.ylabel('True Label')\n",
        "plt.title('Confusion Matrix for Decision Tree Classifier')\n",
        "plt.show()\n"
      ],
      "metadata": {
        "colab": {
          "base_uri": "https://localhost:8080/",
          "height": 564
        },
        "id": "-hH-MfSUoqTZ",
        "outputId": "19de245d-2cc6-482f-9bbc-52a3b49660a2"
      },
      "execution_count": 17,
      "outputs": [
        {
          "output_type": "display_data",
          "data": {
            "text/plain": [
              "<Figure size 800x600 with 2 Axes>"
            ],
            "image/png": "[encoded data removed]"
          },
          "metadata": {}
        }
      ]
    },
    {
      "cell_type": "markdown",
      "source": [
        "# 30.  Write a Python program to train a Decision Tree Classifier and use GridSearchCV to find the optimal values for max_depth and min_samples_split.\n"
      ],
      "metadata": {
        "id": "7SfHACYbpYAo"
      }
    },
    {
      "cell_type": "code",
      "source": [
        "from sklearn.datasets import load_iris\n",
        "from sklearn.model_selection import train_test_split, GridSearchCV\n",
        "from sklearn.tree import DecisionTreeClassifier\n",
        "from sklearn.metrics import classification_report\n",
        "\n",
        "# Load the Iris dataset\n",
        "iris = load_iris()\n",
        "X, y = iris.data, iris.target\n",
        "\n",
        "# Split data into training and testing sets (80% train, 20% test)\n",
        "X_train, X_test, y_train, y_test = train_test_split(X, y, test_size=0.2, random_state=42)\n",
        "\n",
        "# Define the parameter grid for max_depth and min_samples_split\n",
        "param_grid = {\n",
        "    'max_depth': [None, 2, 3, 4, 5],\n",
        "    'min_samples_split': [2, 3, 4, 5]\n",
        "}\n",
        "\n",
        "# Initialize the Decision Tree Classifier\n",
        "dt_clf = DecisionTreeClassifier(random_state=42)\n",
        "\n",
        "# Set up GridSearchCV with 5-fold cross-validation\n",
        "grid_search = GridSearchCV(dt_clf, param_grid, cv=5, scoring='accuracy')\n",
        "grid_search.fit(X_train, y_train)\n",
        "\n",
        "# Display the best parameters and best score from GridSearchCV\n",
        "print(\"Best Parameters:\", grid_search.best_params_)\n",
        "print(\"Best Cross-Validation Accuracy:\", grid_search.best_score_)\n",
        "\n",
        "# Evaluate the best estimator on the test set\n",
        "best_model = grid_search.best_estimator_\n",
        "y_pred = best_model.predict(X_test)\n",
        "print(\"\\nClassification Report on Test Set:\")\n",
        "print(classification_report(y_test, y_pred, target_names=iris.target_names))\n"
      ],
      "metadata": {
        "colab": {
          "base_uri": "https://localhost:8080/"
        },
        "id": "DODV7hE1pdiT",
        "outputId": "f4924a02-a3dd-4a5d-e060-a3b8ce74bab8"
      },
      "execution_count": 18,
      "outputs": [
        {
          "output_type": "stream",
          "name": "stdout",
          "text": [
            "Best Parameters: {'max_depth': None, 'min_samples_split': 2}\n",
            "Best Cross-Validation Accuracy: 0.9416666666666668\n",
            "\n",
            "Classification Report on Test Set:\n",
            "              precision    recall  f1-score   support\n",
            "\n",
            "      setosa       1.00      1.00      1.00        10\n",
            "  versicolor       1.00      1.00      1.00         9\n",
            "   virginica       1.00      1.00      1.00        11\n",
            "\n",
            "    accuracy                           1.00        30\n",
            "   macro avg       1.00      1.00      1.00        30\n",
            "weighted avg       1.00      1.00      1.00        30\n",
            "\n"
          ]
        }
      ]
    }
  ]
}