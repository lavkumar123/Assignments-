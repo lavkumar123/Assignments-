{
  "cells": [
    {
      "cell_type": "markdown",
      "metadata": {
        "id": "ovkwCefONkPO"
      },
      "source": [
        "# 1. What are the five key concepts of Object-Oriented Programming (OOP)?\n",
        "**Ans:-** The five key concepts of Object-Oriented Programming (OOP) are:\n",
        "\n",
        "1. **Encapsulation**: Bundling data (attributes) and methods (functions) that operate on the data into a single unit, known as a class. It restricts direct access to some of the object's components, which is important for maintaining data integrity.\n",
        "\n",
        "2. **Abstraction**: Hiding the complex implementation details and showing only the essential features of an object. This simplifies the interaction with objects by allowing users to work with high-level interfaces.\n",
        "\n",
        "3. **Inheritance**: Allowing a class to inherit properties and behaviors (methods) from another class. This promotes code reuse and establishes a hierarchical relationship between classes.\n",
        "\n",
        "4. **Polymorphism**: The ability to define multiple methods with the same name but different implementations, depending on the context. It allows objects to be treated as instances of their parent class while using their own specific behaviors.\n",
        "\n",
        "5. **Object/Class**: Objects are instances of classes, and classes act as blueprints defining the attributes and behaviors of the objects. Objects interact with each other to perform operations in a program.\n",
        "\n",
        "These concepts form the foundation of OOP and are used to create modular, reusable, and organized code."
      ]
    },
    {
      "cell_type": "markdown",
      "metadata": {
        "id": "auATdyp0N3nd"
      },
      "source": [
        "# 2. Write a Python class for a `Car` with attributes for `make`, `model`, and `year`. Include a method to display the car's information.\n"
      ]
    },
    {
      "cell_type": "code",
      "execution_count": 1,
      "metadata": {
        "colab": {
          "base_uri": "https://localhost:8080/"
        },
        "id": "j_yumD4FOMcX",
        "outputId": "8cee4038-38ce-4137-d5e3-7bb9e5b19bae"
      },
      "outputs": [
        {
          "name": "stdout",
          "output_type": "stream",
          "text": [
            "Car Information: 2020 Toyota Corolla\n"
          ]
        }
      ],
      "source": [
        "class Car:\n",
        "    def __init__(self, make, model, year):\n",
        "        self.make = make\n",
        "        self.model = model\n",
        "        self.year = year\n",
        "\n",
        "    def display_info(self):\n",
        "        print(f\"Car Information: {self.year} {self.make} {self.model}\")\n",
        "\n",
        "# Creating an instance of the Car class\n",
        "my_car = Car(\"Toyota\", \"Corolla\", 2020)\n",
        "\n",
        "# Displaying the car's information\n",
        "my_car.display_info()\n",
        "\n"
      ]
    },
    {
      "cell_type": "markdown",
      "metadata": {
        "id": "Cj0CpCEjQC8h"
      },
      "source": [
        "# 3. Explain the difference between instance methods and class methods. Provide an example of each.\n",
        "\n",
        "**Ans:-**In Python, **instance methods** and **class methods** are both types of methods that can be defined within a class, but they differ in how they operate and how they are called.\n",
        "\n",
        "### 1. **Instance Methods**:\n",
        "- **Definition**: Instance methods are methods that operate on instances of the class. They take the instance (referred to as `self`) as their first argument.\n",
        "- **Use**: They can access and modify instance attributes specific to the object that invoked the method.\n",
        "- **Example**:\n",
        "\n"
      ]
    },
    {
      "cell_type": "code",
      "execution_count": 2,
      "metadata": {
        "colab": {
          "base_uri": "https://localhost:8080/"
        },
        "id": "ZA0t8IC0QmlD",
        "outputId": "38c5f369-188c-4f6b-f8a6-3dcec47410b0"
      },
      "outputs": [
        {
          "name": "stdout",
          "output_type": "stream",
          "text": [
            "Buddy says Woof!\n"
          ]
        }
      ],
      "source": [
        "class Dog:\n",
        "    def __init__(self, name, breed):\n",
        "        self.name = name\n",
        "        self.breed = breed\n",
        "\n",
        "    # Instance method\n",
        "    def bark(self):\n",
        "        return f\"{self.name} says Woof!\"\n",
        "\n",
        "# Example usage\n",
        "my_dog = Dog(\"Buddy\", \"Golden Retriever\")\n",
        "print(my_dog.bark())  # Output: Buddy says Woof!\n"
      ]
    },
    {
      "cell_type": "markdown",
      "metadata": {
        "id": "8fQzw3MPQ0Mq"
      },
      "source": [
        "\n",
        "\n",
        "In this case, the `bark()` method is an instance method because it uses `self` to access the `name` attribute of the specific instance (`my_dog`).\n",
        "\n",
        "---\n",
        "\n",
        "### 2. **Class Methods**:\n",
        "- **Definition**: Class methods are methods that operate on the class itself, not on instances of the class. They take the class (referred to as `cls`) as their first argument and are decorated with `@classmethod`.\n",
        "- **Use**: They can modify class-level attributes that are shared among all instances of the class.\n",
        "- **Example**:\n",
        "\n"
      ]
    },
    {
      "cell_type": "code",
      "execution_count": 3,
      "metadata": {
        "colab": {
          "base_uri": "https://localhost:8080/"
        },
        "id": "3wHzvbjwROlr",
        "outputId": "bb84328d-a5d5-4db2-c59c-b19287687fa7"
      },
      "outputs": [
        {
          "name": "stdout",
          "output_type": "stream",
          "text": [
            "All dogs are of species: Canis lupus familiaris\n"
          ]
        }
      ],
      "source": [
        "class Dog:\n",
        "    species = \"Canis lupus familiaris\"  # Class attribute\n",
        "\n",
        "    def __init__(self, name, breed):\n",
        "        self.name = name\n",
        "        self.breed = breed\n",
        "\n",
        "    @classmethod\n",
        "    def common_species(cls):\n",
        "        return f\"All dogs are of species: {cls.species}\"\n",
        "\n",
        "# Example usage\n",
        "print(Dog.common_species())  # Output: All dogs are of species: Canis lupus familiaris\n"
      ]
    },
    {
      "cell_type": "markdown",
      "metadata": {
        "id": "e-oOvjBsRhB2"
      },
      "source": [
        "\n",
        "\n",
        "In this example, `common_species()` is a class method because it operates on the class (`Dog`) itself and accesses the class attribute `species`, rather than instance-specific attributes.\n",
        "\n",
        "---\n",
        "\n",
        "### Key Differences:\n",
        "- **Instance Methods**:\n",
        "  - Operate on individual objects (instances) of a class.\n",
        "  - Use `self` to access instance-specific data.\n",
        "  - Can access both instance and class attributes.\n",
        "\n",
        "- **Class Methods**:\n",
        "  - Operate on the class itself, not instances.\n",
        "  - Use `cls` to access class-level data.\n",
        "  - Typically used to modify or interact with class-level attributes or factory methods."
      ]
    },
    {
      "cell_type": "markdown",
      "metadata": {
        "id": "O-suy5MpTwcu"
      },
      "source": [
        "# 4. How does Python implement method overloading? Give an example.\n",
        "**Ans:-**Python **does not natively support method overloading** in the same way that languages like Java or C++ do. In Python, if two methods with the same name are defined in a class, the most recent definition will overwrite the previous ones.\n",
        "\n",
        "However, Python achieves a similar result using techniques like:\n",
        "- **Default arguments**\n",
        "- **Variable-length arguments** (`*args` and `**kwargs`)\n",
        "\n",
        "These allow a single method to accept a varying number of arguments and handle them accordingly.\n",
        "\n",
        "### Example of Simulating Method Overloading Using Default and Variable-Length Arguments:\n",
        "\n"
      ]
    },
    {
      "cell_type": "code",
      "execution_count": 4,
      "metadata": {
        "colab": {
          "base_uri": "https://localhost:8080/"
        },
        "id": "YS8n9D1CUeBm",
        "outputId": "652f4f6f-0008-411f-cfed-4ee61abb6a78"
      },
      "outputs": [
        {
          "name": "stdout",
          "output_type": "stream",
          "text": [
            "15\n",
            "30\n",
            "5\n"
          ]
        }
      ],
      "source": [
        "class MathOperations:\n",
        "    def add(self, a, b=0, c=0):\n",
        "        return a + b + c\n",
        "\n",
        "# Example usage\n",
        "math_op = MathOperations()\n",
        "\n",
        "# Adding two numbers\n",
        "print(math_op.add(5, 10))  # Output: 15\n",
        "\n",
        "# Adding three numbers\n",
        "print(math_op.add(5, 10, 15))  # Output: 30\n",
        "\n",
        "# Adding one number (the rest default to 0)\n",
        "print(math_op.add(5))  # Output: 5\n"
      ]
    },
    {
      "cell_type": "markdown",
      "metadata": {
        "id": "S0MV3v5fUoEp"
      },
      "source": [
        "\n",
        "\n",
        "\n",
        "### Explanation:\n",
        "- The `add` method can accept one, two, or three arguments due to default values.\n",
        "- This allows us to simulate method overloading by adjusting the number of arguments passed.\n",
        "\n",
        "### Using Variable-Length Arguments:\n",
        "\n"
      ]
    },
    {
      "cell_type": "code",
      "execution_count": 5,
      "metadata": {
        "colab": {
          "base_uri": "https://localhost:8080/"
        },
        "id": "GEiRswBGU3yf",
        "outputId": "266720eb-1f5e-4b2e-e9fb-27917762f7cc"
      },
      "outputs": [
        {
          "name": "stdout",
          "output_type": "stream",
          "text": [
            "15\n",
            "30\n",
            "50\n"
          ]
        }
      ],
      "source": [
        "class MathOperations:\n",
        "    def add(self, *args):\n",
        "        return sum(args)\n",
        "\n",
        "# Example usage\n",
        "math_op = MathOperations()\n",
        "\n",
        "# Adding two numbers\n",
        "print(math_op.add(5, 10))  # Output: 15\n",
        "\n",
        "# Adding three numbers\n",
        "print(math_op.add(5, 10, 15))  # Output: 30\n",
        "\n",
        "# Adding four numbers\n",
        "print(math_op.add(5, 10, 15, 20))  # Output: 50\n"
      ]
    },
    {
      "cell_type": "markdown",
      "metadata": {
        "id": "HOpTrhKAVC3z"
      },
      "source": [
        "\n",
        "\n",
        "### Explanation:\n",
        "- The `*args` allows the method to accept any number of arguments.\n",
        "- This simulates overloading by letting the method handle a flexible number of arguments and compute the sum.\n",
        "\n",
        "### Conclusion:\n",
        "Although Python doesn’t have formal method overloading, you can achieve similar functionality using default parameters and variable-length arguments to handle different cases with a single method definition."
      ]
    },
    {
      "cell_type": "markdown",
      "metadata": {
        "id": "-Sh6beDuVLRL"
      },
      "source": [
        "# 5. What are the three types of access modifiers in Python? How are they denoted?\n",
        "**Ans:-** In Python, access modifiers control the visibility and accessibility of class attributes and methods. Python does not have strict access control like some other languages (e.g., private, protected, public in Java). Instead, Python uses naming conventions to indicate the intended level of access. There are three types of access modifiers:\n",
        "\n",
        "### 1. **Public**:\n",
        "- **Definition**: Public attributes and methods are accessible from anywhere, both inside and outside the class.\n",
        "- **How it's denoted**: No special notation is needed; by default, all class members are public.\n",
        "  \n",
        "  **Example**:\n"
      ]
    },
    {
      "cell_type": "code",
      "execution_count": 6,
      "metadata": {
        "colab": {
          "base_uri": "https://localhost:8080/"
        },
        "id": "Pm27hpwoV2ZJ",
        "outputId": "b6aaba5a-e42a-497e-bb6a-577ca21a1bb1"
      },
      "outputs": [
        {
          "name": "stdout",
          "output_type": "stream",
          "text": [
            "Toyota\n",
            "Toyota Camry\n"
          ]
        }
      ],
      "source": [
        "class Car:\n",
        "    def __init__(self, make, model):\n",
        "        self.make = make  # Public attribute\n",
        "        self.model = model  # Public attribute\n",
        "\n",
        "    def display_info(self):  # Public method\n",
        "        print(f\"{self.make} {self.model}\")\n",
        "\n",
        "car = Car(\"Toyota\", \"Camry\")\n",
        "print(car.make)  # Accessible from outside the class\n",
        "car.display_info()  # Accessible from outside the class\n"
      ]
    },
    {
      "cell_type": "markdown",
      "metadata": {
        "id": "iXn6aR6TWIFl"
      },
      "source": [
        "\n",
        "\n",
        "### 2. **Protected**:\n",
        "- **Definition**: Protected attributes and methods are intended to be accessible only within the class and its subclasses. While they can technically be accessed from outside, it's discouraged by convention.\n",
        "- **How it's denoted**: By prefixing the attribute or method name with a single underscore (`_`).\n",
        "\n",
        "  **Example**:\n",
        "  "
      ]
    },
    {
      "cell_type": "code",
      "execution_count": 7,
      "metadata": {
        "colab": {
          "base_uri": "https://localhost:8080/"
        },
        "id": "0persS5uWQOn",
        "outputId": "59a7e8ab-12ac-4b06-e238-a308f2b96489"
      },
      "outputs": [
        {
          "name": "stdout",
          "output_type": "stream",
          "text": [
            "Toyota\n",
            "Toyota Camry\n"
          ]
        }
      ],
      "source": [
        "class Car:\n",
        "    def __init__(self, make, model):\n",
        "        self._make = make  # Protected attribute\n",
        "        self._model = model  # Protected attribute\n",
        "\n",
        "    def _display_info(self):  # Protected method\n",
        "        print(f\"{self._make} {self._model}\")\n",
        "\n",
        "car = Car(\"Toyota\", \"Camry\")\n",
        "print(car._make)  # Discouraged, but accessible\n",
        "car._display_info()  # Discouraged, but accessible\n"
      ]
    },
    {
      "cell_type": "markdown",
      "metadata": {
        "id": "MWj6sCpwWmfG"
      },
      "source": [
        "\n",
        "\n",
        "### 3. **Private**:\n",
        "- **Definition**: Private attributes and methods are intended to be fully inaccessible from outside the class. They are only accessible within the class itself.\n",
        "- **How it's denoted**: By prefixing the attribute or method name with a double underscore (`__`).\n",
        "\n",
        "  **Example**:\n"
      ]
    },
    {
      "cell_type": "code",
      "execution_count": 8,
      "metadata": {
        "colab": {
          "base_uri": "https://localhost:8080/"
        },
        "id": "s3rgDrNTWwNe",
        "outputId": "0c259cfe-f2d7-430b-81db-f0515cad4624"
      },
      "outputs": [
        {
          "name": "stdout",
          "output_type": "stream",
          "text": [
            "Toyota Camry\n"
          ]
        }
      ],
      "source": [
        "class Car:\n",
        "    def __init__(self, make, model):\n",
        "        self.__make = make  # Private attribute\n",
        "        self.__model = model  # Private attribute\n",
        "\n",
        "    def __display_info(self):  # Private method\n",
        "        print(f\"{self.__make} {self.__model}\")\n",
        "\n",
        "    def public_method(self):\n",
        "        self.__display_info()  # Private method accessible inside the class\n",
        "\n",
        "car = Car(\"Toyota\", \"Camry\")\n",
        "# print(car.__make)  # Error: Not accessible from outside\n",
        "car.public_method()  # Private method is called indirectly via a public method\n"
      ]
    },
    {
      "cell_type": "markdown",
      "metadata": {
        "id": "25sw8Kn5XmQe"
      },
      "source": [
        "\n",
        "\n",
        "\n",
        "\n",
        "### Summary:\n",
        "- **Public**: Accessible everywhere. (No prefix)\n",
        "- **Protected**: Intended for use within the class and subclasses. (Single underscore `_`)\n",
        "- **Private**: Intended for use only within the class. (Double underscore `__`)"
      ]
    },
    {
      "cell_type": "markdown",
      "metadata": {
        "id": "xsPVZcpDXvNg"
      },
      "source": [
        "# 6. Describe the five types of inheritance in Python. Provide a simple example of multiple inheritance.\n",
        "**Ans:-** In Python, inheritance allows a class to inherit attributes and methods from another class. There are five types of inheritance in Python:\n",
        "\n",
        "### 1. **Single Inheritance**:\n",
        "- **Definition**: A single class inherits from one base class.\n",
        "- **Example**:\n"
      ]
    },
    {
      "cell_type": "code",
      "execution_count": 9,
      "metadata": {
        "colab": {
          "base_uri": "https://localhost:8080/"
        },
        "id": "AgsdmL53Y2LW",
        "outputId": "7bdf8194-69de-42bf-9230-68ff7c6048b0"
      },
      "outputs": [
        {
          "name": "stdout",
          "output_type": "stream",
          "text": [
            "Parent Class\n"
          ]
        }
      ],
      "source": [
        "class Parent:\n",
        "    def show(self):\n",
        "        print(\"Parent Class\")\n",
        "\n",
        "class Child(Parent):\n",
        "    pass\n",
        "\n",
        "child = Child()\n",
        "child.show()  # Output: Parent Class\n"
      ]
    },
    {
      "cell_type": "markdown",
      "metadata": {
        "id": "oPHQOaBQY9w9"
      },
      "source": [
        "\n",
        "\n",
        "### 2. **Multiple Inheritance**:\n",
        "- **Definition**: A class inherits from more than one base class.\n",
        "- **Example**:\n"
      ]
    },
    {
      "cell_type": "code",
      "execution_count": 10,
      "metadata": {
        "colab": {
          "base_uri": "https://localhost:8080/"
        },
        "id": "T13HwP6SZNTw",
        "outputId": "e56b9f96-4aa0-48e0-ffb2-871d9576c192"
      },
      "outputs": [
        {
          "name": "stdout",
          "output_type": "stream",
          "text": [
            "Father Class\n",
            "Mother Class\n"
          ]
        }
      ],
      "source": [
        "class Father:\n",
        "    def show_father(self):\n",
        "        print(\"Father Class\")\n",
        "\n",
        "class Mother:\n",
        "    def show_mother(self):\n",
        "        print(\"Mother Class\")\n",
        "\n",
        "class Child(Father, Mother):\n",
        "    pass\n",
        "\n",
        "child = Child()\n",
        "child.show_father()  # Output: Father Class\n",
        "child.show_mother()  # Output: Mother Class\n"
      ]
    },
    {
      "cell_type": "markdown",
      "metadata": {
        "id": "YbYvJJX5ZTDL"
      },
      "source": [
        "\n",
        "\n",
        "### 3. **Multilevel Inheritance**:\n",
        "- **Definition**: A class is derived from another class, which is also derived from another class, forming a multi-level chain of inheritance.\n",
        "- **Example**:\n",
        "\n",
        "\n",
        "\n",
        "\n"
      ]
    },
    {
      "cell_type": "code",
      "execution_count": 11,
      "metadata": {
        "colab": {
          "base_uri": "https://localhost:8080/"
        },
        "id": "8R96FBJUZjHw",
        "outputId": "a8bb780b-c7fb-41bd-eebf-a17153b3ddac"
      },
      "outputs": [
        {
          "name": "stdout",
          "output_type": "stream",
          "text": [
            "Grandparent Class\n"
          ]
        }
      ],
      "source": [
        "class Grandparent:\n",
        "    def show_grandparent(self):\n",
        "        print(\"Grandparent Class\")\n",
        "\n",
        "class Parent(Grandparent):\n",
        "    pass\n",
        "\n",
        "class Child(Parent):\n",
        "    pass\n",
        "\n",
        "child = Child()\n",
        "child.show_grandparent()  # Output: Grandparent Class\n"
      ]
    },
    {
      "cell_type": "markdown",
      "metadata": {
        "id": "OwUzpd0oZvyq"
      },
      "source": [
        "\n",
        "\n",
        "### 4. **Hierarchical Inheritance**:\n",
        "- **Definition**: Multiple classes inherit from the same base class.\n",
        "- **Example**:\n",
        "\n"
      ]
    },
    {
      "cell_type": "code",
      "execution_count": 12,
      "metadata": {
        "colab": {
          "base_uri": "https://localhost:8080/"
        },
        "id": "-Wf9QY_QZ9BA",
        "outputId": "753e109d-93b3-4fa4-ee28-e188f346b018"
      },
      "outputs": [
        {
          "name": "stdout",
          "output_type": "stream",
          "text": [
            "Parent Class\n",
            "Parent Class\n"
          ]
        }
      ],
      "source": [
        "class Parent:\n",
        "    def show(self):\n",
        "        print(\"Parent Class\")\n",
        "\n",
        "class Child1(Parent):\n",
        "    pass\n",
        "\n",
        "class Child2(Parent):\n",
        "    pass\n",
        "\n",
        "child1 = Child1()\n",
        "child2 = Child2()\n",
        "child1.show()  # Output: Parent Class\n",
        "child2.show()  # Output: Parent Class\n"
      ]
    },
    {
      "cell_type": "markdown",
      "metadata": {
        "id": "kHej6xBZaHhv"
      },
      "source": [
        "\n",
        "\n",
        "### 5. **Hybrid Inheritance**:\n",
        "- **Definition**: A combination of more than one type of inheritance. It typically involves mixing multiple inheritance types such as multilevel and hierarchical.\n",
        "- **Example**:\n",
        "\n",
        "\n",
        "\n"
      ]
    },
    {
      "cell_type": "code",
      "execution_count": 13,
      "metadata": {
        "colab": {
          "base_uri": "https://localhost:8080/"
        },
        "id": "y9L5Q43kaVew",
        "outputId": "6181771e-a0db-4aac-f11f-dba23148f990"
      },
      "outputs": [
        {
          "name": "stdout",
          "output_type": "stream",
          "text": [
            "Parent Class\n"
          ]
        }
      ],
      "source": [
        "class Parent:\n",
        "    def show_parent(self):\n",
        "        print(\"Parent Class\")\n",
        "\n",
        "class Child1(Parent):\n",
        "    pass\n",
        "\n",
        "class Child2(Parent):\n",
        "    pass\n",
        "\n",
        "class GrandChild(Child1, Child2):\n",
        "    pass\n",
        "\n",
        "grandchild = GrandChild()\n",
        "grandchild.show_parent()  # Output: Parent Class\n"
      ]
    },
    {
      "cell_type": "markdown",
      "metadata": {
        "id": "coxmtYv9aezK"
      },
      "source": [
        "# 7. What is the Method Resolution Order (MRO) in Python? How can you retrieve it programmatically?\n",
        "**Ans:-**\n",
        "\n",
        " ### Method Resolution Order (MRO) in Python:\n",
        "\n",
        "The **Method Resolution Order (MRO)** is the order in which Python looks for a method or attribute in a class hierarchy. It’s especially important in the context of **multiple inheritance**, where a class inherits from multiple parent classes. The MRO determines which parent class is searched first when a method is called.\n",
        "\n",
        "In Python, the MRO follows the **C3 Linearization** (also known as the C3 superclass linearization algorithm), which ensures that:\n",
        "- A class is checked before its parents.\n",
        "- Parent classes are checked in a left-to-right order as specified in the inheritance.\n",
        "- Each class is only checked once, even if it appears multiple times in the hierarchy.\n",
        "\n",
        "### Example of MRO:\n",
        "\n"
      ]
    },
    {
      "cell_type": "code",
      "execution_count": 14,
      "metadata": {
        "colab": {
          "base_uri": "https://localhost:8080/"
        },
        "id": "UbgITLYNbH3a",
        "outputId": "2f5a9b57-749b-4366-ba02-67dc0953b27b"
      },
      "outputs": [
        {
          "name": "stdout",
          "output_type": "stream",
          "text": [
            "Method in B\n"
          ]
        }
      ],
      "source": [
        "class A:\n",
        "    def method(self):\n",
        "        print(\"Method in A\")\n",
        "\n",
        "class B(A):\n",
        "    def method(self):\n",
        "        print(\"Method in B\")\n",
        "\n",
        "class C(A):\n",
        "    def method(self):\n",
        "        print(\"Method in C\")\n",
        "\n",
        "class D(B, C):\n",
        "    pass\n",
        "\n",
        "# Example usage\n",
        "d = D()\n",
        "d.method()  # Output: Method in B\n"
      ]
    },
    {
      "cell_type": "markdown",
      "metadata": {
        "id": "Z7ALSFjpbl83"
      },
      "source": [
        "\n",
        "\n",
        "### Explanation:\n",
        "- When calling `d.method()`, Python checks the method resolution order to decide whether to use the `method()` from class `B` or `C`. Since `B` appears before `C` in the inheritance list (`class D(B, C)`), it uses the `method()` from `B`.\n",
        "\n",
        "---\n",
        "\n",
        "### Retrieving the MRO Programmatically:\n",
        "\n",
        "You can retrieve the MRO of a class in two ways:\n",
        "\n",
        "1. **Using the `__mro__` attribute**:\n",
        "   - This is an attribute that stores the method resolution order as a tuple.\n",
        "   \n",
        "   "
      ]
    },
    {
      "cell_type": "code",
      "execution_count": 15,
      "metadata": {
        "colab": {
          "base_uri": "https://localhost:8080/"
        },
        "id": "9KWn-UhEb0Yi",
        "outputId": "b2c33375-ce0f-43fc-efeb-0cf981629a83"
      },
      "outputs": [
        {
          "name": "stdout",
          "output_type": "stream",
          "text": [
            "(<class '__main__.D'>, <class '__main__.B'>, <class '__main__.C'>, <class '__main__.A'>, <class 'object'>)\n"
          ]
        }
      ],
      "source": [
        "print(D.__mro__)\n"
      ]
    },
    {
      "cell_type": "markdown",
      "metadata": {
        "id": "dlEomhRWb7zF"
      },
      "source": [
        "\n",
        "\n",
        "2. **Using the `mro()` method**:\n",
        "   - This is a method that returns a list of classes in the order they are searched for methods.\n",
        "   \n",
        "   "
      ]
    },
    {
      "cell_type": "code",
      "execution_count": 16,
      "metadata": {
        "colab": {
          "base_uri": "https://localhost:8080/"
        },
        "id": "dhreH2mlcM2Y",
        "outputId": "bf8d4104-ccea-4e35-ada5-275bd1ae2ffd"
      },
      "outputs": [
        {
          "name": "stdout",
          "output_type": "stream",
          "text": [
            "[<class '__main__.D'>, <class '__main__.B'>, <class '__main__.C'>, <class '__main__.A'>, <class 'object'>]\n"
          ]
        }
      ],
      "source": [
        "print(D.mro())\n"
      ]
    },
    {
      "cell_type": "markdown",
      "metadata": {
        "id": "fzLwcaywcUwy"
      },
      "source": [
        "\n",
        "\n",
        "### Explanation:\n",
        "- In both cases, the MRO shows that Python will first look in `D`, then `B`, followed by `C`, then `A`, and finally in `object` (the base class of all Python classes).\n",
        "\n",
        "---\n",
        "\n",
        "### Why MRO is Important:\n",
        "MRO ensures that:\n",
        "- Methods are resolved consistently in cases of multiple inheritance.\n",
        "- It avoids issues like the **diamond problem**, where ambiguity arises about which parent method to call when the inheritance structure forms a diamond shape.\n",
        "\n"
      ]
    },
    {
      "cell_type": "markdown",
      "metadata": {
        "id": "YjfTqrPacZOn"
      },
      "source": [
        "# 8. Create an abstract base class Shape with an abstract method area(). Then create two subclasses `Circle` and `Rectangle` that implement the `area()` method.\n",
        "\n",
        "\n",
        "\n",
        "\n",
        "\n"
      ]
    },
    {
      "cell_type": "code",
      "execution_count": 17,
      "metadata": {
        "colab": {
          "base_uri": "https://localhost:8080/"
        },
        "id": "hi4fTZBeeChe",
        "outputId": "5c1bb174-8d04-4a02-e866-dd1be27c8e19"
      },
      "outputs": [
        {
          "name": "stdout",
          "output_type": "stream",
          "text": [
            "Circle area: 78.53981633974483\n",
            "Rectangle area: 24\n"
          ]
        }
      ],
      "source": [
        "from abc import ABC, abstractmethod\n",
        "import math\n",
        "\n",
        "# Abstract base class\n",
        "class Shape(ABC):\n",
        "    @abstractmethod\n",
        "    def area(self):\n",
        "        pass\n",
        "\n",
        "# Circle class implementing area method\n",
        "class Circle(Shape):\n",
        "    def __init__(self, radius):\n",
        "        self.radius = radius\n",
        "\n",
        "    def area(self):\n",
        "        return math.pi * (self.radius ** 2)\n",
        "\n",
        "# Rectangle class implementing area method\n",
        "class Rectangle(Shape):\n",
        "    def __init__(self, length, width):\n",
        "        self.length = length\n",
        "        self.width = width\n",
        "\n",
        "    def area(self):\n",
        "        return self.length * self.width\n",
        "\n",
        "# Example usage\n",
        "circle = Circle(5)\n",
        "print(f\"Circle area: {circle.area()}\")  # Output: Circle area: 78.53981633974483\n",
        "\n",
        "rectangle = Rectangle(4, 6)\n",
        "print(f\"Rectangle area: {rectangle.area()}\")  # Output: Rectangle area: 24\n"
      ]
    },
    {
      "cell_type": "markdown",
      "metadata": {
        "id": "H6y7tHQlfA8g"
      },
      "source": [
        "# 9. Demonstrate polymorphism by creating a function that can work with different shape objects to calculate and print their areas.\n"
      ]
    },
    {
      "cell_type": "code",
      "execution_count": 18,
      "metadata": {
        "colab": {
          "base_uri": "https://localhost:8080/"
        },
        "id": "xVPBqXhKfKhh",
        "outputId": "019764d6-38eb-4223-c310-da11edb91180"
      },
      "outputs": [
        {
          "name": "stdout",
          "output_type": "stream",
          "text": [
            "The area of the Circle is: 78.53981633974483\n",
            "The area of the Rectangle is: 24\n",
            "The area of the Triangle is: 17.5\n"
          ]
        }
      ],
      "source": [
        "from abc import ABC, abstractmethod\n",
        "import math\n",
        "\n",
        "# Abstract base class\n",
        "class Shape(ABC):\n",
        "    @abstractmethod\n",
        "    def area(self):\n",
        "        pass\n",
        "\n",
        "# Circle class\n",
        "class Circle(Shape):\n",
        "    def __init__(self, radius):\n",
        "        self.radius = radius\n",
        "\n",
        "    def area(self):\n",
        "        return math.pi * (self.radius ** 2)\n",
        "\n",
        "# Rectangle class\n",
        "class Rectangle(Shape):\n",
        "    def __init__(self, length, width):\n",
        "        self.length = length\n",
        "        self.width = width\n",
        "\n",
        "    def area(self):\n",
        "        return self.length * self.width\n",
        "\n",
        "# Triangle class (added to demonstrate polymorphism further)\n",
        "class Triangle(Shape):\n",
        "    def __init__(self, base, height):\n",
        "        self.base = base\n",
        "        self.height = height\n",
        "\n",
        "    def area(self):\n",
        "        return 0.5 * self.base * self.height\n",
        "\n",
        "# Function demonstrating polymorphism\n",
        "def print_area(shape):\n",
        "    print(f\"The area of the {shape.__class__.__name__} is: {shape.area()}\")\n",
        "\n",
        "# Example usage\n",
        "circle = Circle(5)\n",
        "rectangle = Rectangle(4, 6)\n",
        "triangle = Triangle(5, 7)\n",
        "\n",
        "# Calling the same function with different types of shape objects\n",
        "print_area(circle)     # Output: The area of the Circle is: 78.53981633974483\n",
        "print_area(rectangle)  # Output: The area of the Rectangle is: 24\n",
        "print_area(triangle)   # Output: The area of the Triangle is: 17.5\n"
      ]
    },
    {
      "cell_type": "markdown",
      "metadata": {
        "id": "bxDyTwW-gEuN"
      },
      "source": [
        "# 10. Implement encapsulation in a `BankAccount` class with private attributes for `balance` and `account_number`. Include methods for deposit, withdrawal, and balance inquiry.\n"
      ]
    },
    {
      "cell_type": "code",
      "execution_count": 19,
      "metadata": {
        "colab": {
          "base_uri": "https://localhost:8080/"
        },
        "id": "u2WihkKGgYXB",
        "outputId": "288ba0bd-aa2f-44ae-a8ca-ce55de80f16c"
      },
      "outputs": [
        {
          "name": "stdout",
          "output_type": "stream",
          "text": [
            "Current balance: 500\n",
            "Deposited: 200. New balance is: 700\n",
            "Withdrew: 100. New balance is: 600\n",
            "Insufficient balance or invalid amount.\n",
            "Account number: 123456789\n"
          ]
        }
      ],
      "source": [
        "class BankAccount:\n",
        "    def __init__(self, account_number, balance=0):\n",
        "        # Private attributes\n",
        "        self.__account_number = account_number\n",
        "        self.__balance = balance\n",
        "\n",
        "    # Public method to deposit money\n",
        "    def deposit(self, amount):\n",
        "        if amount > 0:\n",
        "            self.__balance += amount\n",
        "            print(f\"Deposited: {amount}. New balance is: {self.__balance}\")\n",
        "        else:\n",
        "            print(\"Deposit amount must be positive.\")\n",
        "\n",
        "    # Public method to withdraw money\n",
        "    def withdraw(self, amount):\n",
        "        if 0 < amount <= self.__balance:\n",
        "            self.__balance -= amount\n",
        "            print(f\"Withdrew: {amount}. New balance is: {self.__balance}\")\n",
        "        else:\n",
        "            print(\"Insufficient balance or invalid amount.\")\n",
        "\n",
        "    # Public method to check the balance\n",
        "    def check_balance(self):\n",
        "        print(f\"Current balance: {self.__balance}\")\n",
        "\n",
        "    # Public method to get the account number (since it's private)\n",
        "    def get_account_number(self):\n",
        "        return self.__account_number\n",
        "\n",
        "# Example usage\n",
        "account = BankAccount(\"123456789\", 500)  # Account initialized with 500 balance\n",
        "\n",
        "# Checking balance\n",
        "account.check_balance()  # Output: Current balance: 500\n",
        "\n",
        "# Depositing money\n",
        "account.deposit(200)      # Output: Deposited: 200. New balance is: 700\n",
        "\n",
        "# Withdrawing money\n",
        "account.withdraw(100)     # Output: Withdrew: 100. New balance is: 600\n",
        "\n",
        "# Trying to withdraw more than available balance\n",
        "account.withdraw(1000)    # Output: Insufficient balance or invalid amount.\n",
        "\n",
        "# Accessing the private account number via a public method\n",
        "print(f\"Account number: {account.get_account_number()}\")  # Output: Account number: 123456789\n"
      ]
    },
    {
      "cell_type": "markdown",
      "metadata": {
        "id": "U7Fp87qChBmd"
      },
      "source": [
        "# 11. Write a class that overrides the `__str__` and `__add__` magic methods. What will these methods allow you to do?\n"
      ]
    },
    {
      "cell_type": "code",
      "execution_count": 20,
      "metadata": {
        "colab": {
          "base_uri": "https://localhost:8080/"
        },
        "id": "e1pfrBmJhQLA",
        "outputId": "cc25732b-ac4b-45d9-e97d-5e40387a0c45"
      },
      "outputs": [
        {
          "name": "stdout",
          "output_type": "stream",
          "text": [
            "Vector(2, 3)\n",
            "Vector(7, 10)\n"
          ]
        }
      ],
      "source": [
        "class Vector:\n",
        "    def __init__(self, x, y):\n",
        "        self.x = x\n",
        "        self.y = y\n",
        "\n",
        "    def __str__(self):\n",
        "        # This method defines how the object will be represented as a string\n",
        "        return f\"Vector({self.x}, {self.y})\"\n",
        "\n",
        "    def __add__(self, other):\n",
        "        # This method allows adding two Vector objects\n",
        "        if isinstance(other, Vector):\n",
        "            return Vector(self.x + other.x, self.y + other.y)\n",
        "        return NotImplemented\n",
        "\n",
        "# Example usage\n",
        "vector1 = Vector(2, 3)\n",
        "vector2 = Vector(5, 7)\n",
        "\n",
        "# Printing the vector using the overridden __str__ method\n",
        "print(vector1)  # Output: Vector(2, 3)\n",
        "\n",
        "# Adding two vectors using the overridden __add__ method\n",
        "vector3 = vector1 + vector2\n",
        "print(vector3)  # Output: Vector(7, 10)\n"
      ]
    },
    {
      "cell_type": "markdown",
      "metadata": {
        "id": "qyZ1OruthvKp"
      },
      "source": [
        "# 12. Create a decorator that measures and prints the execution time of a function."
      ]
    },
    {
      "cell_type": "code",
      "execution_count": 21,
      "metadata": {
        "colab": {
          "base_uri": "https://localhost:8080/"
        },
        "id": "KeoaubmEh-g0",
        "outputId": "e5080f45-132f-47ea-8d25-d87419468dc7"
      },
      "outputs": [
        {
          "name": "stdout",
          "output_type": "stream",
          "text": [
            "Execution time of example_function: 0.037996 seconds\n",
            "Result: 499999500000\n"
          ]
        }
      ],
      "source": [
        "import time\n",
        "\n",
        "def execution_time_decorator(func):\n",
        "    def wrapper(*args, **kwargs):\n",
        "        start_time = time.time()  # Record the start time\n",
        "        result = func(*args, **kwargs)  # Call the original function\n",
        "        end_time = time.time()  # Record the end time\n",
        "        execution_time = end_time - start_time  # Calculate the execution time\n",
        "        print(f\"Execution time of {func.__name__}: {execution_time:.6f} seconds\")\n",
        "        return result  # Return the result of the original function\n",
        "    return wrapper\n",
        "\n",
        "# Example usage of the decorator\n",
        "\n",
        "@execution_time_decorator\n",
        "def example_function(n):\n",
        "    \"\"\"A simple function that calculates the sum of the first n numbers.\"\"\"\n",
        "    total = sum(range(n))\n",
        "    return total\n",
        "\n",
        "# Calling the decorated function\n",
        "result = example_function(1000000)\n",
        "print(f\"Result: {result}\")  # Output: Result: 499999500000\n"
      ]
    },
    {
      "cell_type": "markdown",
      "metadata": {
        "id": "rEBwxFaoZ5Hl"
      },
      "source": [
        "# 13. Explain the concept of the Diamond Problem in multiple inheritance. How does Python resolve it?\n",
        "**Ans:-** The **Diamond Problem** is a common issue in object-oriented programming that occurs with multiple inheritance. It arises when a class inherits from two classes that have a common base class. This can lead to ambiguity when a method or attribute is called, as it is unclear which path of inheritance should be followed to resolve the method or attribute.\n",
        "\n",
        "### Example of the Diamond Problem\n",
        "\n",
        "Consider the following class hierarchy:\n",
        "\n",
        "```\n",
        "       A\n",
        "      / \\\n",
        "     B   C\n",
        "      \\ /\n",
        "       D\n",
        "```\n",
        "\n",
        "- **Class A** is the base class.\n",
        "- **Class B** and **Class C** both inherit from **Class A**.\n",
        "- **Class D** inherits from both **Class B** and **Class C**.\n",
        "\n",
        "When a method or attribute is accessed in **Class D**, Python must determine whether to inherit from **Class B** or **Class C**. This situation creates ambiguity and is referred to as the Diamond Problem.\n",
        "\n",
        "### How Python Resolves the Diamond Problem\n",
        "\n",
        "Python uses a method resolution order (MRO) to determine the order in which classes are searched when calling a method or accessing an attribute. Python follows the **C3 linearization** algorithm to establish a linear order of classes. This approach ensures that:\n",
        "1. The base class is resolved before its derived classes.\n",
        "2. The order of classes is preserved.\n",
        "3. Each class appears only once in the order.\n",
        "\n",
        "### Example Implementation\n",
        "\n",
        "Here's a practical example demonstrating the Diamond Problem and how Python resolves it:\n",
        "\n"
      ]
    },
    {
      "cell_type": "code",
      "execution_count": 22,
      "metadata": {
        "colab": {
          "base_uri": "https://localhost:8080/"
        },
        "id": "m8nkCHPXaf2r",
        "outputId": "1df5bf8f-4416-4355-b125-1f4f19ba9674"
      },
      "outputs": [
        {
          "name": "stdout",
          "output_type": "stream",
          "text": [
            "Hello from B\n",
            "[<class '__main__.D'>, <class '__main__.B'>, <class '__main__.C'>, <class '__main__.A'>, <class 'object'>]\n"
          ]
        }
      ],
      "source": [
        "class A:\n",
        "    def greet(self):\n",
        "        return \"Hello from A\"\n",
        "\n",
        "class B(A):\n",
        "    def greet(self):\n",
        "        return \"Hello from B\"\n",
        "\n",
        "class C(A):\n",
        "    def greet(self):\n",
        "        return \"Hello from C\"\n",
        "\n",
        "class D(B, C):\n",
        "    pass\n",
        "\n",
        "# Example usage\n",
        "d = D()\n",
        "print(d.greet())  # Output: Hello from B\n",
        "\n",
        "# Checking the method resolution order\n",
        "print(D.mro())\n"
      ]
    },
    {
      "cell_type": "markdown",
      "metadata": {
        "id": "PGq6zlY2aqga"
      },
      "source": [
        "\n",
        "### Explanation of the Example\n",
        "\n",
        "1. **Class Definitions**:\n",
        "   - Class `A` has a `greet()` method.\n",
        "   - Classes `B` and `C` inherit from `A` and override the `greet()` method.\n",
        "\n",
        "2. **Class `D`**:\n",
        "   - Class `D` inherits from both `B` and `C`.\n",
        "\n",
        "3. **Calling the Method**:\n",
        "   - When `d.greet()` is called, Python looks for the `greet()` method in the method resolution order (MRO).\n",
        "   - According to the MRO, `B` is searched before `C`, so it calls the `greet()` method from `B`, resulting in \"Hello from B\".\n",
        "\n",
        "4. **Method Resolution Order**:\n",
        "   - The output of `D.mro()` shows the order in which Python will search for methods and attributes:\n",
        "     - `[<class '__main__.D'>, <class '__main__.B'>, <class '__main__.C'>, <class '__main__.A'>, <class 'object'>]`\n",
        "   - This order ensures that the most derived class is checked first, followed by its bases, resolving the ambiguity created by the Diamond Problem.\n",
        "\n",
        "### Conclusion\n",
        "\n",
        "In summary, the Diamond Problem arises in multiple inheritance scenarios where ambiguity can occur regarding which parent class's method to invoke. Python resolves this issue through its method resolution order (MRO) mechanism, specifically using the C3 linearization algorithm, ensuring a clear and consistent method lookup path."
      ]
    },
    {
      "cell_type": "markdown",
      "metadata": {
        "id": "x-7kIfePa8qn"
      },
      "source": [
        "# 14. Write a class method that keeps track of the number of instances created from a class."
      ]
    },
    {
      "cell_type": "code",
      "execution_count": 23,
      "metadata": {
        "colab": {
          "base_uri": "https://localhost:8080/"
        },
        "id": "GCdKd9QwbT_-",
        "outputId": "afe44be4-4769-4cc3-89fa-ca57458eb172"
      },
      "outputs": [
        {
          "name": "stdout",
          "output_type": "stream",
          "text": [
            "Number of instances created: 3\n"
          ]
        }
      ],
      "source": [
        "class MyClass:\n",
        "    # Class variable to track the instance count\n",
        "    instance_count = 0\n",
        "\n",
        "    def __init__(self):\n",
        "        # Increment the instance count each time a new object is created\n",
        "        MyClass.instance_count += 1\n",
        "\n",
        "    @classmethod\n",
        "    def get_instance_count(cls):\n",
        "        # Class method to access the instance count\n",
        "        return cls.instance_count\n",
        "\n",
        "# Example usage\n",
        "obj1 = MyClass()\n",
        "obj2 = MyClass()\n",
        "obj3 = MyClass()\n",
        "\n",
        "# Calling the class method to check the number of instances created\n",
        "print(f\"Number of instances created: {MyClass.get_instance_count()}\")  # Output: 3\n"
      ]
    },
    {
      "cell_type": "markdown",
      "metadata": {
        "id": "rujtZP8Kbf8V"
      },
      "source": [
        "# 15. Implement a static method in a class that checks if a given year is a leap year."
      ]
    },
    {
      "cell_type": "code",
      "execution_count": 24,
      "metadata": {
        "colab": {
          "base_uri": "https://localhost:8080/"
        },
        "id": "kwbVQYY0bryN",
        "outputId": "3b6516ff-0acb-46ab-83c0-eccf79ea5b20"
      },
      "outputs": [
        {
          "name": "stdout",
          "output_type": "stream",
          "text": [
            "2023 is not a leap year.\n"
          ]
        }
      ],
      "source": [
        "class DateUtils:\n",
        "    @staticmethod\n",
        "    def is_leap_year(year):\n",
        "        if (year % 4 == 0 ):\n",
        "            return True\n",
        "        else:\n",
        "            return False\n",
        "\n",
        "# Example usage of the static method\n",
        "year = 2023\n",
        "if DateUtils.is_leap_year(year):\n",
        "    print(f\"{year} is a leap year.\")\n",
        "else:\n",
        "    print(f\"{year} is not a leap year.\")\n"
      ]
    }
  ],
  "metadata": {
    "colab": {
      "provenance": []
    },
    "kernelspec": {
      "display_name": "Python 3",
      "name": "python3"
    },
    "language_info": {
      "codemirror_mode": {
        "name": "ipython",
        "version": 3
      },
      "file_extension": ".py",
      "mimetype": "text/x-python",
      "name": "python",
      "nbconvert_exporter": "python",
      "pygments_lexer": "ipython3",
      "version": "3.12.4"
    }
  },
  "nbformat": 4,
  "nbformat_minor": 0
}
