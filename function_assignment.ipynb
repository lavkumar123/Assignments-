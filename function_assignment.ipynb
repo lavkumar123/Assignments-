{
  "nbformat": 4,
  "nbformat_minor": 0,
  "metadata": {
    "colab": {
      "provenance": [],
      "toc_visible": true
    },
    "kernelspec": {
      "name": "python3",
      "display_name": "Python 3"
    },
    "language_info": {
      "name": "python"
    }
  },
  "cells": [
    {
      "cell_type": "markdown",
      "source": [
        "# 1. What is the difference between a function and a method in Python?\n",
        "**Ans:-** In Python, both functions and methods are used to perform actions, but they differ in how they are defined and used:\n",
        "\n",
        "**1. Function:**\n",
        "\n",
        "* **Definition:** A function is a block of reusable code that is defined using the def keyword and can be called independently.\n",
        "\n",
        "* **Usage:** Functions can be called directly using their name and can take arguments and return values. They are not tied to any object.\n",
        "\n",
        "Example:\n"
      ],
      "metadata": {
        "id": "drNFo4qv2hrL"
      }
    },
    {
      "cell_type": "code",
      "source": [
        "def greet(name):\n",
        "    return f\"Hello, {name}\"\n",
        "\n",
        "print(greet(\"Lav\"))  # Output: Hello, Lav\n"
      ],
      "metadata": {
        "colab": {
          "base_uri": "https://localhost:8080/"
        },
        "id": "1ZLpS4AT3Ll7",
        "outputId": "c04caee0-8387-46e8-c79d-7cede6775a4e"
      },
      "execution_count": null,
      "outputs": [
        {
          "output_type": "stream",
          "name": "stdout",
          "text": [
            "Hello, Lav\n"
          ]
        }
      ]
    },
    {
      "cell_type": "markdown",
      "source": [
        "**2. Method:**\n",
        "\n",
        "* **Definition:** A method is a function that is associated with an object (usually an instance of a class). It is called on that object and often manipulates the object's internal data.\n",
        "* **Usage:** Methods are defined inside classes and are called using the instance of the class (with dot notation). The first parameter of a method is typically self, which refers to the instance.\n",
        "\n",
        "Example:\n"
      ],
      "metadata": {
        "id": "rw8wsvX-3e-k"
      }
    },
    {
      "cell_type": "code",
      "source": [
        "class Person:\n",
        "    def __init__(self, name):\n",
        "        self.name = name\n",
        "\n",
        "    def greet(self):\n",
        "        return f\"Hello, {self.name}\"\n",
        "\n",
        "person = Person(\"Lav\")\n",
        "print(person.greet())  # Output: Hello, Lav\n"
      ],
      "metadata": {
        "colab": {
          "base_uri": "https://localhost:8080/"
        },
        "id": "KI8Kjq6f306S",
        "outputId": "019e2ddd-26e7-4e9a-91aa-dee791821e26"
      },
      "execution_count": null,
      "outputs": [
        {
          "output_type": "stream",
          "name": "stdout",
          "text": [
            "Hello, Lav\n"
          ]
        }
      ]
    },
    {
      "cell_type": "markdown",
      "source": [
        "**Key Differences:**\n",
        "\n",
        "* A function is a standalone piece of code, while a method is tied to an object.\n",
        "\n",
        "* A method has access to the data of the object it is called on (via self), whereas a function does not."
      ],
      "metadata": {
        "id": "Xv-3dhT938Ay"
      }
    },
    {
      "cell_type": "markdown",
      "source": [
        "# 2. Explain the concept of function arguments and parameters in Python.\n",
        "**Ans:-**\n",
        "In Python, arguments and parameters are closely related terms used when defining and calling functions, but they refer to different aspects of a function.\n",
        "\n",
        "**1. Parameters:**\n",
        "\n",
        "* Definition: Parameters are the variables listed inside the parentheses in the function definition. They act as placeholders that allow a function to accept input values.\n",
        "\n",
        "Example:\n",
        "\n",
        "* In the example, a and b are parameters. They define the inputs that the add function can take when it is called."
      ],
      "metadata": {
        "id": "1oq_xrFX4H2U"
      }
    },
    {
      "cell_type": "code",
      "source": [
        "def add(a, b):  # 'a' and 'b' are parameters\n",
        "    return a + b\n"
      ],
      "metadata": {
        "id": "fN9jKuzn44Cp"
      },
      "execution_count": null,
      "outputs": []
    },
    {
      "cell_type": "markdown",
      "source": [
        "**2. Arguments:**\n",
        "\n",
        "* Definition: Arguments are the actual values or data that are passed to the function when it is called. These values are assigned to the parameters.\n",
        "\n",
        "Example:\n",
        "\n",
        "* In this example, the values 3 and 5 are arguments, which are passed to the parameters a and b when the add function is called."
      ],
      "metadata": {
        "id": "l_30Bhbv5Shn"
      }
    },
    {
      "cell_type": "code",
      "source": [
        "result = add(3, 5)  # '3' and '5' are arguments\n",
        "print(result)  # Output: 8\n"
      ],
      "metadata": {
        "colab": {
          "base_uri": "https://localhost:8080/"
        },
        "id": "_rayotxo5i9s",
        "outputId": "845d4db5-e1fb-4333-c66c-1d84e0077a68"
      },
      "execution_count": null,
      "outputs": [
        {
          "output_type": "stream",
          "name": "stdout",
          "text": [
            "8\n"
          ]
        }
      ]
    },
    {
      "cell_type": "markdown",
      "source": [
        "**Key Differences:**\n",
        "\n",
        "* Parameters are defined when writing the function (in the function definition).\n",
        "* Arguments are the actual values supplied when calling the function."
      ],
      "metadata": {
        "id": "niiYwVof5w-S"
      }
    },
    {
      "cell_type": "markdown",
      "source": [
        "# 3. What are the different ways to define and call a function in Python?\n",
        "**Ans:-** In Python, functions can be defined and called in several ways, depending on the structure and use case. Below are the common approaches:\n",
        "\n",
        "**1. Standard Function Definition**\n",
        "\n",
        "* Functions are defined using the def keyword followed by the function name and parentheses containing parameters (if any).\n",
        "\n",
        "* Definition:\n",
        "\n",
        "\n",
        "\n",
        "\n",
        "\n",
        "\n"
      ],
      "metadata": {
        "id": "XLB2xHBM548R"
      }
    },
    {
      "cell_type": "code",
      "source": [
        "def function_name(a):\n",
        "    # Function body\n",
        "    return a  # Optional\n"
      ],
      "metadata": {
        "id": "W2xToU5QJDwZ"
      },
      "execution_count": null,
      "outputs": []
    },
    {
      "cell_type": "markdown",
      "source": [
        "*  Calling the Function:"
      ],
      "metadata": {
        "id": "iMJwxqIjJ-HH"
      }
    },
    {
      "cell_type": "code",
      "source": [
        "result = function_name(4)\n",
        "print(result)\n"
      ],
      "metadata": {
        "colab": {
          "base_uri": "https://localhost:8080/"
        },
        "id": "KPUNBth7fnsi",
        "outputId": "bc2d5d0e-75f2-42a5-c4a3-e92f453f8fa2"
      },
      "execution_count": null,
      "outputs": [
        {
          "output_type": "stream",
          "name": "stdout",
          "text": [
            "4\n"
          ]
        }
      ]
    },
    {
      "cell_type": "code",
      "source": [
        "def add(a, b):\n",
        "    return a + b\n",
        "\n",
        "print(add(5, 3))  # Output: 8\n"
      ],
      "metadata": {
        "colab": {
          "base_uri": "https://localhost:8080/"
        },
        "id": "8HubDHrzgFeX",
        "outputId": "f1f18894-d662-4855-8ae2-fd737a1b8511"
      },
      "execution_count": null,
      "outputs": [
        {
          "output_type": "stream",
          "name": "stdout",
          "text": [
            "8\n"
          ]
        }
      ]
    },
    {
      "cell_type": "markdown",
      "source": [
        "**2. Function with Default Parameters**\n",
        "\n",
        "* Functions can have parameters with default values, which are used if the argument is not provided during the call.\n",
        "\n",
        "* Definition:"
      ],
      "metadata": {
        "id": "m30Eyu4cgHVX"
      }
    },
    {
      "cell_type": "code",
      "source": [
        "def greet(name, message=\"Hello\"):\n",
        "    return f\"{message}, {name}\"\n"
      ],
      "metadata": {
        "id": "XAMcxAJKgzFj"
      },
      "execution_count": null,
      "outputs": []
    },
    {
      "cell_type": "markdown",
      "source": [
        "* Calling the Function:"
      ],
      "metadata": {
        "id": "r2HvOULMg3wv"
      }
    },
    {
      "cell_type": "code",
      "source": [
        "print(greet(\"Lav\"))  # Output: Hello, Lav\n",
        "print(greet(\"Lav\", \"Welcome\"))  # Output: Welcome, Lav\n"
      ],
      "metadata": {
        "colab": {
          "base_uri": "https://localhost:8080/"
        },
        "id": "0YXgsK2Wg9ZR",
        "outputId": "5af07e3f-5cec-42b2-92ce-dfc98842c314"
      },
      "execution_count": null,
      "outputs": [
        {
          "output_type": "stream",
          "name": "stdout",
          "text": [
            "Hello, Lav\n",
            "Welcome, Lav\n"
          ]
        }
      ]
    },
    {
      "cell_type": "markdown",
      "source": [
        "**3. Variable-Length Arguments**\n",
        "\n",
        "* Python supports variable-length arguments, allowing a function to accept any number of positional or keyword arguments.\n",
        "\n",
        "* Using *args for Positional Arguments:"
      ],
      "metadata": {
        "id": "UyYXwXQ5hGsq"
      }
    },
    {
      "cell_type": "code",
      "source": [
        "def sum_all(*args):\n",
        "    return sum(args)\n",
        "\n",
        "print(sum_all(1, 2, 3, 4))  # Output: 10\n"
      ],
      "metadata": {
        "colab": {
          "base_uri": "https://localhost:8080/"
        },
        "id": "-P6N7vArhQsw",
        "outputId": "15e577c6-2668-48a6-aa85-d6cc1b9ad4db"
      },
      "execution_count": null,
      "outputs": [
        {
          "output_type": "stream",
          "name": "stdout",
          "text": [
            "10\n"
          ]
        }
      ]
    },
    {
      "cell_type": "markdown",
      "source": [
        "* Using **kwargs for Keyword Arguments:"
      ],
      "metadata": {
        "id": "67v2DT59hUWs"
      }
    },
    {
      "cell_type": "code",
      "source": [
        "def print_info(**kwargs):\n",
        "    for key, value in kwargs.items():\n",
        "        print(f\"{key}: {value}\")\n",
        "\n",
        "print_info(name=\"Lav\", age=21, profession=\"Data analytics\")\n",
        "# Output:\n",
        "# name: Lav\n",
        "# age: 21\n",
        "# profession: Developer\n"
      ],
      "metadata": {
        "colab": {
          "base_uri": "https://localhost:8080/"
        },
        "id": "Qhf_u_MmhZNg",
        "outputId": "d53a4422-8166-4db0-c80e-5ef19f5671bd"
      },
      "execution_count": null,
      "outputs": [
        {
          "output_type": "stream",
          "name": "stdout",
          "text": [
            "name: Lav\n",
            "age: 21\n",
            "profession: Data analytics\n"
          ]
        }
      ]
    },
    {
      "cell_type": "markdown",
      "source": [
        "**4. Lambda Functions (Anonymous Functions)**\n",
        "\n",
        "* Lambda functions are single-line, anonymous functions defined using the lambda keyword. They can take multiple arguments but have only one expression.\n",
        "\n",
        "* Definition:"
      ],
      "metadata": {
        "id": "DRxQMT4AhsUH"
      }
    },
    {
      "cell_type": "code",
      "source": [
        "add = lambda a, b: a + b\n"
      ],
      "metadata": {
        "id": "SUPXEqmuhzYz"
      },
      "execution_count": null,
      "outputs": []
    },
    {
      "cell_type": "markdown",
      "source": [
        "* Calling the Lambda Function"
      ],
      "metadata": {
        "id": "HD80GPb-h_6m"
      }
    },
    {
      "cell_type": "code",
      "source": [
        "\n",
        "print(add(5, 3))  # Output: 8\n"
      ],
      "metadata": {
        "colab": {
          "base_uri": "https://localhost:8080/"
        },
        "id": "Of5GlERniCRz",
        "outputId": "2410e986-36c8-44b3-cb26-41e79ab99832"
      },
      "execution_count": null,
      "outputs": [
        {
          "output_type": "stream",
          "name": "stdout",
          "text": [
            "8\n"
          ]
        }
      ]
    },
    {
      "cell_type": "markdown",
      "source": [
        "**5. Function as an Argument**\n",
        "\n",
        "* Functions can be passed as arguments to other functions, allowing higher-order functions.\n",
        "\n",
        "* Definition:"
      ],
      "metadata": {
        "id": "dCHK94nDiTPq"
      }
    },
    {
      "cell_type": "code",
      "source": [
        "def apply_function(func, value):\n",
        "    return func(value)\n"
      ],
      "metadata": {
        "id": "Mec5ieBJidJ-"
      },
      "execution_count": null,
      "outputs": []
    },
    {
      "cell_type": "markdown",
      "source": [
        "* Calling with a Function:"
      ],
      "metadata": {
        "id": "iKf0ZUOQipQf"
      }
    },
    {
      "cell_type": "code",
      "source": [
        "def square(x):\n",
        "    return x * x\n",
        "\n",
        "print(apply_function(square, 5))  # Output: 25\n"
      ],
      "metadata": {
        "colab": {
          "base_uri": "https://localhost:8080/"
        },
        "id": "Axsk1qabirA5",
        "outputId": "6eb3f5fa-3a8f-4580-aef3-d29ca50ebcc6"
      },
      "execution_count": null,
      "outputs": [
        {
          "output_type": "stream",
          "name": "stdout",
          "text": [
            "25\n"
          ]
        }
      ]
    },
    {
      "cell_type": "markdown",
      "source": [
        "**6. . Recursive Function**\n",
        "* A function that calls itself within its own definition is called a recursive function. It’s useful for problems that can be divided into smaller sub-problems.\n",
        "\n",
        "* Definition:"
      ],
      "metadata": {
        "id": "cMWAZWz9iyDJ"
      }
    },
    {
      "cell_type": "code",
      "source": [
        "def factorial(n):\n",
        "    if n == 1:\n",
        "        return 1\n",
        "    else:\n",
        "        return n * factorial(n - 1)\n"
      ],
      "metadata": {
        "id": "mogt7tgHi-u5"
      },
      "execution_count": null,
      "outputs": []
    },
    {
      "cell_type": "markdown",
      "source": [
        "* Calling the Recursive Function:"
      ],
      "metadata": {
        "id": "tK0UIxtUjD1E"
      }
    },
    {
      "cell_type": "code",
      "source": [
        "print(factorial(5))  # Output: 120\n"
      ],
      "metadata": {
        "colab": {
          "base_uri": "https://localhost:8080/"
        },
        "id": "AYzteaJ9jI58",
        "outputId": "8ce402d5-e7db-4e7c-d9b3-2b8bbe2e7aa5"
      },
      "execution_count": null,
      "outputs": [
        {
          "output_type": "stream",
          "name": "stdout",
          "text": [
            "120\n"
          ]
        }
      ]
    },
    {
      "cell_type": "markdown",
      "source": [
        "**7. Nested Functions**\n",
        "\n",
        " * Functions can be defined within other functions, allowing closure and function encapsulation.\n",
        "\n",
        "* Definition:"
      ],
      "metadata": {
        "id": "SVa-bkh_jOTu"
      }
    },
    {
      "cell_type": "code",
      "source": [
        "def outer_function(text):\n",
        "    def inner_function():\n",
        "        print(text)\n",
        "    inner_function()\n"
      ],
      "metadata": {
        "id": "xyS7gulhjajH"
      },
      "execution_count": null,
      "outputs": []
    },
    {
      "cell_type": "markdown",
      "source": [
        "* Calling the Nested Function:"
      ],
      "metadata": {
        "id": "LBH5_KXejnID"
      }
    },
    {
      "cell_type": "code",
      "source": [
        "outer_function(\"Hello, World!\")  # Output: Hello, World!\n"
      ],
      "metadata": {
        "colab": {
          "base_uri": "https://localhost:8080/"
        },
        "id": "jf37UZDmjpa9",
        "outputId": "e46c2d42-4b95-43cc-d679-4c00d34d3cbb"
      },
      "execution_count": null,
      "outputs": [
        {
          "output_type": "stream",
          "name": "stdout",
          "text": [
            "Hello, World!\n"
          ]
        }
      ]
    },
    {
      "cell_type": "markdown",
      "source": [
        "**8. Decorators (Function Wrapping)**\n",
        "* Decorators are functions that modify the behavior of other functions. They are defined using the @decorator_name syntax.\n",
        "\n",
        "* Definition of Decorator:"
      ],
      "metadata": {
        "id": "pc1NGmtej0D8"
      }
    },
    {
      "cell_type": "code",
      "source": [
        "def decorator(func):\n",
        "    def wrapper(*args, **kwargs):\n",
        "        print(\"Before function call\")\n",
        "        result = func(*args, **kwargs)\n",
        "        print(\"After function call\")\n",
        "        return result\n",
        "    return wrapper\n"
      ],
      "metadata": {
        "id": "016KnLIfj_c8"
      },
      "execution_count": null,
      "outputs": []
    },
    {
      "cell_type": "markdown",
      "source": [
        "* Applying a Decorator:"
      ],
      "metadata": {
        "id": "FashjBVukD24"
      }
    },
    {
      "cell_type": "code",
      "source": [
        "@decorator\n",
        "def say_hello():\n",
        "    print(\"Hello\")\n",
        "\n",
        "say_hello()\n",
        "# Output:\n",
        "# Before function call\n",
        "# Hello\n",
        "# After function call\n"
      ],
      "metadata": {
        "colab": {
          "base_uri": "https://localhost:8080/"
        },
        "id": "uJgNSEfTkIU0",
        "outputId": "08c21f2d-6326-46b6-82ab-32b848dfbe20"
      },
      "execution_count": null,
      "outputs": [
        {
          "output_type": "stream",
          "name": "stdout",
          "text": [
            "Before function call\n",
            "Hello\n",
            "After function call\n"
          ]
        }
      ]
    },
    {
      "cell_type": "markdown",
      "source": [
        "# 4. What is the purpose of the `return` statement in a Python function?\n",
        "**Ans:-** The return statement in a Python function is used to:\n",
        "\n",
        "**1. Return a Value from the Function**\n",
        "* The primary purpose of the return statement is to exit a function and pass a value back to the caller (the code that called the function). When return is executed, the function terminates, and the specified value is returned as the result of the function.\n",
        "\n",
        "* Example:"
      ],
      "metadata": {
        "id": "3yKI-EOpkVpw"
      }
    },
    {
      "cell_type": "code",
      "source": [
        "def add(a, b):\n",
        "    return a + b\n",
        "\n",
        "result = add(5, 3)\n",
        "print(result)  # Output: 8\n"
      ],
      "metadata": {
        "colab": {
          "base_uri": "https://localhost:8080/"
        },
        "id": "JN4ymFuzk7_U",
        "outputId": "a9664e5a-ee10-4005-ce52-91063723d079"
      },
      "execution_count": null,
      "outputs": [
        {
          "output_type": "stream",
          "name": "stdout",
          "text": [
            "8\n"
          ]
        }
      ]
    },
    {
      "cell_type": "markdown",
      "source": [
        "* In this example, the add function returns the sum of a and b. The returned value (8) is stored in the variable result.\n",
        "\n",
        "**2. Terminate a Function Early**\n",
        "* The return statement immediately terminates the function. If there is any code after the return statement inside the function, it will not be executed.\n",
        "\n",
        "* Example:"
      ],
      "metadata": {
        "id": "uU6XAlJTk91y"
      }
    },
    {
      "cell_type": "code",
      "source": [
        "def check_even(num):\n",
        "    if num % 2 == 0:\n",
        "        return \"Even\"\n",
        "    return \"Odd\"\n",
        "\n",
        "print(check_even(4))  # Output: Even\n",
        "print(check_even(7))  # Output: Odd\n"
      ],
      "metadata": {
        "colab": {
          "base_uri": "https://localhost:8080/"
        },
        "id": "ExO-AXqWlNTE",
        "outputId": "9fc4ae33-14dd-4bdf-f6e3-c4aec9aee713"
      },
      "execution_count": null,
      "outputs": [
        {
          "output_type": "stream",
          "name": "stdout",
          "text": [
            "Even\n",
            "Odd\n"
          ]
        }
      ]
    },
    {
      "cell_type": "markdown",
      "source": [
        "* In this example, the function checks if a number is even or odd. Once the return statement is reached, the function ends, and no further code in the function is executed.\n",
        "\n",
        "**3. Return Multiple Values**\n",
        "* Python allows a function to return multiple values by returning them as a tuple.\n",
        "\n",
        "* Example:"
      ],
      "metadata": {
        "id": "Q5GJuruzlZrw"
      }
    },
    {
      "cell_type": "code",
      "source": [
        "def get_min_max(numbers):\n",
        "    return min(numbers), max(numbers)\n",
        "\n",
        "min_val, max_val = get_min_max([2, 5, 1, 8, 3])\n",
        "print(min_val)  # Output: 1\n",
        "print(max_val)  # Output: 8\n"
      ],
      "metadata": {
        "colab": {
          "base_uri": "https://localhost:8080/"
        },
        "id": "bhSJq65KllX4",
        "outputId": "a2bc573d-b440-4c86-90ba-720201212846"
      },
      "execution_count": null,
      "outputs": [
        {
          "output_type": "stream",
          "name": "stdout",
          "text": [
            "1\n",
            "8\n"
          ]
        }
      ]
    },
    {
      "cell_type": "markdown",
      "source": [
        "* Here, get_min_max returns two values: the minimum and maximum of the list. These values are unpacked into min_val and max_val.\n",
        "\n",
        "**4. Return None**\n",
        "* If a function does not include a return statement, or the return statement does not specify a value, the function implicitly returns None. This is Python's way of indicating that the function did not return any meaningful value.\n",
        "\n",
        "* Example:"
      ],
      "metadata": {
        "id": "4ZhpTi1Tlw5s"
      }
    },
    {
      "cell_type": "code",
      "source": [
        "def greet(name):\n",
        "    print(f\"Hello, {name}\")\n",
        "\n",
        "result = greet(\"Lav\")\n",
        "print(result)  # Output: Hello, Lav \\n None\n"
      ],
      "metadata": {
        "colab": {
          "base_uri": "https://localhost:8080/"
        },
        "id": "CIpwRVF6l3Me",
        "outputId": "a8821a7a-d74b-4310-c430-995d4bacf1cc"
      },
      "execution_count": null,
      "outputs": [
        {
          "output_type": "stream",
          "name": "stdout",
          "text": [
            "Hello, Lav\n",
            "None\n"
          ]
        }
      ]
    },
    {
      "cell_type": "markdown",
      "source": [
        "* In this example, the greet function prints a message but does not return a value explicitly, so None is returned.\n",
        "\n",
        "**Summary of return Statement's Purposes:**\n",
        "1. Return a value to the caller.\n",
        "2. Terminate the function execution early.\n",
        "3. Return multiple values as a tuple.\n",
        "4. Return None implicitly if no return value is specified.\n",
        "\n",
        "The return statement allows functions to be more flexible and reusable by enabling them to send results back to the calling code."
      ],
      "metadata": {
        "id": "T2UvnhAAmWyW"
      }
    },
    {
      "cell_type": "markdown",
      "source": [
        "# 5. What are iterators in Python and how do they differ from iterables?\n",
        "**Ans:-** In Python, iterators and iterables are closely related concepts used for looping through data, but they serve different roles. Here's how they differ:\n",
        "\n",
        "**1. Iterables:**\n",
        "* Definition: An iterable is any object that can return an iterator (i.e., an object you can iterate over). It is an object capable of returning its elements one at a time. Common examples of iterables include sequences like lists, tuples, strings, and even file objects.\n",
        "\n",
        "* How It Works: Any object that implements the __iter__() method is considered an iterable. When you use a for loop or any looping construct in Python, you're iterating over an iterable.\n",
        "\n",
        "* Examples of Iterables:"
      ],
      "metadata": {
        "id": "gCK_ywpbnpa7"
      }
    },
    {
      "cell_type": "code",
      "source": [
        "# List, string, and tuple are iterables\n",
        "my_list = [1, 2, 3]\n",
        "my_string = \"Hello\"\n",
        "my_tuple = (4, 5, 6)\n"
      ],
      "metadata": {
        "id": "6TMTDXXCn__s"
      },
      "execution_count": null,
      "outputs": []
    },
    {
      "cell_type": "markdown",
      "source": [
        "* Iterating Over an Iterable:"
      ],
      "metadata": {
        "id": "qyLRxLhYoG-x"
      }
    },
    {
      "cell_type": "code",
      "source": [
        "for char in \"Python\":  # String is an iterable\n",
        "    print(char)\n",
        "# Output:\n",
        "# P\n",
        "# y\n",
        "# t\n",
        "# h\n",
        "# o\n",
        "# n\n"
      ],
      "metadata": {
        "colab": {
          "base_uri": "https://localhost:8080/"
        },
        "id": "L__0nqndou8A",
        "outputId": "cd71f664-5bf5-4df4-80fe-7791840b89af"
      },
      "execution_count": null,
      "outputs": [
        {
          "output_type": "stream",
          "name": "stdout",
          "text": [
            "P\n",
            "y\n",
            "t\n",
            "h\n",
            "o\n",
            "n\n"
          ]
        }
      ]
    },
    {
      "cell_type": "markdown",
      "source": [
        "**2. Iterators:**\n",
        "* Definition: An iterator is an object that represents a stream of data. It is an object that keeps track of its position in the iterable and returns one element at a time when the next() function is called.\n",
        "* How It Works: An iterator is an object that implements the __iter__() and __next__() methods. The __next__() method returns the next item in the sequence. When there are no more items, it raises a StopIteration exception, signaling the end of the iteration.\n",
        "* Creating an Iterator: You can obtain an iterator from an iterable using the iter() function.\n"
      ],
      "metadata": {
        "id": "FvFkBGWzoz2s"
      }
    },
    {
      "cell_type": "code",
      "source": [
        "my_list = [1, 2, 3]\n",
        "iterator = iter(my_list)  # Get an iterator from the list\n",
        "print(next(iterator))  # Output: 1\n",
        "print(next(iterator))  # Output: 2\n",
        "print(next(iterator))  # Output: 3\n"
      ],
      "metadata": {
        "colab": {
          "base_uri": "https://localhost:8080/"
        },
        "id": "TKRYgKOXpFb6",
        "outputId": "991aee28-d202-485d-f011-5445d99aa20a"
      },
      "execution_count": null,
      "outputs": [
        {
          "output_type": "stream",
          "name": "stdout",
          "text": [
            "1\n",
            "2\n",
            "3\n"
          ]
        }
      ]
    },
    {
      "cell_type": "markdown",
      "source": [
        "**3. Iterating with for Loop:**\n",
        "* When you use a for loop in Python, it automatically converts the iterable into an iterator and fetches items using the __next__() method until StopIteration is raised.\n",
        "* Example:\n"
      ],
      "metadata": {
        "id": "ic0eoHV2wTaa"
      }
    },
    {
      "cell_type": "code",
      "source": [
        "my_list = [1, 2, 3]\n",
        "for item in my_list:  # Behind the scenes, it uses an iterator\n",
        "    print(item)\n",
        "# Output:\n",
        "# 1\n",
        "# 2\n",
        "# 3\n"
      ],
      "metadata": {
        "colab": {
          "base_uri": "https://localhost:8080/"
        },
        "id": "b5N78XU0wtqy",
        "outputId": "ec7ffdf2-b627-41d6-9756-c7ab63679af4"
      },
      "execution_count": null,
      "outputs": [
        {
          "output_type": "stream",
          "name": "stdout",
          "text": [
            "1\n",
            "2\n",
            "3\n"
          ]
        }
      ]
    },
    {
      "cell_type": "markdown",
      "source": [
        "**4. Custom Iterators:**\n",
        "* You can create custom iterator classes by implementing the __iter__() and __next__() methods.\n",
        "\n",
        "* Example:"
      ],
      "metadata": {
        "id": "YJ8Ml0JhxMEt"
      }
    },
    {
      "cell_type": "code",
      "source": [
        "class MyCounter:\n",
        "    def __init__(self, limit):\n",
        "        self.limit = limit\n",
        "        self.count = 0\n",
        "\n",
        "    def __iter__(self):\n",
        "        return self\n",
        "\n",
        "    def __next__(self):\n",
        "        if self.count < self.limit:\n",
        "            self.count += 1\n",
        "            return self.count\n",
        "        else:\n",
        "            raise StopIteration\n",
        "\n",
        "counter = MyCounter(3)\n",
        "for number in counter:\n",
        "    print(number)\n",
        "# Output:\n",
        "# 1\n",
        "# 2\n",
        "# 3\n"
      ],
      "metadata": {
        "colab": {
          "base_uri": "https://localhost:8080/"
        },
        "id": "I6CxCKQcxRqZ",
        "outputId": "1a98a957-f421-4889-8e12-9d4daac2b7f3"
      },
      "execution_count": null,
      "outputs": [
        {
          "output_type": "stream",
          "name": "stdout",
          "text": [
            "1\n",
            "2\n",
            "3\n"
          ]
        }
      ]
    },
    {
      "cell_type": "markdown",
      "source": [
        "**Summary:**\n",
        "* Iterable: Any object that can return an iterator (e.g., lists, strings). It has an __iter__() method.\n",
        "* Iterator: An object that returns data one element at a time when the next() function is called. It has __iter__() and __next__() methods.\n",
        "\n",
        "Iterables are containers of data, while iterators are tools used to step through that data one element at a time."
      ],
      "metadata": {
        "id": "VI1h6YjvxZcf"
      }
    },
    {
      "cell_type": "markdown",
      "source": [
        "# 6. Explain the concept of generators in Python and how they are defined.\n",
        "\n",
        "**Ans:-** In Python, generators are a type of iterator that allow you to iterate over a sequence of data lazily, meaning they produce values one at a time and only when needed. Generators are useful for working with large datasets or streams of data where generating all the data at once might be inefficient or memory-intensive.\n",
        "\n",
        "**Key Concepts of Generators:**\n",
        "\n",
        "**1.Generators Are Iterators:**\n",
        "\n",
        "* Generators are a special type of iterator. They implement the __iter__() and __next__() methods automatically, so you can iterate over them using a for loop or by calling next().\n",
        "* They differ from regular iterators in how they are defined and how they yield values.\n",
        "\n",
        "**2.Lazy Evaluation:**\n",
        "\n",
        "* Generators don’t store their entire sequence in memory. Instead, they generate each value on the fly, yielding values one at a time. This makes them memory efficient, especially when working with large datasets.\n",
        "\n",
        "**Defining Generators in Python:**\n",
        "\n",
        "Generators are defined using two approaches:\n",
        "\n",
        "* Using Generator Functions (with yield)\n",
        "* Using Generator Expressions (similar to list comprehensions)\n",
        "\n",
        "**1.Generator Functions:**\n",
        "\n",
        "* A generator function is defined using the def keyword, but instead of return, it uses the yield keyword to produce a value.\n",
        "\n",
        "* Every time the function encounters a yield statement, it pauses execution, saves its state, and returns the yielded value. When next() is called again, it resumes where it left off.\n",
        "\n",
        "Example:\n",
        "\n"
      ],
      "metadata": {
        "id": "mJNIQvlmxiSj"
      }
    },
    {
      "cell_type": "code",
      "source": [
        "def count_up_to(limit):\n",
        "    count = 1\n",
        "    while count <= limit:\n",
        "        yield count  # Yield a value and pause\n",
        "        count += 1\n"
      ],
      "metadata": {
        "id": "bj-bsq_6z5En"
      },
      "execution_count": null,
      "outputs": []
    },
    {
      "cell_type": "markdown",
      "source": [
        "* Using the Generator:"
      ],
      "metadata": {
        "id": "DgFv3ZeW0HsT"
      }
    },
    {
      "cell_type": "code",
      "source": [
        "counter = count_up_to(3)\n",
        "print(next(counter))  # Output: 1\n",
        "print(next(counter))  # Output: 2\n",
        "print(next(counter))  # Output: 3\n",
        "# Calling next(counter) again would raise StopIteration\n"
      ],
      "metadata": {
        "colab": {
          "base_uri": "https://localhost:8080/"
        },
        "id": "1p-5Muqt0KkV",
        "outputId": "6692927c-3196-4165-8231-912d1c655545"
      },
      "execution_count": null,
      "outputs": [
        {
          "output_type": "stream",
          "name": "stdout",
          "text": [
            "1\n",
            "2\n",
            "3\n"
          ]
        }
      ]
    },
    {
      "cell_type": "markdown",
      "source": [
        "How It Works:\n",
        "\n",
        "* The first call to next(counter) yields the value 1 and pauses the function.\n",
        "* The second call resumes execution and yields 2, and so on.\n",
        "* When all values are yielded, the generator raises a StopIteration exception, signaling that it is done."
      ],
      "metadata": {
        "id": "K-2UAnwK0eox"
      }
    },
    {
      "cell_type": "markdown",
      "source": [
        "**2. Generator Expressions:**\n",
        "\n",
        "* A generator expression is a more concise way to create generators, similar to how list comprehensions work. However, unlike list comprehensions that create a list, generator expressions produce a generator object.\n",
        "\n",
        "* Syntax: (expression for item in iterable)\n",
        "\n",
        "Example:"
      ],
      "metadata": {
        "id": "oy0ECgNA0mv7"
      }
    },
    {
      "cell_type": "code",
      "source": [
        "squares = (x * x for x in range(5))\n"
      ],
      "metadata": {
        "id": "dAAhlqn105TZ"
      },
      "execution_count": null,
      "outputs": []
    },
    {
      "cell_type": "markdown",
      "source": [
        "* Using the Generator Expression:"
      ],
      "metadata": {
        "id": "sNtNuzfj08Bj"
      }
    },
    {
      "cell_type": "code",
      "source": [
        "print(next(squares))  # Output: 0\n",
        "print(next(squares))  # Output: 1\n",
        "print(next(squares))  # Output: 4\n"
      ],
      "metadata": {
        "colab": {
          "base_uri": "https://localhost:8080/"
        },
        "id": "FhsLIAtC1Ehw",
        "outputId": "5ce69d8a-f066-49a0-f663-3896cbc7b3e8"
      },
      "execution_count": null,
      "outputs": [
        {
          "output_type": "stream",
          "name": "stdout",
          "text": [
            "0\n",
            "1\n",
            "4\n"
          ]
        }
      ]
    },
    {
      "cell_type": "markdown",
      "source": [
        "**Summary:**\n",
        "* Generators: A type of iterator that generates values on the fly using yield. They are memory-efficient and useful for large datasets or streams of data.\n",
        "*  Defined using:\n",
        "\n",
        "     1. Generator Functions: Use yield instead of return to produce values lazily.\n",
        "\n",
        "     2. Generator Expressions: Concise way to define generators using syntax similar to list comprehensions.\n",
        "     \n",
        "Generators are an efficient and elegant way to deal with large data, making them a powerful feature of Python."
      ],
      "metadata": {
        "id": "u8_rkRRF1Ihj"
      }
    },
    {
      "cell_type": "markdown",
      "source": [
        "# 7. What are the advantages of using generators over regular functions?\n",
        "**Ans:-** Generators offer several advantages over regular functions, especially when dealing with large datasets or operations that can be paused and resumed. Here are the main advantages:\n",
        "\n",
        "**1. Memory Efficiency**\n",
        "* Generators are memory efficient because they produce values lazily, one at a time, rather than storing the entire sequence in memory. This is particularly useful when working with large datasets or streams of data, where storing all the data at once might be impractical or impossible.\n",
        "\n",
        "* Regular functions, on the other hand, return entire data structures like lists or tuples, which can consume a lot of memory, especially with large datasets.\n",
        "\n",
        "Example:"
      ],
      "metadata": {
        "id": "t8VmV-Ee1u1B"
      }
    },
    {
      "cell_type": "code",
      "source": [
        "# Generator version\n",
        "def generate_numbers(limit):\n",
        "    for i in range(limit):\n",
        "        yield i\n",
        "\n",
        "# Regular function version\n",
        "def generate_numbers_list(limit):\n",
        "    return [i for i in range(limit)]\n"
      ],
      "metadata": {
        "id": "58HZdxIS2cgR"
      },
      "execution_count": null,
      "outputs": []
    },
    {
      "cell_type": "markdown",
      "source": [
        "**2. Lazy Evaluation**\n",
        "* Generators evaluate and produce values lazily (on demand). This means that they only compute the next value when requested (via next()). This approach can significantly reduce computation time in cases where only part of the sequence is needed or when the sequence is infinite.\n",
        "\n",
        "* Regular functions typically compute the entire result and return it all at once, which can be inefficient when only part of the result is required.\n",
        "\n",
        "Example:"
      ],
      "metadata": {
        "id": "m5b8N0Ww2y3P"
      }
    },
    {
      "cell_type": "code",
      "source": [
        "def generate_even_numbers(limit):\n",
        "    for i in range(limit):\n",
        "        if i % 2 == 0:\n",
        "            yield i\n",
        "\n",
        "# You can use only the first few even numbers without computing the entire sequence\n",
        "gen = generate_even_numbers(1000000)\n",
        "print(next(gen))  # Output: 0\n",
        "print(next(gen))  # Output: 2\n"
      ],
      "metadata": {
        "colab": {
          "base_uri": "https://localhost:8080/"
        },
        "id": "M2Bz0NWz2_1h",
        "outputId": "587ea790-362a-44d6-cbae-c7d3c5e2916d"
      },
      "execution_count": null,
      "outputs": [
        {
          "output_type": "stream",
          "name": "stdout",
          "text": [
            "0\n",
            "2\n"
          ]
        }
      ]
    },
    {
      "cell_type": "markdown",
      "source": [
        "**3.Ability to Represent Infinite Sequences**\n",
        "* Generators can represent infinite sequences because they don’t generate all the values at once. You can keep requesting more values using next(), and the generator will keep yielding values without needing to store them in memory.\n",
        "\n",
        "* Regular functions are not suitable for infinite sequences because they would need to store all values, which is impossible for an infinite sequence.\n",
        "\n",
        "Example of an Infinite Generator:"
      ],
      "metadata": {
        "id": "0UE10md43T7M"
      }
    },
    {
      "cell_type": "code",
      "source": [
        "def infinite_counter(start=0):\n",
        "    while True:\n",
        "        yield start\n",
        "        start += 1\n",
        "print(next(infinite_counter()))\n"
      ],
      "metadata": {
        "colab": {
          "base_uri": "https://localhost:8080/"
        },
        "id": "csc_dJPc3eAQ",
        "outputId": "8223502a-2dd5-4c70-888a-79cb1082c1e6"
      },
      "execution_count": null,
      "outputs": [
        {
          "output_type": "stream",
          "name": "stdout",
          "text": [
            "0\n"
          ]
        }
      ]
    },
    {
      "cell_type": "markdown",
      "source": [
        "**5.Improved Performance**\n",
        "* Generators can provide better performance for large or complex computations since values are produced only when needed, reducing the overhead of creating and storing large data structures.\n",
        "\n",
        "* Regular functions can suffer from performance bottlenecks when handling large datasets or complex calculations, as they must complete the entire computation and return the full result in one go.\n",
        "\n",
        "* Example: Imagine processing a large file. A generator could yield each line of the file one by one, instead of reading the entire file into memory and processing it all at once, which could take much longer."
      ],
      "metadata": {
        "id": "ypZvVXwy31NH"
      }
    },
    {
      "cell_type": "markdown",
      "source": [
        "**5. Simplified Syntax for Iterators**\n",
        "* Generators make implementing custom iterators much simpler compared to writing iterator classes with __iter__() and __next__() methods. By using yield, you avoid managing state (like the current position in the sequence) explicitly.\n",
        "\n",
        "* Regular functions would require more code to manually implement the same functionality.\n",
        "\n",
        "Example of a Generator:"
      ],
      "metadata": {
        "id": "u_ioOewv4EYC"
      }
    },
    {
      "cell_type": "code",
      "source": [
        "def countdown(n):\n",
        "    while n > 0:\n",
        "        yield n\n",
        "        n -= 1\n",
        "\n",
        "for num in countdown(5):\n",
        "    print(num)\n",
        "# Output: 5, 4, 3, 2, 1\n"
      ],
      "metadata": {
        "colab": {
          "base_uri": "https://localhost:8080/"
        },
        "id": "n4DgGyF_4PdF",
        "outputId": "79650179-1b70-4a4c-b399-0fd0b13304d4"
      },
      "execution_count": null,
      "outputs": [
        {
          "output_type": "stream",
          "name": "stdout",
          "text": [
            "5\n",
            "4\n",
            "3\n",
            "2\n",
            "1\n"
          ]
        }
      ]
    },
    {
      "cell_type": "markdown",
      "source": [
        "**Summary of Advantages of Generators Over Regular Functions:**\n",
        "* Memory Efficiency: Generators consume less memory since they produce values one at a time rather than storing the entire result in memory.\n",
        "* Lazy Evaluation: Generators only compute values when needed, which can save time and resources.\n",
        "* Infinite Sequences: Generators can represent infinite sequences without running out of memory.\n",
        "* Improved Performance: For large datasets, generators are faster and use fewer resources compared to regular functions.\n",
        "* Simplified Iterator Syntax: Generators make it easy to create custom iterators without needing to define __iter__() and __next__() methods."
      ],
      "metadata": {
        "id": "Z9wY3BPY41IL"
      }
    },
    {
      "cell_type": "markdown",
      "source": [
        "# 8. What is a lambda function in Python and when is it typically used?\n",
        "\n",
        "\n",
        "**Ans:-** A lambda function in Python is a small, anonymous function defined using the lambda keyword. Lambda functions are used when a simple, short function is needed for a brief period, and defining a full function with def would be overkill. They are typically used for operations that require a single expression to be evaluated, especially in scenarios like sorting, filtering, or mapping data.\n",
        "\n",
        "**Syntax of Lambda Functions:**\n",
        "\n",
        "The syntax of a lambda function is:\n",
        "\n",
        "    lambda arguments: expression\n",
        "* lambda: This keyword is used to define the lambda function.\n",
        "* arguments: These are the inputs to the function (can be zero or more arguments).\n",
        "*expression: This is the operation or computation that the lambda function performs and returns as its result.\n",
        "\n",
        "Unlike normal functions, lambda functions do not require a return statement; they automatically return the result of the expression.\n",
        "\n",
        "Example:\n",
        "\n",
        "**A lambda function that adds two numbers:**"
      ],
      "metadata": {
        "id": "EZ0_o2o15Fwa"
      }
    },
    {
      "cell_type": "code",
      "source": [
        "add = lambda x, y: x + y\n",
        "print(add(5, 3))  # Output: 8\n"
      ],
      "metadata": {
        "colab": {
          "base_uri": "https://localhost:8080/"
        },
        "id": "JhLR50no7GcA",
        "outputId": "1c383a22-b960-4698-b54a-8c2c03857180"
      },
      "execution_count": null,
      "outputs": [
        {
          "output_type": "stream",
          "name": "stdout",
          "text": [
            "8\n"
          ]
        }
      ]
    },
    {
      "cell_type": "markdown",
      "source": [
        "**Typical Use Cases for Lambda Functions:**\n",
        "\n",
        "**1. As Anonymous Functions:**\n",
        "\n",
        "* Lambda functions are often used in places where a small function is needed temporarily and doesn’t require a formal definition with def.\n",
        "\n",
        "**Example:** Sorting a list of tuples by the second element:\n"
      ],
      "metadata": {
        "id": "gtaGi_747Nc7"
      }
    },
    {
      "cell_type": "code",
      "source": [
        "pairs = [(1, 'apple'), (2, 'banana'), (3, 'cherry')]\n",
        "pairs.sort(key=lambda x: x[1])\n",
        "print(pairs)\n",
        "# Output: [(1, 'apple'), (2, 'banana'), (3, 'cherry')]\n"
      ],
      "metadata": {
        "colab": {
          "base_uri": "https://localhost:8080/"
        },
        "id": "tECm7nb_7gsk",
        "outputId": "2efd3037-5953-41ff-9150-dfafad75f906"
      },
      "execution_count": null,
      "outputs": [
        {
          "output_type": "stream",
          "name": "stdout",
          "text": [
            "[(1, 'apple'), (2, 'banana'), (3, 'cherry')]\n"
          ]
        }
      ]
    },
    {
      "cell_type": "markdown",
      "source": [
        "**2. With Functions like map(), filter(), and reduce():**\n",
        "\n",
        "* Lambda functions are commonly used with higher-order functions like map(), filter(), and reduce(), which take a function as an argument and apply it to a sequence.\n",
        "\n",
        "* map() Example: Applying a function to each element of a list:\n",
        "\n"
      ],
      "metadata": {
        "id": "r9YiFz0x73bE"
      }
    },
    {
      "cell_type": "code",
      "source": [
        "numbers = [1, 2, 3, 4]\n",
        "squared = list(map(lambda x: x * x, numbers))\n",
        "print(squared)  # Output: [1, 4, 9, 16]\n"
      ],
      "metadata": {
        "colab": {
          "base_uri": "https://localhost:8080/"
        },
        "id": "rH4-nOJg8LlS",
        "outputId": "1e288900-5133-4008-e9ea-42467dd0c54f"
      },
      "execution_count": null,
      "outputs": [
        {
          "output_type": "stream",
          "name": "stdout",
          "text": [
            "[1, 4, 9, 16]\n"
          ]
        }
      ]
    },
    {
      "cell_type": "markdown",
      "source": [
        "* filter() Example: Filtering a list based on a condition:"
      ],
      "metadata": {
        "id": "hTGC6VWQh-4L"
      }
    },
    {
      "cell_type": "code",
      "source": [
        "numbers = [1, 2, 3, 4, 5, 6]\n",
        "even_numbers = list(filter(lambda x: x % 2 == 0, numbers))\n",
        "print(even_numbers)  # Output: [2, 4, 6]\n",
        "\n"
      ],
      "metadata": {
        "colab": {
          "base_uri": "https://localhost:8080/"
        },
        "id": "P3w2JEd6iEaC",
        "outputId": "cea1cb6f-c728-4973-cf7e-548d89384798"
      },
      "execution_count": null,
      "outputs": [
        {
          "output_type": "stream",
          "name": "stdout",
          "text": [
            "[2, 4, 6]\n"
          ]
        }
      ]
    },
    {
      "cell_type": "markdown",
      "source": [
        "* reduce() Example: Using reduce() to calculate the product of a list of numbers (from functools):"
      ],
      "metadata": {
        "id": "QIUX0bo9iWcM"
      }
    },
    {
      "cell_type": "code",
      "source": [
        "from functools import reduce\n",
        "numbers = [1, 2, 3, 4]\n",
        "product = reduce(lambda x, y: x * y, numbers)\n",
        "print(product)  # Output: 24\n"
      ],
      "metadata": {
        "colab": {
          "base_uri": "https://localhost:8080/"
        },
        "id": "WN5akq3Oib2Y",
        "outputId": "03790b59-f619-4878-a0fb-14fecde1e1ca"
      },
      "execution_count": null,
      "outputs": [
        {
          "output_type": "stream",
          "name": "stdout",
          "text": [
            "24\n"
          ]
        }
      ]
    },
    {
      "cell_type": "markdown",
      "source": [
        "**3.In Sorting and Key Functions:**\n",
        "\n",
        "* Lambda functions are often used as key functions for sorting or extracting data.\n",
        "* Example: Sorting a list of dictionaries by a specific key:"
      ],
      "metadata": {
        "id": "kIl6p9wIi98Q"
      }
    },
    {
      "cell_type": "code",
      "source": [
        "students = [{'name': 'John', 'age': 22}, {'name': 'Alice', 'age': 25}, {'name': 'Bob', 'age': 20}]\n",
        "sorted_students = sorted(students, key=lambda x: x['age'])\n",
        "print(sorted_students)\n",
        "# Output: [{'name': 'Bob', 'age': 20}, {'name': 'John', 'age': 22}, {'name': 'Alice', 'age': 25}]\n"
      ],
      "metadata": {
        "colab": {
          "base_uri": "https://localhost:8080/"
        },
        "id": "6Mw1jzvbjOAf",
        "outputId": "1112209e-efb1-476c-cf9c-092d765c81cf"
      },
      "execution_count": null,
      "outputs": [
        {
          "output_type": "stream",
          "name": "stdout",
          "text": [
            "[{'name': 'Bob', 'age': 20}, {'name': 'John', 'age': 22}, {'name': 'Alice', 'age': 25}]\n"
          ]
        }
      ]
    },
    {
      "cell_type": "markdown",
      "source": [
        "**4.In Event-Driven Programming or Callback Functions:**\n",
        "\n",
        "* In certain event-driven programming situations, such as with GUI libraries or asynchronous code, lambda functions are used as callback functions.\n",
        "* Example: Passing a lambda function as a callback in a button click event in a GUI framework like Tkinter.\n",
        "\n",
        "**5.When Functionality Is Simple and Short:**\n",
        "\n",
        "* Lambda functions are useful when the logic is very simple and doesn’t require a multi-line function.\n",
        "* Example: Creating a quick adder function:\n"
      ],
      "metadata": {
        "id": "Tw1MNQ7FjXng"
      }
    },
    {
      "cell_type": "code",
      "source": [
        "adder = lambda x, y: x + y\n",
        "print(adder(10, 20))  # Output: 30\n"
      ],
      "metadata": {
        "colab": {
          "base_uri": "https://localhost:8080/"
        },
        "id": "pX_HPCnhkAbp",
        "outputId": "bb6e16cc-4c4a-4cc0-d4c3-c84bbb17889a"
      },
      "execution_count": null,
      "outputs": [
        {
          "output_type": "stream",
          "name": "stdout",
          "text": [
            "30\n"
          ]
        }
      ]
    },
    {
      "cell_type": "markdown",
      "source": [
        "# 9. Explain the purpose and usage of the map() function in Python.\n",
        "**Ans:-** The map() function in Python is used to apply a specific function to all items in an iterable (such as a list, tuple, etc.) and return a map object (an iterator) containing the results. It is particularly useful when you want to perform a common operation across all elements of a collection without using a for loop.\n",
        "\n",
        "* function: A function that is applied to every item in the iterable. This function should take one or more arguments, depending on how many iterables are passed.\n",
        "* iterable: An iterable like a list, tuple, or any object that can return items one at a time. You can pass multiple iterables if the function requires more than one argument.\n",
        "\n",
        "**Example 1: Basic Usage with a Single Iterable**\n",
        "\n",
        "Let's apply a simple function to square each element in a list.\n",
        "\n"
      ],
      "metadata": {
        "id": "GAvI1VdqkJtH"
      }
    },
    {
      "cell_type": "code",
      "source": [
        "numbers = [1, 2, 3, 4, 5]\n",
        "# Apply the function to each element in the list\n",
        "squared_numbers = map(lambda x: x ** 2, numbers)\n",
        "\n",
        "# Convert the map object to a list to see the results\n",
        "print(list(squared_numbers))\n"
      ],
      "metadata": {
        "colab": {
          "base_uri": "https://localhost:8080/"
        },
        "id": "yGmNAJ3EpJo9",
        "outputId": "f6c21ae9-6014-4579-d513-e896063137bb"
      },
      "execution_count": null,
      "outputs": [
        {
          "output_type": "stream",
          "name": "stdout",
          "text": [
            "[1, 4, 9, 16, 25]\n"
          ]
        }
      ]
    },
    {
      "cell_type": "markdown",
      "source": [
        "**Example 2: Using Multiple Iterables**\n",
        "\n",
        "If you pass multiple iterables to the map() function, the function must accept the same number of arguments as there are iterables."
      ],
      "metadata": {
        "id": "nLsU98NOpX25"
      }
    },
    {
      "cell_type": "code",
      "source": [
        "numbers1 = [1, 2, 3]\n",
        "numbers2 = [4, 5, 6]\n",
        "# Add corresponding elements from both lists\n",
        "summed_numbers = map(lambda x, y: x + y, numbers1, numbers2)\n",
        "\n",
        "print(list(summed_numbers))\n"
      ],
      "metadata": {
        "colab": {
          "base_uri": "https://localhost:8080/"
        },
        "id": "VgqAsn00pamv",
        "outputId": "aa3971dc-1428-4620-ed79-39b7898cfeb4"
      },
      "execution_count": null,
      "outputs": [
        {
          "output_type": "stream",
          "name": "stdout",
          "text": [
            "[5, 7, 9]\n"
          ]
        }
      ]
    },
    {
      "cell_type": "markdown",
      "source": [
        "**Return Value:**\n",
        "\n",
        "* map() returns a map object, which is an iterator. You need to convert it into a list or other data structure to see the results, like list(map(...)).\n",
        "* The map object lazily applies the function, meaning it doesn't actually compute results until explicitly asked (e.g., when converting to a list).\n",
        "\n",
        "**When to Use map():**\n",
        "\n",
        "* Functional Programming: map() is ideal for functional programming styles where you apply a single function to a collection of data.\n",
        "* When you want to avoid loops: It can often be more concise and elegant compared to using for loops for similar operations.\n",
        "* Performance: Since map() returns an iterator, it is memory efficient for large datasets because it doesn’t store the entire result in memory.\n",
        "\n",
        "**Summary:**\n",
        "\n",
        "* The map() function applies a function to every item in an iterable (or multiple iterables) and returns an iterator.\n",
        "* It is memory efficient and can handle multiple iterables.\n",
        "* It is commonly used in functional programming to transform data."
      ],
      "metadata": {
        "id": "nVy69oDoqAaB"
      }
    },
    {
      "cell_type": "markdown",
      "source": [
        "# 10. What is the difference between `map()`, `reduce()`, and `filter()` functions in Python?\n",
        "**Ans:-** In Python, map(), reduce(), and filter() are higher-order functions that allow you to process and manipulate collections of data in a functional programming style. While they share similarities, each one serves a distinct purpose.\n",
        "\n",
        "**1. map() Function**\n",
        "* Purpose: Applies a given function to each item of one or more iterables (like lists) and returns a map object (which is an iterator).\n",
        "* Usage: Used when you want to perform an operation on every element of a sequence (e.g., transforming data).\n",
        "* Return Type: Returns a map object, which needs to be converted to a list or another iterable to view the results.\n",
        "\n",
        "Example:"
      ],
      "metadata": {
        "id": "tCCBOGexrrNI"
      }
    },
    {
      "cell_type": "code",
      "source": [
        "numbers = [1, 2, 3, 4]\n",
        "squared_numbers = map(lambda x: x ** 2, numbers)\n",
        "print(list(squared_numbers))  # Output: [1, 4, 9, 16]\n"
      ],
      "metadata": {
        "colab": {
          "base_uri": "https://localhost:8080/"
        },
        "id": "zQQUenvxsG50",
        "outputId": "cc5672e6-541c-4391-f1d0-6b44218ff63b"
      },
      "execution_count": null,
      "outputs": [
        {
          "output_type": "stream",
          "name": "stdout",
          "text": [
            "[1, 4, 9, 16]\n"
          ]
        }
      ]
    },
    {
      "cell_type": "markdown",
      "source": [
        "**2. reduce() Function**\n",
        "* Purpose: Applies a function cumulatively to the items of an iterable, from left to right, to reduce the iterable to a single value.\n",
        "* Usage: Used when you need to combine or reduce a collection of data into a single result, such as summing all elements in a list.\n",
        "* Return Type: Returns a single result, not an iterator.\n",
        "* Location: Since Python 3, reduce() is no longer a built-in function; it’s part of the functools module.\n",
        "\n",
        "Example:"
      ],
      "metadata": {
        "id": "xlgY6p6msalt"
      }
    },
    {
      "cell_type": "code",
      "source": [
        "from functools import reduce\n",
        "\n",
        "numbers = [1, 2, 3, 4]\n",
        "sum_of_numbers = reduce(lambda x, y: x + y, numbers)\n",
        "print(sum_of_numbers)  # Output: 10\n"
      ],
      "metadata": {
        "colab": {
          "base_uri": "https://localhost:8080/"
        },
        "id": "T9fcc2pKst6T",
        "outputId": "c24517e3-68b1-40b3-c11d-d2f095ad6ec4"
      },
      "execution_count": null,
      "outputs": [
        {
          "output_type": "stream",
          "name": "stdout",
          "text": [
            "10\n"
          ]
        }
      ]
    },
    {
      "cell_type": "markdown",
      "source": [
        "**3. filter() Function**\n",
        "* Purpose: Applies a function to each item of an iterable and returns only those items for which the function evaluates to True.\n",
        "* Usage: Used when you want to filter out elements from a sequence based on a condition.\n",
        "* Return Type: Returns a filter object (an iterator) that needs to be converted to a list or other iterable to view the results.\n",
        "\n",
        "Example:"
      ],
      "metadata": {
        "id": "tWY9H1TTtEU7"
      }
    },
    {
      "cell_type": "code",
      "source": [
        "numbers = [1, 2, 3, 4, 5, 6]\n",
        "even_numbers = filter(lambda x: x % 2 == 0, numbers)\n",
        "print(list(even_numbers))  # Output: [2, 4, 6]\n"
      ],
      "metadata": {
        "colab": {
          "base_uri": "https://localhost:8080/"
        },
        "id": "xzhI8yJutPA3",
        "outputId": "42b14769-827d-44b3-9ee0-7b9ec7257e2b"
      },
      "execution_count": null,
      "outputs": [
        {
          "output_type": "stream",
          "name": "stdout",
          "text": [
            "[2, 4, 6]\n"
          ]
        }
      ]
    },
    {
      "cell_type": "markdown",
      "source": [
        "**Summary:**\n",
        "\n",
        "* map() transforms every element in an iterable by applying a function to it.\n",
        "* reduce() combines or aggregates elements in an iterable to produce a single output.\n",
        "* filter() selects elements from an iterable that meet a condition defined by a function.\n",
        "\n",
        "Each function serves a distinct purpose in processing data, and which one to use depends on the specific task (transformation, reduction, or filtering)."
      ],
      "metadata": {
        "id": "XjtAXp4utcCE"
      }
    },
    {
      "cell_type": "markdown",
      "source": [
        "# 11. Using pen & Paper write the internal mechanism for sum operation using  reduce function on this given list:[47,11,42,13];\n",
        "**Ans:-** [google Drive link for this answer](https://drive.google.com/file/d/1eeJaZbzL9exnCC2QicnnQ8HvvGdTR49q/view?usp=sharing)\n",
        "\n",
        "\n"
      ],
      "metadata": {
        "id": "uWBDARmSFOnH"
      }
    },
    {
      "cell_type": "markdown",
      "source": [
        "#**Practical** **Questions**\n",
        "# 1. Write a Python function that takes a list of numbers as input and returns the sum of all even numbers in the list.\n"
      ],
      "metadata": {
        "id": "JXAPvxyrvxLL"
      }
    },
    {
      "cell_type": "code",
      "source": [
        "def sum_of_even_numbers(numbers):\n",
        "    \"\"\"Returns the sum of all even numbers in the given list.\"\"\"\n",
        "    even_sum = sum(num for num in numbers if num % 2 == 0)\n",
        "    return even_sum\n",
        "\n",
        "# Example usage\n",
        "numbers = [1, 2, 3, 4, 5, 6, 7, 8]\n",
        "result = sum_of_even_numbers(numbers)\n",
        "print(f\"The sum of even numbers in the list is: {result}\")  # Output: 20\n"
      ],
      "metadata": {
        "colab": {
          "base_uri": "https://localhost:8080/"
        },
        "id": "kZBEiY1ywdK_",
        "outputId": "e537b56e-fb69-4a94-df56-6856654ae630"
      },
      "execution_count": null,
      "outputs": [
        {
          "output_type": "stream",
          "name": "stdout",
          "text": [
            "The sum of even numbers in the list is: 20\n"
          ]
        }
      ]
    },
    {
      "cell_type": "markdown",
      "source": [
        "# 2. Create a Python function that accepts a string and returns the reverse of that string."
      ],
      "metadata": {
        "id": "UEhThm7Ww_xw"
      }
    },
    {
      "cell_type": "code",
      "source": [
        "def reverse_string(input_string):\n",
        "    \"\"\"Returns the reverse of the given string.\"\"\"\n",
        "    return input_string[::-1]\n",
        "\n",
        "# Example usage\n",
        "original_string = \"Hello, World!\"\n",
        "reversed_string = reverse_string(original_string)\n",
        "print(f\"The reversed string is: '{reversed_string}'\")  # Output: '!dlroW ,olleH'\n"
      ],
      "metadata": {
        "colab": {
          "base_uri": "https://localhost:8080/"
        },
        "id": "zXbdFD3yxR5b",
        "outputId": "f056b2b2-27b1-4caf-ea7c-3641b078f0f8"
      },
      "execution_count": null,
      "outputs": [
        {
          "output_type": "stream",
          "name": "stdout",
          "text": [
            "The reversed string is: '!dlroW ,olleH'\n"
          ]
        }
      ]
    },
    {
      "cell_type": "markdown",
      "source": [
        "# 3. Implement a Python function that takes a list of integers and returns a new list containing the squares of each number.\n"
      ],
      "metadata": {
        "id": "4Gcdzbh8xg4I"
      }
    },
    {
      "cell_type": "code",
      "source": [
        "def square_numbers(numbers):\n",
        "    \"\"\"Returns a new list containing the squares of each number in the input list.\"\"\"\n",
        "    return [num ** 2 for num in numbers]\n",
        "\n",
        "# Example usage\n",
        "original_list = [1, 2, 3, 4, 5]\n",
        "squared_list = square_numbers(original_list)\n",
        "print(f\"The squares of the numbers are: {squared_list}\")  # Output: [1, 4, 9, 16, 25]\n"
      ],
      "metadata": {
        "colab": {
          "base_uri": "https://localhost:8080/"
        },
        "id": "phNUVgKPxr1q",
        "outputId": "c1dbfb9b-ea04-40b2-ada9-3a0f2f11288f"
      },
      "execution_count": null,
      "outputs": [
        {
          "output_type": "stream",
          "name": "stdout",
          "text": [
            "The squares of the numbers are: [1, 4, 9, 16, 25]\n"
          ]
        }
      ]
    },
    {
      "cell_type": "markdown",
      "source": [
        "# 4. Write a Python function that checks if a given number is prime or not from 1 to 200."
      ],
      "metadata": {
        "id": "X3BXLcCRx5kh"
      }
    },
    {
      "cell_type": "code",
      "source": [
        "def is_prime(n):\n",
        "    \"\"\"Checks if a number n is prime.\"\"\"\n",
        "    if n <= 1:\n",
        "        return False  # 0 and 1 are not prime numbers\n",
        "    for i in range(2, int(n**0.5) + 1):\n",
        "        if n % i == 0:\n",
        "            return False  # n is divisible by i, so it's not prime\n",
        "    return True  # n is prime\n",
        "\n",
        "# Example usage\n",
        "for number in range(1, 201):\n",
        "    if is_prime(number):\n",
        "        print(f\"{number} is a prime number.\")\n"
      ],
      "metadata": {
        "colab": {
          "base_uri": "https://localhost:8080/"
        },
        "id": "Q-BehgaLyBBV",
        "outputId": "0a144b41-093a-461a-bab5-61324cff7400"
      },
      "execution_count": null,
      "outputs": [
        {
          "output_type": "stream",
          "name": "stdout",
          "text": [
            "2 is a prime number.\n",
            "3 is a prime number.\n",
            "5 is a prime number.\n",
            "7 is a prime number.\n",
            "11 is a prime number.\n",
            "13 is a prime number.\n",
            "17 is a prime number.\n",
            "19 is a prime number.\n",
            "23 is a prime number.\n",
            "29 is a prime number.\n",
            "31 is a prime number.\n",
            "37 is a prime number.\n",
            "41 is a prime number.\n",
            "43 is a prime number.\n",
            "47 is a prime number.\n",
            "53 is a prime number.\n",
            "59 is a prime number.\n",
            "61 is a prime number.\n",
            "67 is a prime number.\n",
            "71 is a prime number.\n",
            "73 is a prime number.\n",
            "79 is a prime number.\n",
            "83 is a prime number.\n",
            "89 is a prime number.\n",
            "97 is a prime number.\n",
            "101 is a prime number.\n",
            "103 is a prime number.\n",
            "107 is a prime number.\n",
            "109 is a prime number.\n",
            "113 is a prime number.\n",
            "127 is a prime number.\n",
            "131 is a prime number.\n",
            "137 is a prime number.\n",
            "139 is a prime number.\n",
            "149 is a prime number.\n",
            "151 is a prime number.\n",
            "157 is a prime number.\n",
            "163 is a prime number.\n",
            "167 is a prime number.\n",
            "173 is a prime number.\n",
            "179 is a prime number.\n",
            "181 is a prime number.\n",
            "191 is a prime number.\n",
            "193 is a prime number.\n",
            "197 is a prime number.\n",
            "199 is a prime number.\n"
          ]
        }
      ]
    },
    {
      "cell_type": "markdown",
      "source": [
        "# 5. Create an iterator class in Python that generates the Fibonacci sequence up to a specified number of terms.\n"
      ],
      "metadata": {
        "id": "oP0O51I2O1nO"
      }
    },
    {
      "cell_type": "code",
      "source": [
        "class FibonacciIterator:\n",
        "    def __init__(self, num_terms):\n",
        "        self.num_terms = num_terms  # Number of terms to generate\n",
        "        self.count = 0  # Counter to track how many terms have been generated\n",
        "        self.a, self.b = 0, 1  # Initial two Fibonacci numbers\n",
        "\n",
        "    def __iter__(self):\n",
        "        return self  # The __iter__ method returns the iterator object itself\n",
        "\n",
        "    def __next__(self):\n",
        "        if self.count >= self.num_terms:  # Stop iteration after reaching the specified number of terms\n",
        "            raise StopIteration\n",
        "        if self.count == 0:  # For the first term, return 0\n",
        "            self.count += 1\n",
        "            return self.a\n",
        "        elif self.count == 1:  # For the second term, return 1\n",
        "            self.count += 1\n",
        "            return self.b\n",
        "        else:  # For the rest of the terms, calculate the next Fibonacci number\n",
        "            self.a, self.b = self.b, self.a + self.b  # Update the values of a and b\n",
        "            self.count += 1\n",
        "            return self.b\n",
        "\n",
        "# Example: Generating the first 10 Fibonacci numbers\n",
        "fib_sequence = FibonacciIterator(10)\n",
        "for num in fib_sequence:\n",
        "    print(num)\n"
      ],
      "metadata": {
        "colab": {
          "base_uri": "https://localhost:8080/"
        },
        "id": "UBPQ1vcLO8Dn",
        "outputId": "897927c8-8a0f-475a-dc77-3db90acf643e"
      },
      "execution_count": 11,
      "outputs": [
        {
          "output_type": "stream",
          "name": "stdout",
          "text": [
            "0\n",
            "1\n",
            "1\n",
            "2\n",
            "3\n",
            "5\n",
            "8\n",
            "13\n",
            "21\n",
            "34\n"
          ]
        }
      ]
    },
    {
      "cell_type": "markdown",
      "source": [
        "# 6. Write a generator function in Python that yields the powers of 2 up to a given exponent."
      ],
      "metadata": {
        "id": "MXh_rFurywIn"
      }
    },
    {
      "cell_type": "code",
      "source": [
        "def powers_of_two(exponent):\n",
        "    \"\"\"Generator that yields powers of 2 up to the given exponent.\"\"\"\n",
        "    for i in range(exponent + 1):\n",
        "        yield 2 ** i\n",
        "\n",
        "# Example usage\n",
        "exponent = 5\n",
        "print(f\"Powers of 2 up to 2^{exponent}:\")\n",
        "for power in powers_of_two(exponent):\n",
        "    print(power)\n"
      ],
      "metadata": {
        "colab": {
          "base_uri": "https://localhost:8080/"
        },
        "id": "daTiRSSay4zt",
        "outputId": "6fbf9b68-0e27-44f0-8d7d-dd0650d4c5fb"
      },
      "execution_count": null,
      "outputs": [
        {
          "output_type": "stream",
          "name": "stdout",
          "text": [
            "Powers of 2 up to 2^5:\n",
            "1\n",
            "2\n",
            "4\n",
            "8\n",
            "16\n",
            "32\n"
          ]
        }
      ]
    },
    {
      "cell_type": "markdown",
      "source": [
        "# 7. Implement a generator function that reads a file line by line and yields each line as a string.\n"
      ],
      "metadata": {
        "id": "Ku_8uqKzzwSP"
      }
    },
    {
      "cell_type": "code",
      "source": [
        "def read_file_lines(file_path):\n",
        "    \"\"\"Generator that yields each line from the specified file.\"\"\"\n",
        "    with open(file_path, 'r') as file:\n",
        "        for line in file:\n",
        "            yield line.strip()  # Remove leading/trailing whitespace\n",
        "\n",
        "# Example usage\n",
        "file_path = 'example.txt'  # Replace with your file path\n",
        "# for line in read_file_lines(file_path): this wil rise an error beacouse example.txt is not exists.\n",
        "#     print(line)\n",
        "\n",
        "\n",
        "\n"
      ],
      "metadata": {
        "id": "BbbweocP0QBi"
      },
      "execution_count": null,
      "outputs": []
    },
    {
      "cell_type": "markdown",
      "source": [
        "# 8. Use a lambda function in Python to sort a list of tuples based on the second element of each tuple."
      ],
      "metadata": {
        "id": "hiSGVaUA1boh"
      }
    },
    {
      "cell_type": "code",
      "source": [
        "# Sample list of tuples\n",
        "data = [(1, 'banana'), (3, 'apple'), (2, 'orange'), (4, 'kiwi')]\n",
        "\n",
        "# Sorting the list of tuples based on the second element\n",
        "sorted_data = sorted(data, key=lambda x: x[1])\n",
        "\n",
        "# Print the sorted list\n",
        "print(\"Sorted list based on the second element of each tuple:\")\n",
        "print(sorted_data)\n"
      ],
      "metadata": {
        "colab": {
          "base_uri": "https://localhost:8080/"
        },
        "id": "noAqBffS1stp",
        "outputId": "11cfb5bc-0e7d-4fce-9c1f-d0c154ab8a86"
      },
      "execution_count": null,
      "outputs": [
        {
          "output_type": "stream",
          "name": "stdout",
          "text": [
            "Sorted list based on the second element of each tuple:\n",
            "[(3, 'apple'), (1, 'banana'), (4, 'kiwi'), (2, 'orange')]\n"
          ]
        }
      ]
    },
    {
      "cell_type": "markdown",
      "source": [
        "# 9. Write a Python program that uses `map()` to convert a list of temperatures from Celsius to Fahrenheit."
      ],
      "metadata": {
        "id": "hrYpmeOM2BQb"
      }
    },
    {
      "cell_type": "code",
      "source": [
        "def celsius_to_fahrenheit(celsius):\n",
        "    \"\"\"Convert Celsius to Fahrenheit.\"\"\"\n",
        "    return (celsius * 9/5) + 32\n",
        "\n",
        "# Sample list of temperatures in Celsius\n",
        "celsius_temperatures = [0, 20, 37, 100]\n",
        "\n",
        "# Using map() to convert Celsius to Fahrenheit\n",
        "fahrenheit_temperatures = list(map(celsius_to_fahrenheit, celsius_temperatures))\n",
        "\n",
        "# Print the results\n",
        "print(\"Celsius temperatures:\", celsius_temperatures)\n",
        "print(\"Fahrenheit temperatures:\", fahrenheit_temperatures)\n"
      ],
      "metadata": {
        "colab": {
          "base_uri": "https://localhost:8080/"
        },
        "id": "PK4bLEur2Ht7",
        "outputId": "704b07ac-eb5c-4c6f-8165-fbc431bf9db4"
      },
      "execution_count": null,
      "outputs": [
        {
          "output_type": "stream",
          "name": "stdout",
          "text": [
            "Celsius temperatures: [0, 20, 37, 100]\n",
            "Fahrenheit temperatures: [32.0, 68.0, 98.6, 212.0]\n"
          ]
        }
      ]
    },
    {
      "cell_type": "markdown",
      "source": [
        "# 10. Create a Python program that uses `filter()` to remove all the vowels from a given string."
      ],
      "metadata": {
        "id": "5KaYS13hELpC"
      }
    },
    {
      "cell_type": "code",
      "source": [
        "def is_not_vowel(char):\n",
        "    \"\"\"Checks if the character is not a vowel.\"\"\"\n",
        "    vowels = 'aeiouAEIOU'\n",
        "    return char not in vowels\n",
        "\n",
        "# Input string\n",
        "input_string = \"Hello, World!\"\n",
        "\n",
        "# Using filter() to remove vowels from the string\n",
        "filtered_string = ''.join(filter(is_not_vowel, input_string))\n",
        "\n",
        "# Print the result\n",
        "print(\"Original string:\", input_string)\n",
        "print(\"String after removing vowels:\", filtered_string)\n"
      ],
      "metadata": {
        "colab": {
          "base_uri": "https://localhost:8080/"
        },
        "id": "8Rb4MXsDEa1e",
        "outputId": "e78bbbb3-6f09-4bd1-b35b-e233647d7899"
      },
      "execution_count": null,
      "outputs": [
        {
          "output_type": "stream",
          "name": "stdout",
          "text": [
            "Original string: Hello, World!\n",
            "String after removing vowels: Hll, Wrld!\n"
          ]
        }
      ]
    },
    {
      "cell_type": "markdown",
      "source": [
        "\n",
        "# 11. Imagine an accounting routine used in a book shop. It works on a list with sublists, which look like this:"
      ],
      "metadata": {
        "id": "K73zS1u4F3WA"
      }
    },
    {
      "cell_type": "code",
      "source": [
        "# Sample data based on the image provided\n",
        "orders = [\n",
        "    [34587, \"Learning Python, Mark Lutz\", 4, 40.95],\n",
        "    [98762, \"Programming Python, Mark Lutz\", 5, 56.80],\n",
        "    [77226, \"Head First Python, Paul Barry\", 3, 32.95],\n",
        "    [88112, \"Einführung in Python3, Bernd Klein\", 3, 24.99]\n",
        "]\n",
        "\n",
        "# Function to calculate total cost per order with adjustment\n",
        "def calculate_total(orders):\n",
        "    result = []\n",
        "    for order in orders:\n",
        "        order_num = order[0]\n",
        "        quantity = order[2]\n",
        "        price_per_item = order[3]\n",
        "        total_cost = quantity * price_per_item\n",
        "        # Add 10€ if the total cost is less than 100€\n",
        "        if total_cost < 100:\n",
        "            total_cost += 10\n",
        "        result.append((order_num, round(total_cost, 2)))\n",
        "    return result\n",
        "\n",
        "# Example usage\n",
        "order_totals = calculate_total(orders)\n",
        "print(order_totals)\n"
      ],
      "metadata": {
        "colab": {
          "base_uri": "https://localhost:8080/"
        },
        "id": "-3ai1bGZGWQr",
        "outputId": "4327a27a-9d59-4027-ece8-61f4156f56c6"
      },
      "execution_count": null,
      "outputs": [
        {
          "output_type": "stream",
          "name": "stdout",
          "text": [
            "[(34587, 163.8), (98762, 284.0), (77226, 108.85), (88112, 84.97)]\n"
          ]
        }
      ]
    },
    {
      "cell_type": "markdown",
      "source": [
        "# 12. Write a Python program using lambda and map."
      ],
      "metadata": {
        "id": "xzQiVeCkGdk_"
      }
    },
    {
      "cell_type": "code",
      "source": [
        "# Sample list of temperatures in Celsius\n",
        "celsius_temperatures = [0, 20, 37, 100]\n",
        "\n",
        "# Using lambda and map to convert Celsius to Fahrenheit\n",
        "# Formula: Fahrenheit = (Celsius * 9/5) + 32\n",
        "fahrenheit_temperatures = list(map(lambda c: (c * 9/5) + 32, celsius_temperatures))\n",
        "\n",
        "# Print the result\n",
        "print(\"Celsius temperatures:\", celsius_temperatures)\n",
        "print(\"Fahrenheit temperatures:\", fahrenheit_temperatures)\n"
      ],
      "metadata": {
        "colab": {
          "base_uri": "https://localhost:8080/"
        },
        "id": "sBe5PIZyGnTK",
        "outputId": "756b0231-d492-4671-8700-85b0d2ea2800"
      },
      "execution_count": null,
      "outputs": [
        {
          "output_type": "stream",
          "name": "stdout",
          "text": [
            "Celsius temperatures: [0, 20, 37, 100]\n",
            "Fahrenheit temperatures: [32.0, 68.0, 98.6, 212.0]\n"
          ]
        }
      ]
    }
  ]
}