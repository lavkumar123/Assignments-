{
  "nbformat": 4,
  "nbformat_minor": 0,
  "metadata": {
    "colab": {
      "provenance": []
    },
    "kernelspec": {
      "name": "python3",
      "display_name": "Python 3"
    },
    "language_info": {
      "name": "python"
    }
  },
  "cells": [
    {
      "cell_type": "markdown",
      "source": [
        "#  ⚛ **Theoretical** ⚛\n",
        "\n"
      ],
      "metadata": {
        "id": "cKGflcY-G9ud"
      }
    },
    {
      "cell_type": "markdown",
      "source": [
        "# 1. What is Logistic Regression, and how does it differ from Linear Regression.\n",
        "## **Ans:-**  **Logistic Regression vs. Linear Regression**  \n",
        "\n",
        "#### **1. Logistic Regression**  \n",
        "Logistic Regression is a supervised learning algorithm used for **binary classification** (Yes/No, 0/1, True/False) problems. Instead of predicting a continuous value, it estimates the **probability** that a given input belongs to a particular class.  \n",
        "\n",
        "- The **output** is between 0 and 1, representing the probability of an event occurring.  \n",
        "- Uses the **sigmoid function** to map predictions to a probability range.  \n",
        "- The decision boundary is determined using a **threshold** (e.g., 0.5).  \n",
        "\n",
        "\n",
        "\n",
        "\n",
        "---\n",
        "\n",
        "#### **2. Linear Regression**  \n",
        "Linear Regression is used for **continuous numerical prediction** by finding a linear relationship between dependent and independent variables.  \n",
        "\n",
        "- The **output** is a real number.  \n",
        "- Uses a **straight-line equation**:  \n",
        "  \\[\n",
        "  Y = β_0 + β_1X\n",
        "  \\]  \n",
        "\n",
        "---\n",
        "\n",
        "### **Key Differences:**\n",
        "| Feature | Logistic Regression | Linear Regression |\n",
        "|---------|------------------|------------------|\n",
        "| **Type** | Classification | Regression |\n",
        "| **Output** | Probability (0 to 1) | Continuous numeric value |\n",
        "| **Function Used** | Sigmoid function | Linear function |\n",
        "| **Prediction Interpretation** | Classifies into categories (0 or 1) | Predicts a continuous dependent variable |\n",
        "| **Error Metric** | Log Loss (Cross-Entropy) | Mean Squared Error (MSE) |\n",
        "| **Best for** | Yes/No, Spam/Not Spam, Default/No Default | Sales prediction, Price estimation |\n",
        "\n"
      ],
      "metadata": {
        "id": "51R7A839zd3o"
      }
    },
    {
      "cell_type": "markdown",
      "source": [
        "# 2. What is the mathematical equation of Logistic Regression.\n",
        "## **Ans:-**Here’s the **mathematical equation** of Logistic Regression.\n",
        "\n",
        "\n",
        "\n",
        "```plaintext\n",
        "Formula:\n",
        "P(Y = 1 | X) = 1 / (1 + exp(-(β0 + β1X1 + β2X2 + ... + βnXn)))\n",
        "\n",
        "Explanation:\n",
        "- P(Y = 1 | X) → Probability that the output Y belongs to class 1 (positive class).\n",
        "- β0 (Intercept) → A constant that shifts the decision boundary.\n",
        "- β1, β2, ..., βn (Coefficients) → Weights that determine the importance of each feature.\n",
        "- X1, X2, ..., Xn (Input Features) → Independent variables used for prediction.\n",
        "- exp() → Exponential function (Euler’s number, e ≈ 2.718).\n",
        "- The sigmoid function 1 / (1 + exp(-z)) ensures the output is between 0 and 1.\n",
        "```  \n",
        "\n",
        "\n",
        "\n"
      ],
      "metadata": {
        "id": "SW7PtbHy0B_-"
      }
    },
    {
      "cell_type": "markdown",
      "source": [
        "# 3. Why do we use the Sigmoid function in Logistic Regression.\n",
        "## **Ans:-**   \n",
        "\n",
        "The **sigmoid function** is used in Logistic Regression because it converts any real-valued number into a probability between **0 and 1**, which is essential for classification problems.  \n",
        "\n",
        "#### **Sigmoid Function Formula:**\n",
        "```plaintext\n",
        "σ(z) = 1 / (1 + exp(-z))\n",
        "```\n",
        "where **z** is the linear combination of input features and weights:  \n",
        "```plaintext\n",
        "z = β0 + β1X1 + β2X2 + ... + βnXn\n",
        "```\n",
        "\n",
        "---\n",
        "\n",
        "### **Reasons for Using Sigmoid Function:**\n",
        "\n",
        "1. **Probability Output (Range: 0 to 1)**\n",
        "   - The sigmoid function ensures that the output of Logistic Regression is always between **0 and 1**, making it interpretable as a probability.\n",
        "\n",
        "2. **Smooth and Differentiable**\n",
        "   - The function is **smooth** and **continuous**, allowing the model to be optimized using **gradient descent**.\n",
        "\n",
        "3. **Decision Boundary**\n",
        "   - By applying a threshold (e.g., **0.5**), we can classify outcomes:\n",
        "     - If \\( P(Y=1 | X) \\geq 0.5 \\), classify as **1** (positive class).\n",
        "     - If \\( P(Y=1 | X) < 0.5 \\), classify as **0** (negative class).\n",
        "\n",
        "4. **Handles Extreme Values**\n",
        "   - Even for very large or very small values of \\( z \\), the sigmoid function **saturates** and keeps the output within the (0,1) range.\n",
        "\n",
        "5. **Non-Linearity**\n",
        "   - Although Logistic Regression is based on a linear function, the sigmoid function introduces **non-linearity**, making it capable of handling complex decision boundaries.\n",
        "\n",
        "---\n",
        "\n",
        "### **Summary:**\n",
        "The **sigmoid function** is used in Logistic Regression to **map any real value into a probability** between **0 and 1**, enabling binary classification in a smooth and interpretable manner. 🚀"
      ],
      "metadata": {
        "id": "Mvm9TL0A2amA"
      }
    },
    {
      "cell_type": "markdown",
      "source": [
        "# 4. What is the cost function of Logistic Regression.\n",
        "## **Ans:-**  **Cost Function of Logistic Regression**  \n",
        "\n",
        "In **Logistic Regression**, we use the **Log Loss (Logistic Loss) or Cross-Entropy Loss** as the **cost function**, because the **Mean Squared Error (MSE)** used in Linear Regression is not suitable for classification problems.\n",
        "\n",
        "---\n",
        "\n",
        "### **Formula for Cost Function (Log Loss):**  \n",
        "```plaintext\n",
        "J(β) = - (1/m) * Σ [ y_i * log(h(x_i)) + (1 - y_i) * log(1 - h(x_i)) ]\n",
        "```\n",
        "where:  \n",
        "- **J(β)** → Cost function (to be minimized).  \n",
        "- **m** → Number of training examples.  \n",
        "- **y_i** → Actual class label (0 or 1).  \n",
        "- **h(x_i)** → Predicted probability (sigmoid output) for input \\( x_i \\).  \n",
        "- **log()** → Natural logarithm function.  \n",
        "- **Σ** → Summation over all training examples.  \n",
        "\n",
        "---\n",
        "\n",
        "### **Explanation:**\n",
        "- **For \\( y = 1 \\):** The function simplifies to **\\( -log(h(x)) \\)**.  \n",
        "  - If **\\( h(x) \\) is close to 1**, **log(h(x))** is **close to 0** (low cost ✅).  \n",
        "  - If **\\( h(x) \\) is close to 0**, **log(h(x))** becomes **very large** (high cost ❌).  \n",
        "\n",
        "- **For \\( y = 0 \\):** The function simplifies to **\\( -log(1 - h(x)) \\)**.  \n",
        "  - If **\\( h(x) \\) is close to 0**, **log(1 - h(x))** is **close to 0** (low cost ✅).  \n",
        "  - If **\\( h(x) \\) is close to 1**, **log(1 - h(x))** becomes **very large** (high cost ❌).  \n",
        "\n",
        "---\n",
        "\n",
        "### **Why Not Use Mean Squared Error (MSE)?**\n",
        "- MSE is used in **Linear Regression** but not in **Logistic Regression** because:\n",
        "  - The output of Logistic Regression is **non-linear** (sigmoid function).\n",
        "  - MSE results in a **non-convex loss function**, making optimization harder.\n",
        "  - Log Loss ensures a **convex** function, allowing **gradient descent** to converge efficiently.\n",
        "\n",
        "---\n",
        "\n",
        "### **Final Takeaway:**\n",
        "The **log loss (cross-entropy loss)** function in Logistic Regression measures how well the model predicts the correct class. The goal is to **minimize this cost function** using **gradient descent** to improve the model's accuracy. 🚀"
      ],
      "metadata": {
        "id": "WGlwrwrR3VC0"
      }
    },
    {
      "cell_type": "markdown",
      "source": [
        "# 5. What is Regularization in Logistic Regression? Why is it needed.\n",
        "## **Ans:-** **Regularization in Logistic Regression**  \n",
        "\n",
        "**Regularization** in Logistic Regression is a technique used to **prevent overfitting** by adding a penalty to the cost function. It helps the model generalize better by discouraging overly complex models with large coefficients.\n",
        "\n",
        "---\n",
        "\n",
        "### **Why is Regularization Needed?**\n",
        "1. **Prevents Overfitting**  \n",
        "   - When a model has too many parameters, it may fit the training data too well but perform poorly on unseen data. Regularization **reduces variance** and improves generalization.\n",
        "\n",
        "2. **Controls Model Complexity**  \n",
        "   - Without regularization, the Logistic Regression model may assign **very large weights** to some features, making the model too sensitive to noise.\n",
        "\n",
        "3. **Avoids Multicollinearity Issues**  \n",
        "   - If input features are highly correlated, regularization helps **reduce dependency** on any single feature.\n",
        "\n",
        "---\n",
        "\n",
        "### **Types of Regularization in Logistic Regression**\n",
        "#### **1. L1 Regularization (Lasso)**\n",
        "- Adds the **absolute** value of coefficients to the cost function.\n",
        "- Encourages sparsity (i.e., some coefficients become **exactly 0**, effectively performing feature selection).\n",
        "\n",
        "  **Modified Cost Function (L1 Regularization):**\n",
        "  ```plaintext\n",
        "  J(β) = - (1/m) * Σ [ y_i * log(h(x_i)) + (1 - y_i) * log(1 - h(x_i)) ] + λ Σ |β_j|\n",
        "  ```\n",
        "  - **λ (Lambda)**: Regularization parameter that controls the strength of the penalty.\n",
        "  - Higher λ → More features get **zeroed out** → Simpler model.\n",
        "\n",
        "---\n",
        "\n",
        "#### **2. L2 Regularization (Ridge)**\n",
        "- Adds the **square** of coefficients to the cost function.\n",
        "- Does not remove features but **shrinks** the coefficient values, making them smaller and preventing high sensitivity to any one feature.\n",
        "\n",
        "  **Modified Cost Function (L2 Regularization):**\n",
        "  ```plaintext\n",
        "  J(β) = - (1/m) * Σ [ y_i * log(h(x_i)) + (1 - y_i) * log(1 - h(x_i)) ] + λ Σ β_j²\n",
        "  ```\n",
        "  - Higher λ → More penalty on large coefficients → **Smaller weights**.\n",
        "\n",
        "---\n",
        "\n",
        "#### **3. Elastic Net (Combination of L1 & L2)**\n",
        "- Uses both **L1 (Lasso)** and **L2 (Ridge)** regularization.\n",
        "- Helps in situations where Lasso might select too few features, and Ridge might not reduce coefficients enough.\n",
        "\n",
        "---\n",
        "\n",
        "### **Key Takeaways**\n",
        "| Regularization Type | Effect on Coefficients | Use Case |\n",
        "|--------------------|----------------------|---------|\n",
        "| **L1 (Lasso)** | Some coefficients become **zero** (Feature Selection) | If many features are irrelevant |\n",
        "| **L2 (Ridge)** | Coefficients shrink but remain nonzero | When all features contribute to prediction |\n",
        "| **Elastic Net** | Combination of L1 & L2 | When feature selection and coefficient shrinkage are both needed |\n",
        "\n",
        "---\n",
        "\n",
        "### **Conclusion**\n",
        "Regularization in Logistic Regression **improves model generalization** by controlling overfitting. **L1 (Lasso) removes irrelevant features**, while **L2 (Ridge) prevents large weights**. The choice depends on whether you need **feature selection** (L1) or just **coefficient shrinkage** (L2). 🚀"
      ],
      "metadata": {
        "id": "kTCqqxFO4DbW"
      }
    },
    {
      "cell_type": "markdown",
      "source": [
        "# 6. Explain the difference between Lasso, Ridge, and Elastic Net regression.\n",
        "## **Ans:-**  **Difference Between Lasso, Ridge, and Elastic Net Regression**  \n",
        "\n",
        "Regularization helps prevent **overfitting** by adding a penalty term to the cost function. The key difference between **Lasso, Ridge, and Elastic Net** lies in **how they apply the penalty** to the model coefficients.\n",
        "\n",
        "---\n",
        "\n",
        "### **1. Lasso Regression (L1 Regularization)**\n",
        "✔ Uses the **absolute values** of the coefficients as a penalty term.  \n",
        "✔ Can **eliminate** some coefficients by making them **exactly zero** (Feature Selection).  \n",
        "✔ Helps in **sparse models**, where only a few features are relevant.  \n",
        "\n",
        "#### **Cost Function:**\n",
        "```plaintext\n",
        "J(β) = RSS + λ Σ |β_j|\n",
        "```\n",
        "- **RSS** = Residual Sum of Squares (Original loss from linear regression).  \n",
        "- **λ** = Regularization parameter (higher λ → more coefficients shrink to 0).  \n",
        "- **Σ |β_j|** = Sum of absolute values of coefficients.  \n",
        "\n",
        "#### **When to Use Lasso?**\n",
        "- When you need **feature selection**.\n",
        "- When there are **many irrelevant features** in the dataset.\n",
        "\n",
        "---\n",
        "\n",
        "### **2. Ridge Regression (L2 Regularization)**\n",
        "✔ Uses the **square** of the coefficients as a penalty term.  \n",
        "✔ Does **not eliminate** coefficients but **shrinks them**.  \n",
        "✔ Helps when **all features are useful**, but some need **lower weights**.  \n",
        "\n",
        "#### **Cost Function:**\n",
        "```plaintext\n",
        "J(β) = RSS + λ Σ β_j²\n",
        "```\n",
        "- **Σ β_j²** = Sum of squared values of coefficients.  \n",
        "\n",
        "#### **When to Use Ridge?**\n",
        "- When **all features contribute** to the model, but some need to be **regularized**.\n",
        "- When there is **multicollinearity** (high correlation between features).\n",
        "\n",
        "---\n",
        "\n",
        "### **3. Elastic Net Regression (Combination of L1 & L2)**\n",
        "✔ **Hybrid approach** combining Lasso and Ridge.  \n",
        "✔ Uses both **absolute values (L1) and squared values (L2)** in the penalty term.  \n",
        "✔ Helps in situations where **Lasso may select too few features** or **Ridge may not shrink enough**.  \n",
        "\n",
        "#### **Cost Function:**\n",
        "```plaintext\n",
        "J(β) = RSS + λ1 Σ |β_j| + λ2 Σ β_j²\n",
        "```\n",
        "- **λ1** controls the Lasso (L1) part.  \n",
        "- **λ2** controls the Ridge (L2) part.  \n",
        "\n",
        "#### **When to Use Elastic Net?**\n",
        "- When **feature selection and coefficient shrinkage are both needed**.\n",
        "- When there are **highly correlated** features.\n",
        "\n",
        "---\n",
        "\n",
        "### **Comparison Table**\n",
        "| Feature | Lasso (L1) | Ridge (L2) | Elastic Net (L1 + L2) |\n",
        "|---------|------------|------------|----------------|\n",
        "| **Penalty Term** | **Σ |β_j|** (Absolute values) | **Σ β_j²** (Squared values) | **Σ |β_j| + Σ β_j²** |\n",
        "| **Feature Selection?** | ✅ Yes (Some coefficients become exactly **0**) | ❌ No (Coefficients shrink but remain nonzero) | ✅ Yes (Combines L1's selection & L2's shrinkage) |\n",
        "| **Best for?** | Sparse models, irrelevant features | Multicollinearity, keeping all features | High-dimensional data, correlated features |\n",
        "| **Disadvantage?** | May remove useful features | Cannot eliminate irrelevant features | More computationally expensive |\n",
        "\n",
        "---\n",
        "\n",
        "### **Final Takeaway**\n",
        "- **Lasso (L1)** → Feature selection, removes irrelevant features.  \n",
        "- **Ridge (L2)** → Shrinks all coefficients but keeps them nonzero.  \n",
        "- **Elastic Net (L1 + L2)** → Best of both worlds, works well with correlated features.  \n",
        "\n",
        "🚀 **Choose based on your dataset:**  \n",
        "- **Few important features?** → **Lasso**  \n",
        "- **All features matter?** → **Ridge**  \n",
        "- **High-dimensional, correlated features?** → **Elastic Net**"
      ],
      "metadata": {
        "id": "S8vIXqtB4SSN"
      }
    },
    {
      "cell_type": "markdown",
      "source": [
        "# 7. When should we use Elastic Net instead of Lasso or Ridge.\n",
        "## **Ans:-**  **When to Use Elastic Net Instead of Lasso or Ridge**  \n",
        "\n",
        "**Elastic Net** is a combination of **Lasso (L1)** and **Ridge (L2)** regularization. It is preferred over Lasso or Ridge in the following situations:\n",
        "\n",
        "---\n",
        "\n",
        "### **1. When Features Are Highly Correlated**\n",
        "✔ **Why?** Lasso tends to select only one feature among a group of highly correlated features and ignores the others, while Ridge shrinks all but doesn’t select.  \n",
        "✔ **Elastic Net** prevents Lasso’s bias by keeping a balance between selection and shrinkage.\n",
        "\n",
        "📌 **Example:**  \n",
        "If two features (X1 and X2) are **highly correlated**, Lasso might remove one, but Elastic Net **retains both with reduced coefficients**, preventing loss of information.\n",
        "\n",
        "---\n",
        "\n",
        "### **2. When You Need Feature Selection but Lasso Is Too Aggressive**\n",
        "✔ **Why?** Lasso (L1) can shrink some coefficients **exactly to zero**, which is great for feature selection but can sometimes remove too many important features.  \n",
        "✔ **Elastic Net** reduces some coefficients to zero but **keeps more relevant features** than Lasso.\n",
        "\n",
        "📌 **Example:**  \n",
        "If Lasso removes **too many features**, Elastic Net ensures **some of them are kept** while still reducing complexity.\n",
        "\n",
        "---\n",
        "\n",
        "### **3. When the Number of Features Is Much Greater Than the Number of Observations**\n",
        "✔ **Why?** Lasso struggles in **high-dimensional datasets** because it selects too few features. Ridge does better but doesn’t eliminate any.  \n",
        "✔ **Elastic Net** ensures **better performance in high-dimensional spaces** by balancing feature selection (L1) and coefficient shrinkage (L2).\n",
        "\n",
        "📌 **Example:**  \n",
        "In **genomics datasets**, where there are thousands of genes (features) but only a few hundred samples (observations), Elastic Net is preferred.\n",
        "\n",
        "---\n",
        "\n",
        "### **4. When Lasso Faces Instability Issues**\n",
        "✔ **Why?** If there are **strong correlations** among features, Lasso can become unstable, selecting different features in different datasets.  \n",
        "✔ **Elastic Net** stabilizes feature selection by using Ridge’s influence.\n",
        "\n",
        "📌 **Example:**  \n",
        "In **finance**, where multiple economic indicators are correlated, Elastic Net prevents Lasso’s tendency to randomly drop some predictors.\n",
        "\n",
        "---\n",
        "\n",
        "### **5. When You Want to Combine the Benefits of Lasso & Ridge**\n",
        "✔ **Why?** Lasso is good for feature selection, and Ridge is good for handling multicollinearity. Elastic Net **combines both advantages**.\n",
        "\n",
        "📌 **Example:**  \n",
        "- If **Lasso is too aggressive** in removing features → Use Elastic Net.  \n",
        "- If **Ridge keeps too many irrelevant features** → Use Elastic Net.  \n",
        "\n",
        "---\n",
        "\n",
        "### **Key Takeaways**  \n",
        "| Scenario | Use **Lasso (L1)** | Use **Ridge (L2)** | Use **Elastic Net** |\n",
        "|----------|----------------|----------------|----------------|\n",
        "| **High correlation among features** | ❌ Not ideal (removes one feature) | ✅ Works but keeps all features | ✅ Best (keeps & shrinks) |\n",
        "| **Need feature selection** | ✅ Yes (some coefficients = 0) | ❌ No (shrinks all coefficients) | ✅ Yes (but not as aggressive as Lasso) |\n",
        "| **High-dimensional data (p >> n)** | ❌ May select too few features | ✅ Works well | ✅ Best (handles sparsity & selection) |\n",
        "| **Lasso is unstable** | ❌ Yes | ✅ Stable | ✅ More stable |\n",
        "\n",
        "### **Conclusion** 🚀  \n",
        "Use **Elastic Net** when:\n",
        "1. **Features are highly correlated** (prevents Lasso from removing too many).\n",
        "2. **Lasso removes too many features** (Elastic Net balances selection and shrinkage).\n",
        "3. **High-dimensional data with more features than observations**.\n",
        "4. **Lasso shows instability** in feature selection.\n",
        "\n",
        "✔ **If Lasso is too harsh, and Ridge is too lenient, Elastic Net is the perfect balance!** 🎯"
      ],
      "metadata": {
        "id": "wfg71rK05L-i"
      }
    },
    {
      "cell_type": "markdown",
      "source": [
        "# 8. What is the impact of the regularization parameter (λ) in Logistic Regression.\n",
        "## **Ans:-**  **Impact of the Regularization Parameter (λ) in Logistic Regression**  \n",
        "\n",
        "The **regularization parameter (λ)** in **Logistic Regression** controls the **strength of the penalty** applied to the model's coefficients. It helps in **preventing overfitting** or **underfitting** by adjusting the weight of the regularization term.  \n",
        "\n",
        "---\n",
        "\n",
        "### **1. Effect of Increasing λ (Higher Regularization)**\n",
        "✔ **Stronger penalty on coefficients (β values shrink)**  \n",
        "✔ **Reduces model complexity → Prevents overfitting**  \n",
        "✔ **Too high λ → Underfitting (loses important patterns in data)**  \n",
        "\n",
        "📌 **Example:** If λ is too high, the model may **oversimplify** and fail to capture key relationships.\n",
        "\n",
        "---\n",
        "\n",
        "### **2. Effect of Decreasing λ (Lower Regularization)**\n",
        "✔ **Less penalty on coefficients (β values remain larger)**  \n",
        "✔ **Model complexity increases → Higher risk of overfitting**  \n",
        "✔ **Too low λ → Model memorizes training data (high variance)**  \n",
        "\n",
        "📌 **Example:** If λ is too low (or 0), the model may **overfit** to noise in the dataset.\n",
        "\n",
        "---\n",
        "\n",
        "### **3. Choosing the Right λ (Bias-Variance Tradeoff)**\n",
        "- **Small λ** → **High variance, low bias** (Overfitting risk)  \n",
        "- **Large λ** → **Low variance, high bias** (Underfitting risk)  \n",
        "- **Optimal λ** → Achieves a balance between **bias & variance**  \n",
        "\n",
        "📌 **How to Find the Best λ?**  \n",
        "Use **Cross-validation** (Grid Search, Random Search) to find the optimal λ.\n",
        "\n",
        "---\n",
        "\n",
        "### **4. Impact on Lasso (L1) and Ridge (L2) Regularization**\n",
        "| Regularization Type | Effect of **High λ** | Effect of **Low λ** |\n",
        "|---------------------|---------------------|---------------------|\n",
        "| **Lasso (L1)** | More features become **exactly 0** (feature selection) | Less shrinkage, keeps more features |\n",
        "| **Ridge (L2)** | All coefficients shrink, but none go to 0 | Coefficients remain large, more overfitting |\n",
        "| **Elastic Net (L1 + L2)** | Balances shrinkage & selection | Less regularization, behaves like Linear Regression |\n",
        "\n",
        "---\n",
        "\n",
        "### **Key Takeaways** 🎯\n",
        "✔ **High λ → More regularization → Prevents overfitting but may underfit.**  \n",
        "✔ **Low λ → Less regularization → Retains complexity but may overfit.**  \n",
        "✔ **Optimal λ → Chosen via cross-validation to balance bias-variance.**  \n",
        "\n",
        "**🚀 Rule of Thumb:**  \n",
        "- If the model is **overfitting**, **increase λ**.  \n",
        "- If the model is **underfitting**, **decrease λ**."
      ],
      "metadata": {
        "id": "a0nm-oga5nSz"
      }
    },
    {
      "cell_type": "markdown",
      "source": [
        "# 9.What are the key assumptions of Logistic Regression.\n",
        "## **Ans:- Key Assumptions of Logistic Regression**  \n",
        "\n",
        "While **Logistic Regression** is a powerful classification algorithm, it relies on several key assumptions:  \n",
        "\n",
        "---\n",
        "\n",
        "### **1. The Dependent Variable Is Binary or Categorical**  \n",
        "✔ Logistic Regression is designed for **binary (0/1, Yes/No)** or **multi-class classification** (extended via Softmax).  \n",
        "✔ If the target is continuous, use **Linear Regression** instead.  \n",
        "\n",
        "📌 **Example:**  \n",
        "- **✅ Valid:** Predicting whether a customer will **buy (1) or not buy (0)** a product.  \n",
        "- **❌ Invalid:** Predicting a person’s **salary (continuous variable).**  \n",
        "\n",
        "---\n",
        "\n",
        "### **2. The Relationship Between Features and Log-Odds Is Linear**  \n",
        "✔ Logistic Regression models the relationship between **independent variables (X)** and the **log-odds of the dependent variable (Y)** using a linear function.  \n",
        "✔ It **does NOT assume a linear relationship between X and Y**, but between X and **log(p/(1-p))** (log-odds).  \n",
        "\n",
        "\n",
        "✔ If the relationship is **non-linear**, use **feature transformation** (polynomial terms, interaction terms) or **non-linear models** (e.g., decision trees, neural networks).  \n",
        "\n",
        "---\n",
        "\n",
        "### **3. No or Low Multicollinearity Among Independent Variables**  \n",
        "✔ Multicollinearity occurs when two or more independent variables are **highly correlated**, making coefficient estimation unstable.  \n",
        "✔ If present, use **Variance Inflation Factor (VIF)** to detect it and apply **PCA, Lasso Regularization, or remove redundant features**.  \n",
        "\n",
        "📌 **Example:**  \n",
        "- **Problematic:** Including both **height in cm** and **height in inches** (redundant).  \n",
        "- **Solution:** Remove one of the two highly correlated features.  \n",
        "\n",
        "---\n",
        "\n",
        "### **4. Large Sample Size for Stable Estimates**  \n",
        "✔ Logistic Regression works best with **a sufficiently large dataset**.  \n",
        "✔ With **small datasets**, estimates may be unstable or biased.  \n",
        "\n",
        "📌 **Rule of Thumb:**  \n",
        "For **binary classification**, aim for at least **10 observations per parameter** (independent variable).  \n",
        "\n",
        "---\n",
        "\n",
        "### **5. Independent Observations (No Autocorrelation)**  \n",
        "✔ Observations should be **independent of each other** (no dependency between samples).  \n",
        "✔ If data is time-dependent (e.g., stock prices, sales data), use **time-series models** (e.g., ARIMA, LSTMs).  \n",
        "\n",
        "📌 **Example:**  \n",
        "- **✅ Independent:** Predicting loan approval for **different customers**.  \n",
        "- **❌ Dependent:** Predicting stock prices where today’s price is dependent on yesterday’s price.  \n",
        "\n",
        "---\n",
        "\n",
        "### **6. No Extreme Outliers Influencing the Model**  \n",
        "✔ Logistic Regression is **sensitive to outliers**, especially in small datasets.  \n",
        "✔ Use **Box Plots, Z-scores, or IQR method** to detect and handle outliers.  \n",
        "\n",
        "📌 **Example:**  \n",
        "- If most **income values are between $30K - $100K**, but one is **$1M**, it might skew predictions.  \n",
        "\n",
        "---\n",
        "\n",
        "### **7. The Model Uses the Correct Functional Form (No Omitted Variables)**  \n",
        "✔ Important variables **should not be omitted** from the model, or the prediction accuracy may decrease.  \n",
        "✔ Feature selection techniques like **stepwise regression, Lasso, or domain knowledge** help identify necessary variables.  \n",
        "\n",
        "📌 **Example:**  \n",
        "- If predicting **heart disease**, ignoring **blood pressure** may lead to poor model performance.  \n",
        "\n",
        "---\n",
        "\n",
        "### **Key Takeaways** 🎯  \n",
        "| Assumption | Meaning | Possible Fix |\n",
        "|------------|--------|--------------|\n",
        "| **Binary or Categorical Y** | Dependent variable must be **0/1** or categorical | Use **Linear Regression** for continuous targets |\n",
        "| **Linear Relationship with Log-Odds** | Features must be linearly related to **log(p/(1-p))** | Use **polynomial terms** or **non-linear models** |\n",
        "| **No Multicollinearity** | Features should not be highly correlated | Use **VIF**, **PCA**, or **Lasso Regularization** |\n",
        "| **Large Sample Size** | Model needs enough observations for stable estimates | Increase dataset size if possible |\n",
        "| **Independent Observations** | No correlation between observations | Use **time-series models** if data is sequential |\n",
        "| **No Outliers** | Outliers can distort predictions | Detect using **Box Plots, IQR, or Z-scores** |\n",
        "| **No Omitted Variables** | Missing key variables can reduce accuracy | Use **feature selection** techniques |\n",
        "\n",
        "**🚀 Summary:**  \n",
        "✔ Logistic Regression does **not assume normality or homoscedasticity** (unlike Linear Regression).  \n",
        "✔ If assumptions are violated, **feature engineering, transformations, or using non-linear models** can help."
      ],
      "metadata": {
        "id": "h9zGKN_K6eK6"
      }
    },
    {
      "cell_type": "markdown",
      "source": [
        "# 10. What are some alternatives to Logistic Regression for classification tasks.\n",
        "## **Ans:-**  **Alternatives to Logistic Regression for Classification Tasks**  \n",
        "\n",
        "While **Logistic Regression** is a widely used classification algorithm, other machine learning models can often **perform better** depending on the dataset, complexity, and interpretability needs. Below are some alternatives:  \n",
        "\n",
        "---\n",
        "\n",
        "## **1. Decision Trees** 🌳  \n",
        "✔ Splits data into hierarchical **if-else** conditions.  \n",
        "✔ Works well for **non-linear relationships** and **categorical data**.  \n",
        "✔ Prone to **overfitting** (can be controlled with pruning).  \n",
        "\n",
        "📌 **Use Case:** Credit risk assessment, medical diagnosis.  \n",
        "\n",
        "---\n",
        "\n",
        "## **2. Random Forest** 🌲🌲  \n",
        "✔ An **ensemble** of multiple Decision Trees (reduces overfitting).  \n",
        "✔ Handles **missing data and outliers** well.  \n",
        "✔ Computationally **expensive** compared to Logistic Regression.  \n",
        "\n",
        "📌 **Use Case:** Fraud detection, customer churn prediction.  \n",
        "\n",
        "---\n",
        "\n",
        "## **3. Gradient Boosting (XGBoost, LightGBM, CatBoost)** 🚀  \n",
        "✔ Boosted ensemble models that sequentially correct errors.  \n",
        "✔ Handles **imbalanced datasets** and **high-dimensional data** well.  \n",
        "✔ Computationally expensive but **often best for structured data**.  \n",
        "\n",
        "📌 **Use Case:** Kaggle competitions, recommendation systems.  \n",
        "\n",
        "---\n",
        "\n",
        "## **4. Support Vector Machine (SVM)** 🛑  \n",
        "✔ Finds the **best hyperplane** to separate classes.  \n",
        "✔ Works well with **high-dimensional and small datasets**.  \n",
        "✔ Computationally expensive for large datasets.  \n",
        "\n",
        "📌 **Use Case:** Text classification, image recognition.  \n",
        "\n",
        "---\n",
        "\n",
        "## **5. k-Nearest Neighbors (k-NN)** 📍  \n",
        "✔ A simple, **instance-based learning** method.  \n",
        "✔ No training required; predicts based on **nearest neighbors**.  \n",
        "✔ Computationally expensive for **large datasets**.  \n",
        "\n",
        "📌 **Use Case:** Recommendation systems, pattern recognition.  \n",
        "\n",
        "---\n",
        "\n",
        "## **6. Naïve Bayes** 🎲  \n",
        "✔ Based on **Bayes' Theorem**, assumes feature independence.  \n",
        "✔ Works well for **text classification** and **spam filtering**.  \n",
        "✔ Assumption of feature independence may not always hold.  \n",
        "\n",
        "📌 **Use Case:** Spam filtering, sentiment analysis.  \n",
        "\n",
        "---\n",
        "\n",
        "## **7. Neural Networks (Deep Learning)** 🧠  \n",
        "✔ Learns complex, non-linear patterns.  \n",
        "✔ Requires **large datasets** and **high computational power**.  \n",
        "✔ Harder to interpret compared to Logistic Regression.  \n",
        "\n",
        "📌 **Use Case:** Image classification, speech recognition.  \n",
        "\n",
        "---\n",
        "\n",
        "### **Comparison of Alternatives**  \n",
        "\n",
        "| Model | Pros | Cons | Best for |\n",
        "|-------|------|------|----------|\n",
        "| **Logistic Regression** | Simple, interpretable | Assumes linearity, weak for complex data | Small datasets, interpretability |\n",
        "| **Decision Tree** | Handles non-linearity, easy to interpret | Overfits if not pruned | Rule-based classification |\n",
        "| **Random Forest** | Reduces overfitting, handles missing values | Computationally expensive | Tabular data, structured problems |\n",
        "| **XGBoost/LightGBM** | High accuracy, good for imbalanced data | Requires tuning | Large datasets, Kaggle problems |\n",
        "| **SVM** | Works well in high-dimensional space | Slow for large datasets | Image/text classification |\n",
        "| **k-NN** | No training required, simple | Slow for big data, sensitive to noise | Pattern recognition |\n",
        "| **Naïve Bayes** | Fast, good for text data | Assumes feature independence | Spam filtering, NLP tasks |\n",
        "| **Neural Networks** | Handles complex relationships | Requires large data, hard to interpret | Deep learning tasks |\n",
        "\n",
        "---\n",
        "\n",
        "### **🚀 Takeaways**  \n",
        "✔ If the dataset is **small & interpretable**, **Logistic Regression** is a good choice.  \n",
        "✔ If data is **non-linear**, try **Decision Trees, SVM, or Neural Networks**.  \n",
        "✔ If dataset is **large**, use **Random Forest, XGBoost, or Deep Learning**.  \n",
        "✔ If speed is crucial, **Naïve Bayes or Logistic Regression** works well.  \n",
        "\n",
        "📌 **Final Thought:** The best model depends on **data size, feature relationships, and interpretability needs**. 🚀"
      ],
      "metadata": {
        "id": "pZvRD2dS7V2l"
      }
    },
    {
      "cell_type": "markdown",
      "source": [
        "# 11. What are Classification Evaluation Metrics.\n",
        "## **Ans:-** **Classification Evaluation Metrics**  \n",
        "\n",
        "When evaluating a classification model, we need to measure **how well** it predicts the correct class labels. Below are key evaluation metrics used in classification tasks:\n",
        "\n",
        "---\n",
        "\n",
        "## **1. Accuracy** ✅  \n",
        "✔ Measures the **overall correctness** of the model.  \n",
        "\n",
        "📌 **Formula:**  \n",
        "          **(TP + TN) / (TP + TN + FP + FN)**\n",
        "- **TP (True Positive):** Correctly predicted positive cases.  \n",
        "- **TN (True Negative):** Correctly predicted negative cases.  \n",
        "- **FP (False Positive):** Incorrectly predicted positive cases (Type I error).  \n",
        "- **FN (False Negative):** Incorrectly predicted negative cases (Type II error).  \n",
        "\n",
        "⚠ **Limitation:**  \n",
        "- **Not suitable for imbalanced datasets** (e.g., if 95% of cases belong to one class, the model can predict the majority class and still have high accuracy).  \n",
        "\n",
        "---\n",
        "\n",
        "## **2. Precision (Positive Predictive Value)** 🎯  \n",
        "✔ Measures **how many of the predicted positives are actually correct**.  \n",
        "\n",
        "📌 **Formula:**  \n",
        " **TP / (TP + FP)**\n",
        "- High **precision** means fewer **false positives**.  \n",
        "- Useful when **False Positives are costly** (e.g., spam detection, medical diagnosis).  \n",
        "\n",
        "📌 **Example:**  \n",
        "If a model predicts **100 spam emails**, but only **80 are actually spam**, precision = **80%**.\n",
        "\n",
        "---\n",
        "\n",
        "## **3. Recall (Sensitivity or True Positive Rate)** 🔍  \n",
        "✔ Measures **how many actual positives were correctly predicted**.  \n",
        "\n",
        "📌 **Formula:**  \n",
        "**TP / (TP + FN)**\n",
        "- High **recall** means fewer **false negatives**.  \n",
        "- Useful when **False Negatives are costly** (e.g., medical tests, fraud detection).  \n",
        "\n",
        "📌 **Example:**  \n",
        "If a model detects **80 out of 100 actual fraud cases**, recall = **80%**.\n",
        "\n",
        "---\n",
        "\n",
        "## **4. F1 Score** ⚖  \n",
        "✔ A balance between **precision and recall**.  \n",
        "✔ Useful when **data is imbalanced**.  \n",
        "\n",
        "📌 **Formula:**  \n",
        "**F1 = 2 * (Precision * Recall) / (Precision + Recall)**\n",
        "- **High F1 Score** = Good balance of **precision and recall**.  \n",
        "\n",
        "📌 **Example:**  \n",
        "If Precision = **80%** and Recall = **70%**, then:  \n",
        "\\[\n",
        "F1 = 2 * {0.8 *  0.7} / {0.8 + 0.7} = 0.746\n",
        "\\]\n",
        "\n",
        "---\n",
        "\n",
        "## **5. ROC Curve & AUC (Area Under Curve)** 📈  \n",
        "✔ **ROC (Receiver Operating Characteristic) Curve** plots **True Positive Rate (Recall) vs. False Positive Rate (FPR)**.  \n",
        "✔ **AUC (Area Under Curve)** measures **model performance** across all thresholds.  \n",
        "\n",
        "📌 **Interpretation:**  \n",
        "- **AUC = 1** → Perfect Model ✅  \n",
        "- **AUC = 0.5** → Random Guessing ❌  \n",
        "- **AUC < 0.5** → Worse than random 😨  \n",
        "\n",
        "📌 **Use Case:**  \n",
        "- Compare different models based on their ability to **distinguish between classes**.  \n",
        "\n",
        "---\n",
        "\n",
        "## **6. Log Loss (Logarithmic Loss)** 📉  \n",
        "✔ Measures how **confident** the model's probability predictions are.  \n",
        "✔ Lower log loss = **better predictions**.  \n",
        "\n",
        "📌 **Formula:**  \n",
        "**FPR = FP / (FP + TN)Log Loss = -(1/N) * Σ [ y_i * log(p_i) + (1 - y_i) * log(1 - p_i) ]**\n",
        "\n",
        "Where:  \n",
        "- \\( y_i \\) is the actual label (0 or 1).  \n",
        "- \\( p_i \\) is the predicted probability.  \n",
        "- **Lower log loss** = **better probability estimates**.  \n",
        "\n",
        "📌 **Use Case:**  \n",
        "- Used in probabilistic models (e.g., Logistic Regression).  \n",
        "\n",
        "---\n",
        "\n",
        "## **7. Confusion Matrix** 🏆  \n",
        "✔ A **table** showing the actual vs. predicted classifications.  \n",
        "\n",
        "📌 **Example Confusion Matrix for Binary Classification:**  \n",
        "\n",
        "| Actual \\ Predicted | **Positive (1)** | **Negative (0)** |\n",
        "|-------------------|----------------|----------------|\n",
        "| **Positive (1)** | **TP (True Positives)** | **FN (False Negatives)** |\n",
        "| **Negative (0)** | **FP (False Positives)** | **TN (True Negatives)** |\n",
        "\n",
        "✔ Helps in understanding **model errors**.  \n",
        "\n",
        "📌 **Use Case:**  \n",
        "- Analyze **false positives vs. false negatives** in medical diagnosis.  \n",
        "\n",
        "---\n",
        "\n",
        "### **🚀 Summary Table: Which Metric to Use?**  \n",
        "\n",
        "| **Metric** | **Use Case** | **Best When…** |\n",
        "|-----------|------------|---------------|\n",
        "| **Accuracy** | General classification | Classes are balanced |\n",
        "| **Precision** | Spam filtering, Fraud detection | FP is costly |\n",
        "| **Recall** | Cancer detection, Fraud detection | FN is costly |\n",
        "| **F1 Score** | Imbalanced datasets | Balance of Precision & Recall needed |\n",
        "| **ROC-AUC** | Comparing models | Evaluating classifier performance |\n",
        "| **Log Loss** | Probabilistic models | Probability-based predictions |\n",
        "| **Confusion Matrix** | Error analysis | Understanding model mistakes |\n",
        "\n",
        "---\n",
        "\n",
        "### **🚀 Final Thoughts**\n",
        "✔ No **single metric** is best—choose based on **problem requirements**.  \n",
        "✔ If **false positives are costly**, focus on **Precision**.  \n",
        "✔ If **false negatives are risky**, focus on **Recall**.  \n",
        "✔ Use **F1-score** for imbalanced datasets.  \n",
        "✔ Use **ROC-AUC** to compare models across different thresholds.  \n",
        "\n",
        "📌 **Key Takeaway:** Choose the right metric based on the **business problem**! 🚀"
      ],
      "metadata": {
        "id": "u5jrm6Yz8X_c"
      }
    },
    {
      "cell_type": "markdown",
      "source": [
        "# 12. How does class imbalance affect Logistic Regression.\n",
        "## **Ans:-**  **How Class Imbalance Affects Logistic Regression**  \n",
        "\n",
        "Class imbalance occurs when one class in a dataset has significantly more samples than the other. In **Logistic Regression**, this can lead to the following problems:  \n",
        "\n",
        "---\n",
        "\n",
        "### **1. Biased Model Towards the Majority Class** 🏛  \n",
        "- Since Logistic Regression **minimizes overall error**, it tends to predict the majority class more often.  \n",
        "- This results in **high accuracy but poor performance on the minority class**.  \n",
        "\n",
        "📌 **Example:**  \n",
        "- Suppose we have **95% Class A** and **5% Class B** in a dataset.  \n",
        "- A model that **always predicts Class A** will have **95% accuracy** but **completely fail to predict Class B**.  \n",
        "\n",
        "---\n",
        "\n",
        "### **2. Poor Precision and Recall for the Minority Class** 🎯  \n",
        "- The model might **rarely predict the minority class** due to its lower frequency.  \n",
        "- **High False Negatives (FN)** → Poor **Recall**.  \n",
        "- **High False Positives (FP)** → Poor **Precision**.  \n",
        "\n",
        "📌 **Example:**  \n",
        "- In fraud detection, if only **1% of transactions are fraudulent**, the model might predict **all transactions as non-fraud**, leading to **low recall**.  \n",
        "\n",
        "---\n",
        "\n",
        "### **3. Misleading Accuracy** 🚨  \n",
        "- Accuracy can be **deceptively high** despite poor classification.  \n",
        "- Example: In a **99:1** imbalanced dataset, a model predicting **only the majority class** would have **99% accuracy** but **zero value for the minority class**.  \n",
        "\n",
        "🔴 **Better Metrics to Use Instead of Accuracy:**  \n",
        "✔ **Precision, Recall, and F1-score**  \n",
        "✔ **ROC-AUC** and **Precision-Recall AUC**  \n",
        "✔ **Confusion Matrix**  \n",
        "\n",
        "---\n",
        "\n",
        "### **4. Poor Probability Calibration** ⚖  \n",
        "- Logistic Regression outputs **probabilities**, but with class imbalance, these probabilities can become **skewed**.  \n",
        "- The model may not confidently predict the minority class, resulting in **low probability scores for positive cases**.  \n",
        "\n",
        "📌 **Example:**  \n",
        "- In medical diagnosis, a patient **with cancer (minority class)** may receive a probability score too low to cross the threshold for classification.  \n",
        "\n",
        "---\n",
        "\n",
        "### **How to Handle Class Imbalance in Logistic Regression?** ✅  \n",
        "\n",
        "1. **Resampling Techniques**  \n",
        "   - **Oversampling (SMOTE, Random Oversampling)** → Increase minority class samples.  \n",
        "   - **Undersampling** → Reduce majority class samples.  \n",
        "\n",
        "2. **Change Class Weights**  \n",
        "   - Use **class_weight='balanced'** in **sklearn’s LogisticRegression** to assign higher weights to the minority class.  \n",
        "   ```python\n",
        "   from sklearn.linear_model import LogisticRegression\n",
        "   model = LogisticRegression(class_weight='balanced')\n",
        "   ```  \n",
        "\n",
        "3. **Use Better Evaluation Metrics**  \n",
        "   - **Precision-Recall Curve** instead of Accuracy.  \n",
        "   - **F1-score** to balance Precision and Recall.  \n",
        "\n",
        "4. **Adjust Decision Threshold**  \n",
        "   - By default, Logistic Regression classifies based on **0.5 threshold**.  \n",
        "   - Lowering it for the minority class can improve recall.  \n",
        "\n",
        "5. **Use Alternative Models**  \n",
        "   - **Random Forest, XGBoost, SVM with class weights** perform better on imbalanced data.  \n",
        "\n",
        "---\n",
        "\n",
        "### **🔎 Final Thoughts**\n",
        "- **Class imbalance makes Logistic Regression biased toward the majority class**.  \n",
        "- **Accuracy alone is misleading**—use **Recall, F1-score, or Precision-Recall AUC**.  \n",
        "- **Resampling, class weights, and threshold tuning** can help improve performance.  \n",
        "\n",
        "🚀 **Key Takeaway:** Always check your dataset distribution and use the right techniques for handling imbalanced data!"
      ],
      "metadata": {
        "id": "fO049JAbAPvD"
      }
    },
    {
      "cell_type": "markdown",
      "source": [
        "# 13. What is Hyperparameter Tuning in Logistic Regression.\n",
        "## **Ans:-**  **Hyperparameter Tuning in Logistic Regression**  \n",
        "\n",
        "#### **What is Hyperparameter Tuning?**  \n",
        "Hyperparameter tuning is the process of selecting the best set of hyperparameters to improve model performance. Unlike model parameters (which are learned from the data), hyperparameters are manually set before training and influence how the model learns.\n",
        "\n",
        "---\n",
        "\n",
        "### **Key Hyperparameters in Logistic Regression**  \n",
        "\n",
        "1. **Regularization Strength (C)**  \n",
        "   - Controls the penalty applied to large coefficients.  \n",
        "   - It is the **inverse** of the regularization parameter (λ).  \n",
        "   - **Higher C** → Less regularization → More complex model.  \n",
        "   - **Lower C** → More regularization → Simpler model.  \n",
        "\n",
        "2. **Regularization Type (Penalty)**  \n",
        "   - **L1 (Lasso)**: Forces some coefficients to become exactly zero, effectively performing feature selection.  \n",
        "   - **L2 (Ridge)**: Shrinks all coefficients but keeps them nonzero, preventing overfitting.  \n",
        "   - **Elastic Net**: A mix of L1 and L2, balancing feature selection and coefficient shrinkage.  \n",
        "\n",
        "3. **Solver (Optimization Algorithm)**  \n",
        "   - Different solvers are used to optimize the loss function based on dataset size and regularization type.  \n",
        "   - Some solvers work better for small datasets, while others handle large datasets efficiently.  \n",
        "\n",
        "4. **Class Weight (Handling Imbalance)**  \n",
        "   - Helps the model handle imbalanced datasets by adjusting the weight given to each class.  \n",
        "   - Assigning higher weights to the minority class improves recall for that class.  \n",
        "\n",
        "---\n",
        "\n",
        "### **How to Perform Hyperparameter Tuning?**  \n",
        "\n",
        "1. **Manual Tuning (Trial & Error)**  \n",
        "   - Testing different values for C, penalty type, and solver manually.  \n",
        "   - Requires domain knowledge but can be inefficient.  \n",
        "\n",
        "2. **Grid Search**  \n",
        "   - Exhaustively tries all possible combinations of given hyperparameter values.  \n",
        "   - Ensures finding the best combination but can be slow for large search spaces.  \n",
        "\n",
        "3. **Random Search**  \n",
        "   - Randomly selects hyperparameter combinations instead of testing all possibilities.  \n",
        "   - Faster than Grid Search and often finds a near-optimal solution.  \n",
        "\n",
        "---\n",
        "\n",
        "### **Final Thoughts**  \n",
        "- Hyperparameter tuning helps find the best settings for Logistic Regression to improve model accuracy and generalization.  \n",
        "- Regularization strength (C) is the most crucial hyperparameter to tune, as it controls overfitting and underfitting.  \n",
        "- Grid Search guarantees the best result but is slow, while Random Search is faster and often effective.  \n",
        "\n",
        "🚀 **Key Takeaway:** Always tune hyperparameters for the best model performance, especially in cases of complex or imbalanced datasets!"
      ],
      "metadata": {
        "id": "uF3XSvcc-yTb"
      }
    },
    {
      "cell_type": "markdown",
      "source": [
        "# 14. What are different solvers in Logistic Regression? Which one should be used.\n",
        "## **Ans:-**  **Different Solvers in Logistic Regression**  \n",
        "\n",
        "Logistic Regression uses optimization algorithms (solvers) to minimize the loss function and find the best model parameters. Different solvers work better for different data sizes and regularization techniques.  \n",
        "\n",
        "---\n",
        "\n",
        "### **1. Commonly Used Solvers**  \n",
        "\n",
        "1. **lbfgs (Limited-memory BFGS)**  \n",
        "   - Default solver in `scikit-learn`.  \n",
        "   - Works well for small to medium datasets.  \n",
        "   - Supports **L2 regularization** but **not L1**.  \n",
        "\n",
        "2. **liblinear (Library for Linear Models)**  \n",
        "   - Works well for **small datasets** and **sparse data**.  \n",
        "   - Supports **L1 and L2 regularization**.  \n",
        "   - Does **not** scale well for large datasets.  \n",
        "\n",
        "3. **saga (Stochastic Average Gradient Approximation)**  \n",
        "   - Works well for **large datasets** and **sparse data**.  \n",
        "   - Supports **L1, L2, and Elastic Net regularization**.  \n",
        "   - Recommended for high-dimensional feature spaces.  \n",
        "\n",
        "4. **newton-cg (Newton-Conjugate Gradient)**  \n",
        "   - Works well for **large datasets** with **L2 regularization**.  \n",
        "   - More efficient for problems with many features.  \n",
        "   - Does not support L1 regularization.  \n",
        "\n",
        "5. **sag (Stochastic Average Gradient)**  \n",
        "   - Works well for **very large datasets**.  \n",
        "   - Supports **only L2 regularization**.  \n",
        "   - Faster for high-dimensional data but requires proper feature scaling.  \n",
        "\n",
        "---\n",
        "\n",
        "### **2. Which Solver Should Be Used?**  \n",
        "\n",
        "| **Solver**      | **Dataset Size** | **Supports L1?** | **Supports L2?** | **Use Case** |\n",
        "|---------------|-----------------|---------------|---------------|------------|\n",
        "| **lbfgs**       | Small to Medium  | ❌ No         | ✅ Yes        | Default solver, works well in most cases. |\n",
        "| **liblinear**   | Small            | ✅ Yes        | ✅ Yes        | Best for L1 regularization and small datasets. |\n",
        "| **saga**        | Large, Sparse    | ✅ Yes        | ✅ Yes        | Best for large datasets and Elastic Net. |\n",
        "| **newton-cg**   | Large            | ❌ No         | ✅ Yes        | Best for problems with many features. |\n",
        "| **sag**         | Very Large       | ❌ No         | ✅ Yes        | Best for large-scale problems with L2 regularization. |\n",
        "\n",
        "---\n",
        "\n",
        "### **3. Final Recommendations**\n",
        "- **For small datasets** → Use **liblinear** (especially for L1 regularization).  \n",
        "- **For large datasets** → Use **saga** (supports all regularization types).  \n",
        "- **For default usage** → Use **lbfgs** (safe choice for most cases).  \n",
        "- **For large feature spaces** → Use **newton-cg** or **sag** (efficient for L2).  \n",
        "\n",
        "🚀 **Key Takeaway:** If unsure, start with **lbfgs** and switch based on dataset size and regularization needs."
      ],
      "metadata": {
        "id": "1VQk_ubtBQxh"
      }
    },
    {
      "cell_type": "markdown",
      "source": [
        "# 15.  How is Logistic Regression extended for multiclass classification.\n",
        "## **Ans:-**  **Extending Logistic Regression for Multiclass Classification**  \n",
        "\n",
        "Logistic Regression is primarily designed for **binary classification** (0 or 1). However, for **multiclass classification** (3 or more classes), it can be extended using the following approaches:\n",
        "\n",
        "---\n",
        "\n",
        "### **1. One-vs-Rest (OvR) (One-vs-All)**  \n",
        "- The most common method for extending Logistic Regression to multiple classes.  \n",
        "- It trains **one binary classifier for each class**.  \n",
        "- For a dataset with **K classes**, it trains **K separate classifiers**:  \n",
        "  - Each classifier treats one class as **positive (1)** and the rest as **negative (0)**.  \n",
        "  - During prediction, the class with the **highest probability score** is selected.  \n",
        "- **Pros**: Simple, efficient for small datasets.  \n",
        "- **Cons**: Can struggle if classes are highly imbalanced.  \n",
        "\n",
        "🔹 **Example (3 classes: A, B, C)**  \n",
        "- Classifier 1: A vs. (B, C)  \n",
        "- Classifier 2: B vs. (A, C)  \n",
        "- Classifier 3: C vs. (A, B)  \n",
        "- The model picks the class with the highest probability.  \n",
        "\n",
        "---\n",
        "\n",
        "### **2. One-vs-One (OvO)**  \n",
        "- Trains **one classifier for each pair of classes**.  \n",
        "- For **K classes**, it trains **K(K-1)/2 classifiers**.  \n",
        "- During prediction, each classifier votes, and the class with the most votes is chosen.  \n",
        "- **Pros**: Works well for large datasets.  \n",
        "- **Cons**: Computationally expensive since it trains many models.  \n",
        "\n",
        "🔹 **Example (3 classes: A, B, C)**  \n",
        "- Classifier 1: A vs. B  \n",
        "- Classifier 2: A vs. C  \n",
        "- Classifier 3: B vs. C  \n",
        "- The class that wins the most comparisons is selected.  \n",
        "\n",
        "---\n",
        "\n",
        "### **3. Softmax Regression (Multinomial Logistic Regression)**  \n",
        "- Instead of training multiple binary classifiers, this method directly models probabilities for all classes **simultaneously**.  \n",
        "- Uses the **Softmax function** to compute the probability of each class:  \n",
        "\n",
        "- During training, the model learns a single set of weights for all classes.  \n",
        "- **Pros**: More efficient than OvR/OvO for large datasets.  \n",
        "- **Cons**: More complex, requires more computational power.  \n",
        "\n",
        "---\n",
        "\n",
        "### **Which Method to Use?**\n",
        "| **Method**      | **Best For** | **Pros** | **Cons** |\n",
        "|---------------|------------|---------|---------|\n",
        "| **One-vs-Rest (OvR)** | Small datasets, simple tasks | Easy to implement, works well for many problems | Can struggle with imbalanced classes |\n",
        "| **One-vs-One (OvO)** | Large datasets, SVM-based models | Works well with complex class relationships | Computationally expensive |\n",
        "| **Softmax Regression** | Large datasets, direct probability estimation | More efficient for many classes | Requires more computational power |\n",
        "\n",
        "🚀 **Key Takeaway**:  \n",
        "- **OvR (One-vs-Rest)** is the most commonly used and works well for most applications.  \n",
        "- **Softmax (Multinomial Regression)** is ideal for large datasets.  \n",
        "- **OvO (One-vs-One)** is mainly useful for algorithms like SVM but is rarely used with Logistic Regression."
      ],
      "metadata": {
        "id": "HP2TR7bEBkYT"
      }
    },
    {
      "cell_type": "markdown",
      "source": [
        "# 16. What are the advantages and disadvantages of Logistic Regression.\n",
        "## **Ans:-**  **Advantages and Disadvantages of Logistic Regression**  \n",
        "\n",
        "#### **✅ Advantages of Logistic Regression**  \n",
        "\n",
        "1. **Simple & Easy to Implement**  \n",
        "   - Computationally efficient and requires less training time.  \n",
        "   - Easy to interpret, making it a good baseline model.  \n",
        "\n",
        "2. **Probabilistic Interpretation**  \n",
        "   - Provides probability scores for predictions using the **Sigmoid function**, useful for decision-making.  \n",
        "\n",
        "3. **Works Well with Linearly Separable Data**  \n",
        "   - Performs well when the relationship between features and the target variable is approximately linear.  \n",
        "\n",
        "4. **Regularization Support**  \n",
        "   - Can handle **overfitting** using **L1 (Lasso)** and **L2 (Ridge)** regularization.  \n",
        "\n",
        "5. **Handles Feature Importance**  \n",
        "   - Coefficients indicate the importance of features, aiding in feature selection.  \n",
        "\n",
        "6. **Can Handle Imbalanced Data**  \n",
        "   - Class weights can be adjusted to improve predictions on imbalanced datasets.  \n",
        "\n",
        "---\n",
        "\n",
        "#### **❌ Disadvantages of Logistic Regression**  \n",
        "\n",
        "1. **Assumes Linearity**  \n",
        "   - Logistic Regression assumes a **linear relationship** between input features and the log-odds of the target variable, which may not always hold.  \n",
        "\n",
        "2. **Not Suitable for Complex Data**  \n",
        "   - Struggles with **non-linear** relationships unless features are manually transformed.  \n",
        "\n",
        "3. **Sensitive to Outliers**  \n",
        "   - Since it relies on a linear decision boundary, **outliers** can significantly impact the model.  \n",
        "\n",
        "4. **Limited to Binary or Multiclass Problems**  \n",
        "   - Cannot be used for regression tasks (continuous output).  \n",
        "   - Needs extensions like **One-vs-Rest (OvR)** or **Softmax Regression** for multiclass problems.  \n",
        "\n",
        "5. **Feature Engineering is Necessary**  \n",
        "   - Requires **feature scaling** and **removal of irrelevant features** to perform well.  \n",
        "\n",
        "6. **Computationally Expensive for Large Datasets**  \n",
        "   - While it works well for small datasets, it may struggle with **large, high-dimensional** data compared to tree-based models like Random Forest or Gradient Boosting.  \n",
        "\n",
        "---\n",
        "\n",
        "### **🚀 Key Takeaways**\n",
        "- Use **Logistic Regression** when the data is **linearly separable** and **interpretable results** are important.  \n",
        "- Avoid it for **non-linear** or **high-dimensional** problems where models like **Decision Trees, SVM, or Neural Networks** perform better.  \n",
        "- **Regularization (L1/L2) and Feature Engineering** improve its performance."
      ],
      "metadata": {
        "id": "qsaVznGzCKnH"
      }
    },
    {
      "cell_type": "markdown",
      "source": [
        "# 17. What are some use cases of Logistic Regression.\n",
        "## **Ans:-**  **Use Cases of Logistic Regression**  \n",
        "\n",
        "Logistic Regression is widely used for **binary and multiclass classification problems** across various industries. Here are some of its key applications:  \n",
        "\n",
        "---\n",
        "\n",
        "### **1. Healthcare & Medical Diagnosis**  \n",
        "- **Disease Prediction** (e.g., diabetes, heart disease, cancer detection)  \n",
        "- **COVID-19 severity classification**  \n",
        "- **Predicting patient readmission** in hospitals  \n",
        "\n",
        "🔹 *Example*: Classifying whether a patient has diabetes (Yes/No) based on medical test results.  \n",
        "\n",
        "---\n",
        "\n",
        "### **2. Finance & Banking**  \n",
        "- **Credit Risk Assessment** (Loan approval/rejection)  \n",
        "- **Fraud Detection** (Classifying transactions as fraudulent or genuine)  \n",
        "- **Customer Churn Prediction** (Predicting if a customer will leave a bank)  \n",
        "\n",
        "🔹 *Example*: Predicting whether a loan applicant is likely to default based on financial history.  \n",
        "\n",
        "---\n",
        "\n",
        "### **3. Marketing & Customer Analytics**  \n",
        "- **Email Spam Detection** (Spam vs. Not Spam)  \n",
        "- **Customer Purchase Prediction** (Will a customer buy a product?)  \n",
        "- **Ad Click Prediction** (Will a user click on an ad?)  \n",
        "\n",
        "🔹 *Example*: Classifying emails as spam or not based on keywords and sender history.  \n",
        "\n",
        "---\n",
        "\n",
        "### **4. Human Resources & Hiring**  \n",
        "- **Employee Attrition Prediction** (Will an employee leave the company?)  \n",
        "- **Resume Shortlisting** (Filtering candidates based on relevant qualifications)  \n",
        "- **Performance Prediction** (Will an employee meet targets?)  \n",
        "\n",
        "🔹 *Example*: Predicting if an employee will quit based on job satisfaction scores.  \n",
        "\n",
        "---\n",
        "\n",
        "### **5. Manufacturing & Quality Control**  \n",
        "- **Defect Detection** (Classifying faulty vs. non-faulty products)  \n",
        "- **Supply Chain Optimization** (Predicting delays in delivery)  \n",
        "\n",
        "🔹 *Example*: Identifying whether a product has a defect during the production process.  \n",
        "\n",
        "---\n",
        "\n",
        "### **6. Social Media & Sentiment Analysis**  \n",
        "- **Toxic Comment Classification** (Is a comment offensive or not?)  \n",
        "- **Fake News Detection** (Real vs. Fake news classification)  \n",
        "- **Customer Feedback Analysis** (Positive vs. Negative sentiment)  \n",
        "\n",
        "🔹 *Example*: Predicting whether a tweet has a positive or negative sentiment.  \n",
        "\n",
        "---\n",
        "\n",
        "### **7. Cybersecurity**  \n",
        "- **Intrusion Detection Systems** (Classifying normal vs. malicious network traffic)  \n",
        "- **Phishing Email Detection** (Identifying phishing attempts in emails)  \n",
        "\n",
        "🔹 *Example*: Classifying a website as safe or potentially harmful based on URL features.  \n",
        "\n",
        "---\n",
        "\n",
        "### **🚀 Key Takeaways**  \n",
        "- Logistic Regression is **widely used** for classification problems in healthcare, finance, marketing, HR, manufacturing, social media, and cybersecurity.  \n",
        "- It is **interpretable, simple, and effective** for **binary classification** and **multiclass classification (with extensions like Softmax Regression or One-vs-Rest).**  \n",
        "- Works best when **data is linearly separable** and **feature selection is properly handled**."
      ],
      "metadata": {
        "id": "D_YBSDbaCe9d"
      }
    },
    {
      "cell_type": "markdown",
      "source": [
        "# 18. What is the difference between Softmax Regression and Logistic Regression.\n",
        "## **Ans:-**  **Softmax Regression vs. Logistic Regression**  \n",
        "\n",
        "Both **Softmax Regression** and **Logistic Regression** are classification algorithms, but they are used for **different types of classification problems**.  \n",
        "\n",
        "| Feature | **Logistic Regression** | **Softmax Regression** |\n",
        "|---------|------------------------|------------------------|\n",
        "| **Type of Classification** | Binary (2 classes) | Multiclass (3 or more classes) |\n",
        "| **Output Interpretation** | Produces a single probability (between 0 and 1) for one class | Produces probability scores for all classes (sum = 1) |\n",
        "| **Decision Boundary** | Linear (one threshold) | Multiclass linear separation |\n",
        "| **Training Mechanism** | Uses **binary cross-entropy loss** | Uses **categorical cross-entropy loss** |\n",
        "| **Use Cases** | Fraud detection, spam filtering, medical diagnosis (binary cases) | Image classification, text categorization, multi-class sentiment analysis |\n",
        "\n",
        "---\n",
        "\n",
        "### **Key Differences**  \n",
        "1. **Number of Classes**  \n",
        "   - Logistic Regression is for **binary classification** (Yes/No, 0/1).  \n",
        "   - Softmax Regression is for **multiclass classification** (more than two categories).  \n",
        "\n",
        "2. **Mathematical Function**  \n",
        "   - Logistic Regression applies the **Sigmoid function**, which outputs probabilities for two classes.  \n",
        "   - Softmax Regression applies the **Softmax function**, which assigns probabilities across multiple classes.  \n",
        "\n",
        "3. **Decision Rule**  \n",
        "   - Logistic Regression uses a **fixed threshold** (e.g., ≥ 0.5 → Class 1, < 0.5 → Class 0).  \n",
        "   - Softmax Regression selects the class with the **highest probability**.  \n",
        "\n",
        "---\n",
        "\n",
        "### **When to Use What?**\n",
        "- **Binary Classification** → Use **Logistic Regression**  \n",
        "- **Multiclass Classification** → Use **Softmax Regression**  \n",
        "\n",
        "🚀 **Example**:  \n",
        "- Predicting **spam vs. not spam** → **Logistic Regression**  \n",
        "- Classifying **types of animals (cat, dog, bird)** → **Softmax Regression**"
      ],
      "metadata": {
        "id": "hSQQE8vZDGzt"
      }
    },
    {
      "cell_type": "markdown",
      "source": [],
      "metadata": {
        "id": "V6D-T5D7E3sE"
      }
    },
    {
      "cell_type": "markdown",
      "source": [
        "# 19. How do we choose between One-vs-Rest (OvR) and Softmax for multiclass classification.\n",
        "## **Ans:-**  **Choosing Between One-vs-Rest (OvR) and Softmax for Multiclass Classification**  \n",
        "\n",
        "When dealing with **multiclass classification**, there are two common approaches:  \n",
        "\n",
        "1. **One-vs-Rest (OvR) Approach**  \n",
        "2. **Softmax (Multinomial Logistic Regression) Approach**  \n",
        "\n",
        "The choice depends on factors like dataset size, interpretability, and performance.\n",
        "\n",
        "---\n",
        "\n",
        "### **1. One-vs-Rest (OvR) Approach**  \n",
        "✅ **How it Works:**  \n",
        "- Trains **separate binary classifiers** for each class.  \n",
        "- Each classifier predicts whether a sample belongs to its assigned class or not.  \n",
        "- The final prediction is the class with the highest probability.  \n",
        "\n",
        "✅ **Pros:**  \n",
        "✔ Works well with **small datasets**.  \n",
        "✔ Computationally efficient for **high-dimensional data**.  \n",
        "✔ **Interpretable** (each class has its own model).  \n",
        "\n",
        "❌ **Cons:**  \n",
        "✖ Can be **computationally expensive** for a large number of classes.  \n",
        "✖ May lead to **inconsistent probability scores** across models.  \n",
        "\n",
        "🚀 **Use OvR When:**  \n",
        "- The dataset is **small** or **high-dimensional** (e.g., text classification).  \n",
        "- You need **interpretability** (separate classifiers for each class).  \n",
        "\n",
        "---\n",
        "\n",
        "### **2. Softmax (Multinomial Logistic Regression) Approach**  \n",
        "✅ **How it Works:**  \n",
        "- Uses a **single model** with the **Softmax function** to output probabilities for all classes at once.  \n",
        "- The class with the highest probability is chosen.  \n",
        "\n",
        "✅ **Pros:**  \n",
        "✔ **More consistent** probability scores across classes.  \n",
        "✔ **Better performance** when classes are highly correlated.  \n",
        "✔ Requires **less training time** than OvR for large datasets.  \n",
        "\n",
        "❌ **Cons:**  \n",
        "✖ Computationally expensive when **number of classes is large**.  \n",
        "✖ Harder to interpret compared to OvR.  \n",
        "\n",
        "🚀 **Use Softmax When:**  \n",
        "- The dataset is **large**, and speed matters.  \n",
        "- There are **many classes**, and they are **highly related** (e.g., image classification).  \n",
        "\n",
        "---\n",
        "\n",
        "### **Comparison Table**\n",
        "\n",
        "| Feature | **One-vs-Rest (OvR)** | **Softmax (Multinomial)** |\n",
        "|---------|------------------------|------------------------|\n",
        "| **Number of Models** | Multiple binary classifiers (one per class) | Single model for all classes |\n",
        "| **Computational Efficiency** | **Better for high-dimensional data** | **Better for large datasets** |\n",
        "| **Probability Consistency** | May be inconsistent across models | Consistent across all classes |\n",
        "| **Training Time** | Longer (multiple models) | Shorter (single model) |\n",
        "| **Interpretability** | Easier to understand | Harder to interpret |\n",
        "| **Best for** | Small datasets, high-dimensional data | Large datasets, correlated classes |\n",
        "\n",
        "---\n",
        "\n",
        "### **🚀 Final Takeaway**  \n",
        "- **Use OvR** if you have **high-dimensional or small datasets**.  \n",
        "- **Use Softmax** if you have **large datasets with many correlated classes**.  \n",
        "\n",
        "💡 **Example Use Cases:**  \n",
        "- **Email Classification (Spam, Promotions, Social, etc.)** → **OvR** (since text data is high-dimensional).  \n",
        "- **Image Classification (Cat, Dog, Horse, etc.)** → **Softmax** (since classes are related).  \n"
      ],
      "metadata": {
        "id": "MLVIGXHXECUM"
      }
    },
    {
      "cell_type": "markdown",
      "source": [
        "# 20. How do we interpret coefficients in Logistic Regression?\n",
        "## **Ans:-** **interpreting coefficients in Logistic Regression:**  \n",
        "\n",
        "1. **Logistic Regression Probability Equation:**  \n",
        "   P(y = 1 | X) = 1 / (1 + e^-(β0 + β1x1 + β2x2 + ... + βnxn))  \n",
        "\n",
        "2. **Log-Odds (Logit Function):**  \n",
        "   log(P(y=1) / (1 - P(y=1))) = β0 + β1x1 + β2x2 + ... + βnxn  \n",
        "\n",
        "3. **Odds Ratio Interpretation:**  \n",
        "   Odds Ratio = e^βi  \n",
        "\n",
        "**Interpretation:**  \n",
        "- A **positive βi** means increasing xi **increases** the probability of y = 1.  \n",
        "- A **negative βi** means increasing xi **decreases** the probability of y = 1.  \n",
        "- The **Odds Ratio (e^βi)** represents how much the odds of y = 1 change for a one-unit increase in xi."
      ],
      "metadata": {
        "id": "MnkGn6phFq_4"
      }
    },
    {
      "cell_type": "markdown",
      "source": [
        "# **Practical**"
      ],
      "metadata": {
        "id": "lH47GTaLHgQ6"
      }
    },
    {
      "cell_type": "markdown",
      "source": [
        "# 1. Write a Python program that loads a dataset, splits it into training and testing sets, applies Logistic Regression, and prints the model accuracy.\n"
      ],
      "metadata": {
        "id": "3qY8uq_WH9O8"
      }
    },
    {
      "cell_type": "code",
      "source": [
        "import pandas as pd\n",
        "import numpy as np\n",
        "from sklearn.model_selection import train_test_split\n",
        "from sklearn.linear_model import LogisticRegression\n",
        "from sklearn.metrics import accuracy_score\n",
        "from sklearn.datasets import load_iris\n",
        "\n",
        "# Load dataset (using Iris dataset as an example)\n",
        "data = load_iris()\n",
        "X = data.data  # Features\n",
        "y = (data.target == 2).astype(int)  # Binary classification (Class 2 vs. Rest)\n",
        "\n",
        "# Split dataset into training and testing sets (80% train, 20% test)\n",
        "X_train, X_test, y_train, y_test = train_test_split(X, y, test_size=0.2, random_state=42)\n",
        "\n",
        "# Apply Logistic Regression\n",
        "model = LogisticRegression()\n",
        "model.fit(X_train, y_train)\n",
        "\n",
        "# Predict on test data\n",
        "y_pred = model.predict(X_test)\n",
        "\n",
        "# Print model accuracy\n",
        "accuracy = accuracy_score(y_test, y_pred)\n",
        "print(f\"Model Accuracy: {accuracy:.2f}\")\n"
      ],
      "metadata": {
        "colab": {
          "base_uri": "https://localhost:8080/"
        },
        "id": "nuIsNf6EJIgs",
        "outputId": "cf6b7ba3-5363-4163-c598-ab8185771e6b"
      },
      "execution_count": null,
      "outputs": [
        {
          "output_type": "stream",
          "name": "stdout",
          "text": [
            "Model Accuracy: 1.00\n"
          ]
        }
      ]
    },
    {
      "cell_type": "markdown",
      "source": [
        "# 2. Write a Python program to apply L1 regularization (Lasso) on a dataset using LogisticRegression(penalty='l1') and print the model accuracy."
      ],
      "metadata": {
        "id": "eJXyX6HiJaM8"
      }
    },
    {
      "cell_type": "code",
      "source": [
        "import pandas as pd\n",
        "import numpy as np\n",
        "from sklearn.model_selection import train_test_split\n",
        "from sklearn.linear_model import LogisticRegression\n",
        "from sklearn.metrics import accuracy_score\n",
        "from sklearn.datasets import load_iris\n",
        "\n",
        "# Load dataset (Iris dataset as an example)\n",
        "data = load_iris()\n",
        "X = data.data  # Features\n",
        "y = (data.target == 2).astype(int)  # Binary classification (Class 2 vs. Rest)\n",
        "\n",
        "# Split dataset into training and testing sets (80% train, 20% test)\n",
        "X_train, X_test, y_train, y_test = train_test_split(X, y, test_size=0.2, random_state=42)\n",
        "\n",
        "# Apply Logistic Regression with L1 Regularization (Lasso)\n",
        "model = LogisticRegression(penalty='l1', solver='liblinear', C=1.0)\n",
        "model.fit(X_train, y_train)\n",
        "\n",
        "# Predict on test data\n",
        "y_pred = model.predict(X_test)\n",
        "\n",
        "# Print model accuracy\n",
        "accuracy = accuracy_score(y_test, y_pred)\n",
        "print(f\"Model Accuracy with L1 Regularization: {accuracy:.2f}\")\n"
      ],
      "metadata": {
        "colab": {
          "base_uri": "https://localhost:8080/"
        },
        "id": "KKm2OYunJ758",
        "outputId": "080e87c0-0d30-40a2-8cad-decdcdd583cb"
      },
      "execution_count": null,
      "outputs": [
        {
          "output_type": "stream",
          "name": "stdout",
          "text": [
            "Model Accuracy with L1 Regularization: 0.93\n"
          ]
        }
      ]
    },
    {
      "cell_type": "markdown",
      "source": [
        "# 3. Write a Python program to train Logistic Regression with L2 regularization (Ridge) using LogisticRegression(penalty='l2'). Print model accuracy and coefficients.\n"
      ],
      "metadata": {
        "id": "AlnauicdKbA0"
      }
    },
    {
      "cell_type": "code",
      "source": [
        "import pandas as pd\n",
        "import numpy as np\n",
        "from sklearn.model_selection import train_test_split\n",
        "from sklearn.linear_model import LogisticRegression\n",
        "from sklearn.metrics import accuracy_score\n",
        "from sklearn.datasets import load_iris\n",
        "\n",
        "# Load dataset (Iris dataset as an example)\n",
        "data = load_iris()\n",
        "X = data.data  # Features\n",
        "y = (data.target == 2).astype(int)  # Binary classification (Class 2 vs. Rest)\n",
        "\n",
        "# Split dataset into training and testing sets (80% train, 20% test)\n",
        "X_train, X_test, y_train, y_test = train_test_split(X, y, test_size=0.2, random_state=42)\n",
        "\n",
        "# Apply Logistic Regression with L2 Regularization (Ridge)\n",
        "model = LogisticRegression(penalty='l2', solver='liblinear', C=1.0)\n",
        "model.fit(X_train, y_train)\n",
        "\n",
        "# Predict on test data\n",
        "y_pred = model.predict(X_test)\n",
        "\n",
        "# Print model accuracy\n",
        "accuracy = accuracy_score(y_test, y_pred)\n",
        "print(f\"Model Accuracy with L2 Regularization: {accuracy:.2f}\")\n",
        "\n",
        "# Print model coefficients\n",
        "print(\"Model Coefficients (weights):\")\n",
        "print(model.coef_)\n"
      ],
      "metadata": {
        "colab": {
          "base_uri": "https://localhost:8080/"
        },
        "id": "pX4CinX1KrDo",
        "outputId": "a5713816-d6b1-496b-a38d-e6b4290d9bea"
      },
      "execution_count": null,
      "outputs": [
        {
          "output_type": "stream",
          "name": "stdout",
          "text": [
            "Model Accuracy with L2 Regularization: 1.00\n",
            "Model Coefficients (weights):\n",
            "[[-1.55895271 -1.58893375  2.39874554  2.15556209]]\n"
          ]
        }
      ]
    },
    {
      "cell_type": "markdown",
      "source": [
        "# 4.  Write a Python program to train Logistic Regression with Elastic Net Regularization (penalty='elasticnet')"
      ],
      "metadata": {
        "id": "5Hv0hUL3LB-a"
      }
    },
    {
      "cell_type": "code",
      "source": [
        "import pandas as pd\n",
        "import numpy as np\n",
        "from sklearn.model_selection import train_test_split\n",
        "from sklearn.linear_model import LogisticRegression\n",
        "from sklearn.metrics import accuracy_score\n",
        "from sklearn.datasets import load_iris\n",
        "\n",
        "# Load dataset (Iris dataset as an example)\n",
        "data = load_iris()\n",
        "X = data.data  # Features\n",
        "y = (data.target == 2).astype(int)  # Binary classification (Class 2 vs. Rest)\n",
        "\n",
        "# Split dataset into training and testing sets (80% train, 20% test)\n",
        "X_train, X_test, y_train, y_test = train_test_split(X, y, test_size=0.2, random_state=42)\n",
        "\n",
        "# Apply Logistic Regression with Elastic Net Regularization\n",
        "model = LogisticRegression(penalty='elasticnet', solver='saga', l1_ratio=0.5, C=1.0,  max_iter=2000)\n",
        "model.fit(X_train, y_train)\n",
        "\n",
        "# Predict on test data\n",
        "y_pred = model.predict(X_test)\n",
        "\n",
        "# Print model accuracy\n",
        "accuracy = accuracy_score(y_test, y_pred)\n",
        "print(f\"Model Accuracy with Elastic Net Regularization: {accuracy:.2f}\")\n",
        "\n",
        "# Print model coefficients\n",
        "print(\"Model Coefficients (weights):\")\n",
        "print(model.coef_)\n"
      ],
      "metadata": {
        "colab": {
          "base_uri": "https://localhost:8080/"
        },
        "id": "O5-4MTr1LA7W",
        "outputId": "b5b7dbe9-638a-412a-85e2-0f8497d1caeb"
      },
      "execution_count": null,
      "outputs": [
        {
          "output_type": "stream",
          "name": "stdout",
          "text": [
            "Model Accuracy with Elastic Net Regularization: 1.00\n",
            "Model Coefficients (weights):\n",
            "[[-0.77457663 -0.89673292  2.86551988  2.32574469]]\n"
          ]
        }
      ]
    },
    {
      "cell_type": "markdown",
      "source": [
        "# 5. Write a Python program to train a Logistic Regression model for multiclass classification using multi_class='ovr'C\n"
      ],
      "metadata": {
        "id": "FIRVEPzzMDwl"
      }
    },
    {
      "cell_type": "code",
      "source": [
        "import pandas as pd\n",
        "import numpy as np\n",
        "from sklearn.model_selection import train_test_split\n",
        "from sklearn.linear_model import LogisticRegression\n",
        "from sklearn.multiclass import OneVsRestClassifier\n",
        "from sklearn.metrics import accuracy_score\n",
        "from sklearn.datasets import load_iris\n",
        "\n",
        "# Load the Iris dataset\n",
        "data = load_iris()\n",
        "X = data.data  # Features\n",
        "y = data.target  # Multiclass target (3 classes: 0, 1, 2)\n",
        "\n",
        "# Split dataset into training and testing sets (80% train, 20% test)\n",
        "X_train, X_test, y_train, y_test = train_test_split(X, y, test_size=0.2, random_state=42)\n",
        "\n",
        "# Train Logistic Regression model using One-vs-Rest (OvR) explicitly\n",
        "model = OneVsRestClassifier(LogisticRegression(solver='liblinear', C=1.0, max_iter=200))\n",
        "model.fit(X_train, y_train)\n",
        "\n",
        "# Predict on test data\n",
        "y_pred = model.predict(X_test)\n",
        "\n",
        "# Print model accuracy\n",
        "accuracy = accuracy_score(y_test, y_pred)\n",
        "print(f\"Model Accuracy with OvR: {accuracy:.2f}\")\n",
        "\n",
        "# Print model coefficients\n",
        "print(\"Model Coefficients (weights):\")\n",
        "for i, coef in enumerate(model.estimators_):\n",
        "    print(f\"Class {i} coefficients: {coef.coef_}\")\n",
        "\n"
      ],
      "metadata": {
        "colab": {
          "base_uri": "https://localhost:8080/"
        },
        "id": "OKvmT3usMaGJ",
        "outputId": "f7bf631b-6f8a-4c21-be6b-c64dc285dd35"
      },
      "execution_count": null,
      "outputs": [
        {
          "output_type": "stream",
          "name": "stdout",
          "text": [
            "Model Accuracy with OvR: 1.00\n",
            "Model Coefficients (weights):\n",
            "Class 0 coefficients: [[ 0.3711229   1.409712   -2.15210117 -0.95474179]]\n",
            "Class 1 coefficients: [[ 0.49400451 -1.58897112  0.43717015 -1.11187838]]\n",
            "Class 2 coefficients: [[-1.55895271 -1.58893375  2.39874554  2.15556209]]\n"
          ]
        }
      ]
    },
    {
      "cell_type": "markdown",
      "source": [
        "# 6. Write a Python program to apply GridSearchCV to tune the hyperparameters (C and penalty) of Logistic Regression. Print the best parameters and accuracy\n"
      ],
      "metadata": {
        "id": "_cbZB9N1NrRJ"
      }
    },
    {
      "cell_type": "code",
      "source": [
        "import numpy as np\n",
        "import pandas as pd\n",
        "from sklearn.model_selection import train_test_split, GridSearchCV\n",
        "from sklearn.linear_model import LogisticRegression\n",
        "from sklearn.datasets import load_iris\n",
        "from sklearn.metrics import accuracy_score\n",
        "\n",
        "# Load the Iris dataset\n",
        "data = load_iris()\n",
        "X = data.data\n",
        "y = data.target\n",
        "\n",
        "# Split dataset into training and testing sets (80% train, 20% test)\n",
        "X_train, X_test, y_train, y_test = train_test_split(X, y, test_size=0.2, random_state=42)\n",
        "\n",
        "# Define the hyperparameter grid\n",
        "param_grid = {\n",
        "    'C': [0.01, 0.1, 1, 10],  # Regularization strength\n",
        "    'penalty': ['l1', 'l2'],  # L1 (Lasso) and L2 (Ridge) regularization\n",
        "    'solver': ['liblinear']  # 'liblinear' supports both L1 and L2\n",
        "}\n",
        "\n",
        "# Apply GridSearchCV\n",
        "grid_search = GridSearchCV(LogisticRegression(), param_grid, cv=5, scoring='accuracy', n_jobs=-1)\n",
        "grid_search.fit(X_train, y_train)\n",
        "\n",
        "# Get best parameters and model\n",
        "best_params = grid_search.best_params_\n",
        "best_model = grid_search.best_estimator_\n",
        "\n",
        "# Predict on test data\n",
        "y_pred = best_model.predict(X_test)\n",
        "\n",
        "# Print best parameters and accuracy\n",
        "print(f\"Best Parameters: {best_params}\")\n",
        "print(f\"Test Accuracy: {accuracy_score(y_test, y_pred):.2f}\")\n"
      ],
      "metadata": {
        "colab": {
          "base_uri": "https://localhost:8080/"
        },
        "id": "CBUDfvSxNqd-",
        "outputId": "035ae2ae-27de-474d-d517-ac2bcadac1c6"
      },
      "execution_count": null,
      "outputs": [
        {
          "output_type": "stream",
          "name": "stdout",
          "text": [
            "Best Parameters: {'C': 10, 'penalty': 'l1', 'solver': 'liblinear'}\n",
            "Test Accuracy: 1.00\n"
          ]
        }
      ]
    },
    {
      "cell_type": "markdown",
      "source": [
        "# 7. Write a Python program to evaluate Logistic Regression using Stratified K-Fold Cross-Validation. Print the average accuracy\n"
      ],
      "metadata": {
        "id": "ZZemtSaUOMKc"
      }
    },
    {
      "cell_type": "code",
      "source": [
        "import numpy as np\n",
        "import pandas as pd\n",
        "from sklearn.model_selection import StratifiedKFold, cross_val_score\n",
        "from sklearn.linear_model import LogisticRegression\n",
        "from sklearn.datasets import load_iris\n",
        "\n",
        "# Load the Iris dataset\n",
        "data = load_iris()\n",
        "X = data.data\n",
        "y = data.target\n",
        "\n",
        "# Define Stratified K-Fold Cross-Validation\n",
        "kf = StratifiedKFold(n_splits=5, shuffle=True, random_state=42)\n",
        "\n",
        "# Initialize Logistic Regression model\n",
        "model = LogisticRegression(solver='liblinear', C=1.0)\n",
        "\n",
        "# Perform cross-validation and compute accuracy for each fold\n",
        "cv_scores = cross_val_score(model, X, y, cv=kf, scoring='accuracy')\n",
        "\n",
        "# Print accuracy for each fold\n",
        "print(f\"Cross-validation accuracies: {cv_scores}\")\n",
        "\n",
        "# Print average accuracy\n",
        "print(f\"Average Accuracy: {np.mean(cv_scores):.2f}\")\n"
      ],
      "metadata": {
        "colab": {
          "base_uri": "https://localhost:8080/"
        },
        "id": "oeSKeYZIOwcu",
        "outputId": "05dd22d0-d1d8-4dcb-ce9a-4ebbd9eff1da"
      },
      "execution_count": null,
      "outputs": [
        {
          "output_type": "stream",
          "name": "stdout",
          "text": [
            "Cross-validation accuracies: [0.96666667 1.         0.9        0.93333333 1.        ]\n",
            "Average Accuracy: 0.96\n"
          ]
        }
      ]
    },
    {
      "cell_type": "markdown",
      "source": [
        "# 8.Write a Python program to load a dataset from a CSV file, apply Logistic Regression, and evaluate its accuracy.\n"
      ],
      "metadata": {
        "id": "j4O42JaaP8V8"
      }
    },
    {
      "cell_type": "code",
      "source": [
        "import pandas as pd\n",
        "import numpy as np\n",
        "from sklearn.model_selection import train_test_split\n",
        "from sklearn.linear_model import LogisticRegression\n",
        "from sklearn.metrics import accuracy_score\n",
        "from google.colab import files\n",
        "\n",
        "\n",
        "# Upload file\n",
        "#uploaded = files.upload()\n",
        "\n",
        "# Get the uploaded filename dynamically\n",
        "filename = list(uploaded.keys())[0]\n",
        "\n",
        "# Read the uploaded file into a DataFrame\n",
        "df = pd.read_csv(filename)\n",
        "df.dropna(inplace=True)\n",
        "\n",
        "df\n",
        "df['male'] = df['Gender'].apply(lambda x: 1 if x == 'Male' else 0)\n",
        "df['female'] = df['Gender'].apply(lambda x: 1 if x == 'Female' else 0)\n",
        "\n",
        "df['Seatbelt_Used'] = df['Seatbelt_Used'].apply(lambda x: 1 if x == 'Yes' else 0)\n",
        "df['Helmet_Used'] = df['Helmet_Used'].apply(lambda x: 1 if x == 'Yes' else 0)\n",
        "\n",
        "\n",
        "df.drop(['Gender'], axis=1, inplace=True)\n",
        "\n",
        "X = df.iloc[:, :-1]  # Features (all columns except the last)\n",
        "y = df.iloc[:, -1]   # Target (last column)\n",
        "\n",
        "# Split dataset into training (80%) and testing (20%) sets\n",
        "X_train, X_test, y_train, y_test = train_test_split(X, y, test_size=0.2, random_state=42)\n",
        "\n",
        "# Train Logistic Regression model\n",
        "model = LogisticRegression(solver='liblinear')\n",
        "model.fit(X_train, y_train)\n",
        "\n",
        "# Predict on test data\n",
        "y_pred = model.predict(X_test)\n",
        "\n",
        "# Calculate accuracy\n",
        "accuracy = accuracy_score(y_test, y_pred)\n",
        "\n",
        "# Print results\n",
        "print(f\"Model Accuracy: {accuracy:.2f}\")\n",
        "\n",
        "\n",
        "\n",
        "\n"
      ],
      "metadata": {
        "colab": {
          "base_uri": "https://localhost:8080/"
        },
        "id": "vWncJl1WQZzm",
        "outputId": "8c3eb352-8dfb-4d48-ff3f-7c471a8a5752"
      },
      "execution_count": 42,
      "outputs": [
        {
          "output_type": "stream",
          "name": "stdout",
          "text": [
            "Model Accuracy: 1.00\n"
          ]
        }
      ]
    },
    {
      "cell_type": "markdown",
      "source": [
        "# 9. Write a Python program to apply RandomizedSearchCV for tuning hyperparameters (C, penalty, solver) in Logistic Regression. Print the best parameters and accuracy.\n"
      ],
      "metadata": {
        "id": "7WEzM3pds6tR"
      }
    },
    {
      "cell_type": "code",
      "source": [
        "import numpy as np\n",
        "import pandas as pd\n",
        "import warnings\n",
        "warnings.filterwarnings('ignore')\n",
        "from sklearn.model_selection import train_test_split, RandomizedSearchCV\n",
        "from sklearn.linear_model import LogisticRegression\n",
        "from sklearn.metrics import accuracy_score\n",
        "\n",
        "\n",
        "\n",
        "\n",
        "# Split into features (X) and target (y)\n",
        "X = df.iloc[:, :-1]  # All columns except last\n",
        "y = df.iloc[:, -1]   # Last column as target\n",
        "\n",
        "# Split dataset into training and testing sets (80-20 split)\n",
        "X_train, X_test, y_train, y_test = train_test_split(X, y, test_size=0.2, random_state=42)\n",
        "\n",
        "# Define Logistic Regression model\n",
        "model = LogisticRegression()\n",
        "\n",
        "# Define hyperparameter grid for RandomizedSearchCV\n",
        "param_dist = {\n",
        "    \"C\": np.logspace(-4, 4, 20),  # Regularization strength\n",
        "    \"penalty\": [\"l1\", \"l2\", \"elasticnet\"],  # Regularization types\n",
        "    \"solver\": [\"liblinear\", \"saga\"],  # Solvers supporting L1/L2/ElasticNet\n",
        "}\n",
        "\n",
        "# Apply RandomizedSearchCV\n",
        "random_search = RandomizedSearchCV(\n",
        "    model, param_distributions=param_dist,\n",
        "    n_iter=10, scoring=\"accuracy\", cv=5, random_state=42, n_jobs=-1\n",
        ")\n",
        "random_search.fit(X_train, y_train)\n",
        "\n",
        "# Get the best parameters and model\n",
        "best_params = random_search.best_params_\n",
        "best_model = random_search.best_estimator_\n",
        "\n",
        "# Predict using the best model\n",
        "y_pred = best_model.predict(X_test)\n",
        "\n",
        "# Calculate accuracy\n",
        "accuracy = accuracy_score(y_test, y_pred)\n",
        "\n",
        "# Print results\n",
        "print(f\"Best Parameters: {best_params}\")\n",
        "print(f\"Model Accuracy: {accuracy:.2f}\")\n"
      ],
      "metadata": {
        "colab": {
          "base_uri": "https://localhost:8080/"
        },
        "id": "Fa45bDtZsPkg",
        "outputId": "5c4cd76f-2c35-4601-e6ff-ff8ba81f0f57"
      },
      "execution_count": 45,
      "outputs": [
        {
          "output_type": "stream",
          "name": "stdout",
          "text": [
            "Best Parameters: {'solver': 'liblinear', 'penalty': 'l2', 'C': 0.08858667904100823}\n",
            "Model Accuracy: 1.00\n"
          ]
        }
      ]
    },
    {
      "cell_type": "markdown",
      "source": [
        "# 10. Write a Python program to implement One-vs-One (OvO) Multiclass Logistic Regression and print accuracy"
      ],
      "metadata": {
        "id": "cTlzMii6tDzm"
      }
    },
    {
      "cell_type": "code",
      "source": [
        "import numpy as np\n",
        "import pandas as pd\n",
        "import seaborn as sns\n",
        "from sklearn.model_selection import train_test_split\n",
        "from sklearn.linear_model import LogisticRegression\n",
        "from sklearn.multiclass import OneVsOneClassifier\n",
        "from sklearn.metrics import accuracy_score\n",
        "\n",
        "# Load dataset from seaborn\n",
        "df = sns.load_dataset(\"iris\")  # Using the Iris dataset\n",
        "\n",
        "# Split into features (X) and target (y)\n",
        "X = df.drop(columns=[\"species\"])  # Features\n",
        "y = df[\"species\"]  # Target\n",
        "\n",
        "# Split dataset into training and testing sets (80-20 split)\n",
        "X_train, X_test, y_train, y_test = train_test_split(X, y, test_size=0.2, random_state=42)\n",
        "\n",
        "# Define Logistic Regression with One-vs-One (OvO) strategy\n",
        "ovo_model = OneVsOneClassifier(LogisticRegression(max_iter=200))\n",
        "\n",
        "# Train the model\n",
        "ovo_model.fit(X_train, y_train)\n",
        "\n",
        "# Predict on the test set\n",
        "y_pred = ovo_model.predict(X_test)\n",
        "\n",
        "# Calculate accuracy\n",
        "accuracy = accuracy_score(y_test, y_pred)\n",
        "\n",
        "# Print accuracy\n",
        "print(f\"Model Accuracy: {accuracy:.2f}\")\n"
      ],
      "metadata": {
        "colab": {
          "base_uri": "https://localhost:8080/"
        },
        "id": "4menB3O5tul0",
        "outputId": "875b6cd2-06c2-405a-dc35-e678e56b9e41"
      },
      "execution_count": 46,
      "outputs": [
        {
          "output_type": "stream",
          "name": "stdout",
          "text": [
            "Model Accuracy: 1.00\n"
          ]
        }
      ]
    },
    {
      "cell_type": "markdown",
      "source": [
        "# 11. Write a Python program to train a Logistic Regression model and visualize the confusion matrix for binary classification\n"
      ],
      "metadata": {
        "id": "kCWSzcZvuJrd"
      }
    },
    {
      "cell_type": "code",
      "source": [
        "import numpy as np\n",
        "import pandas as pd\n",
        "import seaborn as sns\n",
        "import matplotlib.pyplot as plt\n",
        "from sklearn.model_selection import train_test_split\n",
        "from sklearn.linear_model import LogisticRegression\n",
        "from sklearn.metrics import accuracy_score, confusion_matrix\n",
        "\n",
        "# Load dataset from seaborn\n",
        "df = sns.load_dataset(\"titanic\")  # Using Titanic dataset\n",
        "\n",
        "# Select relevant columns and drop missing values\n",
        "df = df[[\"sex\", \"age\", \"fare\", \"survived\"]].dropna()\n",
        "\n",
        "# Convert categorical 'sex' column to numeric (0 = male, 1 = female)\n",
        "df[\"sex\"] = df[\"sex\"].map({\"male\": 0, \"female\": 1})\n",
        "\n",
        "# Split into features (X) and target (y)\n",
        "X = df.drop(columns=[\"survived\"])  # Features\n",
        "y = df[\"survived\"]  # Target (Binary Classification: 0 = No, 1 = Yes)\n",
        "\n",
        "# Split dataset into training and testing sets (80-20 split)\n",
        "X_train, X_test, y_train, y_test = train_test_split(X, y, test_size=0.2, random_state=42)\n",
        "\n",
        "# Define and train Logistic Regression model\n",
        "model = LogisticRegression(max_iter=200)\n",
        "model.fit(X_train, y_train)\n",
        "\n",
        "# Predict on the test set\n",
        "y_pred = model.predict(X_test)\n",
        "\n",
        "# Calculate accuracy\n",
        "accuracy = accuracy_score(y_test, y_pred)\n",
        "print(f\"Model Accuracy: {accuracy:.2f}\")\n",
        "\n",
        "# Compute Confusion Matrix\n",
        "conf_matrix = confusion_matrix(y_test, y_pred)\n",
        "print(\"Confusion Matrix:\")\n",
        "print(conf_matrix)\n",
        "\n",
        "# Visualize Confusion Matrix using Seaborn heatmap\n",
        "plt.figure(figsize=(6, 4))\n",
        "sns.heatmap(conf_matrix, annot=True, fmt=\"d\", cmap=\"Blues\", xticklabels=[\"Not Survived\", \"Survived\"], yticklabels=[\"Not Survived\", \"Survived\"])\n",
        "plt.xlabel(\"Predicted\")\n",
        "plt.ylabel(\"Actual\")\n",
        "plt.title(\"Confusion Matrix\")\n",
        "plt.show()\n"
      ],
      "metadata": {
        "colab": {
          "base_uri": "https://localhost:8080/",
          "height": 479
        },
        "id": "OILQUzbVuzh2",
        "outputId": "105e4c97-7f90-495c-f74b-3db5e206c741"
      },
      "execution_count": 48,
      "outputs": [
        {
          "output_type": "stream",
          "name": "stdout",
          "text": [
            "Model Accuracy: 0.75\n",
            "Confusion Matrix:\n",
            "[[69 18]\n",
            " [18 38]]\n"
          ]
        },
        {
          "output_type": "display_data",
          "data": {
            "text/plain": [
              "<Figure size 600x400 with 2 Axes>"
            ],
            "image/png": "[encoded data removed]"
          },
          "metadata": {}
        }
      ]
    },
    {
      "cell_type": "markdown",
      "source": [
        "# 12. Write a Python program to train a Logistic Regression model and evaluate its performance using Precision,Recall, and F1-Score.\n"
      ],
      "metadata": {
        "id": "qvhv8mdJxCGi"
      }
    },
    {
      "cell_type": "code",
      "source": [
        "import numpy as np\n",
        "import pandas as pd\n",
        "from sklearn.model_selection import train_test_split\n",
        "from sklearn.linear_model import LogisticRegression\n",
        "from sklearn.metrics import precision_score, recall_score, f1_score\n",
        "\n",
        "# Load dataset (example using sklearn's breast cancer dataset)\n",
        "from sklearn.datasets import load_breast_cancer\n",
        "data = load_breast_cancer()\n",
        "X = data.data\n",
        "y = data.target\n",
        "\n",
        "# Split dataset into training (80%) and testing (20%) sets\n",
        "X_train, X_test, y_train, y_test = train_test_split(X, y, test_size=0.2, random_state=42)\n",
        "\n",
        "# Train Logistic Regression model\n",
        "model = LogisticRegression(solver='liblinear')\n",
        "model.fit(X_train, y_train)\n",
        "\n",
        "# Predict on test data\n",
        "y_pred = model.predict(X_test)\n",
        "\n",
        "# Calculate evaluation metrics\n",
        "precision = precision_score(y_test, y_pred)\n",
        "recall = recall_score(y_test, y_pred)\n",
        "f1 = f1_score(y_test, y_pred)\n",
        "\n",
        "# Print results\n",
        "print(f\"Precision: {precision:.4f}\")\n",
        "print(f\"Recall: {recall:.4f}\")\n",
        "print(f\"F1-Score: {f1:.4f}\")\n"
      ],
      "metadata": {
        "colab": {
          "base_uri": "https://localhost:8080/"
        },
        "id": "uEac8LsExJtA",
        "outputId": "ecd17603-ce37-4283-82a3-83e815e064e4"
      },
      "execution_count": 49,
      "outputs": [
        {
          "output_type": "stream",
          "name": "stdout",
          "text": [
            "Precision: 0.9459\n",
            "Recall: 0.9859\n",
            "F1-Score: 0.9655\n"
          ]
        }
      ]
    },
    {
      "cell_type": "markdown",
      "source": [
        "# 13. Write a Python program to train a Logistic Regression model on imbalanced data and apply class weights to improve model performance.\n"
      ],
      "metadata": {
        "id": "-8E2RjOAxanU"
      }
    },
    {
      "cell_type": "code",
      "source": [
        "import numpy as np\n",
        "import pandas as pd\n",
        "from sklearn.model_selection import train_test_split\n",
        "from sklearn.linear_model import LogisticRegression\n",
        "from sklearn.metrics import precision_score, recall_score, f1_score\n",
        "from sklearn.datasets import make_classification\n",
        "import matplotlib.pyplot as plt\n",
        "import seaborn as sns\n",
        "\n",
        "# Step 1: Generate an imbalanced dataset\n",
        "X, y = make_classification(n_samples=5000, n_features=10, n_classes=2, weights=[0.90, 0.10], random_state=42)\n",
        "\n",
        "# Step 2: Split dataset into training (80%) and testing (20%)\n",
        "X_train, X_test, y_train, y_test = train_test_split(X, y, test_size=0.2, random_state=42, stratify=y)\n",
        "\n",
        "# Step 3: Train Logistic Regression without class weights\n",
        "model_no_weights = LogisticRegression(solver='liblinear')\n",
        "model_no_weights.fit(X_train, y_train)\n",
        "y_pred_no_weights = model_no_weights.predict(X_test)\n",
        "\n",
        "# Step 4: Train Logistic Regression with class weights\n",
        "model_with_weights = LogisticRegression(solver='liblinear', class_weight='balanced')\n",
        "model_with_weights.fit(X_train, y_train)\n",
        "y_pred_with_weights = model_with_weights.predict(X_test)\n",
        "\n",
        "# Step 5: Evaluate models\n",
        "def evaluate_model(y_true, y_pred, title):\n",
        "    precision = precision_score(y_true, y_pred)\n",
        "    recall = recall_score(y_true, y_pred)\n",
        "    f1 = f1_score(y_true, y_pred)\n",
        "    print(f\"{title}:\\n Precision: {precision:.4f}, Recall: {recall:.4f}, F1-Score: {f1:.4f}\\n\")\n",
        "\n",
        "evaluate_model(y_test, y_pred_no_weights, \"Without Class Weights\")\n",
        "evaluate_model(y_test, y_pred_with_weights, \"With Class Weights\")\n",
        "\n",
        "# Step 6: Visualize the impact using a confusion matrix\n",
        "from sklearn.metrics import confusion_matrix\n",
        "\n",
        "def plot_confusion_matrix(y_true, y_pred, title):\n",
        "    cm = confusion_matrix(y_true, y_pred)\n",
        "    plt.figure(figsize=(5, 4))\n",
        "    sns.heatmap(cm, annot=True, fmt=\"d\", cmap=\"Blues\", xticklabels=[\"No (0)\", \"Yes (1)\"], yticklabels=[\"No (0)\", \"Yes (1)\"])\n",
        "    plt.xlabel(\"Predicted\")\n",
        "    plt.ylabel(\"Actual\")\n",
        "    plt.title(title)\n",
        "    plt.show()\n",
        "\n",
        "plot_confusion_matrix(y_test, y_pred_no_weights, \"Confusion Matrix (Without Class Weights)\")\n",
        "plot_confusion_matrix(y_test, y_pred_with_weights, \"Confusion Matrix (With Class Weights)\")\n"
      ],
      "metadata": {
        "colab": {
          "base_uri": "https://localhost:8080/",
          "height": 907
        },
        "id": "0JV7GnhtxxAm",
        "outputId": "92eb8d54-0c44-46b2-e464-ec4783c8350a"
      },
      "execution_count": 50,
      "outputs": [
        {
          "output_type": "stream",
          "name": "stdout",
          "text": [
            "Without Class Weights:\n",
            " Precision: 0.7000, Recall: 0.3962, F1-Score: 0.5060\n",
            "\n",
            "With Class Weights:\n",
            " Precision: 0.4171, Recall: 0.8302, F1-Score: 0.5552\n",
            "\n"
          ]
        },
        {
          "output_type": "display_data",
          "data": {
            "text/plain": [
              "<Figure size 500x400 with 2 Axes>"
            ],
            "image/png": "[encoded data removed]"
          },
          "metadata": {}
        },
        {
          "output_type": "display_data",
          "data": {
            "text/plain": [
              "<Figure size 500x400 with 2 Axes>"
            ],
            "image/png": "[encoded data removed]"
          },
          "metadata": {}
        }
      ]
    },
    {
      "cell_type": "markdown",
      "source": [
        "# 14. Write a Python program to train Logistic Regression on the Titanic dataset, handle missing values, and evaluate performance\n"
      ],
      "metadata": {
        "id": "KflIrE_IyQsx"
      }
    },
    {
      "cell_type": "code",
      "source": [
        "import pandas as pd\n",
        "import numpy as np\n",
        "import seaborn as sns\n",
        "import matplotlib.pyplot as plt\n",
        "from sklearn.model_selection import train_test_split\n",
        "from sklearn.linear_model import LogisticRegression\n",
        "from sklearn.metrics import accuracy_score, precision_score, recall_score, f1_score, confusion_matrix\n",
        "\n",
        "# Step 1: Load the Titanic dataset\n",
        "df = sns.load_dataset('titanic')\n",
        "\n",
        "# Step 2: Select relevant features\n",
        "df = df[['survived', 'pclass', 'sex', 'age', 'sibsp', 'parch', 'fare', 'embarked']]\n",
        "\n",
        "# Step 3: Handle missing values\n",
        "df['age'].fillna(df['age'].median(), inplace=True)  # Fill missing Age with median\n",
        "df['embarked'].fillna(df['embarked'].mode()[0], inplace=True)  # Fill missing Embarked with mode\n",
        "\n",
        "# Step 4: Convert categorical variables into numerical values\n",
        "df['sex'] = df['sex'].map({'male': 0, 'female': 1})\n",
        "df['embarked'] = df['embarked'].map({'C': 0, 'Q': 1, 'S': 2})\n",
        "\n",
        "# Step 5: Split dataset into training and testing sets\n",
        "X = df.drop(columns=['survived'])\n",
        "y = df['survived']\n",
        "X_train, X_test, y_train, y_test = train_test_split(X, y, test_size=0.2, random_state=42, stratify=y)\n",
        "\n",
        "# Step 6: Train Logistic Regression model\n",
        "model = LogisticRegression(solver='liblinear')\n",
        "model.fit(X_train, y_train)\n",
        "\n",
        "# Step 7: Make predictions\n",
        "y_pred = model.predict(X_test)\n",
        "\n",
        "# Step 8: Evaluate model performance\n",
        "accuracy = accuracy_score(y_test, y_pred)\n",
        "precision = precision_score(y_test, y_pred)\n",
        "recall = recall_score(y_test, y_pred)\n",
        "f1 = f1_score(y_test, y_pred)\n",
        "\n",
        "print(f\"Accuracy: {accuracy:.4f}\")\n",
        "print(f\"Precision: {precision:.4f}\")\n",
        "print(f\"Recall: {recall:.4f}\")\n",
        "print(f\"F1-Score: {f1:.4f}\")\n",
        "\n",
        "# Step 9: Visualize Confusion Matrix\n",
        "cm = confusion_matrix(y_test, y_pred)\n",
        "plt.figure(figsize=(5, 4))\n",
        "sns.heatmap(cm, annot=True, fmt=\"d\", cmap=\"Blues\", xticklabels=[\"Not Survived (0)\", \"Survived (1)\"], yticklabels=[\"Not Survived (0)\", \"Survived (1)\"])\n",
        "plt.xlabel(\"Predicted\")\n",
        "plt.ylabel(\"Actual\")\n",
        "plt.title(\"Confusion Matrix\")\n",
        "plt.show()\n"
      ],
      "metadata": {
        "colab": {
          "base_uri": "https://localhost:8080/",
          "height": 479
        },
        "id": "rNtxFSuNzD92",
        "outputId": "e522d110-a6c0-49c2-e90a-2d3a3986100a"
      },
      "execution_count": 51,
      "outputs": [
        {
          "output_type": "stream",
          "name": "stdout",
          "text": [
            "Accuracy: 0.7933\n",
            "Precision: 0.7667\n",
            "Recall: 0.6667\n",
            "F1-Score: 0.7132\n"
          ]
        },
        {
          "output_type": "display_data",
          "data": {
            "text/plain": [
              "<Figure size 500x400 with 2 Axes>"
            ],
            "image/png": "[encoded data removed]"
          },
          "metadata": {}
        }
      ]
    },
    {
      "cell_type": "markdown",
      "source": [
        "# 15. Write a Python program to apply feature scaling (Standardization) before training a Logistic Regression model. Evaluate its accuracy and compare results with and without scaling.\n"
      ],
      "metadata": {
        "id": "1QIxE9QtzOl8"
      }
    },
    {
      "cell_type": "code",
      "source": [
        "import pandas as pd\n",
        "import seaborn as sns\n",
        "import numpy as np\n",
        "import matplotlib.pyplot as plt\n",
        "from sklearn.model_selection import train_test_split\n",
        "from sklearn.linear_model import LogisticRegression\n",
        "from sklearn.preprocessing import StandardScaler\n",
        "from sklearn.metrics import accuracy_score\n",
        "\n",
        "# Step 1: Load the Titanic dataset\n",
        "df = sns.load_dataset('titanic')\n",
        "\n",
        "# Step 2: Select relevant features\n",
        "df = df[['survived', 'pclass', 'sex', 'age', 'sibsp', 'parch', 'fare', 'embarked']]\n",
        "\n",
        "# Step 3: Handle missing values\n",
        "df['age'].fillna(df['age'].median(), inplace=True)  # Fill missing Age with median\n",
        "df['embarked'].fillna(df['embarked'].mode()[0], inplace=True)  # Fill missing Embarked with mode\n",
        "\n",
        "# Step 4: Convert categorical variables into numerical values\n",
        "df['sex'] = df['sex'].map({'male': 0, 'female': 1})\n",
        "df['embarked'] = df['embarked'].map({'C': 0, 'Q': 1, 'S': 2})\n",
        "\n",
        "# Step 5: Split dataset into training and testing sets\n",
        "X = df.drop(columns=['survived'])\n",
        "y = df['survived']\n",
        "X_train, X_test, y_train, y_test = train_test_split(X, y, test_size=0.2, random_state=42, stratify=y)\n",
        "\n",
        "# Step 6: Train Logistic Regression model WITHOUT scaling\n",
        "model_no_scaling = LogisticRegression(solver='liblinear')\n",
        "model_no_scaling.fit(X_train, y_train)\n",
        "y_pred_no_scaling = model_no_scaling.predict(X_test)\n",
        "accuracy_no_scaling = accuracy_score(y_test, y_pred_no_scaling)\n",
        "\n",
        "# Step 7: Apply Standardization (Feature Scaling)\n",
        "scaler = StandardScaler()\n",
        "X_train_scaled = scaler.fit_transform(X_train)\n",
        "X_test_scaled = scaler.transform(X_test)\n",
        "\n",
        "# Step 8: Train Logistic Regression model WITH scaling\n",
        "model_with_scaling = LogisticRegression(solver='liblinear')\n",
        "model_with_scaling.fit(X_train_scaled, y_train)\n",
        "y_pred_with_scaling = model_with_scaling.predict(X_test_scaled)\n",
        "accuracy_with_scaling = accuracy_score(y_test, y_pred_with_scaling)\n",
        "\n",
        "# Step 9: Print results and compare\n",
        "print(f\"Accuracy without scaling: {accuracy_no_scaling:.4f}\")\n",
        "print(f\"Accuracy with scaling: {accuracy_with_scaling:.4f}\")\n",
        "\n",
        "# Step 10: Visualize results\n",
        "plt.bar([\"Without Scaling\", \"With Scaling\"], [accuracy_no_scaling, accuracy_with_scaling], color=['red', 'green'])\n",
        "plt.xlabel(\"Model\")\n",
        "plt.ylabel(\"Accuracy\")\n",
        "plt.title(\"Effect of Feature Scaling on Logistic Regression\")\n",
        "plt.ylim(0.5, 1)  # Set y-axis limit for better visualization\n",
        "plt.show()\n"
      ],
      "metadata": {
        "colab": {
          "base_uri": "https://localhost:8080/",
          "height": 507
        },
        "id": "xS9nN9N6zqw4",
        "outputId": "a15433b5-dccc-41cc-af82-dd280c1d613f"
      },
      "execution_count": 52,
      "outputs": [
        {
          "output_type": "stream",
          "name": "stdout",
          "text": [
            "Accuracy without scaling: 0.7933\n",
            "Accuracy with scaling: 0.7989\n"
          ]
        },
        {
          "output_type": "display_data",
          "data": {
            "text/plain": [
              "<Figure size 640x480 with 1 Axes>"
            ],
            "image/png": "[encoded data removed]"
          },
          "metadata": {}
        }
      ]
    },
    {
      "cell_type": "markdown",
      "source": [
        "# 16. Write a Python program to train Logistic Regression and evaluate its performance using ROC-AUC score"
      ],
      "metadata": {
        "id": "1V_0qG_X0Tq6"
      }
    },
    {
      "cell_type": "code",
      "source": [
        "import pandas as pd\n",
        "import seaborn as sns\n",
        "import numpy as np\n",
        "import matplotlib.pyplot as plt\n",
        "from sklearn.model_selection import train_test_split\n",
        "from sklearn.linear_model import LogisticRegression\n",
        "from sklearn.preprocessing import StandardScaler\n",
        "from sklearn.metrics import roc_auc_score, roc_curve\n",
        "\n",
        "# Step 1: Load the Titanic dataset\n",
        "df = sns.load_dataset('titanic')\n",
        "\n",
        "# Step 2: Select relevant features\n",
        "df = df[['survived', 'pclass', 'sex', 'age', 'sibsp', 'parch', 'fare', 'embarked']]\n",
        "\n",
        "# Step 3: Handle missing values\n",
        "df['age'].fillna(df['age'].median(), inplace=True)  # Fill missing Age with median\n",
        "df['embarked'].fillna(df['embarked'].mode()[0], inplace=True)  # Fill missing Embarked with mode\n",
        "\n",
        "# Step 4: Convert categorical variables into numerical values\n",
        "df['sex'] = df['sex'].map({'male': 0, 'female': 1})\n",
        "df['embarked'] = df['embarked'].map({'C': 0, 'Q': 1, 'S': 2})\n",
        "\n",
        "# Step 5: Split dataset into training and testing sets\n",
        "X = df.drop(columns=['survived'])\n",
        "y = df['survived']\n",
        "X_train, X_test, y_train, y_test = train_test_split(X, y, test_size=0.2, random_state=42, stratify=y)\n",
        "\n",
        "# Step 6: Apply Standardization (Feature Scaling)\n",
        "scaler = StandardScaler()\n",
        "X_train_scaled = scaler.fit_transform(X_train)\n",
        "X_test_scaled = scaler.transform(X_test)\n",
        "\n",
        "# Step 7: Train Logistic Regression model\n",
        "model = LogisticRegression(solver='liblinear')\n",
        "model.fit(X_train_scaled, y_train)\n",
        "\n",
        "# Step 8: Get predicted probabilities\n",
        "y_prob = model.predict_proba(X_test_scaled)[:, 1]  # Probability for class 1 (survived)\n",
        "\n",
        "# Step 9: Compute ROC-AUC score\n",
        "roc_auc = roc_auc_score(y_test, y_prob)\n",
        "print(f\"ROC-AUC Score: {roc_auc:.4f}\")\n",
        "\n",
        "# Step 10: Plot ROC Curve\n",
        "fpr, tpr, _ = roc_curve(y_test, y_prob)\n",
        "plt.figure(figsize=(8, 6))\n",
        "plt.plot(fpr, tpr, color='blue', label=f'ROC Curve (AUC = {roc_auc:.4f})')\n",
        "plt.plot([0, 1], [0, 1], linestyle='--', color='gray')  # Diagonal Line (Random Classifier)\n",
        "plt.xlabel(\"False Positive Rate (FPR)\")\n",
        "plt.ylabel(\"True Positive Rate (TPR)\")\n",
        "plt.title(\"ROC Curve for Logistic Regression\")\n",
        "plt.legend()\n",
        "plt.show()\n"
      ],
      "metadata": {
        "colab": {
          "base_uri": "https://localhost:8080/",
          "height": 581
        },
        "id": "MBBYSLd10inU",
        "outputId": "1f44f047-5ea4-45c0-b2cc-1719c3200075"
      },
      "execution_count": 53,
      "outputs": [
        {
          "output_type": "stream",
          "name": "stdout",
          "text": [
            "ROC-AUC Score: 0.8519\n"
          ]
        },
        {
          "output_type": "display_data",
          "data": {
            "text/plain": [
              "<Figure size 800x600 with 1 Axes>"
            ],
            "image/png": "[encoded data removed]"
          },
          "metadata": {}
        }
      ]
    },
    {
      "cell_type": "markdown",
      "source": [
        "# 17. Write a Python program to train Logistic Regression using a custom learning rate (C=0.5) and evaluate accuracy\n"
      ],
      "metadata": {
        "id": "JpqkeN_f1D7S"
      }
    },
    {
      "cell_type": "code",
      "source": [
        "import pandas as pd\n",
        "import seaborn as sns\n",
        "import numpy as np\n",
        "from sklearn.model_selection import train_test_split\n",
        "from sklearn.linear_model import LogisticRegression\n",
        "from sklearn.preprocessing import StandardScaler\n",
        "from sklearn.metrics import accuracy_score\n",
        "\n",
        "# Step 1: Load the Titanic dataset\n",
        "df = sns.load_dataset('titanic')\n",
        "\n",
        "# Step 2: Select relevant features\n",
        "df = df[['survived', 'pclass', 'sex', 'age', 'sibsp', 'parch', 'fare', 'embarked']]\n",
        "\n",
        "# Step 3: Handle missing values\n",
        "df['age'].fillna(df['age'].median(), inplace=True)  # Fill missing Age with median\n",
        "df['embarked'].fillna(df['embarked'].mode()[0], inplace=True)  # Fill missing Embarked with mode\n",
        "\n",
        "# Step 4: Convert categorical variables into numerical values\n",
        "df['sex'] = df['sex'].map({'male': 0, 'female': 1})\n",
        "df['embarked'] = df['embarked'].map({'C': 0, 'Q': 1, 'S': 2})\n",
        "\n",
        "# Step 5: Split dataset into training and testing sets\n",
        "X = df.drop(columns=['survived'])\n",
        "y = df['survived']\n",
        "X_train, X_test, y_train, y_test = train_test_split(X, y, test_size=0.2, random_state=42, stratify=y)\n",
        "\n",
        "# Step 6: Apply Standardization (Feature Scaling)\n",
        "scaler = StandardScaler()\n",
        "X_train_scaled = scaler.fit_transform(X_train)\n",
        "X_test_scaled = scaler.transform(X_test)\n",
        "\n",
        "# Step 7: Train Logistic Regression model with C=0.5\n",
        "model = LogisticRegression(C=0.5, solver='liblinear')  # C=0.5 controls regularization strength\n",
        "model.fit(X_train_scaled, y_train)\n",
        "\n",
        "# Step 8: Make predictions\n",
        "y_pred = model.predict(X_test_scaled)\n",
        "\n",
        "# Step 9: Evaluate accuracy\n",
        "accuracy = accuracy_score(y_test, y_pred)\n",
        "print(f\"Model Accuracy with C=0.5: {accuracy:.4f}\")\n"
      ],
      "metadata": {
        "colab": {
          "base_uri": "https://localhost:8080/"
        },
        "id": "V1xzLZiz1eLo",
        "outputId": "9d31dc53-32d6-4379-a684-69c7304daab0"
      },
      "execution_count": 56,
      "outputs": [
        {
          "output_type": "stream",
          "name": "stdout",
          "text": [
            "Model Accuracy with C=0.5: 0.7989\n"
          ]
        }
      ]
    },
    {
      "cell_type": "markdown",
      "source": [
        "# 18. Write a Python program to train Logistic Regression and identify important features based on model coefficients\n"
      ],
      "metadata": {
        "id": "yHBK3weg1ykl"
      }
    },
    {
      "cell_type": "code",
      "source": [
        "import pandas as pd\n",
        "import seaborn as sns\n",
        "import numpy as np\n",
        "from sklearn.model_selection import train_test_split\n",
        "from sklearn.linear_model import LogisticRegression\n",
        "from sklearn.preprocessing import StandardScaler\n",
        "\n",
        "# Step 1: Load the Titanic dataset\n",
        "df = sns.load_dataset('titanic')\n",
        "\n",
        "# Step 2: Select relevant features\n",
        "df = df[['survived', 'pclass', 'sex', 'age', 'sibsp', 'parch', 'fare', 'embarked']]\n",
        "\n",
        "# Step 3: Handle missing values\n",
        "df['age'].fillna(df['age'].median(), inplace=True)  # Fill missing Age with median\n",
        "df['embarked'].fillna(df['embarked'].mode()[0], inplace=True)  # Fill missing Embarked with mode\n",
        "\n",
        "# Step 4: Convert categorical variables into numerical values\n",
        "df['sex'] = df['sex'].map({'male': 0, 'female': 1})\n",
        "df['embarked'] = df['embarked'].map({'C': 0, 'Q': 1, 'S': 2})\n",
        "\n",
        "# Step 5: Split dataset into training and testing sets\n",
        "X = df.drop(columns=['survived'])\n",
        "y = df['survived']\n",
        "X_train, X_test, y_train, y_test = train_test_split(X, y, test_size=0.2, random_state=42, stratify=y)\n",
        "\n",
        "# Step 6: Apply Standardization (Feature Scaling)\n",
        "scaler = StandardScaler()\n",
        "X_train_scaled = scaler.fit_transform(X_train)\n",
        "X_test_scaled = scaler.transform(X_test)\n",
        "\n",
        "# Step 7: Train Logistic Regression model\n",
        "model = LogisticRegression(solver='liblinear')\n",
        "model.fit(X_train_scaled, y_train)\n",
        "\n",
        "# Step 8: Identify feature importance (coefficients)\n",
        "feature_importance = pd.DataFrame({'Feature': X.columns, 'Coefficient': model.coef_[0]})\n",
        "\n",
        "# Step 9: Sort features by importance\n",
        "feature_importance = feature_importance.sort_values(by='Coefficient', ascending=False)\n",
        "\n",
        "# Step 10: Display important features\n",
        "print(\"Feature Importance based on Logistic Regression coefficients:\")\n",
        "print(feature_importance)\n"
      ],
      "metadata": {
        "colab": {
          "base_uri": "https://localhost:8080/"
        },
        "id": "3B-aR_OT12w3",
        "outputId": "55318e5d-6743-4e24-8653-50684729af00"
      },
      "execution_count": 57,
      "outputs": [
        {
          "output_type": "stream",
          "name": "stdout",
          "text": [
            "Feature Importance based on Logistic Regression coefficients:\n",
            "    Feature  Coefficient\n",
            "1       sex     1.284791\n",
            "5      fare     0.099543\n",
            "4     parch    -0.082642\n",
            "6  embarked    -0.184640\n",
            "3     sibsp    -0.264698\n",
            "2       age    -0.494259\n",
            "0    pclass    -0.887462\n"
          ]
        }
      ]
    },
    {
      "cell_type": "markdown",
      "source": [
        "# 19. Write a Python program to train Logistic Regression and evaluate its performance using Cohen’s Kappa Score\n"
      ],
      "metadata": {
        "id": "wx9LhbhJ2I1A"
      }
    },
    {
      "cell_type": "code",
      "source": [
        "import pandas as pd\n",
        "import seaborn as sns\n",
        "import numpy as np\n",
        "from sklearn.model_selection import train_test_split\n",
        "from sklearn.linear_model import LogisticRegression\n",
        "from sklearn.preprocessing import StandardScaler\n",
        "from sklearn.metrics import cohen_kappa_score, accuracy_score\n",
        "\n",
        "# Step 1: Load the Titanic dataset\n",
        "df = sns.load_dataset('titanic')\n",
        "\n",
        "# Step 2: Select relevant features\n",
        "df = df[['survived', 'pclass', 'sex', 'age', 'sibsp', 'parch', 'fare', 'embarked']]\n",
        "\n",
        "# Step 3: Handle missing values\n",
        "df['age'].fillna(df['age'].median(), inplace=True)  # Fill missing Age with median\n",
        "df['embarked'].fillna(df['embarked'].mode()[0], inplace=True)  # Fill missing Embarked with mode\n",
        "\n",
        "# Step 4: Convert categorical variables into numerical values\n",
        "df['sex'] = df['sex'].map({'male': 0, 'female': 1})\n",
        "df['embarked'] = df['embarked'].map({'C': 0, 'Q': 1, 'S': 2})\n",
        "\n",
        "# Step 5: Split dataset into training and testing sets\n",
        "X = df.drop(columns=['survived'])\n",
        "y = df['survived']\n",
        "X_train, X_test, y_train, y_test = train_test_split(X, y, test_size=0.2, random_state=42, stratify=y)\n",
        "\n",
        "# Step 6: Apply Feature Scaling (Standardization)\n",
        "scaler = StandardScaler()\n",
        "X_train_scaled = scaler.fit_transform(X_train)\n",
        "X_test_scaled = scaler.transform(X_test)\n",
        "\n",
        "# Step 7: Train Logistic Regression model\n",
        "model = LogisticRegression(solver='liblinear')\n",
        "model.fit(X_train_scaled, y_train)\n",
        "\n",
        "# Step 8: Make Predictions\n",
        "y_pred = model.predict(X_test_scaled)\n",
        "\n",
        "# Step 9: Evaluate model using Cohen’s Kappa Score and Accuracy\n",
        "kappa_score = cohen_kappa_score(y_test, y_pred)\n",
        "accuracy = accuracy_score(y_test, y_pred)\n",
        "\n",
        "# Step 10: Display Results\n",
        "print(f\"Model Accuracy: {accuracy:.4f}\")\n",
        "print(f\"Cohen’s Kappa Score: {kappa_score:.4f}\")\n"
      ],
      "metadata": {
        "colab": {
          "base_uri": "https://localhost:8080/"
        },
        "id": "adY1stU03bep",
        "outputId": "3a2c6ce7-e434-4218-8f07-59093368c0fe"
      },
      "execution_count": 58,
      "outputs": [
        {
          "output_type": "stream",
          "name": "stdout",
          "text": [
            "Model Accuracy: 0.7989\n",
            "Cohen’s Kappa Score: 0.5637\n"
          ]
        }
      ]
    },
    {
      "cell_type": "markdown",
      "source": [
        "# 20. Write a Python program to train Logistic Regression and visualize the Precision-Recall Curve for binary classification\n"
      ],
      "metadata": {
        "id": "qLWtatMx3xjF"
      }
    },
    {
      "cell_type": "code",
      "source": [
        "import pandas as pd\n",
        "import seaborn as sns\n",
        "import numpy as np\n",
        "import matplotlib.pyplot as plt\n",
        "from sklearn.model_selection import train_test_split\n",
        "from sklearn.linear_model import LogisticRegression\n",
        "from sklearn.preprocessing import StandardScaler\n",
        "from sklearn.metrics import precision_recall_curve, auc\n",
        "\n",
        "# Step 1: Load the Titanic dataset\n",
        "df = sns.load_dataset('titanic')\n",
        "\n",
        "# Step 2: Select relevant features\n",
        "df = df[['survived', 'pclass', 'sex', 'age', 'sibsp', 'parch', 'fare', 'embarked']]\n",
        "\n",
        "# Step 3: Handle missing values\n",
        "df['age'].fillna(df['age'].median(), inplace=True)  # Fill missing Age with median\n",
        "df['embarked'].fillna(df['embarked'].mode()[0], inplace=True)  # Fill missing Embarked with mode\n",
        "\n",
        "# Step 4: Convert categorical variables into numerical values\n",
        "df['sex'] = df['sex'].map({'male': 0, 'female': 1})\n",
        "df['embarked'] = df['embarked'].map({'C': 0, 'Q': 1, 'S': 2})\n",
        "\n",
        "# Step 5: Split dataset into training and testing sets\n",
        "X = df.drop(columns=['survived'])\n",
        "y = df['survived']\n",
        "X_train, X_test, y_train, y_test = train_test_split(X, y, test_size=0.2, random_state=42, stratify=y)\n",
        "\n",
        "# Step 6: Apply Feature Scaling (Standardization)\n",
        "scaler = StandardScaler()\n",
        "X_train_scaled = scaler.fit_transform(X_train)\n",
        "X_test_scaled = scaler.transform(X_test)\n",
        "\n",
        "# Step 7: Train Logistic Regression model\n",
        "model = LogisticRegression(solver='liblinear')\n",
        "model.fit(X_train_scaled, y_train)\n",
        "\n",
        "# Step 8: Compute Precision-Recall values\n",
        "y_scores = model.predict_proba(X_test_scaled)[:, 1]  # Get predicted probabilities for the positive class\n",
        "precision, recall, _ = precision_recall_curve(y_test, y_scores)\n",
        "pr_auc = auc(recall, precision)\n",
        "\n",
        "# Step 9: Plot the Precision-Recall Curve\n",
        "plt.figure(figsize=(8, 6))\n",
        "plt.plot(recall, precision, marker='.', label=f'PR AUC = {pr_auc:.4f}')\n",
        "plt.xlabel('Recall')\n",
        "plt.ylabel('Precision')\n",
        "plt.title('Precision-Recall Curve')\n",
        "plt.legend()\n",
        "plt.grid()\n",
        "plt.show()\n"
      ],
      "metadata": {
        "colab": {
          "base_uri": "https://localhost:8080/",
          "height": 564
        },
        "id": "S9s-2wML3rPg",
        "outputId": "91c62c50-859c-4bdf-c57a-50226f593b34"
      },
      "execution_count": 59,
      "outputs": [
        {
          "output_type": "display_data",
          "data": {
            "text/plain": [
              "<Figure size 800x600 with 1 Axes>"
            ],
            "image/png": "[encoded data removed]"
          },
          "metadata": {}
        }
      ]
    },
    {
      "cell_type": "markdown",
      "source": [
        "# 21. Write a Python program to train Logistic Regression with different solvers (liblinear, saga, lbfgs) and compare their accuracy\n"
      ],
      "metadata": {
        "id": "2w9_XD194FV8"
      }
    },
    {
      "cell_type": "code",
      "source": [
        "import pandas as pd\n",
        "import seaborn as sns\n",
        "import numpy as np\n",
        "from sklearn.model_selection import train_test_split\n",
        "from sklearn.preprocessing import StandardScaler\n",
        "from sklearn.linear_model import LogisticRegression\n",
        "from sklearn.metrics import accuracy_score\n",
        "\n",
        "# Step 1: Load the Titanic dataset\n",
        "df = sns.load_dataset('titanic')\n",
        "\n",
        "# Step 2: Select relevant features\n",
        "df = df[['survived', 'pclass', 'sex', 'age', 'sibsp', 'parch', 'fare', 'embarked']]\n",
        "\n",
        "# Step 3: Handle missing values\n",
        "df['age'].fillna(df['age'].median(), inplace=True)  # Fill missing Age with median\n",
        "df['embarked'].fillna(df['embarked'].mode()[0], inplace=True)  # Fill missing Embarked with mode\n",
        "\n",
        "# Step 4: Convert categorical variables into numerical values\n",
        "df['sex'] = df['sex'].map({'male': 0, 'female': 1})\n",
        "df['embarked'] = df['embarked'].map({'C': 0, 'Q': 1, 'S': 2})\n",
        "\n",
        "# Step 5: Split dataset into training and testing sets\n",
        "X = df.drop(columns=['survived'])\n",
        "y = df['survived']\n",
        "X_train, X_test, y_train, y_test = train_test_split(X, y, test_size=0.2, random_state=42, stratify=y)\n",
        "\n",
        "# Step 6: Apply Feature Scaling (Standardization)\n",
        "scaler = StandardScaler()\n",
        "X_train_scaled = scaler.fit_transform(X_train)\n",
        "X_test_scaled = scaler.transform(X_test)\n",
        "\n",
        "# Step 7: Train Logistic Regression with different solvers\n",
        "solvers = ['liblinear', 'saga', 'lbfgs']\n",
        "accuracy_results = {}\n",
        "\n",
        "for solver in solvers:\n",
        "    model = LogisticRegression(solver=solver, max_iter=200)\n",
        "    model.fit(X_train_scaled, y_train)\n",
        "    y_pred = model.predict(X_test_scaled)\n",
        "    accuracy = accuracy_score(y_test, y_pred)\n",
        "    accuracy_results[solver] = accuracy\n",
        "    print(f\"Solver: {solver}, Accuracy: {accuracy:.4f}\")\n",
        "\n",
        "# Step 8: Print the best solver\n",
        "best_solver = max(accuracy_results, key=accuracy_results.get)\n",
        "print(f\"\\nBest Solver: {best_solver}, Accuracy: {accuracy_results[best_solver]:.4f}\")\n"
      ],
      "metadata": {
        "colab": {
          "base_uri": "https://localhost:8080/"
        },
        "id": "Vfl-mZaq4P37",
        "outputId": "ad153e64-c412-4181-c491-d9e1bf2085ca"
      },
      "execution_count": 60,
      "outputs": [
        {
          "output_type": "stream",
          "name": "stdout",
          "text": [
            "Solver: liblinear, Accuracy: 0.7989\n",
            "Solver: saga, Accuracy: 0.7989\n",
            "Solver: lbfgs, Accuracy: 0.7989\n",
            "\n",
            "Best Solver: liblinear, Accuracy: 0.7989\n"
          ]
        }
      ]
    },
    {
      "cell_type": "markdown",
      "source": [
        "# 22. Write a Python program to train Logistic Regression and evaluate its performance using Matthews Correlation Coefficient (MCC)\n"
      ],
      "metadata": {
        "id": "AlxL9Oy64lii"
      }
    },
    {
      "cell_type": "code",
      "source": [
        "import pandas as pd\n",
        "import seaborn as sns\n",
        "import numpy as np\n",
        "from sklearn.model_selection import train_test_split\n",
        "from sklearn.preprocessing import StandardScaler\n",
        "from sklearn.linear_model import LogisticRegression\n",
        "from sklearn.metrics import matthews_corrcoef\n",
        "\n",
        "# Step 1: Load the Titanic dataset\n",
        "df = sns.load_dataset('titanic')\n",
        "\n",
        "# Step 2: Select relevant features\n",
        "df = df[['survived', 'pclass', 'sex', 'age', 'sibsp', 'parch', 'fare', 'embarked']]\n",
        "\n",
        "# Step 3: Handle missing values\n",
        "df['age'].fillna(df['age'].median(), inplace=True)  # Fill missing Age with median\n",
        "df['embarked'].fillna(df['embarked'].mode()[0], inplace=True)  # Fill missing Embarked with mode\n",
        "\n",
        "# Step 4: Convert categorical variables into numerical values\n",
        "df['sex'] = df['sex'].map({'male': 0, 'female': 1})\n",
        "df['embarked'] = df['embarked'].map({'C': 0, 'Q': 1, 'S': 2})\n",
        "\n",
        "# Step 5: Split dataset into training and testing sets\n",
        "X = df.drop(columns=['survived'])\n",
        "y = df['survived']\n",
        "X_train, X_test, y_train, y_test = train_test_split(X, y, test_size=0.2, random_state=42, stratify=y)\n",
        "\n",
        "# Step 6: Apply Feature Scaling (Standardization)\n",
        "scaler = StandardScaler()\n",
        "X_train_scaled = scaler.fit_transform(X_train)\n",
        "X_test_scaled = scaler.transform(X_test)\n",
        "\n",
        "# Step 7: Train Logistic Regression model\n",
        "model = LogisticRegression(solver='liblinear', max_iter=200)\n",
        "model.fit(X_train_scaled, y_train)\n",
        "\n",
        "# Step 8: Predict the test set\n",
        "y_pred = model.predict(X_test_scaled)\n",
        "\n",
        "# Step 9: Compute Matthews Correlation Coefficient (MCC)\n",
        "mcc = matthews_corrcoef(y_test, y_pred)\n",
        "print(f\"Matthews Correlation Coefficient (MCC): {mcc:.4f}\")\n"
      ],
      "metadata": {
        "colab": {
          "base_uri": "https://localhost:8080/"
        },
        "id": "9uVgoJ4I4tqQ",
        "outputId": "bc29d1b6-da12-43fe-d8e2-c0614d11403a"
      },
      "execution_count": 61,
      "outputs": [
        {
          "output_type": "stream",
          "name": "stdout",
          "text": [
            "Matthews Correlation Coefficient (MCC): 0.5679\n"
          ]
        }
      ]
    },
    {
      "cell_type": "markdown",
      "source": [
        "# 23. Write a Python program to train Logistic Regression on both raw and standardized data. Compare their accuracy to see the impact of feature scaling\n"
      ],
      "metadata": {
        "id": "Wbf3nSqr4zp9"
      }
    },
    {
      "cell_type": "code",
      "source": [
        "import pandas as pd\n",
        "import seaborn as sns\n",
        "import numpy as np\n",
        "from sklearn.model_selection import train_test_split\n",
        "from sklearn.preprocessing import StandardScaler\n",
        "from sklearn.linear_model import LogisticRegression\n",
        "from sklearn.metrics import accuracy_score\n",
        "\n",
        "# Step 1: Load the Titanic dataset\n",
        "df = sns.load_dataset('titanic')\n",
        "\n",
        "# Step 2: Select relevant features\n",
        "df = df[['survived', 'pclass', 'sex', 'age', 'sibsp', 'parch', 'fare', 'embarked']]\n",
        "\n",
        "# Step 3: Handle missing values\n",
        "df['age'].fillna(df['age'].median(), inplace=True)  # Fill missing Age with median\n",
        "df['embarked'].fillna(df['embarked'].mode()[0], inplace=True)  # Fill missing Embarked with mode\n",
        "\n",
        "# Step 4: Convert categorical variables into numerical values\n",
        "df['sex'] = df['sex'].map({'male': 0, 'female': 1})\n",
        "df['embarked'] = df['embarked'].map({'C': 0, 'Q': 1, 'S': 2})\n",
        "\n",
        "# Step 5: Split dataset into training and testing sets\n",
        "X = df.drop(columns=['survived'])\n",
        "y = df['survived']\n",
        "X_train, X_test, y_train, y_test = train_test_split(X, y, test_size=0.2, random_state=42, stratify=y)\n",
        "\n",
        "# Step 6: Train Logistic Regression on raw (unscaled) data\n",
        "model_raw = LogisticRegression(solver='liblinear', max_iter=200)\n",
        "model_raw.fit(X_train, y_train)\n",
        "y_pred_raw = model_raw.predict(X_test)\n",
        "accuracy_raw = accuracy_score(y_test, y_pred_raw)\n",
        "\n",
        "# Step 7: Apply Feature Scaling (Standardization)\n",
        "scaler = StandardScaler()\n",
        "X_train_scaled = scaler.fit_transform(X_train)\n",
        "X_test_scaled = scaler.transform(X_test)\n",
        "\n",
        "# Step 8: Train Logistic Regression on standardized (scaled) data\n",
        "model_scaled = LogisticRegression(solver='liblinear', max_iter=200)\n",
        "model_scaled.fit(X_train_scaled, y_train)\n",
        "y_pred_scaled = model_scaled.predict(X_test_scaled)\n",
        "accuracy_scaled = accuracy_score(y_test, y_pred_scaled)\n",
        "\n",
        "# Step 9: Print the accuracy comparison\n",
        "print(f\"Accuracy without Scaling: {accuracy_raw:.4f}\")\n",
        "print(f\"Accuracy with Scaling: {accuracy_scaled:.4f}\")\n"
      ],
      "metadata": {
        "colab": {
          "base_uri": "https://localhost:8080/"
        },
        "id": "u57ec_fZ5DUn",
        "outputId": "1abc09db-626c-4529-b6ac-1d0f57c447d3"
      },
      "execution_count": 62,
      "outputs": [
        {
          "output_type": "stream",
          "name": "stdout",
          "text": [
            "Accuracy without Scaling: 0.7933\n",
            "Accuracy with Scaling: 0.7989\n"
          ]
        }
      ]
    },
    {
      "cell_type": "markdown",
      "source": [
        "# 24. Write a Python program to train Logistic Regression and find the optimal C (regularization strength) using cross-validation\n"
      ],
      "metadata": {
        "id": "TztpFPDX5IMr"
      }
    },
    {
      "cell_type": "code",
      "source": [
        "import pandas as pd\n",
        "import seaborn as sns\n",
        "import numpy as np\n",
        "from sklearn.model_selection import train_test_split, GridSearchCV\n",
        "from sklearn.preprocessing import StandardScaler\n",
        "from sklearn.linear_model import LogisticRegression\n",
        "from sklearn.metrics import accuracy_score\n",
        "\n",
        "# Step 1: Load the Titanic dataset\n",
        "df = sns.load_dataset('titanic')\n",
        "\n",
        "# Step 2: Select relevant features\n",
        "df = df[['survived', 'pclass', 'sex', 'age', 'sibsp', 'parch', 'fare', 'embarked']]\n",
        "\n",
        "# Step 3: Handle missing values\n",
        "df['age'].fillna(df['age'].median(), inplace=True)  # Fill missing Age with median\n",
        "df['embarked'].fillna(df['embarked'].mode()[0], inplace=True)  # Fill missing Embarked with mode\n",
        "\n",
        "# Step 4: Convert categorical variables into numerical values\n",
        "df['sex'] = df['sex'].map({'male': 0, 'female': 1})\n",
        "df['embarked'] = df['embarked'].map({'C': 0, 'Q': 1, 'S': 2})\n",
        "\n",
        "# Step 5: Split dataset into training and testing sets\n",
        "X = df.drop(columns=['survived'])\n",
        "y = df['survived']\n",
        "X_train, X_test, y_train, y_test = train_test_split(X, y, test_size=0.2, random_state=42, stratify=y)\n",
        "\n",
        "# Step 6: Apply Feature Scaling (Standardization)\n",
        "scaler = StandardScaler()\n",
        "X_train_scaled = scaler.fit_transform(X_train)\n",
        "X_test_scaled = scaler.transform(X_test)\n",
        "\n",
        "# Step 7: Define the Logistic Regression model\n",
        "model = LogisticRegression(solver='liblinear', max_iter=200)\n",
        "\n",
        "# Step 8: Define hyperparameter grid for C values\n",
        "param_grid = {'C': [0.001, 0.01, 0.1, 1, 10, 100]}\n",
        "\n",
        "# Step 9: Use GridSearchCV for Cross-Validation\n",
        "grid_search = GridSearchCV(model, param_grid, cv=5, scoring='accuracy', n_jobs=-1)\n",
        "grid_search.fit(X_train_scaled, y_train)\n",
        "\n",
        "# Step 10: Get the best hyperparameter C\n",
        "best_C = grid_search.best_params_['C']\n",
        "print(f\"Best C (Regularization Strength): {best_C}\")\n",
        "\n",
        "# Step 11: Train the model using the best C\n",
        "best_model = LogisticRegression(solver='liblinear', C=best_C, max_iter=200)\n",
        "best_model.fit(X_train_scaled, y_train)\n",
        "y_pred = best_model.predict(X_test_scaled)\n",
        "\n",
        "# Step 12: Evaluate the model\n",
        "accuracy = accuracy_score(y_test, y_pred)\n",
        "print(f\"Test Accuracy with Best C: {accuracy:.4f}\")\n"
      ],
      "metadata": {
        "colab": {
          "base_uri": "https://localhost:8080/"
        },
        "id": "X8WIPaiw5kNv",
        "outputId": "5eb84d5b-483c-4f1d-f996-2ad9d258e941"
      },
      "execution_count": 63,
      "outputs": [
        {
          "output_type": "stream",
          "name": "stdout",
          "text": [
            "Best C (Regularization Strength): 0.1\n",
            "Test Accuracy with Best C: 0.7877\n"
          ]
        }
      ]
    },
    {
      "cell_type": "markdown",
      "source": [
        "# 25. Write a Python program to train Logistic Regression, save the trained model using joblib, and load it again to make predictions.\n"
      ],
      "metadata": {
        "id": "DMTNknC853ZF"
      }
    },
    {
      "cell_type": "code",
      "source": [
        "import pandas as pd\n",
        "import seaborn as sns\n",
        "import numpy as np\n",
        "import joblib\n",
        "from sklearn.model_selection import train_test_split\n",
        "from sklearn.preprocessing import StandardScaler\n",
        "from sklearn.linear_model import LogisticRegression\n",
        "from sklearn.metrics import accuracy_score\n",
        "\n",
        "# Step 1: Load the Titanic dataset\n",
        "df = sns.load_dataset('titanic')\n",
        "\n",
        "# Step 2: Select relevant features\n",
        "df = df[['survived', 'pclass', 'sex', 'age', 'sibsp', 'parch', 'fare', 'embarked']]\n",
        "\n",
        "# Step 3: Handle missing values\n",
        "df['age'].fillna(df['age'].median(), inplace=True)  # Fill missing Age with median\n",
        "df['embarked'].fillna(df['embarked'].mode()[0], inplace=True)  # Fill missing Embarked with mode\n",
        "\n",
        "# Step 4: Convert categorical variables into numerical values\n",
        "df['sex'] = df['sex'].map({'male': 0, 'female': 1})\n",
        "df['embarked'] = df['embarked'].map({'C': 0, 'Q': 1, 'S': 2})\n",
        "\n",
        "# Step 5: Split dataset into training and testing sets\n",
        "X = df.drop(columns=['survived'])\n",
        "y = df['survived']\n",
        "X_train, X_test, y_train, y_test = train_test_split(X, y, test_size=0.2, random_state=42, stratify=y)\n",
        "\n",
        "# Step 6: Apply Feature Scaling (Standardization)\n",
        "scaler = StandardScaler()\n",
        "X_train_scaled = scaler.fit_transform(X_train)\n",
        "X_test_scaled = scaler.transform(X_test)\n",
        "\n",
        "# Step 7: Train the Logistic Regression model\n",
        "model = LogisticRegression(solver='liblinear', C=1.0, max_iter=200)\n",
        "model.fit(X_train_scaled, y_train)\n",
        "\n",
        "# Step 8: Save the trained model using joblib\n",
        "joblib.dump(model, \"logistic_regression_model.pkl\")\n",
        "joblib.dump(scaler, \"scaler.pkl\")\n",
        "print(\"Model and scaler saved successfully!\")\n",
        "\n",
        "# Step 9: Load the saved model and scaler\n",
        "loaded_model = joblib.load(\"logistic_regression_model.pkl\")\n",
        "loaded_scaler = joblib.load(\"scaler.pkl\")\n",
        "print(\"Model and scaler loaded successfully!\")\n",
        "\n",
        "# Step 10: Make predictions using the loaded model\n",
        "X_test_scaled_loaded = loaded_scaler.transform(X_test)  # Ensure scaling consistency\n",
        "y_pred = loaded_model.predict(X_test_scaled_loaded)\n",
        "\n",
        "# Step 11: Evaluate the model\n",
        "accuracy = accuracy_score(y_test, y_pred)\n",
        "print(f\"Test Accuracy with Loaded Model: {accuracy:.4f}\")\n"
      ],
      "metadata": {
        "colab": {
          "base_uri": "https://localhost:8080/"
        },
        "id": "Poqb38Qk6Bqb",
        "outputId": "73b126fa-1839-4657-a1ab-6224bec1cc40"
      },
      "execution_count": 64,
      "outputs": [
        {
          "output_type": "stream",
          "name": "stdout",
          "text": [
            "Model and scaler saved successfully!\n",
            "Model and scaler loaded successfully!\n",
            "Test Accuracy with Loaded Model: 0.7989\n"
          ]
        }
      ]
    }
  ]
}