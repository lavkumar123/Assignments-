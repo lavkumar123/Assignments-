{
  "nbformat": 4,
  "nbformat_minor": 0,
  "metadata": {
    "colab": {
      "provenance": []
    },
    "kernelspec": {
      "name": "python3",
      "display_name": "Python 3"
    },
    "language_info": {
      "name": "python"
    }
  },
  "cells": [
    {
      "cell_type": "markdown",
      "source": [
        "# **Theoretical**"
      ],
      "metadata": {
        "id": "WCrdDjWWX7bS"
      }
    },
    {
      "cell_type": "markdown",
      "source": [
        "# 1. What is a Support Vector Machine (SVM).\n",
        "### **Ans:-** A **Support Vector Machine (SVM)** is a supervised machine learning algorithm primarily used for **classification** and **regression** tasks. It works by finding the optimal **hyperplane** that best separates data points of different classes in a high-dimensional space.\n",
        "\n",
        "### **Key Concepts of SVM:**\n",
        "1. **Hyperplane:** A decision boundary that separates different classes. The goal is to maximize the margin between the nearest data points of different classes.\n",
        "2. **Support Vectors:** Data points that lie closest to the hyperplane and influence its position.\n",
        "3. **Margin:** The distance between the hyperplane and the nearest support vectors. A larger margin reduces overfitting.\n",
        "4. **Kernel Trick:** When data is not linearly separable, SVM transforms it into a higher-dimensional space using kernel functions (e.g., linear, polynomial, radial basis function (RBF), and sigmoid).\n",
        "\n",
        "### **Types of SVM:**\n",
        "1. **Linear SVM:** Used when data is linearly separable.\n",
        "2. **Non-Linear SVM:** Uses kernel functions to handle complex decision boundaries.\n",
        "\n",
        "### **Advantages of SVM:**\n",
        "- Effective for high-dimensional data.\n",
        "- Works well for small datasets with clear margins.\n",
        "- Can handle non-linear relationships using kernel functions.\n",
        "\n",
        "### **Disadvantages of SVM:**\n",
        "- Computationally expensive for large datasets.\n",
        "- Requires careful tuning of hyperparameters (e.g., kernel choice, C parameter).\n",
        "- Sensitive to noise and imbalanced data.\n",
        "\n"
      ],
      "metadata": {
        "id": "zgfs0NefOi7W"
      }
    },
    {
      "cell_type": "markdown",
      "source": [
        "# 2. What is the difference between Hard Margin and Soft Margin SVM.\n",
        "### **Ans:-** **Difference Between Hard Margin and Soft Margin SVM**\n",
        "\n",
        "SVM can be categorized into **Hard Margin SVM** and **Soft Margin SVM**, depending on how strictly the model separates data.\n",
        "\n",
        "| Feature          | Hard Margin SVM | Soft Margin SVM |\n",
        "|-----------------|----------------|----------------|\n",
        "| **Definition** | Finds a hyperplane that perfectly separates the data without any misclassification. | Allows some misclassification by introducing a margin of error (slack variables). |\n",
        "| **Data Requirements** | Works only when data is **linearly separable**. | Works for **non-linearly separable** data as well. |\n",
        "| **Flexibility** | Very rigid and does not tolerate outliers. | More flexible, allowing some misclassification to improve generalization. |\n",
        "| **Mathematical Approach** | Maximizes the margin without any tolerance for misclassification. | Introduces a **regularization parameter (C)** to control the trade-off between margin size and misclassification. |\n",
        "| **Sensitivity to Outliers** | Highly sensitive (even a single outlier can prevent a perfect separation). | Less sensitive, as it allows some misclassification. |\n",
        "| **Use Case** | Suitable for clean and noise-free datasets. | Used for real-world datasets with some overlap and noise. |\n",
        "\n",
        "### **Which One to Use?**\n",
        "- **Hard Margin SVM** is ideal when data is **perfectly separable**.\n",
        "- **Soft Margin SVM** is preferred for **real-world scenarios** where data may have noise and overlapping classes.\n",
        "\n"
      ],
      "metadata": {
        "id": "ETWHBd-PO5PQ"
      }
    },
    {
      "cell_type": "markdown",
      "source": [
        "# 3. What is the mathematical intuition behind SVM.\n",
        "### **Ans:-**\n",
        "---\n",
        "\n",
        "### **1. Equation of a Hyperplane**\n",
        "In an **n-dimensional space**, a hyperplane is defined as:  \n",
        "```\n",
        "w · x + b = 0\n",
        "```\n",
        "where:  \n",
        "- `w` → weight (or normal) vector perpendicular to the hyperplane  \n",
        "- `x` → input feature vector  \n",
        "- `b` → bias term  \n",
        "- `·` → dot product  \n",
        "\n",
        "This hyperplane is used as a **decision boundary** between different classes.\n",
        "\n",
        "---\n",
        "\n",
        "### **2. Decision Function for Classification**\n",
        "For a given input `x`, SVM makes a prediction using:\n",
        "```\n",
        "f(x) = sign(w · x + b)\n",
        "```\n",
        "- If `f(x) = +1`, the point belongs to Class 1.  \n",
        "- If `f(x) = -1`, the point belongs to Class 2.\n",
        "\n",
        "---\n",
        "\n",
        "### **3. Maximizing the Margin**\n",
        "SVM aims to **maximize the margin**, which is the distance between the hyperplane and the **closest** data points (support vectors).\n",
        "\n",
        "The margin `M` is calculated as:\n",
        "```\n",
        "M = 2 / ||w||\n",
        "```\n",
        "where `||w||` is the Euclidean norm (magnitude) of `w`.  \n",
        "A **larger margin** reduces overfitting and improves generalization.\n",
        "\n",
        "---\n",
        "\n",
        "### **4. Hard Margin SVM (For Linearly Separable Data)**\n",
        "If the data is perfectly separable, we enforce that all points are **correctly classified**:\n",
        "```\n",
        "y_i (w · x_i + b) ≥ 1   for all i\n",
        "```\n",
        "where:  \n",
        "- `y_i` → actual class label (+1 or -1)  \n",
        "- `x_i` → input feature vector  \n",
        "\n",
        "#### **Optimization Problem (Hard Margin)**\n",
        "```\n",
        "Minimize:   (1/2) ||w||^2\n",
        "Subject to: y_i (w · x_i + b) ≥ 1  for all i\n",
        "```\n",
        "- The term `(1/2) ||w||^2` ensures that `w` is minimized, leading to **maximum margin**.  \n",
        "- This method **fails** if there are outliers or overlapping classes.\n",
        "\n",
        "---\n",
        "\n",
        "### **5. Soft Margin SVM (For Non-Separable Data)**\n",
        "Real-world data often contains **noise and overlaps**. We introduce **slack variables** `ξ_i` (xi) to allow some misclassification:\n",
        "```\n",
        "y_i (w · x_i + b) ≥ 1 - ξ_i\n",
        "where ξ_i ≥ 0\n",
        "```\n",
        "- `ξ_i = 0` → No misclassification.  \n",
        "- `ξ_i > 0` → Misclassification allowed but penalized.  \n",
        "\n",
        "#### **Optimization Problem (Soft Margin)**\n",
        "```\n",
        "Minimize:   (1/2) ||w||^2 + C Σ ξ_i\n",
        "Subject to: y_i (w · x_i + b) ≥ 1 - ξ_i,  ξ_i ≥ 0\n",
        "```\n",
        "where `C` is a hyperparameter that balances:\n",
        "- **Large margin (low C)** → More misclassification allowed.\n",
        "- **Low margin (high C)** → Less misclassification, but more overfitting.\n",
        "\n",
        "---\n",
        "\n",
        "### **6. Dual Formulation & Kernel Trick**\n",
        "For complex datasets, we use the **dual formulation** with Lagrange multipliers `α_i`:\n",
        "```\n",
        "Maximize:   Σ α_i - (1/2) ΣΣ α_i α_j y_i y_j (x_i · x_j)\n",
        "Subject to:  0 ≤ α_i ≤ C,   Σ α_i y_i = 0\n",
        "```\n",
        "This allows using the **Kernel Trick** to transform data into higher dimensions where it becomes **linearly separable**.\n",
        "\n",
        "Common Kernels:\n",
        "1. **Linear Kernel** → `K(x_i, x_j) = x_i · x_j`\n",
        "2. **Polynomial Kernel** → `K(x_i, x_j) = (x_i · x_j + 1)^d`\n",
        "3. **RBF Kernel (Gaussian)** → `K(x_i, x_j) = exp(-γ ||x_i - x_j||^2)`\n",
        "\n",
        "---\n",
        "\n",
        "### **Summary**\n",
        "- **Hard Margin SVM** → Used for **perfectly separable** data.\n",
        "- **Soft Margin SVM** → Used for **real-world data** with noise.\n",
        "- **Dual Formulation** allows using **Kernel Trick** for non-linear classification.\n",
        "\n",
        "---\n",
        "\n"
      ],
      "metadata": {
        "id": "Ym6BEoC1Pq44"
      }
    },
    {
      "cell_type": "markdown",
      "source": [
        "# 4. What is the role of Lagrange Multipliers in SVM.\n",
        "### **Ans:-** **Role of Lagrange Multipliers in SVM**  \n",
        "\n",
        "Lagrange Multipliers are used in **Support Vector Machines (SVM)** to transform the **constrained optimization problem** into an **unconstrained problem**, making it easier to solve.\n",
        "\n",
        "---\n",
        "\n",
        "### **1. Why Do We Need Lagrange Multipliers?**  \n",
        "The standard SVM optimization problem involves constraints:  \n",
        "```\n",
        "Minimize: (1/2) ||w||^2\n",
        "Subject to: y_i (w · x_i + b) ≥ 1,  for all i\n",
        "```\n",
        "This is a **constrained optimization problem**, which is difficult to solve directly.  \n",
        "Using **Lagrange multipliers**, we **convert** it into a **dual problem**, which is computationally more efficient and allows the use of **kernel functions**.\n",
        "\n",
        "---\n",
        "\n",
        "### **2. Applying Lagrange Multipliers**  \n",
        "We introduce Lagrange multipliers **α_i** (alpha values) for each constraint:  \n",
        "```\n",
        "L(w, b, α) = (1/2) ||w||^2 - Σ α_i [y_i (w · x_i + b) - 1]\n",
        "```\n",
        "where:  \n",
        "- `α_i ≥ 0` → Lagrange multipliers (one per data point).  \n",
        "- If `α_i = 0` → The constraint is **inactive** (not a support vector).  \n",
        "- If `α_i > 0` → The constraint is **active** (it is a support vector).  \n",
        "\n",
        "This means **only support vectors contribute to the solution**.\n",
        "\n",
        "---\n",
        "\n",
        "### **3. Converting to Dual Form**  \n",
        "Differentiating `L(w, b, α)` w.r.t. `w` and `b`, and setting to 0, we get:  \n",
        "```\n",
        "w = Σ α_i y_i x_i\n",
        "```\n",
        "and  \n",
        "```\n",
        "Σ α_i y_i = 0\n",
        "```\n",
        "Substituting these into `L(w, b, α)`, we get the **dual problem**:\n",
        "```\n",
        "Maximize: Σ α_i - (1/2) ΣΣ α_i α_j y_i y_j (x_i · x_j)\n",
        "Subject to: 0 ≤ α_i ≤ C,  Σ α_i y_i = 0\n",
        "```\n",
        "- This **eliminates** `w` and `b`, reducing complexity.  \n",
        "- The **dot product (x_i · x_j)** allows using **kernel tricks** for non-linear SVM.  \n",
        "\n",
        "---\n",
        "\n",
        "### **4. Kernel Trick & Non-Linear SVM**\n",
        "The dual form lets us replace `x_i · x_j` with a **kernel function** `K(x_i, x_j)`, which maps data into a **higher-dimensional space** for non-linear separability:\n",
        "```\n",
        "Maximize: Σ α_i - (1/2) ΣΣ α_i α_j y_i y_j K(x_i, x_j)\n",
        "```\n",
        "where `K(x_i, x_j)` can be:\n",
        "- **Linear**: `K(x_i, x_j) = x_i · x_j`\n",
        "- **Polynomial**: `K(x_i, x_j) = (x_i · x_j + 1)^d`\n",
        "- **RBF (Gaussian)**: `K(x_i, x_j) = exp(-γ ||x_i - x_j||^2)`\n",
        "\n",
        "---\n",
        "\n",
        "### **5. Final Decision Function**  \n",
        "After solving for **α**, we classify new points using:  \n",
        "```\n",
        "f(x) = sign( Σ α_i y_i K(x_i, x) + b )\n",
        "```\n",
        "- Only **support vectors** (where `α_i > 0`) influence the decision boundary.  \n",
        "- This **reduces computation**, since most **α_i = 0**.\n",
        "\n",
        "---\n",
        "\n",
        "### **Summary**\n",
        "✔ **Lagrange multipliers** help transform SVM into an easier **dual optimization problem**.  \n",
        "✔ **Only support vectors (α_i > 0) contribute to the decision boundary**.  \n",
        "✔ The **dual form allows using kernel tricks**, making SVM work for **non-linearly separable data**.  \n",
        "\n",
        "This approach makes SVM powerful and efficient in **high-dimensional spaces**. 🚀"
      ],
      "metadata": {
        "id": "VQlLuNbNRAO1"
      }
    },
    {
      "cell_type": "markdown",
      "source": [
        "# 5. What are Support Vectors in SVM.\n",
        "### **Ans:-**  **What Are Support Vectors in SVM?**  \n",
        "\n",
        "**Support Vectors** are the **data points that lie closest to the decision boundary (hyperplane) in an SVM model**. They play a crucial role in defining the **optimal margin** for classification.\n",
        "\n",
        "---\n",
        "\n",
        "### **1. Role of Support Vectors**  \n",
        "- These are the **most influential** points in the dataset.  \n",
        "- They **directly determine** the position of the decision boundary.  \n",
        "- **Removing them would change the hyperplane**, unlike other points that do not affect the margin.  \n",
        "\n",
        "---\n",
        "\n",
        "### **2. Identifying Support Vectors**  \n",
        "In **Hard Margin SVM**, they satisfy:  \n",
        "```\n",
        "y_i (w · x_i + b) = 1\n",
        "```\n",
        "In **Soft Margin SVM**, they satisfy:  \n",
        "```\n",
        "0 < α_i ≤ C\n",
        "```\n",
        "where **α_i** is the Lagrange multiplier.  \n",
        "- If `α_i = 0` → The point is **not** a support vector.  \n",
        "- If `α_i > 0` → The point **is** a support vector and contributes to the boundary.  \n",
        "\n",
        "---\n",
        "\n",
        "### **3. Impact on SVM**  \n",
        "- **Only support vectors contribute to the final model**, making SVM **memory-efficient**.  \n",
        "- They define the **maximum-margin hyperplane**.  \n",
        "- **Outliers far from the margin have no effect** on the decision boundary.  \n",
        "\n",
        "---\n",
        "\n",
        "### **4. Decision Function Using Support Vectors**  \n",
        "Since **only support vectors contribute to the decision function**, classification for a new point `x` is:  \n",
        "```\n",
        "f(x) = sign( Σ α_i y_i K(x_i, x) + b )\n",
        "```\n",
        "where `K(x_i, x)` is the **kernel function**.\n",
        "\n",
        "---\n",
        "\n",
        "### **5. Example Visualization**\n",
        "Imagine a **binary classification** task:  \n",
        "\n",
        "✅ **Support Vectors** are the **points on the margin boundary**.  \n",
        "❌ Other points **do not affect** the decision boundary.  \n",
        "\n",
        "---\n",
        "\n",
        "### **Summary**  \n",
        "✔ **Support Vectors** are the **critical data points** closest to the decision boundary.  \n",
        "✔ They define the **margin** and influence the **SVM classifier**.  \n",
        "✔ **Only they contribute to the final classification function**, making SVM efficient.  \n",
        "\n"
      ],
      "metadata": {
        "id": "V24tDx9fRZUS"
      }
    },
    {
      "cell_type": "markdown",
      "source": [
        "# 6. What is a Support Vector Classifier (SVC).\n",
        "### **Ans:-**\n",
        "---\n",
        "\n",
        "## **1. Primal Form of SVC**\n",
        "The goal of **Support Vector Classifier (SVC)** is to find a **hyperplane** that maximizes the margin while allowing some misclassified points (soft margin). The optimization problem is:\n",
        "\n",
        "### **Objective Function (Minimization)**\n",
        "```\n",
        "Minimize:  (1/2) * ||w||^2 + C * Σ ξ_i   for i = 1 to n\n",
        "```\n",
        "where:  \n",
        "- `w` = weight vector (defines the decision boundary)  \n",
        "- `||w||^2` = squared norm of `w` (used to maximize margin)  \n",
        "- `C` = regularization parameter (controls the trade-off between margin size and misclassification penalty)  \n",
        "- `ξ_i` = slack variables (measures how much each data point violates the margin)  \n",
        "- `n` = number of training samples  \n",
        "\n",
        "### **Constraints (Hard and Soft Margin Conditions)**\n",
        "```\n",
        "y_i * (w ⋅ x_i + b) ≥ 1 - ξ_i   for all i\n",
        "ξ_i ≥ 0   for all i\n",
        "```\n",
        "where:  \n",
        "- `y_i` = class label (`+1` or `-1`)  \n",
        "- `x_i` = feature vector  \n",
        "- `w ⋅ x_i + b` = decision function  \n",
        "- `ξ_i` allows some misclassification (if `ξ_i > 0`, then `x_i` is on the wrong side of the margin)  \n",
        "\n",
        "---\n",
        "\n",
        "## **2. Dual Form of SVC (Using Lagrange Multipliers)**\n",
        "To solve this optimization problem efficiently, we use **Lagrange multipliers (α_i)** and convert the problem to its **dual form**.\n",
        "\n",
        "### **Dual Objective Function (Maximization)**\n",
        "```\n",
        "Maximize:  Σ α_i - (1/2) * Σ Σ (α_i * α_j * y_i * y_j * K(x_i, x_j))   for i, j = 1 to n\n",
        "```\n",
        "where:  \n",
        "- `α_i` = Lagrange multipliers (control influence of each training point)  \n",
        "- `K(x_i, x_j)` = kernel function (to map data into higher dimensions for non-linear classification)  \n",
        "- `y_i, y_j` = class labels (`+1` or `-1`)  \n",
        "- `Σ Σ` represents summation over all training samples  \n",
        "\n",
        "### **Constraints in Dual Form**\n",
        "```\n",
        "0 ≤ α_i ≤ C   for all i\n",
        "Σ (α_i * y_i) = 0\n",
        "```\n",
        "where:  \n",
        "- `0 ≤ α_i ≤ C` ensures that α values are within the allowed range  \n",
        "- `Σ (α_i * y_i) = 0` ensures that the classifier remains properly balanced  \n",
        "\n",
        "---\n",
        "\n",
        "## **3. Decision Function for Classification**\n",
        "Once we solve for `α_i` and find the optimal hyperplane, we classify new data points using:\n",
        "\n",
        "```\n",
        "f(x) = sign( Σ (α_i * y_i * K(x_i, x)) + b )   for i = 1 to n\n",
        "```\n",
        "where:  \n",
        "- **Only Support Vectors contribute** (i.e., only `α_i > 0` affect classification)  \n",
        "- `K(x_i, x)` is the **kernel function** (e.g., linear, polynomial, RBF)  \n",
        "\n",
        "---\n",
        "\n",
        "## **4. Kernel Functions in SVC**\n",
        "SVC can use different **kernel functions** to handle non-linearly separable data.\n",
        "\n",
        "### **Linear Kernel**\n",
        "```\n",
        "K(x_i, x_j) = x_i ⋅ x_j\n",
        "```\n",
        "Used for **linearly separable data**.\n",
        "\n",
        "### **Polynomial Kernel**\n",
        "```\n",
        "K(x_i, x_j) = (x_i ⋅ x_j + 1)^d\n",
        "```\n",
        "Used when data has **complex decision boundaries**.\n",
        "\n",
        "### **Radial Basis Function (RBF) Kernel**\n",
        "```\n",
        "K(x_i, x_j) = exp(-γ ||x_i - x_j||^2)\n",
        "```\n",
        "Used for **high-dimensional, non-linear data**.\n",
        "\n",
        "---\n",
        "\n",
        "## **5. Summary of SVC Concepts**\n",
        "✔ **Primal Form** defines the **margin-maximizing hyperplane** with slack variables.  \n",
        "✔ **Dual Form** converts the problem to a **Lagrange optimization** problem, allowing the **kernel trick**.  \n",
        "✔ **Support Vectors** are the **most influential** points in decision making.  \n",
        "✔ **Kernel Functions** help extend SVC to **non-linear classification**.  \n",
        "\n"
      ],
      "metadata": {
        "id": "bxV7lBz0RvLf"
      }
    },
    {
      "cell_type": "markdown",
      "source": [
        "# 7.  What is a Support Vector Regressor (SVR).\n",
        "### **Ans:-** **Support Vector Regressor (SVR) – Explained**  \n",
        "\n",
        "**Support Vector Regression (SVR)** is an extension of **Support Vector Machine (SVM)** for **regression problems**. Instead of finding a **hyperplane that separates classes**, SVR tries to find a **hyperplane that best fits the data points** within a certain margin.\n",
        "\n",
        "---\n",
        "\n",
        "## **1. Objective of SVR**\n",
        "In SVR, we aim to fit a function **f(x) = w ⋅ x + b** that predicts `y` with a tolerance margin **ε**. Unlike traditional regression, SVR **does not minimize the error directly** but instead **ignores errors within ε** and penalizes errors beyond ε.\n",
        "\n",
        "---\n",
        "\n",
        "## **2. SVR Formulation (Primal Form)**\n",
        "### **Optimization Objective (Minimization)**\n",
        "```\n",
        "Minimize: (1/2) * ||w||^2 + C * Σ (ξ_i + ξ_i*)\n",
        "```\n",
        "where:  \n",
        "- `w` = weight vector  \n",
        "- `b` = bias term  \n",
        "- `C` = regularization parameter (controls trade-off between margin and error)  \n",
        "- `ξ_i, ξ_i*` = slack variables (for points above and below the margin)  \n",
        "- `||w||^2` ensures that the model maintains a **small margin** to reduce overfitting  \n",
        "\n",
        "### **Constraints (Soft Margin)**\n",
        "```\n",
        "y_i - (w ⋅ x_i + b) ≤ ε + ξ_i\n",
        "(w ⋅ x_i + b) - y_i ≤ ε + ξ_i*\n",
        "ξ_i, ξ_i* ≥ 0\n",
        "```\n",
        "where:  \n",
        "- `ε` defines the margin of tolerance (i.e., predictions within `±ε` are not penalized)  \n",
        "- `ξ_i, ξ_i*` allow deviations beyond `ε` if necessary  \n",
        "\n",
        "---\n",
        "\n",
        "## **3. Dual Form of SVR**\n",
        "To solve this optimization problem efficiently, we use **Lagrange multipliers (α, α*)** and convert the problem into its **dual form**.\n",
        "\n",
        "### **Dual Objective Function (Maximization)**\n",
        "```\n",
        "Maximize: Σ (α_i - α_i*) y_i - (1/2) Σ Σ (α_i - α_i*) (α_j - α_j*) K(x_i, x_j)\n",
        "```\n",
        "where:  \n",
        "- `α_i, α_i*` = Lagrange multipliers  \n",
        "- `K(x_i, x_j)` = kernel function  \n",
        "\n",
        "### **Constraints in Dual Form**\n",
        "```\n",
        "0 ≤ α_i, α_i* ≤ C\n",
        "Σ (α_i - α_i*) = 0\n",
        "```\n",
        "\n",
        "---\n",
        "\n",
        "## **4. SVR Decision Function**\n",
        "After solving for `α_i, α_i*`, we can make predictions using:\n",
        "\n",
        "```\n",
        "f(x) = Σ (α_i - α_i*) K(x_i, x) + b\n",
        "```\n",
        "where:  \n",
        "- **Only Support Vectors contribute** (i.e., points with `α_i > 0` affect predictions)  \n",
        "- `K(x_i, x)` is the **kernel function** (e.g., linear, polynomial, RBF)  \n",
        "\n",
        "---\n",
        "\n",
        "## **5. Kernel Functions in SVR**\n",
        "SVR can use different **kernel functions** to capture non-linearity.\n",
        "\n",
        "### **Linear Kernel**\n",
        "```\n",
        "K(x_i, x_j) = x_i ⋅ x_j\n",
        "```\n",
        "For **simple, linear relationships**.\n",
        "\n",
        "### **Polynomial Kernel**\n",
        "```\n",
        "K(x_i, x_j) = (x_i ⋅ x_j + 1)^d\n",
        "```\n",
        "For **complex, nonlinear patterns**.\n",
        "\n",
        "### **Radial Basis Function (RBF) Kernel**\n",
        "```\n",
        "K(x_i, x_j) = exp(-γ ||x_i - x_j||^2)\n",
        "```\n",
        "For **high-dimensional, complex data**.\n",
        "\n",
        "---\n",
        "\n",
        "## **6. Key Differences: SVR vs. Traditional Regression**\n",
        "| Feature | SVR | Linear Regression |\n",
        "|---------|-----|-------------------|\n",
        "| **Objective** | Fits data within margin `ε` | Minimizes squared error |\n",
        "| **Error Handling** | Ignores small errors, penalizes large ones | Minimizes total error |\n",
        "| **Kernel Trick** | Supports non-linear kernels | Only linear |\n",
        "| **Regularization** | Controlled by `C` | Uses L2 regularization (ridge regression) |\n",
        "\n",
        "---\n",
        "\n",
        "## **7. Summary of SVR**\n",
        "✔ **SVR does not minimize total error**; instead, it **allows small errors** and **penalizes large errors**.  \n",
        "✔ **SVR can handle non-linear data** using **kernel functions** like RBF and polynomial.  \n",
        "✔ **Only Support Vectors influence predictions**, making SVR more efficient.  \n",
        "\n"
      ],
      "metadata": {
        "id": "pxPtQbcjSsK7"
      }
    },
    {
      "cell_type": "markdown",
      "source": [
        "# 8. What is the Kernel Trick in SVM.\n",
        "### **Ans:-**  **Kernel Trick in SVM**  \n",
        "\n",
        "The **Kernel Trick** is a technique that allows **Support Vector Machines (SVMs)** to perform **non-linear classification** by mapping data into a **higher-dimensional space** without explicitly computing the transformation.\n",
        "\n",
        "Instead of transforming the data manually, we use a **kernel function** `K(x_i, x_j)`, which computes the **dot product in the higher-dimensional space** directly:\n",
        "\n",
        "```\n",
        "K(x_i, x_j) = Φ(x_i) ⋅ Φ(x_j)\n",
        "```\n",
        "\n",
        "where:  \n",
        "- `Φ(x_i)` is the mapping function to a higher-dimensional space  \n",
        "- `K(x_i, x_j)` computes the transformed dot product efficiently  \n",
        "\n",
        "### **Common Kernel Functions**\n",
        "1. **Linear Kernel:** `K(x_i, x_j) = x_i ⋅ x_j`  \n",
        "2. **Polynomial Kernel:** `K(x_i, x_j) = (x_i ⋅ x_j + 1)^d`  \n",
        "3. **RBF (Gaussian) Kernel:** `K(x_i, x_j) = exp(-γ ||x_i - x_j||^2)`  \n",
        "4. **Sigmoid Kernel:** `K(x_i, x_j) = tanh(β x_i ⋅ x_j + θ)`\n",
        "\n",
        "### **Why Use the Kernel Trick?**\n",
        "✔ **Avoids high-dimensional computation** (efficiently works in feature spaces with infinite dimensions)  \n",
        "✔ **Enables non-linear decision boundaries**  \n",
        "✔ **Reduces computational cost compared to explicit feature mapping**  \n",
        "\n",
        "The **Kernel Trick** makes **SVMs powerful for complex, non-linearly separable data** 🚀."
      ],
      "metadata": {
        "id": "Wq8UoJejTH7A"
      }
    },
    {
      "cell_type": "markdown",
      "source": [
        "# 9. Compare Linear Kernel, Polynomial Kernel, and RBF Kernel.\n",
        "### **Ans:-**  **Comparison of Linear, Polynomial, and RBF Kernels in SVM**  \n",
        "\n",
        "| **Kernel Type**  | **Formula** | **Usage** | **Pros** | **Cons** |\n",
        "|------------------|------------|-----------|----------|----------|\n",
        "| **Linear Kernel** | `K(x_i, x_j) = x_i ⋅ x_j` | Best for **linearly separable data** | Fast & simple, works well in high dimensions | Cannot handle complex, non-linear patterns |\n",
        "| **Polynomial Kernel** | `K(x_i, x_j) = (x_i ⋅ x_j + c)^d` | Suitable for **moderate non-linearity** | Captures curved relationships | Higher degree increases complexity, risk of overfitting |\n",
        "| **RBF (Gaussian) Kernel** | `K(x_i, x_j) = exp(-γ ||x_i - x_j||^2)` | Best for **highly non-linear data** | Very powerful for complex patterns | Choosing the right `γ` (gamma) is crucial; can overfit |\n",
        "\n",
        "### **Key Takeaways**  \n",
        "✔ **Use Linear Kernel** if data is **linearly separable**.  \n",
        "✔ **Use Polynomial Kernel** for **moderate non-linearity**.  \n",
        "✔ **Use RBF Kernel** for **complex, highly non-linear data**.  \n",
        "\n"
      ],
      "metadata": {
        "id": "uRLeSklmTkya"
      }
    },
    {
      "cell_type": "markdown",
      "source": [
        "# 10.  What is the effect of the C parameter in SVM.\n",
        "### **Ans:-** **Effect of the C Parameter in SVM (Short Explanation)**  \n",
        "\n",
        "The **C parameter** in SVM controls the **trade-off between margin size and classification error**.  \n",
        "\n",
        "- **High C (Large Value)** → **Smaller margin**, fewer misclassifications (strict separation), but **risk of overfitting**.  \n",
        "- **Low C (Small Value)** → **Larger margin**, allows some misclassifications, better generalization, but **risk of underfitting**.  \n",
        "\n",
        "### **Key Takeaways**  \n",
        "✔ **High C** → Prioritizes correct classification (low bias, high variance).  \n",
        "✔ **Low C** → Prioritizes a larger margin (high bias, low variance).  \n",
        "✔ **Choosing C** depends on whether you prefer **better accuracy** or **better generalization**.  \n",
        "\n"
      ],
      "metadata": {
        "id": "Q9Q4f2UzUHlB"
      }
    },
    {
      "cell_type": "markdown",
      "source": [
        "# 11. What is the role of the Gamma parameter in RBF Kernel SVM.\n",
        "### **Ans:-**  **Role of the Gamma (γ) Parameter in RBF Kernel SVM**  \n",
        "\n",
        "In **Radial Basis Function (RBF) Kernel SVM**, the **Gamma (γ) parameter** controls the **influence of a single training example** on the decision boundary. It determines how far the influence of each support vector reaches.  \n",
        "\n",
        "#### **Effects of Gamma (γ):**  \n",
        "- **High γ (Large Value)** → Each point has **short-range influence**, leading to **tight decision boundaries**.  \n",
        "  - **Pros**: Captures fine details, fits complex patterns.  \n",
        "  - **Cons**: Can **overfit** (memorizes training data).  \n",
        "- **Low γ (Small Value)** → Each point has **long-range influence**, leading to **smooth decision boundaries**.  \n",
        "  - **Pros**: Generalizes better, prevents overfitting.  \n",
        "  - **Cons**: Can **underfit** (fails to capture complexity).  \n",
        "\n",
        "### **Key Takeaways**  \n",
        "✔ **High γ** → More complex decision boundary (**high variance, low bias**).  \n",
        "✔ **Low γ** → Smoother decision boundary (**low variance, high bias**).  \n",
        "✔ **Optimal γ** → Needs tuning (e.g., **Grid Search, Cross-Validation**).  \n",
        "\n"
      ],
      "metadata": {
        "id": "VtyMX63-UXr-"
      }
    },
    {
      "cell_type": "markdown",
      "source": [
        "# 12. What is the Naïve Bayes classifier, and why is it called \"Naïve\".\n",
        "### **Ans:-** ### **Naïve Bayes Classifier – Explained**  \n",
        "\n",
        "**Naïve Bayes (NB)** is a **probabilistic classifier** based on **Bayes' Theorem**. It is widely used for **text classification, spam filtering, sentiment analysis, and more** due to its simplicity and efficiency.\n",
        "\n",
        "#### **1. Bayes' Theorem (Foundation of Naïve Bayes)**\n",
        "Bayes' theorem calculates the probability of a class `C` given some features `X`:  \n",
        "\\[\n",
        "P(C|X) = {P(X|C) * P(C)}/{P(X)}\n",
        "\\]\n",
        "where:  \n",
        "- `P(C|X)` = Probability of class `C` given features `X` (**posterior probability**).  \n",
        "- `P(X|C)` = Probability of features `X` given class `C` (**likelihood**).  \n",
        "- `P(C)` = Prior probability of class `C`.  \n",
        "- `P(X)` = Probability of feature `X` (normalization term).  \n",
        "\n",
        "---\n",
        "\n",
        "### **2. Why is it called \"Naïve\"?**\n",
        "The **\"Naïve\"** in Naïve Bayes comes from the **assumption of feature independence**:  \n",
        "- It assumes that **all features are independent of each other given the class**, which is often unrealistic.  \n",
        "- Example: In spam detection, words in an email (features) are **not truly independent**, but Naïve Bayes **assumes they are**.  \n",
        "\n",
        "Despite this **simplistic assumption**, Naïve Bayes performs well in many real-world applications.\n",
        "\n",
        "---\n",
        "\n",
        "### **3. Types of Naïve Bayes Classifiers**\n",
        "1. **Gaussian Naïve Bayes (GNB)** – Used for continuous data, assumes Gaussian (normal) distribution.  \n",
        "2. **Multinomial Naïve Bayes (MNB)** – Used for text classification, based on word frequency.  \n",
        "3. **Bernoulli Naïve Bayes (BNB)** – Used for binary features (e.g., word presence/absence).  \n",
        "\n",
        "---\n",
        "\n",
        "### **4. Key Advantages**\n",
        "✔ **Fast and efficient** – Works well with large datasets.  \n",
        "✔ **Works well with small data** – Handles noisy data effectively.  \n",
        "✔ **Performs well in text classification** – Despite the independence assumption.  \n",
        "\n",
        "### **5. Key Disadvantages**\n",
        "❌ **Strong independence assumption** – Not valid in many real-world cases.  \n",
        "❌ **Zero probability issue** – If a feature never appears in training for a class, it assigns **zero probability** (solved using **Laplace smoothing**).  \n",
        "\n",
        "---\n",
        "\n",
        "### **6. When to Use Naïve Bayes?**\n",
        "✔ **Text classification** (Spam detection, Sentiment analysis, Document categorization).  \n",
        "✔ **Recommendation systems** (User behavior modeling).  \n",
        "✔ **Medical diagnosis** (Predicting diseases based on symptoms).  \n",
        "\n",
        "---\n",
        "\n",
        "### **Key Takeaways**  \n",
        "✔ **Naïve Bayes is \"Naïve\" because it assumes feature independence.**  \n",
        "✔ **Uses Bayes' Theorem to compute class probabilities.**  \n",
        "✔ **Despite its simplicity, it performs surprisingly well in many applications.**  \n",
        "\n"
      ],
      "metadata": {
        "id": "KZbMuksPUr1y"
      }
    },
    {
      "cell_type": "markdown",
      "source": [
        "# 13. What is Bayes’ Theorem.\n",
        "### **Ans:-**  **Bayes' Theorem**  \n",
        "\n",
        "**Bayes' Theorem** describes how to update the probability of a hypothesis based on new evidence. It is expressed as:\n",
        "\n",
        "\\[\n",
        "P(A|B) = {P(B|A) * P(A)}/{P(B)}\n",
        "\\]\n",
        "\n",
        "where:  \n",
        "- **P(A|B)** → Probability of event **A** given **B** (**posterior probability**).  \n",
        "- **P(B|A)** → Probability of event **B** given **A** (**likelihood**).  \n",
        "- **P(A)** → Prior probability of event **A** (**prior**).  \n",
        "- **P(B)** → Probability of event **B** (**normalizing factor**).  \n",
        "\n",
        "### **Key Uses of Bayes’ Theorem**\n",
        "✔ **Spam Filtering** (Probability of an email being spam given certain words).  \n",
        "✔ **Medical Diagnosis** (Probability of having a disease given a test result).  \n",
        "✔ **Machine Learning** (Used in **Naïve Bayes classifiers**).  \n",
        "\n"
      ],
      "metadata": {
        "id": "w-dgTT6kVUjn"
      }
    },
    {
      "cell_type": "markdown",
      "source": [
        "# 14.  Explain the differences between Gaussian Naïve Bayes, Multinomial Naïve Bayes, and Bernoulli Naïve Bayes.\n",
        "### **Ans:-**  **Differences Between Gaussian, Multinomial, and Bernoulli Naïve Bayes**  \n",
        "\n",
        "| **Type** | **Used For** | **Feature Type** | **Assumption** | **Example Use Cases** |\n",
        "|----------|-------------|------------------|----------------|----------------------|\n",
        "| **Gaussian Naïve Bayes (GNB)** | Continuous data | Real-valued (normal distribution) | Features follow a **Gaussian (normal) distribution** | **Iris classification, Medical diagnosis** |\n",
        "| **Multinomial Naïve Bayes (MNB)** | Text data | Discrete counts (word frequencies) | Features represent **word counts or term frequencies** | **Spam detection, Sentiment analysis** |\n",
        "| **Bernoulli Naïve Bayes (BNB)** | Binary data | 0/1 (word presence or absence) | Features are **binary (yes/no)** | **Text classification (word presence), Fraud detection** |\n",
        "\n",
        "### **Key Takeaways**  \n",
        "✔ **Gaussian NB** → For **continuous features** (assumes normal distribution).  \n",
        "✔ **Multinomial NB** → For **text data** (word counts, TF-IDF).  \n",
        "✔ **Bernoulli NB** → For **binary features** (word presence/absence).  \n",
        "\n",
        "Let me know if you need further clarification! 🚀"
      ],
      "metadata": {
        "id": "QRWA_y3HVwF9"
      }
    },
    {
      "cell_type": "markdown",
      "source": [
        "# 15. When should you use Gaussian Naïve Bayes over other variants.\n",
        "### **Ans:-**  **When to Use Gaussian Naïve Bayes (GNB) Over Other Variants**  \n",
        "\n",
        "✔ **Use GNB when:**  \n",
        "- The **features are continuous** (e.g., height, weight, temperature).  \n",
        "- The data **follows a normal (Gaussian) distribution** or can be approximated as such.  \n",
        "- You need a **fast, simple model** for classification with small datasets.  \n",
        "\n",
        "✔ **Example Use Cases:**  \n",
        "- **Medical diagnosis** (e.g., predicting diseases based on lab values).  \n",
        "- **Iris classification** (continuous petal and sepal measurements).  \n",
        "- **Stock market analysis** (price variations).  \n",
        "\n",
        "❌ **Avoid GNB when:**  \n",
        "- Features are **categorical or discrete** → Use **Multinomial/Bernoulli NB** instead.  \n",
        "- Data does **not follow a normal distribution** → Consider other models (e.g., Decision Trees, SVM).  \n",
        "\n"
      ],
      "metadata": {
        "id": "WJEInWQ9WLIO"
      }
    },
    {
      "cell_type": "markdown",
      "source": [
        "# 16. What are the key assumptions made by Naïve Bayes.\n",
        "### **Ans:-** **Key Assumptions of Naïve Bayes**  \n",
        "\n",
        "1. **Feature Independence** (**Naïve Assumption**)  \n",
        "   - Each feature is **independent** of the others **given the class label**.  \n",
        "   - Example: In spam detection, Naïve Bayes assumes each word in an email contributes **independently** to deciding if it's spam.  \n",
        "\n",
        "2. **Conditional Independence**  \n",
        "   - The probability of a feature depends **only on the class** and not on other features.  \n",
        "\n",
        "3. **Equal Importance of Features**  \n",
        "   - All features contribute equally to classification, which may not always be true.  \n",
        "\n",
        "4. **Data Follows a Specific Distribution**  \n",
        "   - **Gaussian NB** assumes a **normal distribution** for continuous data.  \n",
        "   - **Multinomial NB** assumes features represent **word counts** (text data).  \n",
        "   - **Bernoulli NB** assumes features are **binary (0/1, presence/absence)**.  \n",
        "\n",
        "### **Key Takeaways**  \n",
        "✔ **Works well even if independence assumption is slightly violated**.  \n",
        "✔ **Fast and effective for text classification and simple problems**.  \n",
        "❌ **Fails when features are highly dependent** (e.g., correlated financial data).  \n",
        "\n"
      ],
      "metadata": {
        "id": "eiwOfP7qWcwY"
      }
    },
    {
      "cell_type": "markdown",
      "source": [
        "# 17. What are the advantages and disadvantages of Naïve Bayes.\n",
        "### **Ans:-**  **Advantages & Disadvantages of Naïve Bayes**  \n",
        "\n",
        "#### **✅ Advantages:**  \n",
        "1. **Fast & Efficient** → Works well with **large datasets** and real-time applications.  \n",
        "2. **Performs Well with Small Data** → Even with limited training data.  \n",
        "3. **Handles High-Dimensional Data** → Useful in **text classification (spam detection, sentiment analysis)**.  \n",
        "4. **Robust to Irrelevant Features** → Irrelevant features have little impact due to probability multiplication.  \n",
        "5. **Works Well with Categorical Data** → Especially **Multinomial & Bernoulli NB**.  \n",
        "\n",
        "#### **❌ Disadvantages:**  \n",
        "1. **Strong Independence Assumption** → Rarely holds in real-world data.  \n",
        "2. **Zero Probability Problem** → If a feature never appears in training, it assigns **0 probability** (fixed by **Laplace smoothing**).  \n",
        "3. **Not Suitable for Highly Correlated Features** → Since features are assumed to be independent.  \n",
        "4. **Struggles with Continuous Data** → Unless **Gaussian Naïve Bayes** is used.  \n",
        "\n",
        "### **Key Takeaways**  \n",
        "✔ **Great for text classification** but ❌ **fails with dependent features**.  \n",
        "✔ **Simple, interpretable, and fast**, but ❌ **assumes unrealistic independence**.  \n",
        "\n"
      ],
      "metadata": {
        "id": "vcZikc9uWttB"
      }
    },
    {
      "cell_type": "markdown",
      "source": [
        "# 18. Why is Naïve Bayes a good choice for text classification.\n",
        "### **Ans:-**  **Why Naïve Bayes is Good for Text Classification**  \n",
        "\n",
        "✔ **1. Works Well with High-Dimensional Data**  \n",
        "   - Text data has **thousands of features (words)**, and Naïve Bayes handles it efficiently.  \n",
        "\n",
        "✔ **2. Fast and Scalable**  \n",
        "   - Performs well even on **large datasets** due to its simple probabilistic calculations.  \n",
        "\n",
        "✔ **3. Handles Missing & Noisy Data**  \n",
        "   - Even if some words are missing, Naïve Bayes still makes good predictions.  \n",
        "\n",
        "✔ **4. Robust to Irrelevant Features**  \n",
        "   - Even if irrelevant words exist, they don’t significantly affect the model.  \n",
        "\n",
        "✔ **5. Effective for Imbalanced Data**  \n",
        "   - Works well even if some categories (e.g., spam) are much less frequent than others.  \n",
        "\n",
        "✔ **6. Performs Well Despite Feature Independence Assumption**  \n",
        "   - Even though words in a sentence are dependent, Naïve Bayes still delivers **good accuracy**.  \n",
        "\n",
        "### **Example Use Cases:**  \n",
        "✔ **Spam detection**  \n",
        "✔ **Sentiment analysis** (positive/negative reviews)  \n",
        "✔ **News classification**  \n",
        "\n",
        "🚀 **Key Takeaway:** **Fast, simple, and effective**, making it a **top choice for text classification!**"
      ],
      "metadata": {
        "id": "_06bHGrWW_od"
      }
    },
    {
      "cell_type": "markdown",
      "source": [
        "# 19.  Compare SVM and Naïve Bayes for classification tasks.\n",
        "### **Ans:-**  **Comparison: SVM vs. Naïve Bayes for Classification**  \n",
        "\n",
        "| **Feature**            | **SVM (Support Vector Machine)** | **Naïve Bayes (NB)** |\n",
        "|------------------------|---------------------------------|----------------------|\n",
        "| **Approach**          | Finds the optimal **decision boundary** (maximal margin) | Uses **Bayes' Theorem** with probability-based classification |\n",
        "| **Speed & Scalability** | **Slower** on large datasets | **Fast & scalable**, even for large datasets |\n",
        "| **Data Type**         | Works well for **both structured & unstructured** data | Best for **text classification & categorical data** |\n",
        "| **Feature Dependency** | **Considers feature interactions** | Assumes **feature independence** (simplifies computation) |\n",
        "| **Works Well With**   | Small to medium datasets with **complex decision boundaries** | High-dimensional, **text-based datasets** |\n",
        "| **Robustness to Noise** | **More robust** to noisy/outlier data | **Sensitive** to incorrect probability estimates |\n",
        "| **Handling of Overlapping Classes** | **Performs better** when classes are not well separated | Struggles when classes have overlapping features |\n",
        "| **Interpretability** | Less interpretable (complex math) | **Easily interpretable** (probability-based) |\n",
        "| **Example Use Cases** | Image recognition, medical diagnosis, fraud detection | Spam filtering, sentiment analysis, document classification |\n",
        "\n",
        "### **Key Takeaways**  \n",
        "✔ **Use SVM** → When you need a **powerful, margin-based classifier**, especially for **complex data**.  \n",
        "✔ **Use Naïve Bayes** → When you need **fast, interpretable, and scalable classification**, especially for **text-based tasks**.  \n",
        "\n"
      ],
      "metadata": {
        "id": "c5MzaFF3XPMv"
      }
    },
    {
      "cell_type": "markdown",
      "source": [
        "# 20. How does Laplace Smoothing help in Naïve Bayes.\n",
        "### **Ans:-** **How Laplace Smoothing Helps in Naïve Bayes**  \n",
        "\n",
        "**Problem:**  \n",
        "- If a word never appears in the training data for a particular class, Naïve Bayes assigns **zero probability** to that class, making classification impossible.  \n",
        "\n",
        "**Solution:** **Laplace Smoothing (Additive Smoothing)**  \n",
        "- It **adds a small value (usually 1)** to all word counts to avoid zero probabilities.  \n",
        "\n",
        "\n",
        "**Benefits:**  \n",
        "✔ Prevents **zero probabilities**.  \n",
        "✔ Makes model **more robust** to unseen words.  \n",
        "✔ Works well for **text classification** (e.g., spam filtering, sentiment analysis).  \n",
        "\n",
        "🚀 **Key Takeaway:** Ensures **every word has a nonzero probability**, improving Naïve Bayes' performance!"
      ],
      "metadata": {
        "id": "JPIqpO3KXdfp"
      }
    },
    {
      "cell_type": "markdown",
      "source": [
        "# **Practical**"
      ],
      "metadata": {
        "id": "5jXeqLJSX4yl"
      }
    },
    {
      "cell_type": "markdown",
      "source": [
        "# 21. Write a Python program to train an SVM Classifier on the Iris dataset and evaluate accuracy.\n"
      ],
      "metadata": {
        "id": "e4WDT1DMYLv_"
      }
    },
    {
      "cell_type": "code",
      "source": [
        "# Import necessary libraries\n",
        "from sklearn import datasets\n",
        "from sklearn.model_selection import train_test_split\n",
        "from sklearn.preprocessing import StandardScaler\n",
        "from sklearn.svm import SVC\n",
        "from sklearn.metrics import accuracy_score\n",
        "\n",
        "# Load the Iris dataset\n",
        "iris = datasets.load_iris()\n",
        "X, y = iris.data, iris.target\n",
        "\n",
        "# Split the dataset into training (80%) and testing (20%) sets\n",
        "X_train, X_test, y_train, y_test = train_test_split(X, y, test_size=0.2, random_state=42)\n",
        "\n",
        "# Standardize the data (SVM performs better with scaled data)\n",
        "scaler = StandardScaler()\n",
        "X_train = scaler.fit_transform(X_train)\n",
        "X_test = scaler.transform(X_test)\n",
        "\n",
        "# Train an SVM classifier with an linear kernel\n",
        "svm_classifier = SVC(kernel='linear')\n",
        "svm_classifier.fit(X_train, y_train)\n",
        "\n",
        "# Predict on test data\n",
        "y_pred = svm_classifier.predict(X_test)\n",
        "\n",
        "# Evaluate accuracy\n",
        "accuracy = accuracy_score(y_test, y_pred)\n",
        "print(f\"Accuracy of SVM Classifier: {accuracy:.2f}\")\n"
      ],
      "metadata": {
        "colab": {
          "base_uri": "https://localhost:8080/"
        },
        "id": "dcGwffhgYTMx",
        "outputId": "2f447446-5a51-4696-d8c1-46fb9b1db4cb"
      },
      "execution_count": 4,
      "outputs": [
        {
          "output_type": "stream",
          "name": "stdout",
          "text": [
            "Accuracy of SVM Classifier: 0.97\n"
          ]
        }
      ]
    },
    {
      "cell_type": "markdown",
      "source": [
        "# 22. Write a Python program to train two SVM classifiers with Linear and RBF kernels on the Wine dataset, then compare their accuracies.\n"
      ],
      "metadata": {
        "id": "zNqXnV1mY1_I"
      }
    },
    {
      "cell_type": "code",
      "source": [
        "# Import necessary libraries\n",
        "from sklearn import datasets\n",
        "from sklearn.model_selection import train_test_split\n",
        "from sklearn.preprocessing import StandardScaler\n",
        "from sklearn.svm import SVC\n",
        "from sklearn.metrics import accuracy_score\n",
        "\n",
        "# Load the Wine dataset\n",
        "wine = datasets.load_wine()\n",
        "X, y = wine.data, wine.target\n",
        "\n",
        "# Split the dataset into training (80%) and testing (20%) sets\n",
        "X_train, X_test, y_train, y_test = train_test_split(X, y, test_size=0.2, random_state=42)\n",
        "\n",
        "# Standardize the data (SVM performs better with scaled data)\n",
        "scaler = StandardScaler()\n",
        "X_train = scaler.fit_transform(X_train)\n",
        "X_test = scaler.transform(X_test)\n",
        "\n",
        "# Train an SVM classifier with a Linear kernel\n",
        "svm_linear = SVC(kernel='linear', C=1.0)\n",
        "svm_linear.fit(X_train, y_train)\n",
        "\n",
        "# Train an SVM classifier with an RBF kernel\n",
        "svm_rbf = SVC(kernel='rbf', C=1.0, gamma='scale')\n",
        "svm_rbf.fit(X_train, y_train)\n",
        "\n",
        "# Predict on test data\n",
        "y_pred_linear = svm_linear.predict(X_test)\n",
        "y_pred_rbf = svm_rbf.predict(X_test)\n",
        "\n",
        "# Evaluate accuracy\n",
        "accuracy_linear = accuracy_score(y_test, y_pred_linear)\n",
        "accuracy_rbf = accuracy_score(y_test, y_pred_rbf)\n",
        "\n",
        "# Print results\n",
        "print(f\"Accuracy of SVM with Linear Kernel: {accuracy_linear:.2f}\")\n",
        "print(f\"Accuracy of SVM with RBF Kernel: {accuracy_rbf:.2f}\")\n"
      ],
      "metadata": {
        "colab": {
          "base_uri": "https://localhost:8080/"
        },
        "id": "7z8GW8FVYwBb",
        "outputId": "e5eab9b1-ef5f-4884-ea2a-260611b06301"
      },
      "execution_count": 5,
      "outputs": [
        {
          "output_type": "stream",
          "name": "stdout",
          "text": [
            "Accuracy of SVM with Linear Kernel: 0.97\n",
            "Accuracy of SVM with RBF Kernel: 1.00\n"
          ]
        }
      ]
    },
    {
      "cell_type": "markdown",
      "source": [
        "# 23. Write a Python program to train an SVM Regressor (SVR) on a housing dataset and evaluate it using Mean Squared Error (MSE).\n",
        "\n"
      ],
      "metadata": {
        "id": "bM-Ahuu0ZOsE"
      }
    },
    {
      "cell_type": "code",
      "source": [
        "# Import necessary libraries\n",
        "import numpy as np\n",
        "from sklearn import datasets\n",
        "from sklearn.model_selection import train_test_split\n",
        "from sklearn.preprocessing import StandardScaler\n",
        "from sklearn.svm import SVR\n",
        "from sklearn.metrics import mean_squared_error\n",
        "\n",
        "# Load the California Housing dataset\n",
        "housing = datasets.fetch_california_housing()\n",
        "X, y = housing.data, housing.target\n",
        "\n",
        "# Split the dataset into training (80%) and testing (20%) sets\n",
        "X_train, X_test, y_train, y_test = train_test_split(X, y, test_size=0.2, random_state=42)\n",
        "\n",
        "# Standardize the data (SVR performs better with scaled data)\n",
        "scaler = StandardScaler()\n",
        "X_train = scaler.fit_transform(X_train)\n",
        "X_test = scaler.transform(X_test)\n",
        "\n",
        "# Train an SVM Regressor with an RBF kernel\n",
        "svr = SVR(kernel='linear', C=100, gamma='scale', epsilon=0.1)\n",
        "svr.fit(X_train, y_train)\n",
        "\n",
        "# Predict on test data\n",
        "y_pred = svr.predict(X_test)\n",
        "\n",
        "# Evaluate using Mean Squared Error (MSE)\n",
        "mse = mean_squared_error(y_test, y_pred)\n",
        "print(f\"Mean Squared Error (MSE) of SVR: {mse:.2f}\")\n"
      ],
      "metadata": {
        "id": "gT2j6BdwZmKF"
      },
      "execution_count": null,
      "outputs": []
    },
    {
      "cell_type": "markdown",
      "source": [
        "# 24.  Write a Python program to train an SVM Classifier with a Polynomial Kernel and visualize the decision boundary.\n",
        "\n"
      ],
      "metadata": {
        "id": "OD6xQL5PZleO"
      }
    },
    {
      "cell_type": "code",
      "source": [
        "# Import necessary libraries\n",
        "import numpy as np\n",
        "import matplotlib.pyplot as plt\n",
        "from sklearn.datasets import make_moons\n",
        "from sklearn.svm import SVC\n",
        "from sklearn.preprocessing import StandardScaler\n",
        "from sklearn.model_selection import train_test_split\n",
        "\n",
        "# Generate a synthetic dataset\n",
        "X, y = make_moons(n_samples=200, noise=0.2, random_state=42)\n",
        "\n",
        "# Split the dataset into training (80%) and testing (20%) sets\n",
        "X_train, X_test, y_train, y_test = train_test_split(X, y, test_size=0.2, random_state=42)\n",
        "\n",
        "# Standardize the data\n",
        "scaler = StandardScaler()\n",
        "X_train = scaler.fit_transform(X_train)\n",
        "X_test = scaler.transform(X_test)\n",
        "\n",
        "# Train an SVM classifier with a Polynomial kernel\n",
        "svm_poly = SVC(kernel='poly', degree=3, C=1.0)\n",
        "svm_poly.fit(X_train, y_train)\n",
        "\n",
        "# Function to plot decision boundary\n",
        "def plot_decision_boundary(model, X, y):\n",
        "    x_min, x_max = X[:, 0].min() - 1, X[:, 0].max() + 1\n",
        "    y_min, y_max = X[:, 1].min() - 1, X[:, 1].max() + 1\n",
        "    xx, yy = np.meshgrid(np.linspace(x_min, x_max, 100),\n",
        "                         np.linspace(y_min, y_max, 100))\n",
        "\n",
        "    Z = model.predict(scaler.transform(np.c_[xx.ravel(), yy.ravel()]))\n",
        "    Z = Z.reshape(xx.shape)\n",
        "\n",
        "    plt.contourf(xx, yy, Z, alpha=0.3, cmap=plt.cm.coolwarm)\n",
        "    plt.scatter(X[:, 0], X[:, 1], c=y, cmap=plt.cm.coolwarm, edgecolors='k')\n",
        "    plt.xlabel(\"Feature 1\")\n",
        "    plt.ylabel(\"Feature 2\")\n",
        "    plt.title(\"Decision Boundary of SVM with Polynomial Kernel\")\n",
        "    plt.show()\n",
        "\n",
        "# Plot decision boundary\n",
        "plot_decision_boundary(svm_poly, X, y)\n"
      ],
      "metadata": {
        "colab": {
          "base_uri": "https://localhost:8080/",
          "height": 472
        },
        "id": "2QhfBjmcaT7Q",
        "outputId": "b1e6691b-0444-4a82-8c0d-d93bf5acaf99"
      },
      "execution_count": 1,
      "outputs": [
        {
          "output_type": "display_data",
          "data": {
            "text/plain": [
              "<Figure size 640x480 with 1 Axes>"
            ],
            "image/png": "[encoded data removed]"
          },
          "metadata": {}
        }
      ]
    },
    {
      "cell_type": "markdown",
      "source": [
        "# 25. Write a Python program to train a Gaussian Naïve Bayes classifier on the Breast Cancer dataset and evaluate accuracy.\n"
      ],
      "metadata": {
        "id": "bL6LnkLRa9Cw"
      }
    },
    {
      "cell_type": "code",
      "source": [
        "from sklearn.datasets import load_breast_cancer\n",
        "from sklearn.model_selection import train_test_split\n",
        "from sklearn.naive_bayes import GaussianNB\n",
        "from sklearn.metrics import accuracy_score\n",
        "\n",
        "# Load the Breast Cancer dataset\n",
        "data = load_breast_cancer()\n",
        "X, y = data.data, data.target\n",
        "\n",
        "# Split into training (80%) and testing (20%) sets\n",
        "X_train, X_test, y_train, y_test = train_test_split(X, y, test_size=0.2, random_state=42)\n",
        "\n",
        "# Train a Gaussian Naïve Bayes classifier\n",
        "gnb = GaussianNB()\n",
        "gnb.fit(X_train, y_train)\n",
        "\n",
        "# Predict on test set\n",
        "y_pred = gnb.predict(X_test)\n",
        "\n",
        "# Evaluate accuracy\n",
        "accuracy = accuracy_score(y_test, y_pred)\n",
        "print(f\"Accuracy: {accuracy:.2f}\")\n"
      ],
      "metadata": {
        "colab": {
          "base_uri": "https://localhost:8080/"
        },
        "id": "yeAomU9lbYOe",
        "outputId": "8f9c4818-ff85-4c3f-b878-994601b70d13"
      },
      "execution_count": 2,
      "outputs": [
        {
          "output_type": "stream",
          "name": "stdout",
          "text": [
            "Accuracy: 0.97\n"
          ]
        }
      ]
    },
    {
      "cell_type": "markdown",
      "source": [
        "# 26. Write a Python program to train a Multinomial Naïve Bayes classifier for text classification using the 20 Newsgroups dataset.\n"
      ],
      "metadata": {
        "id": "EgAumhCEbmnH"
      }
    },
    {
      "cell_type": "code",
      "source": [
        "from sklearn.datasets import fetch_20newsgroups\n",
        "from sklearn.feature_extraction.text import CountVectorizer, TfidfTransformer\n",
        "from sklearn.naive_bayes import MultinomialNB\n",
        "from sklearn.pipeline import make_pipeline\n",
        "from sklearn.metrics import accuracy_score\n",
        "\n",
        "# Load the 20 Newsgroups dataset (subset for faster training)\n",
        "categories = ['alt.atheism', 'comp.graphics', 'sci.space', 'talk.religion.misc']\n",
        "newsgroups_train = fetch_20newsgroups(subset='train', categories=categories, random_state=42)\n",
        "newsgroups_test = fetch_20newsgroups(subset='test', categories=categories, random_state=42)\n",
        "\n",
        "# Assign features and labels\n",
        "X_train, y_train = newsgroups_train.data, newsgroups_train.target\n",
        "X_test, y_test = newsgroups_test.data, newsgroups_test.target\n",
        "\n",
        "# Create a text classification pipeline with Multinomial Naïve Bayes\n",
        "model = make_pipeline(CountVectorizer(), TfidfTransformer(), MultinomialNB())\n",
        "\n",
        "# Train the classifier\n",
        "model.fit(X_train, y_train)\n",
        "\n",
        "# Predict on the test set\n",
        "y_pred = model.predict(X_test)\n",
        "\n",
        "# Evaluate accuracy\n",
        "accuracy = accuracy_score(y_test, y_pred)\n",
        "print(f\"Accuracy: {accuracy:.2f}\")\n",
        "\n"
      ],
      "metadata": {
        "colab": {
          "base_uri": "https://localhost:8080/"
        },
        "id": "rzSRyWtJb2Fk",
        "outputId": "95d23767-60ca-4edf-e62e-c89e79c34cc7"
      },
      "execution_count": 5,
      "outputs": [
        {
          "output_type": "stream",
          "name": "stdout",
          "text": [
            "Accuracy: 0.84\n"
          ]
        }
      ]
    },
    {
      "cell_type": "markdown",
      "source": [
        "# 27. Write a Python program to train an SVM Classifier with different C values and compare the decision boundaries visually\n"
      ],
      "metadata": {
        "id": "cYhpo91TcxL4"
      }
    },
    {
      "cell_type": "code",
      "source": [
        "import numpy as np\n",
        "import matplotlib.pyplot as plt\n",
        "from sklearn.svm import SVC\n",
        "from sklearn.datasets import make_classification\n",
        "from sklearn.preprocessing import StandardScaler\n",
        "from sklearn.model_selection import train_test_split\n",
        "\n",
        "# Generate a synthetic dataset\n",
        "X, y = make_classification(n_samples=200, n_features=2, n_classes=2, n_informative=2, n_redundant=0, random_state=42)\n",
        "\n",
        "# Split into training and testing sets\n",
        "X_train, X_test, y_train, y_test = train_test_split(X, y, test_size=0.2, random_state=42)\n",
        "\n",
        "# Standardize features\n",
        "scaler = StandardScaler()\n",
        "X_train = scaler.fit_transform(X_train)\n",
        "X_test = scaler.transform(X_test)\n",
        "\n",
        "# Different C values to test\n",
        "C_values = [0.01, 1, 100]\n",
        "\n",
        "# Function to plot decision boundary\n",
        "def plot_decision_boundary(model, X, y, ax, title):\n",
        "    x_min, x_max = X[:, 0].min() - 1, X[:, 0].max() + 1\n",
        "    y_min, y_max = X[:, 1].min() - 1, X[:, 1].max() + 1\n",
        "    xx, yy = np.meshgrid(np.linspace(x_min, x_max, 100), np.linspace(y_min, y_max, 100))\n",
        "\n",
        "    Z = model.predict(np.c_[xx.ravel(), yy.ravel()])\n",
        "    Z = Z.reshape(xx.shape)\n",
        "\n",
        "    ax.contourf(xx, yy, Z, alpha=0.3, cmap=plt.cm.coolwarm)\n",
        "    ax.scatter(X[:, 0], X[:, 1], c=y, cmap=plt.cm.coolwarm, edgecolors='k')\n",
        "    ax.set_title(title)\n",
        "\n",
        "# Train SVM models with different C values and plot decision boundaries\n",
        "fig, axes = plt.subplots(1, 3, figsize=(15, 5))\n",
        "\n",
        "for i, C in enumerate(C_values):\n",
        "    model = SVC(kernel='linear', C=C)\n",
        "    model.fit(X_train, y_train)\n",
        "    plot_decision_boundary(model, X_train, y_train, axes[i], f\"C = {C}\")\n",
        "\n",
        "plt.tight_layout()\n",
        "plt.show()\n"
      ],
      "metadata": {
        "colab": {
          "base_uri": "https://localhost:8080/",
          "height": 482
        },
        "id": "gImwfqlJc6gY",
        "outputId": "e569c181-ff1a-4db6-e30b-723e312f1371"
      },
      "execution_count": 6,
      "outputs": [
        {
          "output_type": "display_data",
          "data": {
            "text/plain": [
              "<Figure size 1500x500 with 3 Axes>"
            ],
            "image/png": "[encoded data removed]"
          },
          "metadata": {}
        }
      ]
    },
    {
      "cell_type": "markdown",
      "source": [
        "# 28. Write a Python program to train a Bernoulli Naïve Bayes classifier for binary classification on a dataset with binary features.\n"
      ],
      "metadata": {
        "id": "jeWhzkYudOLK"
      }
    },
    {
      "cell_type": "code",
      "source": [
        "from sklearn.datasets import load_breast_cancer\n",
        "from sklearn.naive_bayes import BernoulliNB\n",
        "from sklearn.preprocessing import Binarizer\n",
        "from sklearn.model_selection import train_test_split\n",
        "from sklearn.metrics import accuracy_score\n",
        "\n",
        "# Load Breast Cancer dataset\n",
        "data = load_breast_cancer()\n",
        "X, y = data.data, data.target\n",
        "\n",
        "# Binarize the features (convert to binary 0/1 values)\n",
        "binarizer = Binarizer(threshold=X.mean())  # Threshold at mean value\n",
        "X_bin = binarizer.fit_transform(X)\n",
        "\n",
        "# Split into training and testing sets\n",
        "X_train, X_test, y_train, y_test = train_test_split(X_bin, y, test_size=0.2, random_state=42)\n",
        "\n",
        "# Train Bernoulli Naïve Bayes classifier\n",
        "model = BernoulliNB()\n",
        "model.fit(X_train, y_train)\n",
        "\n",
        "# Predict on test set\n",
        "y_pred = model.predict(X_test)\n",
        "\n",
        "# Evaluate accuracy\n",
        "accuracy = accuracy_score(y_test, y_pred)\n",
        "print(f\"Accuracy: {accuracy:.2f}\")\n"
      ],
      "metadata": {
        "colab": {
          "base_uri": "https://localhost:8080/"
        },
        "id": "z29JDyyGdWiQ",
        "outputId": "d7557c32-c8db-4bbf-e2ba-9d01802ed7cc"
      },
      "execution_count": 7,
      "outputs": [
        {
          "output_type": "stream",
          "name": "stdout",
          "text": [
            "Accuracy: 0.81\n"
          ]
        }
      ]
    },
    {
      "cell_type": "markdown",
      "source": [
        "# 29. Write a Python program to apply feature scaling before training an SVM model and compare results with unscaled data\n"
      ],
      "metadata": {
        "id": "Ya-7sgFHdqJi"
      }
    },
    {
      "cell_type": "code",
      "source": [
        "import numpy as np\n",
        "import matplotlib.pyplot as plt\n",
        "from sklearn.svm import SVC\n",
        "from sklearn.datasets import load_breast_cancer\n",
        "from sklearn.model_selection import train_test_split\n",
        "from sklearn.preprocessing import StandardScaler\n",
        "from sklearn.metrics import accuracy_score\n",
        "\n",
        "# Load Breast Cancer dataset\n",
        "data = load_breast_cancer()\n",
        "X, y = data.data, data.target\n",
        "\n",
        "# Split into training and testing sets\n",
        "X_train, X_test, y_train, y_test = train_test_split(X, y, test_size=0.2, random_state=42)\n",
        "\n",
        "# Train SVM without scaling\n",
        "svm_unscaled = SVC(kernel='linear', random_state=42)\n",
        "svm_unscaled.fit(X_train, y_train)\n",
        "y_pred_unscaled = svm_unscaled.predict(X_test)\n",
        "accuracy_unscaled = accuracy_score(y_test, y_pred_unscaled)\n",
        "\n",
        "# Apply Feature Scaling\n",
        "scaler = StandardScaler()\n",
        "X_train_scaled = scaler.fit_transform(X_train)\n",
        "X_test_scaled = scaler.transform(X_test)\n",
        "\n",
        "# Train SVM with scaled data\n",
        "svm_scaled = SVC(kernel='linear', random_state=42)\n",
        "svm_scaled.fit(X_train_scaled, y_train)\n",
        "y_pred_scaled = svm_scaled.predict(X_test_scaled)\n",
        "accuracy_scaled = accuracy_score(y_test, y_pred_scaled)\n",
        "\n",
        "# Print Accuracy Comparison\n",
        "print(f\"Accuracy without Scaling: {accuracy_unscaled:.4f}\")\n",
        "print(f\"Accuracy with Scaling: {accuracy_scaled:.4f}\")\n",
        "\n",
        "# Bar plot for visualization\n",
        "labels = ['Without Scaling', 'With Scaling']\n",
        "accuracies = [accuracy_unscaled, accuracy_scaled]\n",
        "\n",
        "plt.bar(labels, accuracies, color=['blue', 'green'])\n",
        "plt.ylim(0.7, 1)  # Set y-axis range\n",
        "plt.ylabel('Accuracy')\n",
        "plt.title('SVM Accuracy: Scaled vs. Unscaled Data')\n",
        "plt.show()\n"
      ],
      "metadata": {
        "colab": {
          "base_uri": "https://localhost:8080/",
          "height": 487
        },
        "id": "h-667sXfd2Dm",
        "outputId": "147aac95-f02e-4225-e54b-cfa7537c2f5d"
      },
      "execution_count": 14,
      "outputs": [
        {
          "output_type": "stream",
          "name": "stdout",
          "text": [
            "Accuracy without Scaling: 0.9561\n",
            "Accuracy with Scaling: 0.9561\n"
          ]
        },
        {
          "output_type": "display_data",
          "data": {
            "text/plain": [
              "<Figure size 640x480 with 1 Axes>"
            ],
            "image/png": "[encoded data removed]"
          },
          "metadata": {}
        }
      ]
    },
    {
      "cell_type": "markdown",
      "source": [
        "# 30.  Write a Python program to train a Gaussian Naïve Bayes model and compare the predictions before and after Laplace Smoothing.\n"
      ],
      "metadata": {
        "id": "6OjzChvXe8sW"
      }
    },
    {
      "cell_type": "code",
      "source": [
        "import numpy as np\n",
        "import matplotlib.pyplot as plt\n",
        "from sklearn.datasets import load_iris\n",
        "from sklearn.model_selection import train_test_split\n",
        "from sklearn.naive_bayes import GaussianNB\n",
        "from sklearn.metrics import accuracy_score\n",
        "\n",
        "# Load Iris dataset\n",
        "data = load_iris()\n",
        "X, y = data.data, data.target\n",
        "\n",
        "# Split into training and testing sets\n",
        "X_train, X_test, y_train, y_test = train_test_split(X, y, test_size=0.2, random_state=42)\n",
        "\n",
        "# Train Gaussian Naïve Bayes model without Laplace Smoothing\n",
        "gnb_no_smoothing = GaussianNB(var_smoothing=0)  # No Laplace Smoothing\n",
        "gnb_no_smoothing.fit(X_train, y_train)\n",
        "y_pred_no_smoothing = gnb_no_smoothing.predict(X_test)\n",
        "accuracy_no_smoothing = accuracy_score(y_test, y_pred_no_smoothing)\n",
        "\n",
        "# Train Gaussian Naïve Bayes model with default Laplace Smoothing\n",
        "gnb_with_smoothing = GaussianNB()  # Default var_smoothing=1e-9\n",
        "gnb_with_smoothing.fit(X_train, y_train)\n",
        "y_pred_with_smoothing = gnb_with_smoothing.predict(X_test)\n",
        "accuracy_with_smoothing = accuracy_score(y_test, y_pred_with_smoothing)\n",
        "\n",
        "# Print Accuracy Comparison\n",
        "print(f\"Accuracy without Laplace Smoothing: {accuracy_no_smoothing:.4f}\")\n",
        "print(f\"Accuracy with Laplace Smoothing: {accuracy_with_smoothing:.4f}\")\n",
        "\n",
        "# Bar plot for visualization\n",
        "labels = ['No Laplace Smoothing', 'With Laplace Smoothing']\n",
        "accuracies = [accuracy_no_smoothing, accuracy_with_smoothing]\n",
        "\n",
        "plt.bar(labels, accuracies, color=['red', 'green'])\n",
        "plt.ylim(0.8, 1)  # Set y-axis range\n",
        "plt.ylabel('Accuracy')\n",
        "plt.title('Gaussian Naïve Bayes Accuracy: Before vs. After Laplace Smoothing')\n",
        "plt.show()\n"
      ],
      "metadata": {
        "colab": {
          "base_uri": "https://localhost:8080/",
          "height": 487
        },
        "id": "aWqZe0IMeed8",
        "outputId": "b69fc082-f7f4-4cd4-9d2d-9f7f67d3e163"
      },
      "execution_count": 15,
      "outputs": [
        {
          "output_type": "stream",
          "name": "stdout",
          "text": [
            "Accuracy without Laplace Smoothing: 1.0000\n",
            "Accuracy with Laplace Smoothing: 1.0000\n"
          ]
        },
        {
          "output_type": "display_data",
          "data": {
            "text/plain": [
              "<Figure size 640x480 with 1 Axes>"
            ],
            "image/png": "[encoded data removed]"
          },
          "metadata": {}
        }
      ]
    },
    {
      "cell_type": "markdown",
      "source": [
        "# 31.  Write a Python program to train an SVM Classifier and use GridSearchCV to tune the hyperparameters (C, gamma, kernel)\n"
      ],
      "metadata": {
        "id": "8tB1it2LfhGs"
      }
    },
    {
      "cell_type": "code",
      "source": [
        "import numpy as np\n",
        "import matplotlib.pyplot as plt\n",
        "from sklearn.svm import SVC\n",
        "from sklearn.datasets import load_iris\n",
        "from sklearn.model_selection import train_test_split, GridSearchCV\n",
        "from sklearn.metrics import accuracy_score\n",
        "\n",
        "# Load the Iris dataset\n",
        "data = load_iris()\n",
        "X, y = data.data, data.target\n",
        "\n",
        "# Split into training and testing sets\n",
        "X_train, X_test, y_train, y_test = train_test_split(X, y, test_size=0.2, random_state=42)\n",
        "\n",
        "# Define the parameter grid\n",
        "param_grid = {\n",
        "    'C': [0.1, 1, 10, 100],          # Regularization parameter\n",
        "    'gamma': ['scale', 'auto', 0.01, 0.1, 1],  # Kernel coefficient for RBF\n",
        "    'kernel': ['linear', 'rbf', 'poly']  # Different kernel types\n",
        "}\n",
        "\n",
        "# Perform GridSearchCV to find the best hyperparameters\n",
        "svm = SVC()\n",
        "grid_search = GridSearchCV(svm, param_grid, cv=5, scoring='accuracy', n_jobs=-1)\n",
        "grid_search.fit(X_train, y_train)\n",
        "\n",
        "# Best hyperparameters\n",
        "print(\"Best Parameters:\", grid_search.best_params_)\n",
        "\n",
        "# Train SVM with the best parameters\n",
        "best_svm = grid_search.best_estimator_\n",
        "y_pred = best_svm.predict(X_test)\n",
        "\n",
        "# Calculate accuracy\n",
        "accuracy = accuracy_score(y_test, y_pred)\n",
        "print(f\"Best Model Accuracy: {accuracy:.4f}\")\n",
        "\n",
        "\n"
      ],
      "metadata": {
        "colab": {
          "base_uri": "https://localhost:8080/"
        },
        "id": "btvIT4PJfw_R",
        "outputId": "c2d03004-a530-4c83-a2c4-0bf254b36daf"
      },
      "execution_count": 17,
      "outputs": [
        {
          "output_type": "stream",
          "name": "stdout",
          "text": [
            "Best Parameters: {'C': 0.1, 'gamma': 0.1, 'kernel': 'poly'}\n",
            "Best Model Accuracy: 1.0000\n"
          ]
        }
      ]
    },
    {
      "cell_type": "markdown",
      "source": [
        "# 32. Write a Python program to train an SVM Classifier on an imbalanced dataset and apply class weighting and check it improve accuracy.\n"
      ],
      "metadata": {
        "id": "bOpJK8uQgKg8"
      }
    },
    {
      "cell_type": "code",
      "source": [
        "import numpy as np\n",
        "import matplotlib.pyplot as plt\n",
        "from sklearn.datasets import make_classification\n",
        "from sklearn.svm import SVC\n",
        "from sklearn.model_selection import train_test_split\n",
        "from sklearn.metrics import accuracy_score, classification_report\n",
        "from collections import Counter\n",
        "\n",
        "# Create an imbalanced dataset\n",
        "X, y = make_classification(n_samples=1000, n_features=20, n_classes=2, weights=[0.9, 0.1], random_state=42)\n",
        "\n",
        "# Print class distribution\n",
        "print(\"Class distribution before training:\", Counter(y))\n",
        "\n",
        "# Split into training and testing sets\n",
        "X_train, X_test, y_train, y_test = train_test_split(X, y, test_size=0.2, random_state=42)\n",
        "\n",
        "# Train an SVM Classifier without class weighting\n",
        "svm_no_weighting = SVC(kernel='rbf', C=1.0, random_state=42)\n",
        "svm_no_weighting.fit(X_train, y_train)\n",
        "y_pred_no_weighting = svm_no_weighting.predict(X_test)\n",
        "accuracy_no_weighting = accuracy_score(y_test, y_pred_no_weighting)\n",
        "\n",
        "# Train an SVM Classifier with class weighting\n",
        "svm_weighted = SVC(kernel='rbf', C=1.0, class_weight='balanced', random_state=42)\n",
        "svm_weighted.fit(X_train, y_train)\n",
        "y_pred_weighted = svm_weighted.predict(X_test)\n",
        "accuracy_weighted = accuracy_score(y_test, y_pred_weighted)\n",
        "\n",
        "# Print classification reports\n",
        "print(\"\\nWithout Class Weighting:\")\n",
        "print(classification_report(y_test, y_pred_no_weighting))\n",
        "\n",
        "print(\"\\nWith Class Weighting:\")\n",
        "print(classification_report(y_test, y_pred_weighted))\n",
        "\n",
        "# Compare Accuracy\n",
        "print(f\"\\nAccuracy without Class Weighting: {accuracy_no_weighting:.4f}\")\n",
        "print(f\"Accuracy with Class Weighting: {accuracy_weighted:.4f}\")\n",
        "\n",
        "# Bar plot to visualize improvement\n",
        "labels = ['No Class Weighting', 'With Class Weighting']\n",
        "accuracies = [accuracy_no_weighting, accuracy_weighted]\n",
        "\n",
        "plt.bar(labels, accuracies, color=['red', 'green'])\n",
        "plt.ylim(0.5, 1)  # Set y-axis range\n",
        "plt.ylabel('Accuracy')\n",
        "plt.title('SVM Accuracy: Without vs. With Class Weighting')\n",
        "plt.show()\n"
      ],
      "metadata": {
        "colab": {
          "base_uri": "https://localhost:8080/",
          "height": 903
        },
        "id": "-NyQwH9KgJyu",
        "outputId": "4319c0ff-9c7c-4c6f-b9cc-93ddd90c13bc"
      },
      "execution_count": 18,
      "outputs": [
        {
          "output_type": "stream",
          "name": "stdout",
          "text": [
            "Class distribution before training: Counter({0: 897, 1: 103})\n",
            "\n",
            "Without Class Weighting:\n",
            "              precision    recall  f1-score   support\n",
            "\n",
            "           0       0.92      0.97      0.94       180\n",
            "           1       0.44      0.20      0.28        20\n",
            "\n",
            "    accuracy                           0.90       200\n",
            "   macro avg       0.68      0.59      0.61       200\n",
            "weighted avg       0.87      0.90      0.88       200\n",
            "\n",
            "\n",
            "With Class Weighting:\n",
            "              precision    recall  f1-score   support\n",
            "\n",
            "           0       0.94      0.94      0.94       180\n",
            "           1       0.47      0.45      0.46        20\n",
            "\n",
            "    accuracy                           0.90       200\n",
            "   macro avg       0.71      0.70      0.70       200\n",
            "weighted avg       0.89      0.90      0.89       200\n",
            "\n",
            "\n",
            "Accuracy without Class Weighting: 0.8950\n",
            "Accuracy with Class Weighting: 0.8950\n"
          ]
        },
        {
          "output_type": "display_data",
          "data": {
            "text/plain": [
              "<Figure size 640x480 with 1 Axes>"
            ],
            "image/png": "[encoded data removed]"
          },
          "metadata": {}
        }
      ]
    },
    {
      "cell_type": "markdown",
      "source": [
        "# 33. Write a Python program to implement a Naïve Bayes classifier for spam detection using email data."
      ],
      "metadata": {
        "id": "gpZPRo2ThGSc"
      }
    },
    {
      "cell_type": "code",
      "source": [
        "import pandas as pd\n",
        "import numpy as np\n",
        "from sklearn.feature_extraction.text import TfidfVectorizer\n",
        "from sklearn.model_selection import train_test_split\n",
        "from sklearn.naive_bayes import MultinomialNB\n",
        "from sklearn.metrics import accuracy_score, classification_report\n",
        "\n",
        "# Load the dataset (Updated working URL from UCI repository)\n",
        "url = \"https://raw.githubusercontent.com/justmarkham/pycon-2016-tutorial/master/data/sms.tsv\"\n",
        "\n",
        "# Read the dataset (tab-separated values)\n",
        "df = pd.read_csv(url, sep='\\t', header=None, names=['label', 'message'])\n",
        "\n",
        "# Convert labels to binary (ham -> 0, spam -> 1)\n",
        "df['label'] = df['label'].map({'ham': 0, 'spam': 1})\n",
        "\n",
        "# Split data into training and testing sets\n",
        "X_train, X_test, y_train, y_test = train_test_split(df['message'], df['label'], test_size=0.2, random_state=42)\n",
        "\n",
        "# Convert text data into numerical vectors using TF-IDF\n",
        "vectorizer = TfidfVectorizer(stop_words='english', max_features=5000)\n",
        "X_train_tfidf = vectorizer.fit_transform(X_train)\n",
        "X_test_tfidf = vectorizer.transform(X_test)\n",
        "\n",
        "# Train a Multinomial Naïve Bayes classifier\n",
        "nb_classifier = MultinomialNB()\n",
        "nb_classifier.fit(X_train_tfidf, y_train)\n",
        "\n",
        "# Make predictions\n",
        "y_pred = nb_classifier.predict(X_test_tfidf)\n",
        "\n",
        "# Evaluate the model\n",
        "accuracy = accuracy_score(y_test, y_pred)\n",
        "print(f\"Model Accuracy: {accuracy:.4f}\")\n",
        "\n",
        "print(\"\\nClassification Report:\")\n",
        "print(classification_report(y_test, y_pred))\n",
        "\n",
        "# Test with a custom email message\n",
        "test_email = [\"Congratulations! You've won a free lottery. Claim now!\"]\n",
        "test_vectorized = vectorizer.transform(test_email)\n",
        "prediction = nb_classifier.predict(test_vectorized)\n",
        "print(\"\\nPrediction for custom email:\", \"Spam\" if prediction[0] == 1 else \"Not Spam\")\n",
        "\n"
      ],
      "metadata": {
        "colab": {
          "base_uri": "https://localhost:8080/"
        },
        "id": "mds9HQyMhZSE",
        "outputId": "5e794b7a-01a4-4794-8add-e4420e2e67b4"
      },
      "execution_count": 20,
      "outputs": [
        {
          "output_type": "stream",
          "name": "stdout",
          "text": [
            "Model Accuracy: 0.9794\n",
            "\n",
            "Classification Report:\n",
            "              precision    recall  f1-score   support\n",
            "\n",
            "           0       0.98      1.00      0.99       966\n",
            "           1       0.99      0.85      0.92       149\n",
            "\n",
            "    accuracy                           0.98      1115\n",
            "   macro avg       0.98      0.93      0.95      1115\n",
            "weighted avg       0.98      0.98      0.98      1115\n",
            "\n",
            "\n",
            "Prediction for custom email: Spam\n"
          ]
        }
      ]
    },
    {
      "cell_type": "markdown",
      "source": [
        "# 34. Write a Python program to train an SVM Classifier and a Naïve Bayes Classifier on the same dataset and compare their accuracy.\n"
      ],
      "metadata": {
        "id": "qFXH25CxiKy4"
      }
    },
    {
      "cell_type": "code",
      "source": [
        "import numpy as np\n",
        "import pandas as pd\n",
        "from sklearn import datasets\n",
        "from sklearn.model_selection import train_test_split\n",
        "from sklearn.preprocessing import StandardScaler\n",
        "from sklearn.svm import SVC\n",
        "from sklearn.naive_bayes import GaussianNB\n",
        "from sklearn.metrics import accuracy_score\n",
        "\n",
        "# Load the Iris dataset\n",
        "iris = datasets.load_iris()\n",
        "X, y = iris.data, iris.target\n",
        "\n",
        "# Split data into training (80%) and testing (20%) sets\n",
        "X_train, X_test, y_train, y_test = train_test_split(X, y, test_size=0.2, random_state=42)\n",
        "\n",
        "# Standardize features for SVM\n",
        "scaler = StandardScaler()\n",
        "X_train_scaled = scaler.fit_transform(X_train)\n",
        "X_test_scaled = scaler.transform(X_test)\n",
        "\n",
        "# Train SVM Classifier\n",
        "svm_classifier = SVC(kernel='rbf', C=1.0, gamma='scale')\n",
        "svm_classifier.fit(X_train_scaled, y_train)\n",
        "svm_preds = svm_classifier.predict(X_test_scaled)\n",
        "\n",
        "# Train Naïve Bayes Classifier\n",
        "nb_classifier = GaussianNB()\n",
        "nb_classifier.fit(X_train, y_train)\n",
        "nb_preds = nb_classifier.predict(X_test)\n",
        "\n",
        "# Evaluate accuracy\n",
        "svm_accuracy = accuracy_score(y_test, svm_preds)\n",
        "nb_accuracy = accuracy_score(y_test, nb_preds)\n",
        "\n",
        "# Print results\n",
        "print(f\"SVM Accuracy: {svm_accuracy:.2f}\")\n",
        "print(f\"Naïve Bayes Accuracy: {nb_accuracy:.2f}\")\n",
        "\n",
        "# Compare performance\n",
        "if svm_accuracy > nb_accuracy:\n",
        "    print(\"SVM performed better.\")\n",
        "elif svm_accuracy < nb_accuracy:\n",
        "    print(\"Naïve Bayes performed better.\")\n",
        "else:\n",
        "    print(\"Both models performed equally well.\")\n"
      ],
      "metadata": {
        "colab": {
          "base_uri": "https://localhost:8080/"
        },
        "id": "7uRiyC3oi60k",
        "outputId": "b3264555-b673-4289-d3e3-042b2d08f6e9"
      },
      "execution_count": 21,
      "outputs": [
        {
          "output_type": "stream",
          "name": "stdout",
          "text": [
            "SVM Accuracy: 1.00\n",
            "Naïve Bayes Accuracy: 1.00\n",
            "Both models performed equally well.\n"
          ]
        }
      ]
    },
    {
      "cell_type": "markdown",
      "source": [
        "# 35.  Write a Python program to perform feature selection before training a Naïve Bayes classifier and compare results.\n"
      ],
      "metadata": {
        "id": "KAhq8dD8jKWM"
      }
    },
    {
      "cell_type": "code",
      "source": [
        "import numpy as np\n",
        "import pandas as pd\n",
        "from sklearn import datasets\n",
        "from sklearn.model_selection import train_test_split\n",
        "from sklearn.naive_bayes import GaussianNB\n",
        "from sklearn.feature_selection import SelectKBest, chi2\n",
        "from sklearn.metrics import accuracy_score\n",
        "\n",
        "# Load the Breast Cancer dataset\n",
        "cancer = datasets.load_breast_cancer()\n",
        "X, y = cancer.data, cancer.target\n",
        "\n",
        "# Split into training and testing sets (80% train, 20% test)\n",
        "X_train, X_test, y_train, y_test = train_test_split(X, y, test_size=0.2, random_state=42)\n",
        "\n",
        "# Train Naïve Bayes without feature selection\n",
        "nb_classifier = GaussianNB()\n",
        "nb_classifier.fit(X_train, y_train)\n",
        "nb_preds = nb_classifier.predict(X_test)\n",
        "accuracy_without_fs = accuracy_score(y_test, nb_preds)\n",
        "\n",
        "# Apply Feature Selection (Select top 10 features using Chi-Square test)\n",
        "selector = SelectKBest(score_func=chi2, k=10)\n",
        "X_train_selected = selector.fit_transform(X_train, y_train)\n",
        "X_test_selected = selector.transform(X_test)\n",
        "\n",
        "# Train Naïve Bayes with selected features\n",
        "nb_classifier_selected = GaussianNB()\n",
        "nb_classifier_selected.fit(X_train_selected, y_train)\n",
        "nb_preds_selected = nb_classifier_selected.predict(X_test_selected)\n",
        "accuracy_with_fs = accuracy_score(y_test, nb_preds_selected)\n",
        "\n",
        "# Print results\n",
        "print(f\"Accuracy without Feature Selection: {accuracy_without_fs:.2f}\")\n",
        "print(f\"Accuracy with Feature Selection: {accuracy_with_fs:.2f}\")\n",
        "\n",
        "# Compare performance\n",
        "if accuracy_with_fs > accuracy_without_fs:\n",
        "    print(\"Feature selection improved accuracy.\")\n",
        "elif accuracy_with_fs < accuracy_without_fs:\n",
        "    print(\"Feature selection reduced accuracy.\")\n",
        "else:\n",
        "    print(\"Feature selection had no significant impact.\")\n"
      ],
      "metadata": {
        "colab": {
          "base_uri": "https://localhost:8080/"
        },
        "id": "9jK6NtUKjRxm",
        "outputId": "0c8dd2e8-c564-4062-b40c-ef6b489c9cec"
      },
      "execution_count": 22,
      "outputs": [
        {
          "output_type": "stream",
          "name": "stdout",
          "text": [
            "Accuracy without Feature Selection: 0.97\n",
            "Accuracy with Feature Selection: 0.96\n",
            "Feature selection reduced accuracy.\n"
          ]
        }
      ]
    },
    {
      "cell_type": "markdown",
      "source": [
        "# 36.  Write a Python program to train an SVM Classifier using One-vs-Rest (OvR) and One-vs-One (OvO) strategies on the Wine dataset and compare their accuracy\n"
      ],
      "metadata": {
        "id": "MlsR5nYmjfHQ"
      }
    },
    {
      "cell_type": "code",
      "source": [
        "import numpy as np\n",
        "import pandas as pd\n",
        "from sklearn import datasets\n",
        "from sklearn.model_selection import train_test_split\n",
        "from sklearn.svm import SVC\n",
        "from sklearn.multiclass import OneVsRestClassifier, OneVsOneClassifier\n",
        "from sklearn.metrics import accuracy_score\n",
        "\n",
        "# Load the Wine dataset\n",
        "wine = datasets.load_wine()\n",
        "X, y = wine.data, wine.target\n",
        "\n",
        "# Split into training and testing sets (80% train, 20% test)\n",
        "X_train, X_test, y_train, y_test = train_test_split(X, y, test_size=0.2, random_state=42)\n",
        "\n",
        "# Train SVM with One-vs-Rest (OvR)\n",
        "svm_ovr = OneVsRestClassifier(SVC(kernel='linear', random_state=42))\n",
        "svm_ovr.fit(X_train, y_train)\n",
        "y_pred_ovr = svm_ovr.predict(X_test)\n",
        "accuracy_ovr = accuracy_score(y_test, y_pred_ovr)\n",
        "\n",
        "# Train SVM with One-vs-One (OvO)\n",
        "svm_ovo = OneVsOneClassifier(SVC(kernel='linear', random_state=42))\n",
        "svm_ovo.fit(X_train, y_train)\n",
        "y_pred_ovo = svm_ovo.predict(X_test)\n",
        "accuracy_ovo = accuracy_score(y_test, y_pred_ovo)\n",
        "\n",
        "# Print comparison results\n",
        "print(f\"Accuracy with One-vs-Rest (OvR): {accuracy_ovr:.2f}\")\n",
        "print(f\"Accuracy with One-vs-One (OvO): {accuracy_ovo:.2f}\")\n",
        "\n",
        "# Compare performance\n",
        "if accuracy_ovr > accuracy_ovo:\n",
        "    print(\"OvR performed better.\")\n",
        "elif accuracy_ovr < accuracy_ovo:\n",
        "    print(\"OvO performed better.\")\n",
        "else:\n",
        "    print(\"Both strategies performed equally.\")\n"
      ],
      "metadata": {
        "colab": {
          "base_uri": "https://localhost:8080/"
        },
        "id": "OSVZ4uKQjeny",
        "outputId": "091dd26a-6649-4327-ec21-72d0b5a846b3"
      },
      "execution_count": 23,
      "outputs": [
        {
          "output_type": "stream",
          "name": "stdout",
          "text": [
            "Accuracy with One-vs-Rest (OvR): 1.00\n",
            "Accuracy with One-vs-One (OvO): 1.00\n",
            "Both strategies performed equally.\n"
          ]
        }
      ]
    },
    {
      "cell_type": "markdown",
      "source": [
        "# 37. Write a Python program to train an SVM Classifier using Linear, Polynomial, and RBF kernels on the Breast Cancer dataset and compare their accuracy\n"
      ],
      "metadata": {
        "id": "VADOJYt_kIjf"
      }
    },
    {
      "cell_type": "code",
      "source": [
        "import numpy as np\n",
        "import pandas as pd\n",
        "from sklearn import datasets\n",
        "from sklearn.model_selection import train_test_split\n",
        "from sklearn.svm import SVC\n",
        "from sklearn.metrics import accuracy_score\n",
        "\n",
        "# Load the Breast Cancer dataset\n",
        "cancer = datasets.load_breast_cancer()\n",
        "X, y = cancer.data, cancer.target\n",
        "\n",
        "# Split into training and testing sets (80% train, 20% test)\n",
        "X_train, X_test, y_train, y_test = train_test_split(X, y, test_size=0.2, random_state=42)\n",
        "\n",
        "# Define different kernels\n",
        "kernels = ['linear', 'poly', 'rbf']\n",
        "accuracies = {}\n",
        "\n",
        "# Train and evaluate SVM models with different kernels\n",
        "for kernel in kernels:\n",
        "    if kernel == 'poly':\n",
        "        svm_model = SVC(kernel=kernel, degree=3, random_state=42)  # Specify degree only for 'poly'\n",
        "    else:\n",
        "        svm_model = SVC(kernel=kernel, random_state=42)  # No degree for 'linear' or 'rbf'\n",
        "\n",
        "    svm_model.fit(X_train, y_train)\n",
        "    y_pred = svm_model.predict(X_test)\n",
        "    accuracy = accuracy_score(y_test, y_pred)\n",
        "    accuracies[kernel] = accuracy\n",
        "    print(f\"Accuracy with {kernel} kernel: {accuracy:.4f}\")\n",
        "\n",
        "# Determine the best-performing kernel\n",
        "best_kernel = max(accuracies, key=accuracies.get)\n",
        "print(f\"\\nBest performing kernel: {best_kernel} with accuracy {accuracies[best_kernel]:.4f}\")\n",
        "\n"
      ],
      "metadata": {
        "colab": {
          "base_uri": "https://localhost:8080/"
        },
        "id": "GPgAwfbKkMqx",
        "outputId": "361d27cb-237d-49cf-cd2a-28b742c8c90c"
      },
      "execution_count": 25,
      "outputs": [
        {
          "output_type": "stream",
          "name": "stdout",
          "text": [
            "Accuracy with linear kernel: 0.9561\n",
            "Accuracy with poly kernel: 0.9474\n",
            "Accuracy with rbf kernel: 0.9474\n",
            "\n",
            "Best performing kernel: linear with accuracy 0.9561\n"
          ]
        }
      ]
    },
    {
      "cell_type": "markdown",
      "source": [
        "# 38. Write a Python program to train an SVM Classifier using Stratified K-Fold Cross-Validation and compute the average accuracy.\n"
      ],
      "metadata": {
        "id": "4tejse3kk1w4"
      }
    },
    {
      "cell_type": "code",
      "source": [
        "import numpy as np\n",
        "import pandas as pd\n",
        "from sklearn import datasets\n",
        "from sklearn.model_selection import StratifiedKFold, cross_val_score\n",
        "from sklearn.svm import SVC\n",
        "\n",
        "# Load the Breast Cancer dataset\n",
        "cancer = datasets.load_breast_cancer()\n",
        "X, y = cancer.data, cancer.target\n",
        "\n",
        "# Define SVM model\n",
        "svm_model = SVC(kernel='linear', random_state=42)\n",
        "\n",
        "# Use Stratified K-Fold Cross-Validation (k=5)\n",
        "skf = StratifiedKFold(n_splits=5, shuffle=True, random_state=42)\n",
        "\n",
        "# Perform cross-validation and compute accuracy for each fold\n",
        "cv_scores = cross_val_score(svm_model, X, y, cv=skf, scoring='accuracy')\n",
        "\n",
        "# Print accuracy for each fold\n",
        "print(\"Accuracy scores for each fold:\", cv_scores)\n",
        "\n",
        "# Compute and print the average accuracy\n",
        "average_accuracy = np.mean(cv_scores)\n",
        "print(f\"\\nAverage Accuracy: {average_accuracy:.4f}\")\n"
      ],
      "metadata": {
        "colab": {
          "base_uri": "https://localhost:8080/"
        },
        "id": "ZsJarSeQk_jH",
        "outputId": "4bae7652-690a-41b9-9788-1a7f1e155b62"
      },
      "execution_count": 26,
      "outputs": [
        {
          "output_type": "stream",
          "name": "stdout",
          "text": [
            "Accuracy scores for each fold: [0.94736842 0.92982456 0.95614035 0.93859649 0.96460177]\n",
            "\n",
            "Average Accuracy: 0.9473\n"
          ]
        }
      ]
    },
    {
      "cell_type": "markdown",
      "source": [
        "# 39. Write a Python program to train a Naïve Bayes classifier using different prior probabilities and compare performance\n"
      ],
      "metadata": {
        "id": "n2A0kDSeld1p"
      }
    },
    {
      "cell_type": "code",
      "source": [
        "import numpy as np\n",
        "import pandas as pd\n",
        "from sklearn import datasets\n",
        "from sklearn.model_selection import train_test_split\n",
        "from sklearn.naive_bayes import GaussianNB\n",
        "from sklearn.metrics import accuracy_score\n",
        "\n",
        "# Load the Iris dataset\n",
        "iris = datasets.load_iris()\n",
        "X, y = iris.data, iris.target\n",
        "\n",
        "# Split into training and testing sets (80-20 split)\n",
        "X_train, X_test, y_train, y_test = train_test_split(X, y, test_size=0.2, random_state=42, stratify=y)\n",
        "\n",
        "# Define different class prior probabilities\n",
        "priors_list = [\n",
        "    None,  # Default uniform priors\n",
        "    [0.7, 0.2, 0.1],  # Custom priors (favoring class 0)\n",
        "    [0.33, 0.33, 0.34]  # Nearly equal priors\n",
        "]\n",
        "\n",
        "# Train and evaluate models with different priors\n",
        "for priors in priors_list:\n",
        "    nb_model = GaussianNB(priors=priors)\n",
        "    nb_model.fit(X_train, y_train)\n",
        "    y_pred = nb_model.predict(X_test)\n",
        "    accuracy = accuracy_score(y_test, y_pred)\n",
        "    print(f\"Priors: {priors if priors else 'Default'} | Accuracy: {accuracy:.4f}\")\n"
      ],
      "metadata": {
        "colab": {
          "base_uri": "https://localhost:8080/"
        },
        "id": "0Gjyh3qhldPo",
        "outputId": "25eea913-e771-4de7-844a-8dfbe6b0fc63"
      },
      "execution_count": 27,
      "outputs": [
        {
          "output_type": "stream",
          "name": "stdout",
          "text": [
            "Priors: Default | Accuracy: 0.9667\n",
            "Priors: [0.7, 0.2, 0.1] | Accuracy: 0.9333\n",
            "Priors: [0.33, 0.33, 0.34] | Accuracy: 0.9667\n"
          ]
        }
      ]
    },
    {
      "cell_type": "markdown",
      "source": [
        "# 40. Write a Python program to perform Recursive Feature Elimination (RFE) before training an SVM Classifier and compare accuracy.\n"
      ],
      "metadata": {
        "id": "a0GrFFzLl8um"
      }
    },
    {
      "cell_type": "code",
      "source": [
        "import numpy as np\n",
        "import pandas as pd\n",
        "from sklearn import datasets\n",
        "from sklearn.model_selection import train_test_split\n",
        "from sklearn.svm import SVC\n",
        "from sklearn.feature_selection import RFE\n",
        "from sklearn.metrics import accuracy_score\n",
        "\n",
        "# Load the Breast Cancer dataset\n",
        "cancer = datasets.load_breast_cancer()\n",
        "X, y = cancer.data, cancer.target\n",
        "\n",
        "# Split into training and testing sets (80-20 split)\n",
        "X_train, X_test, y_train, y_test = train_test_split(X, y, test_size=0.2, random_state=42, stratify=y)\n",
        "\n",
        "# Train an SVM model without feature selection\n",
        "svm_model = SVC(kernel=\"linear\", random_state=42)\n",
        "svm_model.fit(X_train, y_train)\n",
        "y_pred = svm_model.predict(X_test)\n",
        "accuracy_without_rfe = accuracy_score(y_test, y_pred)\n",
        "\n",
        "# Perform Recursive Feature Elimination (RFE)\n",
        "rfe = RFE(estimator=SVC(kernel=\"linear\", random_state=42), n_features_to_select=10)\n",
        "X_train_rfe = rfe.fit_transform(X_train, y_train)\n",
        "X_test_rfe = rfe.transform(X_test)\n",
        "\n",
        "# Train an SVM model with selected features\n",
        "svm_model_rfe = SVC(kernel=\"linear\", random_state=42)\n",
        "svm_model_rfe.fit(X_train_rfe, y_train)\n",
        "y_pred_rfe = svm_model_rfe.predict(X_test_rfe)\n",
        "accuracy_with_rfe = accuracy_score(y_test, y_pred_rfe)\n",
        "\n",
        "# Print accuracy results\n",
        "print(f\"Accuracy without RFE: {accuracy_without_rfe:.4f}\")\n",
        "print(f\"Accuracy with RFE (Top 10 features): {accuracy_with_rfe:.4f}\")\n"
      ],
      "metadata": {
        "colab": {
          "base_uri": "https://localhost:8080/"
        },
        "id": "3T9B84VLmKRN",
        "outputId": "e61f6fe6-10b7-4d0f-b6cd-79d04682941e"
      },
      "execution_count": 28,
      "outputs": [
        {
          "output_type": "stream",
          "name": "stdout",
          "text": [
            "Accuracy without RFE: 0.9561\n",
            "Accuracy with RFE (Top 10 features): 0.9123\n"
          ]
        }
      ]
    },
    {
      "cell_type": "markdown",
      "source": [
        "# 41. Write a Python program to train an SVM Classifier and evaluate its performance using Precision, Recall, and F1-Score instead of accuracy\n"
      ],
      "metadata": {
        "id": "AzSh7HEmmYns"
      }
    },
    {
      "cell_type": "code",
      "source": [
        "import numpy as np\n",
        "import pandas as pd\n",
        "from sklearn import datasets\n",
        "from sklearn.model_selection import train_test_split\n",
        "from sklearn.svm import SVC\n",
        "from sklearn.metrics import precision_score, recall_score, f1_score\n",
        "\n",
        "# Load the Breast Cancer dataset\n",
        "cancer = datasets.load_breast_cancer()\n",
        "X, y = cancer.data, cancer.target\n",
        "\n",
        "# Split into training and testing sets (80-20 split)\n",
        "X_train, X_test, y_train, y_test = train_test_split(X, y, test_size=0.2, random_state=42, stratify=y)\n",
        "\n",
        "# Train an SVM classifier\n",
        "svm_model = SVC(kernel=\"linear\", random_state=42)\n",
        "svm_model.fit(X_train, y_train)\n",
        "\n",
        "# Make predictions\n",
        "y_pred = svm_model.predict(X_test)\n",
        "\n",
        "# Calculate evaluation metrics\n",
        "precision = precision_score(y_test, y_pred)\n",
        "recall = recall_score(y_test, y_pred)\n",
        "f1 = f1_score(y_test, y_pred)\n",
        "\n",
        "# Print results\n",
        "print(f\"Precision: {precision:.4f}\")\n",
        "print(f\"Recall: {recall:.4f}\")\n",
        "print(f\"F1-Score: {f1:.4f}\")\n"
      ],
      "metadata": {
        "colab": {
          "base_uri": "https://localhost:8080/"
        },
        "id": "fl8U1qzWmhMK",
        "outputId": "597b009e-fde8-403d-b874-df25386f8d12"
      },
      "execution_count": 29,
      "outputs": [
        {
          "output_type": "stream",
          "name": "stdout",
          "text": [
            "Precision: 0.9467\n",
            "Recall: 0.9861\n",
            "F1-Score: 0.9660\n"
          ]
        }
      ]
    },
    {
      "cell_type": "markdown",
      "source": [
        "# 42. Write a Python program to train a Naïve Bayes Classifier and evaluate its performance using Log Loss (Cross-Entropy Loss).\n"
      ],
      "metadata": {
        "id": "5No8jWxnmrsr"
      }
    },
    {
      "cell_type": "code",
      "source": [
        "import numpy as np\n",
        "import pandas as pd\n",
        "from sklearn import datasets\n",
        "from sklearn.model_selection import train_test_split\n",
        "from sklearn.naive_bayes import GaussianNB\n",
        "from sklearn.metrics import log_loss\n",
        "\n",
        "# Load the Breast Cancer dataset\n",
        "cancer = datasets.load_breast_cancer()\n",
        "X, y = cancer.data, cancer.target\n",
        "\n",
        "# Split into training and testing sets (80-20 split)\n",
        "X_train, X_test, y_train, y_test = train_test_split(X, y, test_size=0.2, random_state=42, stratify=y)\n",
        "\n",
        "# Train a Naïve Bayes classifier\n",
        "nb_model = GaussianNB()\n",
        "nb_model.fit(X_train, y_train)\n",
        "\n",
        "# Predict class probabilities\n",
        "y_prob = nb_model.predict_proba(X_test)\n",
        "\n",
        "# Compute Log Loss (Cross-Entropy Loss)\n",
        "logloss = log_loss(y_test, y_prob)\n",
        "\n",
        "# Print result\n",
        "print(f\"Log Loss: {logloss:.4f}\")\n"
      ],
      "metadata": {
        "colab": {
          "base_uri": "https://localhost:8080/"
        },
        "id": "IqyVcHpNmrLh",
        "outputId": "6b885df7-0b68-4f32-9863-0fdc39c3e166"
      },
      "execution_count": 30,
      "outputs": [
        {
          "output_type": "stream",
          "name": "stdout",
          "text": [
            "Log Loss: 0.3713\n"
          ]
        }
      ]
    },
    {
      "cell_type": "markdown",
      "source": [
        "# 43.  Write a Python program to train an SVM Classifier and visualize the Confusion Matrix using seaborn"
      ],
      "metadata": {
        "id": "2WtgR-TNm9Hq"
      }
    },
    {
      "cell_type": "code",
      "source": [
        "import numpy as np\n",
        "import pandas as pd\n",
        "import seaborn as sns\n",
        "import matplotlib.pyplot as plt\n",
        "from sklearn import datasets\n",
        "from sklearn.model_selection import train_test_split\n",
        "from sklearn.svm import SVC\n",
        "from sklearn.metrics import confusion_matrix\n",
        "\n",
        "# Load the Breast Cancer dataset\n",
        "cancer = datasets.load_breast_cancer()\n",
        "X, y = cancer.data, cancer.target\n",
        "\n",
        "# Split into training and testing sets (80-20 split)\n",
        "X_train, X_test, y_train, y_test = train_test_split(X, y, test_size=0.2, random_state=42, stratify=y)\n",
        "\n",
        "# Train an SVM Classifier\n",
        "svm_model = SVC(kernel='linear', random_state=42)\n",
        "svm_model.fit(X_train, y_train)\n",
        "\n",
        "# Predict on test data\n",
        "y_pred = svm_model.predict(X_test)\n",
        "\n",
        "# Compute the Confusion Matrix\n",
        "conf_matrix = confusion_matrix(y_test, y_pred)\n",
        "\n",
        "# Visualize using seaborn\n",
        "plt.figure(figsize=(6, 5))\n",
        "sns.heatmap(conf_matrix, annot=True, fmt='d', cmap='Blues', xticklabels=['Malignant', 'Benign'], yticklabels=['Malignant', 'Benign'])\n",
        "plt.xlabel(\"Predicted Label\")\n",
        "plt.ylabel(\"True Label\")\n",
        "plt.title(\"Confusion Matrix for SVM Classifier\")\n",
        "plt.show()\n"
      ],
      "metadata": {
        "colab": {
          "base_uri": "https://localhost:8080/",
          "height": 487
        },
        "id": "XPnQrj90m8Yr",
        "outputId": "2b18e3ae-b994-4311-870f-562cf1cd50f9"
      },
      "execution_count": 31,
      "outputs": [
        {
          "output_type": "display_data",
          "data": {
            "text/plain": [
              "<Figure size 600x500 with 2 Axes>"
            ],
            "image/png": "[encoded data removed]"
          },
          "metadata": {}
        }
      ]
    },
    {
      "cell_type": "markdown",
      "source": [
        "# 44. Write a Python program to train an SVM Regressor (SVR) and evaluate its performance using Mean Absolute Error (MAE) instead of MSE\n"
      ],
      "metadata": {
        "id": "xwbEF7_fnU4l"
      }
    },
    {
      "cell_type": "code",
      "source": [
        "import numpy as np\n",
        "import pandas as pd\n",
        "from sklearn import datasets\n",
        "from sklearn.model_selection import train_test_split\n",
        "from sklearn.svm import SVR\n",
        "from sklearn.metrics import mean_absolute_error\n",
        "from sklearn.preprocessing import StandardScaler\n",
        "\n",
        "# Load the Boston Housing dataset\n",
        "boston = datasets.fetch_california_housing()\n",
        "X, y = boston.data, boston.target\n",
        "\n",
        "# Split into training and testing sets (80-20 split)\n",
        "X_train, X_test, y_train, y_test = train_test_split(X, y, test_size=0.2, random_state=42)\n",
        "\n",
        "# Feature scaling (SVR is sensitive to feature scales)\n",
        "scaler = StandardScaler()\n",
        "X_train = scaler.fit_transform(X_train)\n",
        "X_test = scaler.transform(X_test)\n",
        "\n",
        "# Train an SVM Regressor with RBF kernel\n",
        "svr_model = SVR(kernel='rbf', C=100, gamma=0.1, epsilon=0.1)\n",
        "svr_model.fit(X_train, y_train)\n",
        "\n",
        "# Predict on test data\n",
        "y_pred = svr_model.predict(X_test)\n",
        "\n",
        "# Compute Mean Absolute Error (MAE)\n",
        "mae = mean_absolute_error(y_test, y_pred)\n",
        "\n",
        "# Print MAE\n",
        "print(f\"Mean Absolute Error (MAE): {mae:.4f}\")\n"
      ],
      "metadata": {
        "id": "fmZHBqflndCD"
      },
      "execution_count": null,
      "outputs": []
    },
    {
      "cell_type": "markdown",
      "source": [
        "# 45. Write a Python program to train a Naïve Bayes classifier and evaluate its performance using the ROC-AUC score\n"
      ],
      "metadata": {
        "id": "Oos-HHaMny4_"
      }
    },
    {
      "cell_type": "code",
      "source": [
        "import numpy as np\n",
        "import pandas as pd\n",
        "from sklearn.datasets import load_breast_cancer\n",
        "from sklearn.model_selection import train_test_split\n",
        "from sklearn.naive_bayes import GaussianNB\n",
        "from sklearn.metrics import roc_auc_score\n",
        "\n",
        "# Load the Breast Cancer dataset\n",
        "data = load_breast_cancer()\n",
        "X, y = data.data, data.target\n",
        "\n",
        "# Split into training and testing sets (80-20 split)\n",
        "X_train, X_test, y_train, y_test = train_test_split(X, y, test_size=0.2, random_state=42)\n",
        "\n",
        "# Train a Gaussian Naïve Bayes classifier\n",
        "nb_model = GaussianNB()\n",
        "nb_model.fit(X_train, y_train)\n",
        "\n",
        "# Predict probability scores for the positive class\n",
        "y_probs = nb_model.predict_proba(X_test)[:, 1]\n",
        "\n",
        "# Compute ROC-AUC score\n",
        "roc_auc = roc_auc_score(y_test, y_probs)\n",
        "\n",
        "# Print ROC-AUC score\n",
        "print(f\"ROC-AUC Score: {roc_auc:.4f}\")\n"
      ],
      "metadata": {
        "colab": {
          "base_uri": "https://localhost:8080/"
        },
        "id": "IIUnExAOn7Tr",
        "outputId": "1f08abbf-46d8-458b-d332-574299177410"
      },
      "execution_count": 1,
      "outputs": [
        {
          "output_type": "stream",
          "name": "stdout",
          "text": [
            "ROC-AUC Score: 0.9984\n"
          ]
        }
      ]
    },
    {
      "cell_type": "markdown",
      "source": [
        "# 46. Write a Python program to train an SVM Classifier and visualize the Precision-Recall Curve"
      ],
      "metadata": {
        "id": "AZQb03TwoFpH"
      }
    },
    {
      "cell_type": "code",
      "source": [
        "import numpy as np\n",
        "import matplotlib.pyplot as plt\n",
        "from sklearn.datasets import load_breast_cancer\n",
        "from sklearn.model_selection import train_test_split\n",
        "from sklearn.svm import SVC\n",
        "from sklearn.metrics import precision_recall_curve, auc\n",
        "\n",
        "# Load the Breast Cancer dataset\n",
        "data = load_breast_cancer()\n",
        "X, y = data.data, data.target\n",
        "\n",
        "# Split into training and testing sets (80-20 split)\n",
        "X_train, X_test, y_train, y_test = train_test_split(X, y, test_size=0.2, random_state=42)\n",
        "\n",
        "# Train an SVM Classifier with RBF Kernel\n",
        "svm_model = SVC(kernel=\"rbf\", probability=True, random_state=42)\n",
        "svm_model.fit(X_train, y_train)\n",
        "\n",
        "# Predict probability scores for the positive class\n",
        "y_probs = svm_model.predict_proba(X_test)[:, 1]\n",
        "\n",
        "# Compute Precision-Recall values\n",
        "precision, recall, _ = precision_recall_curve(y_test, y_probs)\n",
        "\n",
        "# Compute AUC (Area Under Curve)\n",
        "pr_auc = auc(recall, precision)\n",
        "\n",
        "# Plot Precision-Recall Curve\n",
        "plt.figure(figsize=(8, 6))\n",
        "plt.plot(recall, precision, label=f\"PR Curve (AUC = {pr_auc:.4f})\", color=\"b\")\n",
        "plt.xlabel(\"Recall\")\n",
        "plt.ylabel(\"Precision\")\n",
        "plt.title(\"Precision-Recall Curve for SVM Classifier\")\n",
        "plt.legend()\n",
        "plt.grid()\n",
        "plt.show()\n"
      ],
      "metadata": {
        "colab": {
          "base_uri": "https://localhost:8080/",
          "height": 564
        },
        "id": "hrsphanooMyb",
        "outputId": "5e9ce6e6-3849-4459-e70b-27246c7cb23a"
      },
      "execution_count": 2,
      "outputs": [
        {
          "output_type": "display_data",
          "data": {
            "text/plain": [
              "<Figure size 800x600 with 1 Axes>"
            ],
            "image/png": "[encoded data removed]"
          },
          "metadata": {}
        }
      ]
    }
  ]
}