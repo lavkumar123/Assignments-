{
  "nbformat": 4,
  "nbformat_minor": 0,
  "metadata": {
    "colab": {
      "provenance": []
    },
    "kernelspec": {
      "name": "python3",
      "display_name": "Python 3"
    },
    "language_info": {
      "name": "python"
    }
  },
  "cells": [
    {
      "cell_type": "markdown",
      "source": [
        "# 1. Explain the key features of Python that make it a popular choice for programming.\n",
        "\n",
        "**Ans:**- Python is popular for several reasons, making it a go-to choice for programmers:\n",
        "\n",
        "1. Easy to Read and Write: Python's syntax is simple and similar to plain English, making it easy to learn for beginners and highly readable for developers of all levels.\n",
        "\n",
        "2. Interpreted Language: Python is an interpreted language, meaning you can run code line by line without needing to compile it first. This speeds up development and debugging.\n",
        "\n",
        "3. Cross-Platform Compatibility: Python works on various platforms like Windows, macOS, and Linux, allowing developers to write code that runs on multiple systems without modification.\n",
        "\n",
        "4. Large Standard Library: Python has a comprehensive standard library that provides modules and functions for handling tasks like file I/O, regular expressions, and networking, reducing the need for third-party tools.\n",
        "\n",
        "5. Extensive Ecosystem of Libraries and Frameworks: There are numerous libraries and frameworks (e.g., NumPy, Pandas, Django, Flask) available for Python that simplify tasks like web development, data analysis, machine learning, and automation.\n",
        "\n",
        "6. Dynamic Typing: In Python, variables do not need explicit declarations. The interpreter figures out the data type at runtime, making it flexible but requiring careful management for large-scale applications.\n",
        "\n",
        "7. Community Support: Python has a large, active community that contributes to a wealth of learning resources, libraries, frameworks, and online support.\n",
        "\n",
        "8. Integration Capabilities: Python can easily integrate with other languages like C, C++, and Java, and supports the development of multi-language applications.\n",
        "\n",
        "9. Automation and Scripting: Python is widely used for scripting tasks and automating repetitive activities, making it invaluable for DevOps and system administrators."
      ],
      "metadata": {
        "id": "N9M4jf7BuH_j"
      }
    },
    {
      "cell_type": "markdown",
      "source": [
        "## 2.Describe the role of predefined keywords in Python and provide examples of how they are used in a program.\n",
        "\n",
        "\n",
        "**Ans**:-Predefined keywords in Python are reserved words that have a specific meaning to the interpreter and cannot be used as identifiers (like variable names, function names, or class names). They are part of Python’s syntax and provide functionality to control the flow of a program, define structures, and handle exceptions.\n",
        "\n",
        "**Role of Predefined Keywords:**\n",
        "\n",
        "1. Control Flow: Keywords like if, else, and for are used to control the flow of execution in a program by defining conditional statements and loops.\n",
        "\n",
        "2. Defining Functions and Classes: Keywords like def and class are used to define functions and classes, which are fundamental to Python's object-oriented structure.\n",
        "\n",
        "3. Handling Exceptions: Keywords like try, except, and finally help in handling exceptions and errors gracefully.\n",
        "\n",
        "4. Logical Operations: Keywords such as and, or, and not are used in logical expressions for decision-making.\n",
        "\n",
        "Examples of Keywords in Python:\n",
        "\n",
        "Here are a few predefined keywords in Python, along with examples of how they are used in a program:\n",
        "\n",
        "**1. if, else, elif – Conditional statements:**"
      ],
      "metadata": {
        "id": "9CxT7W7avRsf"
      }
    },
    {
      "cell_type": "code",
      "source": [
        "age = 18\n",
        "if age >= 18:\n",
        "    print(\"You are eligible to vote.\")\n",
        "else:\n",
        "    print(\"You are not eligible to vote.\")\n"
      ],
      "metadata": {
        "colab": {
          "base_uri": "https://localhost:8080/"
        },
        "id": "iwMU3_VixPDe",
        "outputId": "3ad9e768-cd2e-43f5-a2f4-1be486d35d5c"
      },
      "execution_count": 1,
      "outputs": [
        {
          "output_type": "stream",
          "name": "stdout",
          "text": [
            "You are eligible to vote.\n"
          ]
        }
      ]
    },
    {
      "cell_type": "markdown",
      "source": [
        "**2. for, while – Looping statements:**"
      ],
      "metadata": {
        "id": "mhnYZRY-xeaH"
      }
    },
    {
      "cell_type": "code",
      "source": [
        "for i in range(5):\n",
        "    print(i)  # Prints numbers from 0 to 4\n"
      ],
      "metadata": {
        "colab": {
          "base_uri": "https://localhost:8080/"
        },
        "id": "yrQKtqIlxuND",
        "outputId": "0704c1d7-e1a1-4928-e01e-4c872ba9327a"
      },
      "execution_count": 2,
      "outputs": [
        {
          "output_type": "stream",
          "name": "stdout",
          "text": [
            "0\n",
            "1\n",
            "2\n",
            "3\n",
            "4\n"
          ]
        }
      ]
    },
    {
      "cell_type": "markdown",
      "source": [
        "**3. def – Defining functions:**"
      ],
      "metadata": {
        "id": "caE2JvD9x1rr"
      }
    },
    {
      "cell_type": "code",
      "source": [
        "def greet(name):\n",
        "    return f\"Hello, {name}!\"\n",
        "\n",
        "print(greet(\"Alice\"))  # Output: Hello, Alice!\n"
      ],
      "metadata": {
        "colab": {
          "base_uri": "https://localhost:8080/"
        },
        "id": "-3CZPCFRx9PK",
        "outputId": "42bd4c2c-6de2-4eae-cb87-4cd88330bc45"
      },
      "execution_count": 3,
      "outputs": [
        {
          "output_type": "stream",
          "name": "stdout",
          "text": [
            "Hello, Alice!\n"
          ]
        }
      ]
    },
    {
      "cell_type": "markdown",
      "source": [
        "**4. class – Defining classes:**"
      ],
      "metadata": {
        "id": "fDdoQYiqyMdC"
      }
    },
    {
      "cell_type": "code",
      "source": [
        "class Dog:\n",
        "    def __init__(self, name):\n",
        "        self.name = name\n",
        "\n",
        "    def bark(self):\n",
        "        return \"Woof!\"\n",
        "\n",
        "my_dog = Dog(\"Buddy\")\n",
        "print(my_dog.bark())  # Output: Woof!\n"
      ],
      "metadata": {
        "colab": {
          "base_uri": "https://localhost:8080/"
        },
        "id": "Nqg4wrlryUYC",
        "outputId": "6f3cd7a2-abd4-49d0-8f93-27123d8abef6"
      },
      "execution_count": 4,
      "outputs": [
        {
          "output_type": "stream",
          "name": "stdout",
          "text": [
            "Woof!\n"
          ]
        }
      ]
    },
    {
      "cell_type": "markdown",
      "source": [
        "**5. try, except, finally – Exception handling:**"
      ],
      "metadata": {
        "id": "quUoPcgRyc_N"
      }
    },
    {
      "cell_type": "code",
      "source": [
        "try:\n",
        "    result = 10 / 0\n",
        "except ZeroDivisionError:\n",
        "    print(\"Cannot divide by zero.\")\n",
        "finally:\n",
        "    print(\"This block always executes.\")\n"
      ],
      "metadata": {
        "colab": {
          "base_uri": "https://localhost:8080/"
        },
        "id": "fvSuVygtyfgI",
        "outputId": "3c3d2d52-9297-4ce1-a0fc-6083a6234948"
      },
      "execution_count": 5,
      "outputs": [
        {
          "output_type": "stream",
          "name": "stdout",
          "text": [
            "Cannot divide by zero.\n",
            "This block always executes.\n"
          ]
        }
      ]
    },
    {
      "cell_type": "markdown",
      "source": [
        "**6. True, False – Boolean values:**"
      ],
      "metadata": {
        "id": "xV9V25gJymoK"
      }
    },
    {
      "cell_type": "code",
      "source": [
        "is_python_easy = True\n",
        "if is_python_easy:\n",
        "    print(\"Python is easy to learn.\")\n"
      ],
      "metadata": {
        "colab": {
          "base_uri": "https://localhost:8080/"
        },
        "id": "b4jKXCRGytxb",
        "outputId": "7f6efd4f-97a8-46a4-f76e-aa7efecd6f5d"
      },
      "execution_count": 6,
      "outputs": [
        {
          "output_type": "stream",
          "name": "stdout",
          "text": [
            "Python is easy to learn.\n"
          ]
        }
      ]
    },
    {
      "cell_type": "markdown",
      "source": [
        "**List of Common Python Keywords:**\n",
        "\n",
        ". Control Flow: if, else, elif, for, while, break, continue, return\n",
        "\n",
        ". Logical Operators: and, or, not\n",
        "\n",
        ". Defining Structures: def, class, lambda\n",
        "\n",
        ". Exception Handling: try, except, finally, raise\n",
        "\n",
        ". Other: import, pass, with, as, from, is, in\n",
        "\n",
        "These keywords are predefined and play an integral role in shaping Python code. They provide structure and control mechanisms to programs."
      ],
      "metadata": {
        "id": "1t9mLU44ywPS"
      }
    },
    {
      "cell_type": "markdown",
      "source": [
        "# 3.  Compare and contrast mutable and immutable objects in Python with examples.\n",
        "\n",
        "**Ans:-**In Python, objects can be classified as mutable or immutable based on whether their state can be modified after they are created. Here’s a comparison of the two:\n",
        "\n",
        "**Mutable Objects**\n",
        "\n",
        "Mutable objects can be changed after their creation. This means you can modify their content or state without creating a new object.\n",
        "\n",
        "**Examples of Mutable Objects:**\n",
        "\n",
        "1. Lists:"
      ],
      "metadata": {
        "id": "PGQ3zm0W0THW"
      }
    },
    {
      "cell_type": "code",
      "source": [
        "my_list = [1, 2, 3]\n",
        "print(my_list)  # Output: [1, 2, 3]\n",
        "\n",
        "# Modifying the list\n",
        "my_list.append(4)\n",
        "print(my_list)  # Output: [1, 2, 3, 4]\n"
      ],
      "metadata": {
        "colab": {
          "base_uri": "https://localhost:8080/"
        },
        "id": "EP83sQi-1Dp_",
        "outputId": "7fd0a0f3-b38a-45ae-bfc2-787bbc0cdaa7"
      },
      "execution_count": 7,
      "outputs": [
        {
          "output_type": "stream",
          "name": "stdout",
          "text": [
            "[1, 2, 3]\n",
            "[1, 2, 3, 4]\n"
          ]
        }
      ]
    },
    {
      "cell_type": "markdown",
      "source": [
        "2. Dictionaries:"
      ],
      "metadata": {
        "id": "kHtzeQlq1IvR"
      }
    },
    {
      "cell_type": "code",
      "source": [
        "my_dict = {'name': 'Alice', 'age': 25}\n",
        "print(my_dict)  # Output: {'name': 'Alice', 'age': 25}\n",
        "\n",
        "# Modifying the dictionary\n",
        "my_dict['age'] = 26\n",
        "print(my_dict)  # Output: {'name': 'Alice', 'age': 26}\n"
      ],
      "metadata": {
        "colab": {
          "base_uri": "https://localhost:8080/"
        },
        "id": "YUpGQRPV1Mv7",
        "outputId": "158686a0-6ce3-41fd-cbc2-e0588dc7d23b"
      },
      "execution_count": 8,
      "outputs": [
        {
          "output_type": "stream",
          "name": "stdout",
          "text": [
            "{'name': 'Alice', 'age': 25}\n",
            "{'name': 'Alice', 'age': 26}\n"
          ]
        }
      ]
    },
    {
      "cell_type": "markdown",
      "source": [
        "3. Sets:"
      ],
      "metadata": {
        "id": "v1whwxKG1T_F"
      }
    },
    {
      "cell_type": "code",
      "source": [
        "my_set = {1, 2, 3}\n",
        "print(my_set)  # Output: {1, 2, 3}\n",
        "\n",
        "# Modifying the set\n",
        "my_set.add(4)\n",
        "print(my_set)  # Output: {1, 2, 3, 4}\n"
      ],
      "metadata": {
        "colab": {
          "base_uri": "https://localhost:8080/"
        },
        "id": "2tZ3mbtG1fq1",
        "outputId": "1a5db3b4-3c46-484a-df99-b7388259e48c"
      },
      "execution_count": 9,
      "outputs": [
        {
          "output_type": "stream",
          "name": "stdout",
          "text": [
            "{1, 2, 3}\n",
            "{1, 2, 3, 4}\n"
          ]
        }
      ]
    },
    {
      "cell_type": "markdown",
      "source": [
        "**Immutable Objects**\n",
        "\n",
        "Immutable objects cannot be changed after their creation. Any modification attempts will result in the creation of a new object instead.\n",
        "\n",
        "**Examples of Immutable Objects:**\n",
        "\n",
        "1. Strings:"
      ],
      "metadata": {
        "id": "lsGvFwMV1jAv"
      }
    },
    {
      "cell_type": "code",
      "source": [
        "my_string = \"Hello\"\n",
        "print(my_string)  # Output: Hello\n",
        "\n",
        "# Attempting to modify the string\n",
        "new_string = my_string.replace(\"H\", \"J\")\n",
        "print(new_string)  # Output: Jello\n",
        "print(my_string)   # Output: Hello (remains unchanged)\n"
      ],
      "metadata": {
        "colab": {
          "base_uri": "https://localhost:8080/"
        },
        "id": "qbhYMVW61zI0",
        "outputId": "7263dd57-1869-428b-985f-f14fec0558e6"
      },
      "execution_count": 10,
      "outputs": [
        {
          "output_type": "stream",
          "name": "stdout",
          "text": [
            "Hello\n",
            "Jello\n",
            "Hello\n"
          ]
        }
      ]
    },
    {
      "cell_type": "markdown",
      "source": [
        "2. Tuples:"
      ],
      "metadata": {
        "id": "dfH5LMim13OE"
      }
    },
    {
      "cell_type": "code",
      "source": [
        "my_tuple = (1, 2, 3)\n",
        "print(my_tuple)  # Output: (1, 2, 3)\n",
        "\n",
        "# Attempting to modify the tuple (will raise an error)\n",
        "# my_tuple[1] = 4  # TypeError: 'tuple' object does not support item assignment\n"
      ],
      "metadata": {
        "colab": {
          "base_uri": "https://localhost:8080/"
        },
        "id": "XUChHiZI18cw",
        "outputId": "85e27425-5f85-452a-bcce-27784b2b1544"
      },
      "execution_count": 11,
      "outputs": [
        {
          "output_type": "stream",
          "name": "stdout",
          "text": [
            "(1, 2, 3)\n"
          ]
        }
      ]
    },
    {
      "cell_type": "markdown",
      "source": [
        "3. Frozensets:\n"
      ],
      "metadata": {
        "id": "E0qn9sOA2BpV"
      }
    },
    {
      "cell_type": "code",
      "source": [
        "my_frozenset = frozenset([1, 2, 3])\n",
        "print(my_frozenset)  # Output: frozenset({1, 2, 3})\n",
        "\n",
        "# Attempting to modify the frozenset (will raise an error)\n",
        "# my_frozenset.add(4)  # AttributeError: 'frozenset' object has no attribute 'add'\n"
      ],
      "metadata": {
        "colab": {
          "base_uri": "https://localhost:8080/"
        },
        "id": "4xLFnGxL2MSw",
        "outputId": "bc5de047-9ffb-4849-e2b4-def7d71021f0"
      },
      "execution_count": 12,
      "outputs": [
        {
          "output_type": "stream",
          "name": "stdout",
          "text": [
            "frozenset({1, 2, 3})\n"
          ]
        }
      ]
    },
    {
      "cell_type": "markdown",
      "source": [
        "# 4. Discuss the different types of operators in Python and provide examples of how they are used.\n",
        "\n",
        "**Ans:-**Python supports various types of operations, categorized into several types based on their functionality. Here’s a discussion of the different types of operators in Python, along with examples of how they are used:\n",
        "\n",
        "**1. Arithmetic Operators**\n",
        "\n",
        "  These operators perform mathematical operations.\n",
        "\n",
        "   Example"
      ],
      "metadata": {
        "id": "EsV-A55R2p8n"
      }
    },
    {
      "cell_type": "code",
      "source": [
        "a = 10\n",
        "b = 3\n",
        "print(\"Addition:\", a + b)           # Output: Addition: 13\n",
        "print(\"Subtraction:\", a - b)        # Output: Subtraction: 7\n",
        "print(\"Multiplication:\", a * b)     # Output: Multiplication: 30\n",
        "print(\"Division:\", a / b)           # Output: Division: 3.3333...\n",
        "print(\"Floor Division:\", a // b)    # Output: Floor Division: 3\n",
        "print(\"Modulus:\", a % b)            # Output: Modulus: 1\n",
        "print(\"Exponentiation:\", a ** b)    # Output: Exponentiation: 1000\n"
      ],
      "metadata": {
        "colab": {
          "base_uri": "https://localhost:8080/"
        },
        "id": "QqQAUUNL30vg",
        "outputId": "da74193e-dfc1-476d-c147-b187d77fa338"
      },
      "execution_count": 14,
      "outputs": [
        {
          "output_type": "stream",
          "name": "stdout",
          "text": [
            "Addition: 13\n",
            "Subtraction: 7\n",
            "Multiplication: 30\n",
            "Division: 3.3333333333333335\n",
            "Floor Division: 3\n",
            "Modulus: 1\n",
            "Exponentiation: 1000\n"
          ]
        }
      ]
    },
    {
      "cell_type": "markdown",
      "source": [],
      "metadata": {
        "id": "YcWRCUZw37I9"
      }
    },
    {
      "cell_type": "markdown",
      "source": [
        "**2. Comparison Operators**\n",
        "\n",
        "These operators compare two values and return a Boolean result (True or False).\n",
        "\n",
        "Example:"
      ],
      "metadata": {
        "id": "Wc80HF014OQn"
      }
    },
    {
      "cell_type": "code",
      "source": [
        "a = 5\n",
        "b = 3\n",
        "print(\"Equal:\", a == b)            # Output: Equal: False\n",
        "print(\"Not Equal:\", a != b)        # Output: Not Equal: True\n",
        "print(\"Greater than:\", a > b)      # Output: Greater than: True\n",
        "print(\"Less than:\", a < b)         # Output: Less than: False\n"
      ],
      "metadata": {
        "colab": {
          "base_uri": "https://localhost:8080/"
        },
        "id": "L6ZSNYLe4j12",
        "outputId": "420e0078-3009-464a-f06a-dfdcf90990e5"
      },
      "execution_count": 15,
      "outputs": [
        {
          "output_type": "stream",
          "name": "stdout",
          "text": [
            "Equal: False\n",
            "Not Equal: True\n",
            "Greater than: True\n",
            "Less than: False\n"
          ]
        }
      ]
    },
    {
      "cell_type": "markdown",
      "source": [
        "**3. Logical Operators**\n",
        "\n",
        "These operators are used to combine conditional statements.\n",
        "\n",
        "Example:"
      ],
      "metadata": {
        "id": "p_4Q8Ldv4oNL"
      }
    },
    {
      "cell_type": "code",
      "source": [
        "x = True\n",
        "y = False\n",
        "print(\"AND:\", x and y)            # Output: AND: False\n",
        "print(\"OR:\", x or y)              # Output: OR: True\n",
        "print(\"NOT:\", not x)              # Output: NOT: False\n"
      ],
      "metadata": {
        "colab": {
          "base_uri": "https://localhost:8080/"
        },
        "id": "6ldke0ax40Sq",
        "outputId": "e508540d-ad92-4dac-d5f0-d03474ae1aef"
      },
      "execution_count": 16,
      "outputs": [
        {
          "output_type": "stream",
          "name": "stdout",
          "text": [
            "AND: False\n",
            "OR: True\n",
            "NOT: False\n"
          ]
        }
      ]
    },
    {
      "cell_type": "markdown",
      "source": [
        "**4. Assignment Operators**\n",
        "\n",
        "These operators are used to assign values to variables.\n",
        "\n",
        "Example:"
      ],
      "metadata": {
        "id": "2dYEosp_5Cfa"
      }
    },
    {
      "cell_type": "code",
      "source": [
        "a = 10\n",
        "a += 5  # a = a + 5\n",
        "print(\"Add and Assign:\", a)       # Output: Add and Assign: 15\n",
        "a *= 2  # a = a * 2\n",
        "print(\"Multiply and Assign:\", a)  # Output: Multiply and Assign: 30\n"
      ],
      "metadata": {
        "colab": {
          "base_uri": "https://localhost:8080/"
        },
        "id": "-tSnCrGm5Z3w",
        "outputId": "d284710c-bc96-421f-dfe4-5f5d10ff7738"
      },
      "execution_count": 17,
      "outputs": [
        {
          "output_type": "stream",
          "name": "stdout",
          "text": [
            "Add and Assign: 15\n",
            "Multiply and Assign: 30\n"
          ]
        }
      ]
    },
    {
      "cell_type": "markdown",
      "source": [
        "**5. Bitwise Operators**\n",
        "\n",
        "These operators perform bit-level operations on integers.\n",
        "\n",
        "Example:"
      ],
      "metadata": {
        "id": "AONmkU4n5lSh"
      }
    },
    {
      "cell_type": "code",
      "source": [
        "a = 5  # (binary 0101)\n",
        "b = 3  # (binary 0011)\n",
        "print(\"Bitwise AND:\", a & b)      # Output: Bitwise AND: 1\n",
        "print(\"Bitwise OR:\", a | b)       # Output: Bitwise OR: 7\n",
        "print(\"Bitwise XOR:\", a ^ b)      # Output: Bitwise XOR: 6\n",
        "print(\"Bitwise NOT:\", ~a)         # Output: Bitwise NOT: -6\n"
      ],
      "metadata": {
        "colab": {
          "base_uri": "https://localhost:8080/"
        },
        "id": "sSt1B4_5548S",
        "outputId": "a48d2d1f-fe99-4af6-b509-9d09db825b87"
      },
      "execution_count": 18,
      "outputs": [
        {
          "output_type": "stream",
          "name": "stdout",
          "text": [
            "Bitwise AND: 1\n",
            "Bitwise OR: 7\n",
            "Bitwise XOR: 6\n",
            "Bitwise NOT: -6\n"
          ]
        }
      ]
    },
    {
      "cell_type": "markdown",
      "source": [
        "**6. Identity Operators**\n",
        "\n",
        "These operators check if two variables refer to the same object in memory.\n",
        "\n",
        "Example:"
      ],
      "metadata": {
        "id": "3l2pTtCI58xf"
      }
    },
    {
      "cell_type": "code",
      "source": [
        "a = [1, 2, 3]\n",
        "b = a\n",
        "c = list(a)\n",
        "print(\"a is b:\", a is b)          # Output: a is b: True\n",
        "print(\"a is c:\", a is c)          # Output: a is c: False\n",
        "print(\"a is not c:\", a is not c)  # Output: a is not c: True\n"
      ],
      "metadata": {
        "colab": {
          "base_uri": "https://localhost:8080/"
        },
        "id": "Vm-sT7OD6UnO",
        "outputId": "4e1b2c56-dd7e-42fc-8079-2870133ff389"
      },
      "execution_count": 19,
      "outputs": [
        {
          "output_type": "stream",
          "name": "stdout",
          "text": [
            "a is b: True\n",
            "a is c: False\n",
            "a is not c: True\n"
          ]
        }
      ]
    },
    {
      "cell_type": "markdown",
      "source": [
        "**7. Membership Operators**\n",
        "\n",
        "These operators check for membership in a sequence (like strings, lists, or tuples).\n",
        "\n",
        "Example:"
      ],
      "metadata": {
        "id": "SSH2ho8i6XC0"
      }
    },
    {
      "cell_type": "code",
      "source": [
        "my_list = [1, 2, 3, 4, 5]\n",
        "print(\"Is 3 in list?\", 3 in my_list)       # Output: Is 3 in list? True\n",
        "print(\"Is 6 not in list?\", 6 not in my_list) # Output: Is 6 not in list? True\n"
      ],
      "metadata": {
        "colab": {
          "base_uri": "https://localhost:8080/"
        },
        "id": "jyxCTDCz6ljH",
        "outputId": "c95af2be-169b-4744-fe3d-b56d86f50679"
      },
      "execution_count": 20,
      "outputs": [
        {
          "output_type": "stream",
          "name": "stdout",
          "text": [
            "Is 3 in list? True\n",
            "Is 6 not in list? True\n"
          ]
        }
      ]
    },
    {
      "cell_type": "markdown",
      "source": [
        "# 5.Explain the concept of type casting in Python with examples.\n",
        "**Ans:-**Type casting in Python refers to the process of converting a variable from one data type to another. This is useful when you need to perform operations that require specific data types or when you want to ensure compatibility between different types of variables.\n",
        "\n",
        "\n",
        "**There are two main types of type casting in Python:**\n",
        "\n",
        "1. Implicit Type Casting (Automatic Conversion)\n",
        "\n",
        "2. Explicit Type Casting (Manual Conversion)\n",
        "\n",
        "**1. Implicit Type Casting**\n",
        "\n",
        "Implicit type casting is automatically done by Python when a smaller data type is converted to a larger data type without any data loss. This is often seen when performing arithmetic operations between different numeric types.\n",
        "\n",
        "Example of Implicit Type Casting:"
      ],
      "metadata": {
        "id": "v5OvO2Cx60jH"
      }
    },
    {
      "cell_type": "code",
      "source": [
        "# Implicit Type Casting\n",
        "a = 5        # Integer\n",
        "b = 2.5      # Float\n",
        "\n",
        "# Python automatically converts 'a' to float for the operation\n",
        "result = a + b\n",
        "print(result)  # Output: 7.5\n",
        "print(type(result))  # Output: <class 'float'>\n"
      ],
      "metadata": {
        "colab": {
          "base_uri": "https://localhost:8080/"
        },
        "id": "MOneDa6u7yqQ",
        "outputId": "e3ed255a-1a16-483e-b975-79ea57ac3b9b"
      },
      "execution_count": 21,
      "outputs": [
        {
          "output_type": "stream",
          "name": "stdout",
          "text": [
            "7.5\n",
            "<class 'float'>\n"
          ]
        }
      ]
    },
    {
      "cell_type": "markdown",
      "source": [
        "**2. Explicit Type Casting**\n",
        "\n",
        "Explicit type casting is done manually by the user, using built-in functions. This type of casting is necessary when you need to convert one data type into another explicitly.\n",
        "\n",
        "**Common Functions for Explicit Type Casting:**\n",
        "\n",
        ". int(): Converts a value to an integer.\n",
        "\n",
        ". float(): Converts a value to a float.\n",
        "\n",
        ". str(): Converts a value to a string.\n",
        "\n",
        "**Examples of Explicit Type Casting:**\n",
        "\n",
        "**1. Converting to Integer:**"
      ],
      "metadata": {
        "id": "fK_imAjO8Hzk"
      }
    },
    {
      "cell_type": "code",
      "source": [
        "# Explicit Type Casting to Integer\n",
        "num_str = \"10\"\n",
        "num_int = int(num_str)  # Converting string to integer\n",
        "print(num_int)           # Output: 10\n",
        "print(type(num_int))     # Output: <class 'int'>\n"
      ],
      "metadata": {
        "colab": {
          "base_uri": "https://localhost:8080/"
        },
        "id": "Hg9MT7Ed8uxJ",
        "outputId": "c9c0c952-939c-443a-d12e-f177b7f30ad4"
      },
      "execution_count": 22,
      "outputs": [
        {
          "output_type": "stream",
          "name": "stdout",
          "text": [
            "10\n",
            "<class 'int'>\n"
          ]
        }
      ]
    },
    {
      "cell_type": "markdown",
      "source": [
        "**2. Converting to Float:**"
      ],
      "metadata": {
        "id": "8bu33BkN87Ju"
      }
    },
    {
      "cell_type": "code",
      "source": [
        "# Explicit Type Casting to Float\n",
        "num_str = \"5.75\"\n",
        "num_float = float(num_str)  # Converting string to float\n",
        "print(num_float)             # Output: 5.75\n",
        "print(type(num_float))       # Output: <class 'float'>\n"
      ],
      "metadata": {
        "colab": {
          "base_uri": "https://localhost:8080/"
        },
        "id": "Vu_Zg7wp9F5H",
        "outputId": "aa303540-b946-47eb-ec56-8195cc7e1c52"
      },
      "execution_count": 23,
      "outputs": [
        {
          "output_type": "stream",
          "name": "stdout",
          "text": [
            "5.75\n",
            "<class 'float'>\n"
          ]
        }
      ]
    },
    {
      "cell_type": "markdown",
      "source": [
        "**3. Converting to String:**"
      ],
      "metadata": {
        "id": "xudmB1KE9J0N"
      }
    },
    {
      "cell_type": "code",
      "source": [
        "# Explicit Type Casting to String\n",
        "num = 100\n",
        "num_str = str(num)  # Converting integer to string\n",
        "print(num_str)      # Output: \"100\"\n",
        "print(type(num_str)) # Output: <class 'str'>\n"
      ],
      "metadata": {
        "id": "Us45amhl9PrL"
      },
      "execution_count": null,
      "outputs": []
    },
    {
      "cell_type": "markdown",
      "source": [
        "**Key Points:**\n",
        "\n",
        "1. Data Loss: Be cautious while converting types, especially from float to int, as it can lead to data loss (truncation).\n",
        "\n",
        "\n",
        "2. String Conversion: When converting strings to numbers, ensure that the string represents a valid number, or it will raise a ValueError."
      ],
      "metadata": {
        "id": "ABFmvrFU9mmd"
      }
    },
    {
      "cell_type": "markdown",
      "source": [
        "# 6. How do conditional statements work in Python? Illustrate with examples.\n",
        "**Ans:-**Conditional statements in Python allow you to execute specific blocks of code based on whether a given condition is true or false. The primary conditional statements in Python are if, elif, and else. Here’s how they work, along with examples.\n",
        "\n",
        "**1. The if Statement**\n",
        "\n",
        "The if statement evaluates a condition. If the condition is true, the block of code within the if statement is executed.\n",
        "\n",
        "Example:"
      ],
      "metadata": {
        "id": "Z9-17o2P92GH"
      }
    },
    {
      "cell_type": "code",
      "source": [
        "age = 18\n",
        "\n",
        "if age >= 18:\n",
        "    print(\"You are eligible to vote.\")  # Output: You are eligible to vote.\n"
      ],
      "metadata": {
        "colab": {
          "base_uri": "https://localhost:8080/"
        },
        "id": "Ntyot62s-hUZ",
        "outputId": "aca4837f-4c20-40cf-91bb-8313c0c0203f"
      },
      "execution_count": 24,
      "outputs": [
        {
          "output_type": "stream",
          "name": "stdout",
          "text": [
            "You are eligible to vote.\n"
          ]
        }
      ]
    },
    {
      "cell_type": "markdown",
      "source": [
        "**2. The else Statement**\n",
        "\n",
        "The else statement follows an if statement and provides an alternative block of code that executes if the condition is false.\n",
        "\n",
        "Example:"
      ],
      "metadata": {
        "id": "T-JclJtZ-wn_"
      }
    },
    {
      "cell_type": "code",
      "source": [
        "age = 16\n",
        "\n",
        "if age >= 18:\n",
        "    print(\"You are eligible to vote.\")\n",
        "else:\n",
        "    print(\"You are not eligible to vote.\")  # Output: You are not eligible to vote.\n"
      ],
      "metadata": {
        "colab": {
          "base_uri": "https://localhost:8080/"
        },
        "id": "H3YzloeH_CMa",
        "outputId": "36e70deb-5642-4f13-a910-0253e6127d99"
      },
      "execution_count": 25,
      "outputs": [
        {
          "output_type": "stream",
          "name": "stdout",
          "text": [
            "You are not eligible to vote.\n"
          ]
        }
      ]
    },
    {
      "cell_type": "markdown",
      "source": [
        "**3. The elif Statement**\n",
        "\n",
        "The elif  statement allows you to check multiple conditions. If the condition in the if statement is false, the program checks the elif condition next. You can have multiple elif statements.\n",
        "\n",
        "Example:"
      ],
      "metadata": {
        "id": "GZBFfLkt_HfY"
      }
    },
    {
      "cell_type": "code",
      "source": [
        "age = 20\n",
        "\n",
        "if age < 13:\n",
        "    print(\"You are a child.\")\n",
        "elif age <= 20:\n",
        "    print(\"You are a teenager.\")\n",
        "else:\n",
        "    print(\"You are an adult.\")  # Output: You are an adult.\n"
      ],
      "metadata": {
        "colab": {
          "base_uri": "https://localhost:8080/"
        },
        "id": "Pt7mNNZi_vEA",
        "outputId": "32e7b9e3-5c1d-4e47-b510-7e8b7243909d"
      },
      "execution_count": 26,
      "outputs": [
        {
          "output_type": "stream",
          "name": "stdout",
          "text": [
            "You are a teenager.\n"
          ]
        }
      ]
    },
    {
      "cell_type": "markdown",
      "source": [
        "**4. Nested Conditional Statements**\n",
        "\n",
        "You can also nest conditional statements within each other. This allows for more complex decision-making structures.\n",
        "\n",
        "Example:"
      ],
      "metadata": {
        "id": "LrNqQp7H_1cz"
      }
    },
    {
      "cell_type": "code",
      "source": [
        "age = 22\n",
        "has_voter_id = True\n",
        "\n",
        "if age >= 18:\n",
        "    if has_voter_id:\n",
        "        print(\"You can vote.\")\n",
        "    else:\n",
        "        print(\"You need a voter ID to vote.\")  # Output: You can vote.\n",
        "else:\n",
        "    print(\"You are not eligible to vote.\")\n"
      ],
      "metadata": {
        "colab": {
          "base_uri": "https://localhost:8080/"
        },
        "id": "MazI6EOB_-Mn",
        "outputId": "2d14e4d4-1895-4ce7-917a-55046318a100"
      },
      "execution_count": 27,
      "outputs": [
        {
          "output_type": "stream",
          "name": "stdout",
          "text": [
            "You can vote.\n"
          ]
        }
      ]
    },
    {
      "cell_type": "markdown",
      "source": [
        "**5. Conditional Expressions (Ternary Operator)**\n",
        "\n",
        "Python also supports a shorthand way to write conditional statements using the conditional expression (also known as the ternary operator).\n",
        "\n",
        "Example:"
      ],
      "metadata": {
        "id": "e1vweoZOALpQ"
      }
    },
    {
      "cell_type": "code",
      "source": [
        "age = 15\n",
        "result = \"Eligible to vote\" if age >= 18 else \"Not eligible to vote\"\n",
        "print(result)  # Output: Not eligible to vote\n"
      ],
      "metadata": {
        "colab": {
          "base_uri": "https://localhost:8080/"
        },
        "id": "9oXMhEijATI9",
        "outputId": "ed4e48bf-a36e-46e0-b4df-af4e501f49af"
      },
      "execution_count": 28,
      "outputs": [
        {
          "output_type": "stream",
          "name": "stdout",
          "text": [
            "Not eligible to vote\n"
          ]
        }
      ]
    },
    {
      "cell_type": "markdown",
      "source": [
        "# 7. Describe the different types of loops in Python and their use cases with examples.\n",
        "**Ans:-**In Python, loops are used to execute a block of code repeatedly until a specified condition is met. There are two main types of loops in Python: **for loops** and **while loops**. Each loop type has its use cases and syntax. Below is a detailed description of each type, along with examples.\n",
        "\n",
        "**1. For Loop**\n",
        "\n",
        "The for loop is used to iterate over a sequence (like a list, tuple, dictionary, set, or string). It executes the block of code for each item in the sequence.\n",
        "\n",
        "**Use Cases:**\n",
        "\n",
        ". Iterating over elements in a collection (e.g., list, tuple, string).\n",
        "\n",
        ". Executing a block of code a specific number of times using range().\n",
        "\n",
        "Example:"
      ],
      "metadata": {
        "id": "lN53Sci6AayP"
      }
    },
    {
      "cell_type": "code",
      "source": [
        "# Example 1: Iterating over a list\n",
        "fruits = [\"apple\", \"banana\", \"cherry\"]\n",
        "for fruit in fruits:\n",
        "    print(fruit)\n",
        "\n",
        "# Output:\n",
        "# apple\n",
        "# banana\n",
        "# cherry\n",
        "\n",
        "# Example 2: Using range() to iterate\n",
        "for i in range(5):\n",
        "    print(i)\n",
        "\n",
        "\n"
      ],
      "metadata": {
        "colab": {
          "base_uri": "https://localhost:8080/"
        },
        "id": "ISVUBL94BbKN",
        "outputId": "ed86af34-2507-49d0-846d-2c4d31f326eb"
      },
      "execution_count": 29,
      "outputs": [
        {
          "output_type": "stream",
          "name": "stdout",
          "text": [
            "apple\n",
            "banana\n",
            "cherry\n",
            "0\n",
            "1\n",
            "2\n",
            "3\n",
            "4\n"
          ]
        }
      ]
    },
    {
      "cell_type": "markdown",
      "source": [
        "**2. While Loop**\n",
        "\n",
        "The while loop continues to execute a block of code as long as a specified condition is true. It is particularly useful when the number of iterations is not known beforehand.\n",
        "\n",
        "**Use Cases:**\n",
        "\n",
        ". Repeatedly executing a block of code until a condition changes (e.g., waiting for user input).\n",
        "\n",
        ". Implementing algorithms that require repeated calculations or checks.\n",
        "\n",
        "Example:"
      ],
      "metadata": {
        "id": "ZzqKIk9yBsT9"
      }
    },
    {
      "cell_type": "code",
      "source": [
        "# Example 1: Simple while loop\n",
        "count = 0\n",
        "while count < 5:\n",
        "    print(count)\n",
        "    count += 1  # Increment count\n",
        "\n",
        "# Output:\n",
        "# 0\n",
        "# 1\n",
        "# 2\n",
        "# 3\n",
        "# 4\n",
        "\n",
        "# Example 2: Waiting for user input\n",
        "user_input = \"\"\n",
        "while user_input.lower() != \"exit\":\n",
        "    user_input = input(\"Type 'exit' to stop: \")\n"
      ],
      "metadata": {
        "colab": {
          "base_uri": "https://localhost:8080/"
        },
        "id": "mxaXavfrCBbx",
        "outputId": "bea3ecb7-c9bb-494e-cb51-06bbfb3838a8"
      },
      "execution_count": 30,
      "outputs": [
        {
          "name": "stdout",
          "output_type": "stream",
          "text": [
            "0\n",
            "1\n",
            "2\n",
            "3\n",
            "4\n",
            "Type 'exit' to stop: 2\n",
            "Type 'exit' to stop: exit\n"
          ]
        }
      ]
    },
    {
      "cell_type": "markdown",
      "source": [
        "**3. Nested Loops**\n",
        "\n",
        "We can also nest loops within each other. A nested loop is a loop inside another loop, allowing you to iterate over multiple sequences or create complex patterns.\n",
        "\n",
        "Example:"
      ],
      "metadata": {
        "id": "3ZETzTexCS6k"
      }
    },
    {
      "cell_type": "code",
      "source": [
        "# Example: Nested for loop\n",
        "for i in range(3):            # Outer loop\n",
        "    for j in range(2):        # Inner loop\n",
        "        print(f\"i = {i}, j = {j}\")\n",
        "\n",
        "\n"
      ],
      "metadata": {
        "colab": {
          "base_uri": "https://localhost:8080/"
        },
        "id": "EB7S9fUBCdYl",
        "outputId": "aed483be-e654-4488-efe7-bb99899b2f84"
      },
      "execution_count": 32,
      "outputs": [
        {
          "output_type": "stream",
          "name": "stdout",
          "text": [
            "i = 0, j = 0\n",
            "i = 0, j = 1\n",
            "i = 1, j = 0\n",
            "i = 1, j = 1\n",
            "i = 2, j = 0\n",
            "i = 2, j = 1\n"
          ]
        }
      ]
    },
    {
      "cell_type": "markdown",
      "source": [
        "**4. Loop Control Statements**\n",
        "\n",
        "Python also provides control statements to alter the flow of loops:\n",
        "\n",
        ". break: Exits the loop immediately.\n",
        "\n",
        ". continue: Skips the current iteration and moves to the next iteration.\n",
        "\n",
        ". pass: Does nothing and acts as a placeholder.\n",
        "\n",
        "Example of **break** and **continue**:"
      ],
      "metadata": {
        "id": "64T1vIlkCqnA"
      }
    },
    {
      "cell_type": "code",
      "source": [
        "# Example: Using break\n",
        "for i in range(10):\n",
        "    if i == 5:\n",
        "        break  # Exit loop when i is 5\n",
        "    print(i)\n",
        "\n",
        "# Output:\n",
        "# 0\n",
        "# 1\n",
        "# 2\n",
        "# 3\n",
        "# 4\n",
        "\n",
        "# Example: Using continue\n",
        "for i in range(5):\n",
        "    if i == 2:\n",
        "        continue  # Skip the rest of the loop when i is 2\n",
        "    print(i)\n",
        "\n",
        "# Output:\n",
        "# 0\n",
        "# 1\n",
        "# 3\n",
        "# 4\n"
      ],
      "metadata": {
        "colab": {
          "base_uri": "https://localhost:8080/"
        },
        "id": "_Mj_FpCrC_8F",
        "outputId": "3abd536a-5070-44fc-ccde-2346d9806a0d"
      },
      "execution_count": 33,
      "outputs": [
        {
          "output_type": "stream",
          "name": "stdout",
          "text": [
            "0\n",
            "1\n",
            "2\n",
            "3\n",
            "4\n",
            "0\n",
            "1\n",
            "3\n",
            "4\n"
          ]
        }
      ]
    }
  ]
}