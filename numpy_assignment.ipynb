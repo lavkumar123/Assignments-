{
  "nbformat": 4,
  "nbformat_minor": 0,
  "metadata": {
    "colab": {
      "provenance": []
    },
    "kernelspec": {
      "name": "python3",
      "display_name": "Python 3"
    },
    "language_info": {
      "name": "python"
    }
  },
  "cells": [
    {
      "cell_type": "markdown",
      "source": [
        "# **Theoretical Questions:**"
      ],
      "metadata": {
        "id": "VJZ6Wq5z6J4-"
      }
    },
    {
      "cell_type": "markdown",
      "source": [
        "# 1. Explain the purpose and advantages of NumPy in scientific computing and data analysis. How does it enhance Python's capabilities for numerical operations\n",
        "**Ans:-** NumPy (Numerical Python) is a foundational library in Python, widely used for scientific computing and data analysis due to its powerful capabilities for handling large, multi-dimensional arrays and matrices. It provides a high-performance array object called `ndarray`, along with a collection of functions for performing fast mathematical operations on these arrays. Here's an overview of its purpose and advantages:\n",
        "\n",
        "### Purpose\n",
        "1. **Efficient Numerical Computations**: NumPy is optimized for numerical calculations, making it well-suited for applications that require heavy mathematical computations, such as machine learning, data analysis, and simulations.\n",
        "2. **Multi-Dimensional Arrays**: It introduces the `ndarray` structure, which allows for the creation of multi-dimensional arrays, essential for handling complex data structures like matrices.\n",
        "3. **Foundation for Other Libraries**: Many data science libraries, such as Pandas, SciPy, and scikit-learn, are built on top of NumPy arrays, leveraging its optimized numerical operations.\n",
        "\n",
        "### Advantages and Enhancements to Python's Capabilities\n",
        "1. **Performance**: NumPy’s operations are implemented in C, which speeds up calculations compared to pure Python lists, particularly for large datasets. This makes it suitable for real-time data analysis.\n",
        "2. **Broadcasting and Vectorization**: NumPy supports vectorized operations, allowing operations to be performed on entire arrays without the need for explicit loops. Broadcasting enables arrays of different shapes to work together, reducing memory usage and improving speed.\n",
        "3. **Comprehensive Mathematical Functions**: NumPy includes a wide array of mathematical functions (like linear algebra, statistical operations, Fourier transforms), enhancing Python's capabilities for handling scientific and engineering problems.\n",
        "4. **Memory Efficiency**: The ndarray uses less memory than Python lists by storing data in contiguous blocks of memory, allowing faster access and reduced memory footprint.\n",
        "5. **Interoperability with Other Libraries**: NumPy arrays are compatible with numerous Python libraries, making it easier to integrate and work across scientific computing ecosystems.\n",
        "\n",
        "Overall, NumPy provides the foundation for high-performance scientific computing in Python, supporting efficient numerical operations and enabling data scientists to work with large datasets seamlessly.\n"
      ],
      "metadata": {
        "id": "-UllYKQ45kzX"
      }
    },
    {
      "cell_type": "markdown",
      "source": [
        "# 2. Compare and contrast np.mean() and np.average() functions in NumPy. When would you use one over the other?\n",
        "**Ans:-**  In NumPy, both `np.mean()` and `np.average()` are used to calculate the central tendency of data, but they differ in functionality and application. Here's a comparison of the two functions:\n",
        "\n",
        "### `np.mean()`\n",
        "- **Purpose**: Computes the arithmetic mean of an array or along a specified axis.\n",
        "- **Syntax**: `np.mean(array, axis=None, dtype=None, out=None, keepdims=<default>)`\n",
        "- **Behavior**: Calculates a simple mean without any weighting. Each element in the array contributes equally to the final result.\n",
        "- **Usage**: Use `np.mean()` when you want an unweighted average of all elements in an array or across a particular axis.\n",
        "\n",
        "**Example**:\n"
      ],
      "metadata": {
        "id": "hdRw2I2j5456"
      }
    },
    {
      "cell_type": "code",
      "source": [
        "import numpy as np\n",
        "arr = np.array([1, 2, 3, 4, 5])\n",
        "mean = np.mean(arr)  # Output: 3.0\n",
        "print(mean)"
      ],
      "metadata": {
        "colab": {
          "base_uri": "https://localhost:8080/"
        },
        "id": "N40h9ctv6Wna",
        "outputId": "92044260-51d0-473b-d051-22fda43d224e"
      },
      "execution_count": null,
      "outputs": [
        {
          "output_type": "stream",
          "name": "stdout",
          "text": [
            "3.0\n"
          ]
        }
      ]
    },
    {
      "cell_type": "markdown",
      "source": [
        "\n",
        "\n",
        "### `np.average()`\n",
        "- **Purpose**: Computes the weighted average of an array (if weights are provided) or the simple mean if weights are not given.\n",
        "- **Syntax**: `np.average(array, axis=None, weights=None, returned=False)`\n",
        "- **Behavior**: Allows weighting of elements, so each element's contribution to the average can vary. If weights are not specified, it behaves similarly to `np.mean()`.\n",
        "- **Usage**: Use `np.average()` when calculating a weighted mean, where different elements have different levels of importance. If `weights` are provided, each element's value is multiplied by its corresponding weight before averaging.\n",
        "\n",
        "**Example with Weights**:\n"
      ],
      "metadata": {
        "id": "V8IKRBYj67Db"
      }
    },
    {
      "cell_type": "code",
      "source": [
        "arr = np.array([1, 2, 3, 4, 5])\n",
        "weights = np.array([0.1, 0.2, 0.3, 0.2, 0.2])\n",
        "weighted_average = np.average(arr, weights=weights)  # Output: 3.2\n",
        "print(weighted_average)\n"
      ],
      "metadata": {
        "colab": {
          "base_uri": "https://localhost:8080/"
        },
        "id": "DDAg_u_a7GJ7",
        "outputId": "1f442f9a-39bd-4937-ca97-badde51b0016"
      },
      "execution_count": null,
      "outputs": [
        {
          "output_type": "stream",
          "name": "stdout",
          "text": [
            "3.2\n"
          ]
        }
      ]
    },
    {
      "cell_type": "markdown",
      "source": [
        "**Example without Weights (works the same as np.mean()):**"
      ],
      "metadata": {
        "id": "QSKINEl27e5S"
      }
    },
    {
      "cell_type": "code",
      "source": [
        "simple_average = np.average(arr)  # Output: 3.0\n",
        "print(simple_average)\n"
      ],
      "metadata": {
        "colab": {
          "base_uri": "https://localhost:8080/"
        },
        "id": "FcyOIqCB7mYM",
        "outputId": "6cdb1226-6d64-4107-fc2c-8ef48386c127"
      },
      "execution_count": null,
      "outputs": [
        {
          "output_type": "stream",
          "name": "stdout",
          "text": [
            "3.0\n"
          ]
        }
      ]
    },
    {
      "cell_type": "markdown",
      "source": [
        "\n",
        "\n",
        "### Comparison Summary\n",
        "- **Use `np.mean()`** for a straightforward arithmetic mean, as it's simpler and communicates the intent more clearly when weights are not needed.\n",
        "- **Use `np.average()`** when you need to calculate a weighted mean or when you need both the average and the sum of weights (using `returned=True`).\n",
        "\n",
        "### When to Use One Over the Other\n",
        "- **Unweighted Average**: `np.mean()` is typically more concise and preferred for calculating simple averages without weights.\n",
        "- **Weighted Average**: Use `np.average()` when dealing with data where certain values are more important or contribute more heavily to the result, such as in cases of sampling or probability distributions where weights indicate significance."
      ],
      "metadata": {
        "id": "BmTUy8dH70Jd"
      }
    },
    {
      "cell_type": "markdown",
      "source": [
        "# 3. Describe the methods for reversing a NumPy array along different axes. Provide examples for 1D and 2D arrays.\n",
        "**Ans:-** In NumPy, you can reverse an array along different axes using various methods, each tailored to specific needs. Here’s a breakdown of common methods for reversing arrays in both 1D and 2D cases:\n",
        "\n",
        "### 1. Using Slicing (`[::-1]`)\n",
        "\n",
        "- **1D Array**: Reverses the entire array.\n",
        "- **2D Array**: Can reverse rows, columns, or both by applying slicing along different axes.\n",
        "\n",
        "**Example for a 1D Array**:\n"
      ],
      "metadata": {
        "id": "Re8-cpCI75bL"
      }
    },
    {
      "cell_type": "code",
      "source": [
        "import numpy as np\n",
        "arr_1d = np.array([1, 2, 3, 4, 5])\n",
        "reversed_1d = arr_1d[::-1]\n",
        "print(reversed_1d) # Output: [5, 4, 3, 2, 1]"
      ],
      "metadata": {
        "colab": {
          "base_uri": "https://localhost:8080/"
        },
        "id": "C4KNWilf86k8",
        "outputId": "584b55be-4a93-46ef-e40c-9a7ec23f2e12"
      },
      "execution_count": null,
      "outputs": [
        {
          "output_type": "stream",
          "name": "stdout",
          "text": [
            "[5 4 3 2 1]\n"
          ]
        }
      ]
    },
    {
      "cell_type": "markdown",
      "source": [
        "**Example for a 2D Array**:"
      ],
      "metadata": {
        "id": "7OSDJvAn9FFL"
      }
    },
    {
      "cell_type": "code",
      "source": [
        "arr_2d = np.array([[1, 2, 3], [4, 5, 6], [7, 8, 9]])\n",
        "\n",
        "# Reverse rows (along axis 0)\n",
        "reverse_rows = arr_2d[::-1]\n",
        "# Output:\n",
        "# [[7, 8, 9],\n",
        "#  [4, 5, 6],\n",
        "#  [1, 2, 3]]\n",
        "\n",
        "# Reverse columns (along axis 1)\n",
        "reverse_columns = arr_2d[:, ::-1]\n",
        "# Output:\n",
        "# [[3, 2, 1],\n",
        "#  [6, 5, 4],\n",
        "#  [9, 8, 7]]\n",
        "\n",
        "# Reverse both rows and columns\n",
        "reverse_both = arr_2d[::-1, ::-1]\n",
        "# Output:\n",
        "# [[9, 8, 7],\n",
        "#  [6, 5, 4],\n",
        "#  [3, 2, 1]]\n",
        "reverse_both"
      ],
      "metadata": {
        "colab": {
          "base_uri": "https://localhost:8080/"
        },
        "id": "CGcIsTOt9GeT",
        "outputId": "a3d859a8-0fb8-435e-dfe8-d9b9fe03078c"
      },
      "execution_count": null,
      "outputs": [
        {
          "output_type": "execute_result",
          "data": {
            "text/plain": [
              "array([[9, 8, 7],\n",
              "       [6, 5, 4],\n",
              "       [3, 2, 1]])"
            ]
          },
          "metadata": {},
          "execution_count": 12
        }
      ]
    },
    {
      "cell_type": "markdown",
      "source": [
        "### 2. Using `np.flip()`\n",
        "np.flip() allows for reversal along any specified axis and is often more flexible and explicit.\n",
        "\n",
        "- **Syntax:** `np.flip(array, axis)`\n",
        "- **axis:** Specifies which axis to flip. If not provided, it reverses along all axes.\n",
        "\n",
        "**Example for a 1D Array:**"
      ],
      "metadata": {
        "id": "PvhhQ9Uz99LT"
      }
    },
    {
      "cell_type": "code",
      "source": [
        "reversed_1d = np.flip(arr_1d)  # Output: [5, 4, 3, 2, 1]\n",
        "reversed_1d"
      ],
      "metadata": {
        "colab": {
          "base_uri": "https://localhost:8080/"
        },
        "id": "mMeT-9Ka-rJr",
        "outputId": "191a565a-722e-4a38-f527-98aa90eba9f1"
      },
      "execution_count": null,
      "outputs": [
        {
          "output_type": "execute_result",
          "data": {
            "text/plain": [
              "array([5, 4, 3, 2, 1])"
            ]
          },
          "metadata": {},
          "execution_count": 14
        }
      ]
    },
    {
      "cell_type": "markdown",
      "source": [
        "**Example for a 2D Array:**"
      ],
      "metadata": {
        "id": "r8BLtwGd_OJD"
      }
    },
    {
      "cell_type": "code",
      "source": [
        "# Reverse along axis 0 (rows)\n",
        "reverse_rows = np.flip(arr_2d, axis=0)\n",
        "# Output:\n",
        "# [[7, 8, 9],\n",
        "#  [4, 5, 6],\n",
        "#  [1, 2, 3]]\n",
        "\n",
        "# Reverse along axis 1 (columns)\n",
        "reverse_columns = np.flip(arr_2d, axis=1)\n",
        "# Output:\n",
        "# [[3, 2, 1],\n",
        "#  [6, 5, 4],\n",
        "#  [9, 8, 7]]\n",
        "reverse_columns\n",
        "reverse_rows\n"
      ],
      "metadata": {
        "colab": {
          "base_uri": "https://localhost:8080/"
        },
        "id": "clwiyn-O_QvS",
        "outputId": "b2551d2d-1c55-43c8-8018-ccf07b0e2f49"
      },
      "execution_count": null,
      "outputs": [
        {
          "output_type": "execute_result",
          "data": {
            "text/plain": [
              "array([[7, 8, 9],\n",
              "       [4, 5, 6],\n",
              "       [1, 2, 3]])"
            ]
          },
          "metadata": {},
          "execution_count": 16
        }
      ]
    },
    {
      "cell_type": "markdown",
      "source": [
        "\n",
        "\n",
        "### 3. Using `np.fliplr()` and `np.flipud()`\n",
        "\n",
        "For 2D arrays specifically, `np.fliplr()` and `np.flipud()` are convenient functions for reversing along the horizontal and vertical axes, respectively.\n",
        "\n",
        "- **`np.fliplr()`**: Reverses the array along the left-right (horizontal) axis.\n",
        "- **`np.flipud()`**: Reverses the array along the up-down (vertical) axis.\n",
        "\n",
        "**Example for a 2D Array**:\n"
      ],
      "metadata": {
        "id": "i8YrFCLe_go7"
      }
    },
    {
      "cell_type": "code",
      "source": [
        "# Reverse left-right (horizontal axis)\n",
        "reverse_lr = np.fliplr(arr_2d)\n",
        "# Output:\n",
        "# [[3, 2, 1],\n",
        "#  [6, 5, 4],\n",
        "#  [9, 8, 7]]\n",
        "\n",
        "# Reverse up-down (vertical axis)\n",
        "reverse_ud = np.flipud(arr_2d)\n",
        "# Output:\n",
        "# [[7, 8, 9],\n",
        "#  [4, 5, 6],\n",
        "#  [1, 2, 3]]"
      ],
      "metadata": {
        "id": "DH2oj2qT_wLa"
      },
      "execution_count": null,
      "outputs": []
    },
    {
      "cell_type": "markdown",
      "source": [
        "### Summary\n",
        "- **1D Arrays**: Use slicing (`[::-1]`) or `np.flip()`.\n",
        "- **2D Arrays**: Use slicing (`[::-1]`), `np.flip()` for any axis, or `np.fliplr()`/`np.flipud()` for convenient horizontal or vertical flips.\n",
        "\n",
        "These methods allow flexibility for reversing arrays along specific axes, making them useful in various applications where array orientation matters."
      ],
      "metadata": {
        "id": "Os33Id-__3k8"
      }
    },
    {
      "cell_type": "markdown",
      "source": [
        "# 4. How can you determine the data type of elements in a NumPy array? Discuss the importance of data types in memory management and performance.\n",
        "**Ans:-**In NumPy, the data type (or `dtype`) of elements within an array is essential for both memory management and computational performance, as it defines how much memory each element consumes and what operations are possible on the data.\n",
        "\n",
        "### Determining the Data Type of Elements in a NumPy Array\n",
        "\n",
        "1. **Using `array.dtype`**:\n",
        "   - The `dtype` attribute of a NumPy array provides the data type of its elements.\n",
        "   - **Example**:\n",
        "     \n",
        "\n"
      ],
      "metadata": {
        "id": "2hVujw2A__D8"
      }
    },
    {
      "cell_type": "code",
      "source": [
        "import numpy as np\n",
        "arr = np.array([1, 2, 3])\n",
        "print(arr.dtype)  # Output: int64 (or int32 depending on the system)\n"
      ],
      "metadata": {
        "colab": {
          "base_uri": "https://localhost:8080/"
        },
        "id": "PjgF-Bk6OO3N",
        "outputId": "c39696de-8b57-4469-b6e4-0a5bcb2902e7"
      },
      "execution_count": null,
      "outputs": [
        {
          "output_type": "stream",
          "name": "stdout",
          "text": [
            "int64\n"
          ]
        }
      ]
    },
    {
      "cell_type": "markdown",
      "source": [
        "\n",
        "\n",
        "2. **Using `np.asarray()` with `dtype` argument**:\n",
        "   - When creating or converting an array, you can specify the desired data type using the `dtype` argument to ensure it meets your requirements.\n",
        "   - **Example**:\n",
        "     "
      ],
      "metadata": {
        "id": "brFD0jjMOgtP"
      }
    },
    {
      "cell_type": "code",
      "source": [
        "arr = np.array([1, 2, 3], dtype=np.float32)\n",
        "print(arr.dtype)  # Output: float32\n"
      ],
      "metadata": {
        "colab": {
          "base_uri": "https://localhost:8080/"
        },
        "id": "T9CvCaJ2Oni9",
        "outputId": "e97079b4-fec8-4351-ae7a-87d9ab36add7"
      },
      "execution_count": null,
      "outputs": [
        {
          "output_type": "stream",
          "name": "stdout",
          "text": [
            "float32\n"
          ]
        }
      ]
    },
    {
      "cell_type": "markdown",
      "source": [
        "\n",
        "\n",
        "### Importance of Data Types in Memory Management and Performance\n",
        "\n",
        "1. **Memory Management**:\n",
        "   - **Memory Efficiency**: The choice of `dtype` determines the amount of memory each element occupies. For example, `int32` occupies 4 bytes per element, whereas `float64` occupies 8 bytes. Selecting an appropriate `dtype` can significantly reduce memory consumption.\n",
        "   - **Scalability**: When working with large datasets, using a smaller data type (like `int16` instead of `int64`) can drastically reduce memory usage, making the program scalable and more efficient in terms of memory footprint.\n",
        "\n",
        "2. **Performance**:\n",
        "   - **Processing Speed**: Smaller data types are often faster to process because they require less memory to load and perform computations on. For example, `float32` calculations are generally faster than `float64` on most architectures.\n",
        "   - **Type-Specific Operations**: Certain operations are optimized for specific data types. For instance, integer types are more efficient for indexing and bitwise operations, whereas floating-point types are better suited for mathematical functions and transformations.\n",
        "\n",
        "In summary, understanding and choosing the right data type in NumPy is crucial for efficient memory usage and performance optimization, especially when dealing with large-scale data and computational tasks."
      ],
      "metadata": {
        "id": "MNS2IgG8Or6D"
      }
    },
    {
      "cell_type": "markdown",
      "source": [
        "# 5. Define ndarrays in NumPy and explain their key features. How do they differ from standard Python lists?\n",
        "**Ans:-**In NumPy, **ndarrays** (short for *N-dimensional arrays*) are a core data structure designed to store and operate on large, multi-dimensional datasets efficiently. They provide a significant advantage over standard Python lists, especially for numerical and scientific computations.\n",
        "\n",
        "### Key Features of `ndarray`\n",
        "1. **Multi-Dimensional Support**: `ndarray` can handle data in multiple dimensions (1D, 2D, 3D, and higher), which makes it versatile for representing complex data like matrices, images, or large datasets.\n",
        "  \n",
        "2. **Fixed Data Type**: All elements in an `ndarray` have the same data type, specified at the time of array creation. This uniformity allows for optimized memory storage and computation.\n",
        "\n",
        "3. **Efficient Memory Layout**: `ndarray` stores data in contiguous blocks of memory, which enables faster access and efficient manipulation. This layout also allows vectorized operations and broadcasting, making calculations quicker.\n",
        "\n",
        "4. **Broadcasting**: NumPy allows operations between arrays of different shapes through broadcasting, a mechanism that automatically expands arrays to compatible shapes for element-wise operations, avoiding the need for explicit loops.\n",
        "\n",
        "5. **Vectorized Operations**: Operations on `ndarray` are applied element-wise without the need for loops, significantly improving computation speed over Python lists. This includes operations like addition, subtraction, and even complex mathematical transformations.\n",
        "\n",
        "6. **Shape and Reshaping**: `ndarray` has attributes like `shape` and `size` that provide information on its structure. Arrays can be reshaped using methods like `reshape()` and `transpose()`, allowing flexibility in data manipulation.\n",
        "\n",
        "7. **Indexing and Slicing**: NumPy arrays support advanced slicing and indexing (including Boolean and fancy indexing), making it easy to access and modify specific elements, rows, or columns of the array.\n",
        "\n",
        "### Differences Between `ndarray` and Python Lists\n",
        "\n",
        "| Feature                  | `ndarray` in NumPy                          | Python Lists                           |\n",
        "|--------------------------|---------------------------------------------|----------------------------------------|\n",
        "| **Data Type**            | Fixed, uniform data type                    | Can contain mixed data types           |\n",
        "| **Multi-Dimensional**    | Supports multi-dimensional arrays (nD)      | Primarily 1D, needs nested lists for 2D or 3D |\n",
        "| **Memory Efficiency**    | Stores data in contiguous memory blocks     | Data stored as objects in pointers     |\n",
        "| **Performance**          | Faster, supports vectorized operations      | Slower due to interpreted loop processing|\n",
        "| **Operations**           | Element-wise and broadcasting supported     | Requires loops for element-wise operations |\n",
        "| **Reshaping**            | Easily reshaped with `reshape` or `transpose` | No built-in reshaping methods          |\n",
        "\n",
        "### Example of `ndarray` Creation and Operation\n",
        "\n",
        "\n"
      ],
      "metadata": {
        "id": "80STJBVlO179"
      }
    },
    {
      "cell_type": "code",
      "source": [
        "import numpy as np\n",
        "\n",
        "# Creating a 2D ndarray\n",
        "arr = np.array([[1, 2, 3], [4, 5, 6]])\n",
        "\n",
        "# Checking data type, shape, and performing a vectorized operation\n",
        "print(arr.dtype)      # Output: dtype('int64') or dtype('int32') depending on system\n",
        "print(arr.shape)      # Output: (2, 3)\n",
        "print(arr * 2)        # Output: [[ 2,  4,  6], [ 8, 10, 12]]\n"
      ],
      "metadata": {
        "colab": {
          "base_uri": "https://localhost:8080/"
        },
        "id": "Vo6V2pAFPTep",
        "outputId": "cb2c65cf-8fc2-427f-c780-b410ad4c6f71"
      },
      "execution_count": null,
      "outputs": [
        {
          "output_type": "stream",
          "name": "stdout",
          "text": [
            "int64\n",
            "(2, 3)\n",
            "[[ 2  4  6]\n",
            " [ 8 10 12]]\n"
          ]
        }
      ]
    },
    {
      "cell_type": "markdown",
      "source": [
        "In summary, ndarray provides a more powerful, memory-efficient, and faster alternative to Python lists, particularly suited for numerical and scientific applications."
      ],
      "metadata": {
        "id": "2_iSK_1yPcw0"
      }
    },
    {
      "cell_type": "markdown",
      "source": [
        "# 6. Analyze the performance benefits of NumPy arrays over Python lists for large-scale numerical operations.\n",
        "**Ans:-**NumPy arrays offer significant performance benefits over Python lists, especially when handling large-scale numerical operations. Here’s an analysis of the key reasons why NumPy arrays outperform lists in this context:\n",
        "\n",
        "### 1. **Memory Efficiency**\n",
        "   - **Fixed Data Type**: NumPy arrays require each element to be of the same data type, which enables them to store elements in a contiguous block of memory. This reduces memory overhead compared to Python lists, which store elements as individual objects with additional metadata.\n",
        "   - **Reduced Memory Footprint**: Because of the consistent data type, a NumPy array typically consumes less memory than a Python list with the same elements. This is particularly valuable when working with large datasets.\n",
        "\n",
        "### 2. **Contiguous Memory Allocation**\n",
        "   - **Cache Optimization**: NumPy arrays are stored in contiguous memory blocks, enhancing CPU cache efficiency. The CPU can load larger chunks of data into memory at once, which speeds up access and manipulation compared to the scattered memory storage of Python lists.\n",
        "   - **Low-Level Optimization**: NumPy is implemented in C, which allows it to take advantage of low-level optimizations like SIMD (Single Instruction, Multiple Data) operations. These optimizations make NumPy faster for element-wise operations.\n",
        "\n",
        "### 3. **Vectorized Operations and Broadcasting**\n",
        "   - **Avoiding Loops**: NumPy supports vectorized operations, which allow element-wise operations to be applied directly to arrays without explicit loops. In contrast, applying operations across a Python list would typically require using a `for` loop, which is slower in Python.\n",
        "   - **Broadcasting**: NumPy can automatically align arrays of different shapes to perform operations, avoiding the need to reshape or replicate data manually. This reduces memory usage and improves computational speed.\n",
        "\n",
        "  **Example:**\n",
        "   "
      ],
      "metadata": {
        "id": "UA_Rmj5HPhqu"
      }
    },
    {
      "cell_type": "code",
      "source": [
        "import numpy as np\n",
        "\n",
        "# Element-wise addition in NumPy\n",
        "arr = np.array([1, 2, 3, 4])\n",
        "result = arr + 2  # Each element is incremented by 2\n",
        "\n",
        "# Python list alternative\n",
        "lst = [1, 2, 3, 4]\n",
        "result_lst = [x + 2 for x in lst]  # Loop-based operation\n"
      ],
      "metadata": {
        "id": "nLSh2Qp2P9D7"
      },
      "execution_count": null,
      "outputs": []
    },
    {
      "cell_type": "markdown",
      "source": [
        "\n",
        "### 4. **Efficient Mathematical Functions**\n",
        "   - **Built-in Mathematical Operations**: NumPy provides a wide range of optimized mathematical functions (e.g., `np.sum`, `np.mean`, `np.dot`) that are implemented at the C level. These functions are faster than performing similar operations with Python’s built-in functions or custom loops.\n",
        "   - **Reduced Function Overhead**: Since the functions operate directly on `ndarrays`, there’s less function call overhead compared to applying Python functions on list elements.\n",
        "\n",
        "### 5. **Scalability for Large Datasets**\n",
        "   - **Memory Mapping for Large Data**: NumPy supports memory mapping, which allows efficient access to large datasets stored on disk without loading the entire dataset into RAM. Python lists lack this capability, making NumPy more scalable for large data.\n",
        "   - **Parallel Processing**: NumPy can leverage libraries like BLAS and LAPACK, which support multi-threaded operations for certain functions. This allows NumPy to utilize multiple CPU cores, enhancing performance further for large arrays.\n",
        "\n",
        "### Performance Example\n",
        "Here’s a comparison to illustrate the performance difference between a NumPy array and a Python list for a large-scale numerical operation:\n",
        "\n"
      ],
      "metadata": {
        "id": "_n2Ue3weQQbY"
      }
    },
    {
      "cell_type": "code",
      "source": [
        "import numpy as np\n",
        "import time\n",
        "\n",
        "# Large dataset size\n",
        "size = 10**6\n",
        "\n",
        "# Using Python lists\n",
        "lst = list(range(size))\n",
        "start_time = time.time()\n",
        "result_lst = [x * 2 for x in lst]\n",
        "print(\"Time taken with list:\", time.time() - start_time)\n",
        "\n",
        "# Using NumPy arrays\n",
        "arr = np.arange(size)\n",
        "start_time = time.time()\n",
        "result_arr = arr * 2  # Vectorized operation\n",
        "print(\"Time taken with NumPy array:\", time.time() - start_time)\n"
      ],
      "metadata": {
        "colab": {
          "base_uri": "https://localhost:8080/"
        },
        "id": "KfJP5zLvQb6X",
        "outputId": "5e25ba7d-0b2d-4173-9d19-7a79e5871e27"
      },
      "execution_count": null,
      "outputs": [
        {
          "output_type": "stream",
          "name": "stdout",
          "text": [
            "Time taken with list: 0.09913420677185059\n",
            "Time taken with NumPy array: 0.011674642562866211\n"
          ]
        }
      ]
    },
    {
      "cell_type": "markdown",
      "source": [
        "\n",
        "\n",
        "### Summary of Benefits\n",
        "NumPy arrays are optimized for:\n",
        "- **Memory usage** through fixed data types and contiguous storage.\n",
        "- **Speed** via vectorized operations and CPU optimizations.\n",
        "- **Scalability** due to efficient memory mapping and support for large datasets.\n",
        "\n",
        "In numerical computing, these advantages make NumPy arrays a more powerful and efficient choice than Python lists, especially for large-scale operations."
      ],
      "metadata": {
        "id": "aLBnCBCM31ls"
      }
    },
    {
      "cell_type": "markdown",
      "source": [
        "# 7. Compare vstack() and hstack() functions in NumPy. Provide examples demonstrating their usage and output.\n",
        "\n",
        "**Ans:-** In NumPy, `vstack()` and `hstack()` are functions used to concatenate arrays along different axes:\n",
        "\n",
        "- **`vstack()` (Vertical Stack)**: Stacks arrays vertically (row-wise).\n",
        "- **`hstack()` (Horizontal Stack)**: Stacks arrays horizontally (column-wise).\n",
        "\n",
        "Both functions require the arrays to have compatible shapes for stacking in their respective directions.\n",
        "\n",
        "### 1. `np.vstack()`\n",
        "- **Purpose**: Vertically stacks arrays along rows, adding new rows to the bottom.\n",
        "- **Shape Requirement**: Arrays must have the same number of columns (second dimension).\n",
        "\n",
        "**Example**:\n",
        "\n",
        "\n"
      ],
      "metadata": {
        "id": "qyaVYZnI3-Hl"
      }
    },
    {
      "cell_type": "code",
      "source": [
        "import numpy as np\n",
        "\n",
        "# Creating two 2D arrays with the same number of columns\n",
        "arr1 = np.array([[1, 2], [3, 4]])\n",
        "arr2 = np.array([[5, 6], [7, 8]])\n",
        "\n",
        "# Using vstack to stack vertically\n",
        "result_vstack = np.vstack((arr1, arr2))\n",
        "print(result_vstack)\n",
        "# Output:\n",
        "# [[1 2]\n",
        "#  [3 4]\n",
        "#  [5 6]\n",
        "#  [7 8]]"
      ],
      "metadata": {
        "colab": {
          "base_uri": "https://localhost:8080/"
        },
        "id": "foWzuWa04fMg",
        "outputId": "010692f9-dd42-4bbc-e8be-658b0162a55e"
      },
      "execution_count": 1,
      "outputs": [
        {
          "output_type": "stream",
          "name": "stdout",
          "text": [
            "[[1 2]\n",
            " [3 4]\n",
            " [5 6]\n",
            " [7 8]]\n"
          ]
        }
      ]
    },
    {
      "cell_type": "markdown",
      "source": [
        "### 2. `np.hstack()`\n",
        "- **Purpose**: Horizontally stacks arrays along columns, adding new columns to the right.\n",
        "- **Shape Requirement**: Arrays must have the same number of rows (first dimension).\n",
        "\n",
        "**Example**:\n",
        "\n",
        "\n"
      ],
      "metadata": {
        "id": "1-silpzA4rSI"
      }
    },
    {
      "cell_type": "code",
      "source": [
        "# Creating two 2D arrays with the same number of rows\n",
        "arr1 = np.array([[1, 2], [3, 4]])\n",
        "arr2 = np.array([[5, 6], [7, 8]])\n",
        "\n",
        "# Using hstack to stack horizontally\n",
        "result_hstack = np.hstack((arr1, arr2))\n",
        "print(result_hstack)\n",
        "# Output:\n",
        "# [[1 2 5 6]\n",
        "#  [3 4 7 8]]"
      ],
      "metadata": {
        "colab": {
          "base_uri": "https://localhost:8080/"
        },
        "id": "MRWa4jtj4xfC",
        "outputId": "df06f7fe-d8cd-4b83-9856-246ba4c5964d"
      },
      "execution_count": 2,
      "outputs": [
        {
          "output_type": "stream",
          "name": "stdout",
          "text": [
            "[[1 2 5 6]\n",
            " [3 4 7 8]]\n"
          ]
        }
      ]
    },
    {
      "cell_type": "markdown",
      "source": [
        "### Comparison Summary\n",
        "\n",
        "| Function       | Purpose            | Shape Compatibility Requirements  | Example Output |\n",
        "|----------------|--------------------|-----------------------------------|----------------|\n",
        "| **`vstack()`** | Vertical stacking  | Same number of columns            | Adds rows      |\n",
        "| **`hstack()`** | Horizontal stacking| Same number of rows               | Adds columns   |\n",
        "\n",
        "In summary, `vstack()` stacks arrays by rows, while `hstack()` stacks them by columns. Choosing one over the other depends on whether you want to add new rows or columns to the arrays."
      ],
      "metadata": {
        "id": "BjYl-has45YB"
      }
    },
    {
      "cell_type": "markdown",
      "source": [
        "# 8. Explain the differences between fliplr() and flipud() methods in NumPy, including their effects on various array dimensions.\n",
        "**Ans:-** In NumPy, `fliplr()` and `flipud()` are methods used to flip (or reverse) the elements of arrays along different axes:\n",
        "\n",
        "- **`fliplr()`**: Flips the array left-to-right (horizontally).\n",
        "- **`flipud()`**: Flips the array upside-down (vertically).\n",
        "\n",
        "These functions are particularly useful for image processing, data manipulation, or any application where you need to mirror or reverse array content along a specific axis.\n",
        "\n",
        "### 1. `np.fliplr()`\n",
        "- **Purpose**: Flips the array horizontally, reversing the order of columns.\n",
        "- **Effect**: Each row remains in place, but the order of columns is reversed for all rows.\n",
        "- **Applicable**: Only to 2D arrays or higher (requires at least 2 dimensions).\n",
        "  \n",
        "**Example**:\n",
        "```python\n",
        "import numpy as np\n",
        "\n",
        "# Creating a 2D array\n",
        "arr = np.array([[1, 2, 3],\n",
        "                [4, 5, 6],\n",
        "                [7, 8, 9]])\n",
        "\n",
        "# Applying fliplr\n",
        "result_fliplr = np.fliplr(arr)\n",
        "print(result_fliplr)\n",
        "# Output:\n",
        "# [[3 2 1]\n",
        "#  [6 5 4]\n",
        "#  [9 8 7]]\n",
        "```\n",
        "\n",
        "### 2. `np.flipud()`\n",
        "- **Purpose**: Flips the array vertically, reversing the order of rows.\n",
        "- **Effect**: Each column remains in place, but the order of rows is reversed for all columns.\n",
        "- **Applicable**: Works with both 1D and 2D arrays.\n",
        "\n",
        "**Example**:\n",
        "```python\n",
        "# Applying flipud\n",
        "result_flipud = np.flipud(arr)\n",
        "print(result_flipud)\n",
        "# Output:\n",
        "# [[7 8 9]\n",
        "#  [4 5 6]\n",
        "#  [1 2 3]]\n",
        "```\n",
        "\n",
        "### Effects on Different Array Dimensions\n",
        "\n",
        "1. **1D Arrays**:\n",
        "   - Only `flipud()` can be used, which will reverse the 1D array as a whole.\n",
        "   - **Example**:\n",
        "     ```python\n",
        "     arr_1d = np.array([1, 2, 3])\n",
        "     print(np.flipud(arr_1d))  # Output: [3 2 1]\n",
        "     ```\n",
        "2. **2D Arrays**:\n",
        "   - `fliplr()` flips horizontally (left-to-right).\n",
        "   - `flipud()` flips vertically (upside-down).\n",
        "\n",
        "3. **3D Arrays or Higher**:\n",
        "   - Both functions will operate on the last two dimensions only (i.e., they treat each \"layer\" of a 3D array as a 2D array and apply the flipping accordingly).\n",
        "\n",
        "### Comparison Summary\n",
        "\n",
        "| Function     | Axis of Flip                  | Minimum Dimensions | Effect on 2D Array  |\n",
        "|--------------|-------------------------------|--------------------|----------------------|\n",
        "| `fliplr()`   | Horizontal (left-to-right)    | 2D                 | Reverses columns     |\n",
        "| `flipud()`   | Vertical (top-to-bottom)      | 1D                 | Reverses rows        |\n",
        "\n",
        "In summary, `fliplr()` and `flipud()` offer array manipulation tools along different axes, with `fliplr()` flipping along the horizontal axis and `flipud()` flipping along the vertical axis.\n"
      ],
      "metadata": {
        "id": "Ye8OXvE348Ot"
      }
    },
    {
      "cell_type": "markdown",
      "source": [
        "# 9. Discuss the functionality of the array_split() method in NumPy. How does it handle uneven splits?\n",
        "**Ans:-** The `array_split()` method in NumPy is used to split an array into multiple sub-arrays. This function is flexible and can handle cases where the array cannot be evenly divided, making it especially useful when you need to split an array into a specified number of parts, regardless of the exact divisibility.\n",
        "\n",
        "### Functionality of `np.array_split()`\n",
        "- **Purpose**: Splits an array into a specified number of sub-arrays along a given axis.\n",
        "- **Syntax**: `np.array_split(array, num_splits, axis=0)`\n",
        "  - `array`: The array to split.\n",
        "  - `num_splits`: The desired number of sub-arrays.\n",
        "  - `axis`: The axis along which to split the array (default is `0` for row-wise splitting).\n",
        "\n",
        "### Handling Uneven Splits\n",
        "When the array cannot be evenly split, `array_split()` distributes the remainder across the initial sub-arrays. This means that the first few sub-arrays will have one more element than the others.\n",
        "\n",
        "For example, if you try to split an array with 10 elements into 3 parts, `array_split()` will create arrays with sizes `[4, 3, 3]` instead of `[3, 3, 3]`.\n",
        "\n",
        "**Example of Uneven Split**:\n",
        "```python\n",
        "import numpy as np\n",
        "\n",
        "# Creating a 1D array with 10 elements\n",
        "arr = np.array([1, 2, 3, 4, 5, 6, 7, 8, 9, 10])\n",
        "\n",
        "# Splitting into 3 parts\n",
        "result = np.array_split(arr, 3)\n",
        "print(result)\n",
        "# Output:\n",
        "# [array([1, 2, 3, 4]), array([5, 6, 7]), array([8, 9, 10])]\n",
        "```\n",
        "\n",
        "### Example with a 2D Array\n",
        "If the array is 2D, `array_split()` will split it along rows (axis=0) by default but can be customized to split along columns (axis=1).\n",
        "\n",
        "**Example**:\n",
        "```python\n",
        "# Creating a 2D array\n",
        "arr_2d = np.array([[1, 2, 3, 4], [5, 6, 7, 8]])\n",
        "\n",
        "# Splitting into 3 parts along columns (axis=1)\n",
        "result_2d = np.array_split(arr_2d, 3, axis=1)\n",
        "print(result_2d)\n",
        "# Output:\n",
        "# [array([[1, 2],\n",
        "#         [5, 6]]),\n",
        "#  array([[3],\n",
        "#         [7]]),\n",
        "#  array([[4],\n",
        "#         [8]])]\n",
        "```\n",
        "\n",
        "### Comparison with `np.split()`\n",
        "- `np.split()` requires the array to be evenly divisible by the specified number of splits, otherwise it raises an error.\n",
        "- `np.array_split()`, however, allows uneven splits, making it more flexible for cases where an exact division isn’t possible.\n",
        "\n",
        "### Summary\n",
        "- **Flexible Splitting**: `array_split()` allows for splitting arrays even when the split isn’t even.\n",
        "- **Remainder Handling**: Distributes any remainder among the first few sub-arrays to accommodate uneven splits.\n",
        "  \n",
        "`array_split()` is a versatile method, ideal for splitting arrays of any dimension or size when exact divisibility isn’t required."
      ],
      "metadata": {
        "id": "3O3G4kSV5YyT"
      }
    },
    {
      "cell_type": "markdown",
      "source": [
        "# 10. Explain the concepts of vectorization and broadcasting in NumPy. How do they contribute to efficient array operations?\n",
        "**Ans:-** Vectorization and broadcasting are two core concepts in NumPy that enable efficient and optimized array operations. They help avoid explicit loops and allow element-wise operations directly on entire arrays, making computations faster and more memory-efficient.\n",
        "\n",
        "### 1. Vectorization\n",
        "- **Concept**: Vectorization is the process of applying operations directly on entire arrays (vectors) without the need for explicit loops. NumPy achieves this by implementing mathematical operations at a low level in C, which are then applied to entire arrays as single operations in Python.\n",
        "- **Performance Benefit**: By replacing Python loops with vectorized operations, NumPy reduces the overhead associated with loop iterations and function calls. Vectorized operations execute at compiled speeds rather than interpreted Python speeds, which can be significantly slower.\n",
        "  \n",
        "**Example**:\n",
        "```python\n",
        "import numpy as np\n",
        "\n",
        "# Create a NumPy array\n",
        "arr = np.array([1, 2, 3, 4, 5])\n",
        "\n",
        "# Vectorized operation to double each element\n",
        "result = arr * 2  # No explicit loop required\n",
        "print(result)\n",
        "# Output: [ 2  4  6  8 10]\n",
        "```\n",
        "Without vectorization, this operation would require a `for` loop, which is slower and less concise.\n",
        "\n",
        "### 2. Broadcasting\n",
        "- **Concept**: Broadcasting allows NumPy to perform arithmetic operations on arrays of different shapes and sizes by automatically expanding smaller arrays to match the shape of larger arrays. Broadcasting follows specific rules to determine how arrays with different dimensions are aligned.\n",
        "- **Rules of Broadcasting**:\n",
        "  1. If two arrays differ in the number of dimensions, the shape with fewer dimensions is padded with ones on its left side.\n",
        "  2. If the shape of the arrays doesn’t match along any dimension, NumPy attempts to stretch the smaller array to match the larger one along those dimensions.\n",
        "  3. If alignment is impossible (e.g., incompatible shapes that cannot be broadcasted), NumPy will raise an error.\n",
        "\n",
        "- **Performance Benefit**: Broadcasting avoids the need to create expanded copies of arrays, reducing memory usage and speeding up computation. Instead of replicating smaller arrays, broadcasting applies operations as if the arrays were the same size, saving both time and space.\n",
        "\n",
        "**Example**:\n",
        "```python\n",
        "# Create two arrays with different shapes\n",
        "arr1 = np.array([[1, 2, 3], [4, 5, 6]])  # Shape (2, 3)\n",
        "arr2 = np.array([1, 2, 3])               # Shape (3,)\n",
        "\n",
        "# Broadcasting in action: arr2 is \"stretched\" to match arr1\n",
        "result = arr1 + arr2\n",
        "print(result)\n",
        "# Output:\n",
        "# [[2 4 6]\n",
        "#  [5 7 9]]\n",
        "```\n",
        "Here, `arr2` is broadcasted across `arr1` without needing explicit loops or reshaping.\n",
        "\n",
        "### How Vectorization and Broadcasting Contribute to Efficient Array Operations\n",
        "- **Reduced Python Overhead**: Vectorization minimizes Python-level loops, which are generally slower because they run in the interpreter.\n",
        "- **Optimized Memory Usage**: Broadcasting avoids creating redundant data copies by \"stretching\" smaller arrays logically rather than physically.\n",
        "- **Faster Computations**: Operations on arrays are implemented in optimized C code behind the scenes, enabling faster calculations than traditional Python for-loops.\n",
        "- **Concise Code**: Both techniques allow for more readable, compact code, making array operations simpler and more intuitive.\n",
        "\n",
        "### Example of Combined Vectorization and Broadcasting\n",
        "Consider adding a scalar to a 2D array:\n",
        "```python\n",
        "arr = np.array([[1, 2, 3], [4, 5, 6]])\n",
        "\n",
        "# Adding 10 to each element (vectorization + broadcasting)\n",
        "result = arr + 10\n",
        "print(result)\n",
        "# Output:\n",
        "# [[11 12 13]\n",
        "#  [14 15 16]]\n",
        "```\n",
        "\n",
        "Here, the scalar `10` is broadcasted across `arr`, and the addition is vectorized, providing both efficient memory usage and fast computation.\n",
        "\n",
        "In summary, **vectorization** and **broadcasting** are powerful tools in NumPy that enable efficient, high-performance computations by avoiding explicit loops, minimizing memory usage, and optimizing array operations at a low level."
      ],
      "metadata": {
        "id": "csoJUeUG5n1M"
      }
    },
    {
      "cell_type": "markdown",
      "source": [
        "# **Practical Questions:**"
      ],
      "metadata": {
        "id": "ql8ax2he59PX"
      }
    },
    {
      "cell_type": "markdown",
      "source": [
        "# 1. Create a 3x3 NumPy array with random integers between 1 and 100. Then, interchange its rows and columns."
      ],
      "metadata": {
        "id": "f8B_MdPy6UGM"
      }
    },
    {
      "cell_type": "code",
      "source": [
        "import numpy as np\n",
        "\n",
        "# Create a 3x3 NumPy array with random integers between 1 and 100\n",
        "array = np.random.randint(1, 101, size=(3, 3))\n",
        "\n",
        "# Interchange rows and columns by transposing the array\n",
        "transposed_array = np.transpose(array)\n",
        "\n",
        "print(\"Original Array:\")\n",
        "print(array)\n",
        "print(\"\\nTransposed Array (Rows and Columns Interchanged):\")\n",
        "print(transposed_array)\n"
      ],
      "metadata": {
        "colab": {
          "base_uri": "https://localhost:8080/"
        },
        "id": "r-kMvx2P6n3D",
        "outputId": "d29a2743-740a-453b-94a5-4c97d9462f69"
      },
      "execution_count": 3,
      "outputs": [
        {
          "output_type": "stream",
          "name": "stdout",
          "text": [
            "Original Array:\n",
            "[[97 90 62]\n",
            " [59 17 77]\n",
            " [20 67 39]]\n",
            "\n",
            "Transposed Array (Rows and Columns Interchanged):\n",
            "[[97 59 20]\n",
            " [90 17 67]\n",
            " [62 77 39]]\n"
          ]
        }
      ]
    },
    {
      "cell_type": "markdown",
      "source": [
        "# 2. Generate a 1D NumPy array with 10 elements. Reshape it into a 2x5 array, then into a 5x2 array."
      ],
      "metadata": {
        "id": "WSyoUYQS6wQf"
      }
    },
    {
      "cell_type": "code",
      "source": [
        "import numpy as np\n",
        "\n",
        "# Generate a 1D NumPy array with 10 elements\n",
        "array_1d = np.arange(1, 11)\n",
        "\n",
        "# Reshape into a 2x5 array\n",
        "array_2x5 = array_1d.reshape(2, 5)\n",
        "\n",
        "# Reshape into a 5x2 array\n",
        "array_5x2 = array_1d.reshape(5, 2)\n",
        "\n",
        "print(\"1D Array:\")\n",
        "print(array_1d)\n",
        "print(\"\\nReshaped to 2x5 Array:\")\n",
        "print(array_2x5)\n",
        "print(\"\\nReshaped to 5x2 Array:\")\n",
        "print(array_5x2)\n"
      ],
      "metadata": {
        "colab": {
          "base_uri": "https://localhost:8080/"
        },
        "id": "H25FuWRP64Io",
        "outputId": "df992b38-11e5-4360-d590-6d4af16f7830"
      },
      "execution_count": 4,
      "outputs": [
        {
          "output_type": "stream",
          "name": "stdout",
          "text": [
            "1D Array:\n",
            "[ 1  2  3  4  5  6  7  8  9 10]\n",
            "\n",
            "Reshaped to 2x5 Array:\n",
            "[[ 1  2  3  4  5]\n",
            " [ 6  7  8  9 10]]\n",
            "\n",
            "Reshaped to 5x2 Array:\n",
            "[[ 1  2]\n",
            " [ 3  4]\n",
            " [ 5  6]\n",
            " [ 7  8]\n",
            " [ 9 10]]\n"
          ]
        }
      ]
    },
    {
      "cell_type": "markdown",
      "source": [
        "# 3. Create a 4x4 NumPy array with random float values. Add a border of zeros around it, resulting in a 6x6 array."
      ],
      "metadata": {
        "id": "txwZ5XA57Hoz"
      }
    },
    {
      "cell_type": "code",
      "source": [
        "import numpy as np\n",
        "\n",
        "# Create a 4x4 NumPy array with random float values\n",
        "array_4x4 = np.random.rand(4, 4)\n",
        "\n",
        "# Add a border of zeros around it, resulting in a 6x6 array\n",
        "array_6x6 = np.pad(array_4x4, pad_width=1, mode='constant', constant_values=0)\n",
        "\n",
        "print(\"Original 4x4 Array:\")\n",
        "print(array_4x4)\n",
        "print(\"\\n6x6 Array with Zero Border:\")\n",
        "print(array_6x6)\n"
      ],
      "metadata": {
        "colab": {
          "base_uri": "https://localhost:8080/"
        },
        "id": "kw4dkBcz7Roe",
        "outputId": "10df022c-0e3e-403e-8187-f9d017b71de0"
      },
      "execution_count": 5,
      "outputs": [
        {
          "output_type": "stream",
          "name": "stdout",
          "text": [
            "Original 4x4 Array:\n",
            "[[0.54987202 0.25449692 0.98298938 0.44716034]\n",
            " [0.35464836 0.21165434 0.07153163 0.96670981]\n",
            " [0.33321724 0.42775781 0.37606441 0.79979741]\n",
            " [0.18148116 0.84907931 0.14722892 0.79660799]]\n",
            "\n",
            "6x6 Array with Zero Border:\n",
            "[[0.         0.         0.         0.         0.         0.        ]\n",
            " [0.         0.54987202 0.25449692 0.98298938 0.44716034 0.        ]\n",
            " [0.         0.35464836 0.21165434 0.07153163 0.96670981 0.        ]\n",
            " [0.         0.33321724 0.42775781 0.37606441 0.79979741 0.        ]\n",
            " [0.         0.18148116 0.84907931 0.14722892 0.79660799 0.        ]\n",
            " [0.         0.         0.         0.         0.         0.        ]]\n"
          ]
        }
      ]
    },
    {
      "cell_type": "markdown",
      "source": [
        "# 4. Using NumPy, create an array of integers from 10 to 60 with a step of 5."
      ],
      "metadata": {
        "id": "YT9zIpkD7ok1"
      }
    },
    {
      "cell_type": "code",
      "source": [
        "import numpy as np\n",
        "\n",
        "# Create an array of integers from 10 to 60 with a step of 5\n",
        "array_integers = np.arange(10, 61, 5)\n",
        "\n",
        "print(\"Array of integers from 10 to 60 with a step of 5:\")\n",
        "print(array_integers)\n"
      ],
      "metadata": {
        "colab": {
          "base_uri": "https://localhost:8080/"
        },
        "id": "O5lXYyOz7u1x",
        "outputId": "7ac16c79-5b27-4d56-98c9-35393cdeb906"
      },
      "execution_count": 6,
      "outputs": [
        {
          "output_type": "stream",
          "name": "stdout",
          "text": [
            "Array of integers from 10 to 60 with a step of 5:\n",
            "[10 15 20 25 30 35 40 45 50 55 60]\n"
          ]
        }
      ]
    },
    {
      "cell_type": "markdown",
      "source": [
        "# 5. Create a NumPy array of strings ['python', 'numpy', 'pandas']. Apply different case transformations (uppercase, lowercase, title case, etc.) to each element.\n"
      ],
      "metadata": {
        "id": "GUIsSkRH75tJ"
      }
    },
    {
      "cell_type": "code",
      "source": [
        "import numpy as np\n",
        "\n",
        "# Create a NumPy array of strings\n",
        "string_array = np.array(['python', 'numpy', 'pandas'])\n",
        "\n",
        "# Apply different case transformations\n",
        "uppercase_array = np.char.upper(string_array)\n",
        "lowercase_array = np.char.lower(string_array)\n",
        "titlecase_array = np.char.title(string_array)\n",
        "capitalize_array = np.char.capitalize(string_array)\n",
        "\n",
        "print(\"Original Array:\")\n",
        "print(string_array)\n",
        "\n",
        "print(\"\\nUppercase Transformation:\")\n",
        "print(uppercase_array)\n",
        "\n",
        "print(\"\\nLowercase Transformation:\")\n",
        "print(lowercase_array)\n",
        "\n",
        "print(\"\\nTitle Case Transformation:\")\n",
        "print(titlecase_array)\n",
        "\n",
        "print(\"\\nCapitalize Transformation:\")\n",
        "print(capitalize_array)\n"
      ],
      "metadata": {
        "colab": {
          "base_uri": "https://localhost:8080/"
        },
        "id": "xy3lf4v18FRy",
        "outputId": "68f1c5ee-b30a-48ff-fb00-b89ef263c9a1"
      },
      "execution_count": 7,
      "outputs": [
        {
          "output_type": "stream",
          "name": "stdout",
          "text": [
            "Original Array:\n",
            "['python' 'numpy' 'pandas']\n",
            "\n",
            "Uppercase Transformation:\n",
            "['PYTHON' 'NUMPY' 'PANDAS']\n",
            "\n",
            "Lowercase Transformation:\n",
            "['python' 'numpy' 'pandas']\n",
            "\n",
            "Title Case Transformation:\n",
            "['Python' 'Numpy' 'Pandas']\n",
            "\n",
            "Capitalize Transformation:\n",
            "['Python' 'Numpy' 'Pandas']\n"
          ]
        }
      ]
    },
    {
      "cell_type": "markdown",
      "source": [
        "# 6. Generate a NumPy array of words. Insert a space between each character of every word in the array."
      ],
      "metadata": {
        "id": "c-QFievc8hd9"
      }
    },
    {
      "cell_type": "code",
      "source": [
        "import numpy as np\n",
        "\n",
        "# Create a NumPy array of words\n",
        "words_array = np.array(['hello', 'world', 'numpy', 'python'])\n",
        "\n",
        "# Insert a space between each character of every word\n",
        "spaced_words_array = np.array([' '.join(word) for word in words_array])\n",
        "\n",
        "print(\"Original Array:\")\n",
        "print(words_array)\n",
        "\n",
        "print(\"\\nArray with Spaces Between Characters:\")\n",
        "print(spaced_words_array)\n"
      ],
      "metadata": {
        "colab": {
          "base_uri": "https://localhost:8080/"
        },
        "id": "U2RhBCDf8lem",
        "outputId": "ce5401fc-1621-41a0-ce40-d0eb603312d2"
      },
      "execution_count": 8,
      "outputs": [
        {
          "output_type": "stream",
          "name": "stdout",
          "text": [
            "Original Array:\n",
            "['hello' 'world' 'numpy' 'python']\n",
            "\n",
            "Array with Spaces Between Characters:\n",
            "['h e l l o' 'w o r l d' 'n u m p y' 'p y t h o n']\n"
          ]
        }
      ]
    },
    {
      "cell_type": "markdown",
      "source": [
        "# 7. Create two 2D NumPy arrays and perform element-wise addition, subtraction, multiplication, and division."
      ],
      "metadata": {
        "id": "_eefDxi884Vc"
      }
    },
    {
      "cell_type": "code",
      "source": [
        "import numpy as np\n",
        "\n",
        "# Create two 2D NumPy arrays\n",
        "array1 = np.array([[1, 2, 3], [4, 5, 6]])\n",
        "array2 = np.array([[7, 8, 9], [10, 11, 12]])\n",
        "\n",
        "# Perform element-wise operations\n",
        "addition = array1 + array2\n",
        "subtraction = array1 - array2\n",
        "multiplication = array1 * array2\n",
        "division = array1 / array2\n",
        "\n",
        "print(\"Array 1:\")\n",
        "print(array1)\n",
        "\n",
        "print(\"\\nArray 2:\")\n",
        "print(array2)\n",
        "\n",
        "print(\"\\nElement-wise Addition:\")\n",
        "print(addition)\n",
        "\n",
        "print(\"\\nElement-wise Subtraction:\")\n",
        "print(subtraction)\n",
        "\n",
        "print(\"\\nElement-wise Multiplication:\")\n",
        "print(multiplication)\n",
        "\n",
        "print(\"\\nElement-wise Division:\")\n",
        "print(division)\n"
      ],
      "metadata": {
        "colab": {
          "base_uri": "https://localhost:8080/"
        },
        "id": "kjagkUap9Cy9",
        "outputId": "7a9a0633-1cd0-48d5-9bd3-5cde40fca7df"
      },
      "execution_count": 9,
      "outputs": [
        {
          "output_type": "stream",
          "name": "stdout",
          "text": [
            "Array 1:\n",
            "[[1 2 3]\n",
            " [4 5 6]]\n",
            "\n",
            "Array 2:\n",
            "[[ 7  8  9]\n",
            " [10 11 12]]\n",
            "\n",
            "Element-wise Addition:\n",
            "[[ 8 10 12]\n",
            " [14 16 18]]\n",
            "\n",
            "Element-wise Subtraction:\n",
            "[[-6 -6 -6]\n",
            " [-6 -6 -6]]\n",
            "\n",
            "Element-wise Multiplication:\n",
            "[[ 7 16 27]\n",
            " [40 55 72]]\n",
            "\n",
            "Element-wise Division:\n",
            "[[0.14285714 0.25       0.33333333]\n",
            " [0.4        0.45454545 0.5       ]]\n"
          ]
        }
      ]
    },
    {
      "cell_type": "markdown",
      "source": [
        "# 8. Use NumPy to create a 5x5 identity matrix, then extract its diagonal elements."
      ],
      "metadata": {
        "id": "ArIKJqkB9PV-"
      }
    },
    {
      "cell_type": "code",
      "source": [
        "import numpy as np\n",
        "\n",
        "# Create a 5x5 identity matrix\n",
        "identity_matrix = np.eye(5)\n",
        "\n",
        "# Extract the diagonal elements\n",
        "diagonal_elements = np.diagonal(identity_matrix)\n",
        "\n",
        "print(\"5x5 Identity Matrix:\")\n",
        "print(identity_matrix)\n",
        "\n",
        "print(\"\\nDiagonal Elements:\")\n",
        "print(diagonal_elements)\n"
      ],
      "metadata": {
        "colab": {
          "base_uri": "https://localhost:8080/"
        },
        "id": "97Qgewmp9a5k",
        "outputId": "37b8844a-121a-42b3-8b9f-0fe1154f265f"
      },
      "execution_count": 10,
      "outputs": [
        {
          "output_type": "stream",
          "name": "stdout",
          "text": [
            "5x5 Identity Matrix:\n",
            "[[1. 0. 0. 0. 0.]\n",
            " [0. 1. 0. 0. 0.]\n",
            " [0. 0. 1. 0. 0.]\n",
            " [0. 0. 0. 1. 0.]\n",
            " [0. 0. 0. 0. 1.]]\n",
            "\n",
            "Diagonal Elements:\n",
            "[1. 1. 1. 1. 1.]\n"
          ]
        }
      ]
    },
    {
      "cell_type": "markdown",
      "source": [
        "# 9. Generate a NumPy array of 100 random integers between 0 and 1000. Find and display all prime numbers in this array.\n"
      ],
      "metadata": {
        "id": "bKsqD6ZT9nH4"
      }
    },
    {
      "cell_type": "code",
      "source": [
        "import numpy as np\n",
        "\n",
        "# Generate a NumPy array of 100 random integers between 0 and 1000\n",
        "random_integers = np.random.randint(0, 1001, size=100)\n",
        "\n",
        "# Function to check if a number is prime\n",
        "def is_prime(num):\n",
        "    if num <= 1:\n",
        "        return False\n",
        "    for i in range(2, int(num**0.5) + 1):\n",
        "        if num % i == 0:\n",
        "            return False\n",
        "    return True\n",
        "\n",
        "# Find all prime numbers in the array\n",
        "prime_numbers = np.array([num for num in random_integers if is_prime(num)])\n",
        "\n",
        "print(\"Random Integers:\")\n",
        "print(random_integers)\n",
        "\n",
        "print(\"\\nPrime Numbers in the Array:\")\n",
        "print(prime_numbers)\n"
      ],
      "metadata": {
        "colab": {
          "base_uri": "https://localhost:8080/"
        },
        "id": "PfSVf4Qe9vvm",
        "outputId": "743d32eb-ff9d-4a34-8023-9fd4ee239bf3"
      },
      "execution_count": 11,
      "outputs": [
        {
          "output_type": "stream",
          "name": "stdout",
          "text": [
            "Random Integers:\n",
            "[387   3 499 380 989 384 728  10 533 932 913 250 167 901 103 398  80  57\n",
            "  92 831 555 457   4 482 730 904 194 447 371 626 884 694 151 780   1 817\n",
            " 139 437 919 700 648  30 128 582 148 123 631 400 602  15 986 768 410  24\n",
            " 276 930 365  84 831 411 548 789 424 180 337  49 562 226 554 175 293 430\n",
            " 146 219 174  86  61 257 365 566 790 317 638 641 455 758 364 737 553 948\n",
            " 881 579 541 168 311 948 454 393 710 502]\n",
            "\n",
            "Prime Numbers in the Array:\n",
            "[  3 499 167 103 457 151 139 919 631 337 293  61 257 317 641 881 541 311]\n"
          ]
        }
      ]
    },
    {
      "cell_type": "markdown",
      "source": [
        "# 10. Create a NumPy array representing daily temperatures for a month. Calculate and display the weekly averages.\n",
        "\n"
      ],
      "metadata": {
        "id": "hOv3KE2F-AjV"
      }
    },
    {
      "cell_type": "code",
      "source": [
        "import numpy as np\n",
        "\n",
        "# Create a NumPy array representing daily temperatures for a month (30 days)\n",
        "# Let's assume temperatures range from 0 to 40 degrees Celsius\n",
        "daily_temperatures = np.random.randint(0, 41, size=30)\n",
        "\n",
        "# Calculate weekly averages (4 weeks)\n",
        "# Reshape the array into a 4x7 matrix for the 4 weeks, ignoring the last two days\n",
        "weekly_averages = np.mean(daily_temperatures[:28].reshape(4, 7), axis=1)\n",
        "\n",
        "print(\"Daily Temperatures for a Month:\")\n",
        "print(daily_temperatures)\n",
        "\n",
        "print(\"\\nWeekly Averages:\")\n",
        "print(weekly_averages)\n"
      ],
      "metadata": {
        "colab": {
          "base_uri": "https://localhost:8080/"
        },
        "id": "kNvmwvuW-jPX",
        "outputId": "91702993-13b5-4f58-a6a3-c0cbc8cb0a8e"
      },
      "execution_count": 12,
      "outputs": [
        {
          "output_type": "stream",
          "name": "stdout",
          "text": [
            "Daily Temperatures for a Month:\n",
            "[ 9 34 24 32  9 39 10 11 19 39  3 30  6 34 29  2  3 35 25 27 21  8 18 38\n",
            " 29  8  8  1 10  7]\n",
            "\n",
            "Weekly Averages:\n",
            "[22.42857143 20.28571429 20.28571429 15.71428571]\n"
          ]
        }
      ]
    }
  ]
}