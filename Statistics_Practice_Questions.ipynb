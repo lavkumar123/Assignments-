{
  "nbformat": 4,
  "nbformat_minor": 0,
  "metadata": {
    "colab": {
      "provenance": []
    },
    "kernelspec": {
      "name": "python3",
      "display_name": "Python 3"
    },
    "language_info": {
      "name": "python"
    }
  },
  "cells": [
    {
      "cell_type": "markdown",
      "source": [
        "#1. Generate a list of 100 integers containing values between 90 to 130 and store it in the variable int_list.\n",
        "# After generating the list, find the following:\n",
        "\n",
        "  \n",
        "\n",
        "  (i) Write a Python function to calculate the mean of a given list of numbers.\n",
        "     Create a function to find the median of a list of numbers.\n",
        "\n",
        "  \n",
        "\n",
        "  (ii) Develop a program to compute the mode of a list of integers.\n",
        "\n",
        "  \n",
        "\n",
        "  (iii) Implement a function to calculate the weighted mean of a list of values and their corresponding weights.\n",
        "\n",
        "  \n",
        "\n",
        "  (iv) Write a Python function to find the geometric mean of a list of positive numbers.\n",
        "\n",
        "  \n",
        "\n",
        "  (v) Create a program to calculate the harmonic mean of a list of values.\n",
        "\n",
        "  \n",
        "\n",
        "  (vi) Build a function to determine the midrange of a list of numbers (average of the minimum and maximum).\n",
        "\n",
        "  \n",
        "\n",
        "  (vii) Implement a Python program to find the trimmed mean of a list, excluding a certain percentage of\n",
        "outliers."
      ],
      "metadata": {
        "id": "M7_K2HhB2MqT"
      }
    },
    {
      "cell_type": "code",
      "source": [
        "import random\n",
        "import statistics\n",
        "from collections import Counter\n",
        "import math\n",
        "\n",
        "def generate_list():\n",
        "    \"\"\"Generate a list of 100 integers between 90 and 130.\"\"\"\n",
        "    int_list = [random.randint(90, 130) for _ in range(100)]\n",
        "    return int_list\n",
        "\n",
        "int_list = generate_list()\n",
        "\n",
        "# (i) Mean function\n",
        "def calculate_mean(numbers):\n",
        "    return sum(numbers) / len(numbers)\n",
        "\n",
        "# Median function\n",
        "def calculate_median(numbers):\n",
        "    sorted_numbers = sorted(numbers)\n",
        "    n = len(sorted_numbers)\n",
        "    mid = n // 2\n",
        "    if n % 2 == 0:\n",
        "        return (sorted_numbers[mid - 1] + sorted_numbers[mid]) / 2\n",
        "    else:\n",
        "        return sorted_numbers[mid]\n",
        "\n",
        "# (ii) Mode function\n",
        "def calculate_mode(numbers):\n",
        "    counter = Counter(numbers)\n",
        "    max_count = max(counter.values())\n",
        "    modes = [k for k, v in counter.items() if v == max_count]\n",
        "    return modes if len(modes) > 1 else modes[0]\n",
        "\n",
        "# (iii) Weighted Mean function\n",
        "def calculate_weighted_mean(values, weights):\n",
        "    weighted_sum = sum(v * w for v, w in zip(values, weights))\n",
        "    total_weight = sum(weights)\n",
        "    return weighted_sum / total_weight\n",
        "\n",
        "# (iv) Geometric Mean function\n",
        "def calculate_geometric_mean(numbers):\n",
        "    product = math.prod(numbers)\n",
        "    return product ** (1 / len(numbers))\n",
        "\n",
        "# (v) Harmonic Mean function\n",
        "def calculate_harmonic_mean(numbers):\n",
        "    reciprocal_sum = sum(1 / x for x in numbers)\n",
        "    return len(numbers) / reciprocal_sum\n",
        "\n",
        "# (vi) Midrange function\n",
        "def calculate_midrange(numbers):\n",
        "    return (min(numbers) + max(numbers)) / 2\n",
        "\n",
        "# (vii) Trimmed Mean function\n",
        "def calculate_trimmed_mean(numbers, percentage):\n",
        "    sorted_numbers = sorted(numbers)\n",
        "    n = len(sorted_numbers)\n",
        "    trim_count = int(n * percentage / 100)\n",
        "    trimmed_list = sorted_numbers[trim_count:n - trim_count]\n",
        "    return sum(trimmed_list) / len(trimmed_list)\n",
        "\n",
        "# Testing the functions\n",
        "print(\"Generated List:\", int_list)\n",
        "print(\"Mean:\", calculate_mean(int_list))\n",
        "print(\"Median:\", calculate_median(int_list))\n",
        "print(\"Mode:\", calculate_mode(int_list))\n",
        "\n",
        "weights = [random.randint(1, 10) for _ in range(100)]\n",
        "print(\"Weighted Mean:\", calculate_weighted_mean(int_list, weights))\n",
        "\n",
        "positive_list = [x for x in int_list if x > 0]  # Ensuring only positive numbers for geometric mean\n",
        "print(\"Geometric Mean:\", calculate_geometric_mean(positive_list))\n",
        "print(\"Harmonic Mean:\", calculate_harmonic_mean(int_list))\n",
        "print(\"Midrange:\", calculate_midrange(int_list))\n",
        "print(\"Trimmed Mean (10%):\", calculate_trimmed_mean(int_list, 10))\n"
      ],
      "metadata": {
        "colab": {
          "base_uri": "https://localhost:8080/"
        },
        "id": "ndJAlef92hJq",
        "outputId": "704fa93d-7177-4021-db11-39129dd4b437"
      },
      "execution_count": null,
      "outputs": [
        {
          "output_type": "stream",
          "name": "stdout",
          "text": [
            "Generated List: [114, 127, 91, 114, 117, 101, 95, 97, 112, 94, 96, 127, 97, 97, 102, 93, 109, 116, 102, 97, 109, 130, 90, 91, 103, 130, 120, 128, 96, 130, 110, 130, 110, 109, 108, 126, 98, 129, 95, 130, 95, 114, 114, 125, 128, 119, 90, 95, 108, 114, 93, 124, 124, 95, 125, 119, 111, 104, 109, 118, 128, 128, 120, 123, 115, 103, 120, 101, 115, 110, 99, 112, 109, 114, 117, 116, 125, 113, 98, 118, 96, 108, 101, 126, 126, 115, 95, 123, 100, 110, 125, 99, 92, 104, 129, 104, 104, 93, 102, 109]\n",
            "Mean: 110.39\n",
            "Median: 110.0\n",
            "Mode: [114, 95, 109]\n",
            "Weighted Mean: 110.3890977443609\n",
            "Geometric Mean: 109.71517201309231\n",
            "Harmonic Mean: 109.04054274141825\n",
            "Midrange: 110.0\n",
            "Trimmed Mean (10%): 110.3125\n"
          ]
        }
      ]
    },
    {
      "cell_type": "markdown",
      "source": [
        "#2. Generate a list of 500 integers containing values between 200 to 300 and store it in the variable `int_list2`.\n",
        "# After generating the list, find the following:\n",
        "\n",
        "\n",
        "  (i) Compare the given list of visualization for the given data:\n",
        "\n",
        "    \n",
        "\n",
        "    1. Frequency & Gaussian distribution\n",
        "\n",
        "    2. Frequency smoothened KDE plot\n",
        "\n",
        "    3. Gaussian distribution & smoothened KDE plot\n",
        "\n",
        "\n",
        "  (ii) Write a Python function to calculate the range of a given list of numbers.\n",
        "\n",
        "\n",
        "  (iii) Create a program to find the variance and standard deviation of a list of numbers.\n",
        "\n",
        "\n",
        "  (iv) Implement a function to compute the interquartile range (IQR) of a list of values.\n",
        "\n",
        "\n",
        "  (v) Build a program to calculate the coefficient of variation for a dataset.\n",
        "\n",
        "  \n",
        "\n",
        "  (vi) Write a Python function to find the mean absolute deviation (MAD) of a list of numbers.\n",
        "\n",
        "\n",
        "  (vii) Create a program to calculate the quartile deviation of a list of values.\n",
        "\n",
        "  \n",
        "\n",
        "  (viii) Implement a function to find the range-based coefficient of dispersion for a dataset"
      ],
      "metadata": {
        "id": "ZWGmH7qN3vbi"
      }
    },
    {
      "cell_type": "code",
      "source": [
        "import random\n",
        "import statistics\n",
        "from collections import Counter\n",
        "import math\n",
        "import numpy as np\n",
        "import seaborn as sns\n",
        "import matplotlib.pyplot as plt\n",
        "\n",
        "def generate_list():\n",
        "    \"\"\"Generate a list of 100 integers between 90 and 130.\"\"\"\n",
        "    int_list = [random.randint(90, 130) for _ in range(100)]\n",
        "    return int_list\n",
        "\n",
        "def generate_list2():\n",
        "    \"\"\"Generate a list of 500 integers between 200 and 300.\"\"\"\n",
        "    int_list2 = [random.randint(200, 300) for _ in range(500)]\n",
        "    return int_list2\n",
        "\n",
        "int_list = generate_list()\n",
        "int_list2 = generate_list2()\n",
        "\n",
        "# (i) Visualization\n",
        "def visualize_data(data):\n",
        "    plt.figure(figsize=(12, 8))\n",
        "\n",
        "    # Frequency & Gaussian distribution\n",
        "    plt.subplot(3, 1, 1)\n",
        "    sns.histplot(data, kde=False, color=\"blue\", bins=20, label=\"Frequency\")\n",
        "    sns.kdeplot(data, color=\"red\", label=\"Gaussian Distribution\")\n",
        "    plt.legend()\n",
        "    plt.title(\"Frequency & Gaussian Distribution\")\n",
        "\n",
        "    # Frequency smoothened KDE plot\n",
        "    plt.subplot(3, 1, 2)\n",
        "    sns.histplot(data, kde=True, color=\"green\", bins=20, label=\"Frequency with KDE\")\n",
        "    plt.legend()\n",
        "    plt.title(\"Frequency Smoothened KDE Plot\")\n",
        "\n",
        "    # Gaussian distribution & smoothened KDE plot\n",
        "    plt.subplot(3, 1, 3)\n",
        "    sns.kdeplot(data, color=\"red\", label=\"Gaussian Distribution\")\n",
        "    sns.kdeplot(data, color=\"blue\", linestyle=\"--\", label=\"Smoothened KDE\")\n",
        "    plt.legend()\n",
        "    plt.title(\"Gaussian Distribution & Smoothened KDE Plot\")\n",
        "\n",
        "    plt.tight_layout()\n",
        "    plt.show()\n",
        "\n",
        "# (ii) Range function\n",
        "def calculate_range(numbers):\n",
        "    return max(numbers) - min(numbers)\n",
        "\n",
        "# (iii) Variance and Standard Deviation\n",
        "def calculate_variance(numbers):\n",
        "    return statistics.variance(numbers)\n",
        "\n",
        "def calculate_std_dev(numbers):\n",
        "    return statistics.stdev(numbers)\n",
        "\n",
        "# (iv) Interquartile Range (IQR)\n",
        "def calculate_iqr(numbers):\n",
        "    q1 = np.percentile(numbers, 25)\n",
        "    q3 = np.percentile(numbers, 75)\n",
        "    return q3 - q1\n",
        "\n",
        "# (v) Coefficient of Variation\n",
        "def calculate_coefficient_of_variation(numbers):\n",
        "    mean = calculate_mean(numbers)\n",
        "    std_dev = calculate_std_dev(numbers)\n",
        "    return (std_dev / mean) * 100\n",
        "\n",
        "# (vi) Mean Absolute Deviation (MAD)\n",
        "def calculate_mad(numbers):\n",
        "    mean = calculate_mean(numbers)\n",
        "    return sum(abs(x - mean) for x in numbers) / len(numbers)\n",
        "\n",
        "# (vii) Quartile Deviation\n",
        "def calculate_quartile_deviation(numbers):\n",
        "    q1 = np.percentile(numbers, 25)\n",
        "    q3 = np.percentile(numbers, 75)\n",
        "    return (q3 - q1) / 2\n",
        "\n",
        "# (viii) Range-based Coefficient of Dispersion\n",
        "def calculate_range_coefficient_of_dispersion(numbers):\n",
        "    range_value = calculate_range(numbers)\n",
        "    return range_value / (max(numbers) + min(numbers))\n",
        "\n",
        "# Testing the functions\n",
        "print(\"Generated List:\", int_list)\n",
        "print(\"Mean:\", calculate_mean(int_list))\n",
        "print(\"Median:\", calculate_median(int_list))\n",
        "print(\"Mode:\", calculate_mode(int_list))\n",
        "\n",
        "weights = [random.randint(1, 10) for _ in range(100)]\n",
        "print(\"Weighted Mean:\", calculate_weighted_mean(int_list, weights))\n",
        "\n",
        "positive_list = [x for x in int_list if x > 0]  # Ensuring only positive numbers for geometric mean\n",
        "print(\"Geometric Mean:\", calculate_geometric_mean(positive_list))\n",
        "print(\"Harmonic Mean:\", calculate_harmonic_mean(int_list))\n",
        "print(\"Midrange:\", calculate_midrange(int_list))\n",
        "print(\"Trimmed Mean (10%):\", calculate_trimmed_mean(int_list, 10))\n",
        "\n",
        "print(\"Generated List 2:\", int_list2)\n",
        "visualize_data(int_list2)\n",
        "print(\"Range:\", calculate_range(int_list2))\n",
        "print(\"Variance:\", calculate_variance(int_list2))\n",
        "print(\"Standard Deviation:\", calculate_std_dev(int_list2))\n",
        "print(\"IQR:\", calculate_iqr(int_list2))\n",
        "print(\"Coefficient of Variation:\", calculate_coefficient_of_variation(int_list2))\n",
        "print(\"Mean Absolute Deviation:\", calculate_mad(int_list2))\n",
        "print(\"Quartile Deviation:\", calculate_quartile_deviation(int_list2))\n",
        "print(\"Range-based Coefficient of Dispersion:\", calculate_range_coefficient_of_dispersion(int_list2))\n"
      ],
      "metadata": {
        "colab": {
          "base_uri": "https://localhost:8080/",
          "height": 1000
        },
        "id": "pMO_SfUj336Y",
        "outputId": "597f0b93-2520-4475-d4c2-567578ef4f0a"
      },
      "execution_count": null,
      "outputs": [
        {
          "output_type": "stream",
          "name": "stdout",
          "text": [
            "Generated List: [104, 98, 97, 124, 114, 91, 125, 119, 99, 124, 108, 99, 116, 125, 113, 128, 96, 117, 114, 127, 124, 128, 123, 111, 112, 94, 114, 99, 125, 111, 96, 107, 109, 111, 128, 111, 110, 92, 97, 98, 120, 117, 124, 100, 121, 97, 121, 94, 104, 128, 126, 120, 130, 123, 96, 118, 117, 91, 109, 120, 92, 117, 106, 105, 109, 100, 123, 92, 103, 124, 99, 130, 102, 116, 113, 116, 120, 108, 119, 104, 113, 109, 96, 112, 94, 123, 102, 108, 90, 92, 110, 93, 106, 100, 128, 96, 100, 108, 108, 112]\n",
            "Mean: 110.12\n",
            "Median: 110.5\n",
            "Mode: [124, 108, 128, 96]\n",
            "Weighted Mean: 110.09320388349515\n",
            "Geometric Mean: 109.52113757995201\n",
            "Harmonic Mean: 108.9188895329334\n",
            "Midrange: 110.0\n",
            "Trimmed Mean (10%): 110.1625\n",
            "Generated List 2: [248, 248, 232, 266, 247, 249, 201, 246, 259, 229, 220, 295, 260, 232, 251, 280, 231, 225, 254, 236, 255, 250, 282, 220, 226, 268, 213, 289, 227, 262, 255, 287, 269, 221, 282, 238, 229, 209, 299, 288, 245, 297, 263, 277, 231, 239, 241, 262, 298, 215, 300, 252, 285, 237, 253, 243, 240, 243, 261, 214, 234, 272, 255, 266, 278, 253, 247, 257, 297, 227, 299, 224, 268, 203, 284, 200, 291, 292, 253, 277, 244, 215, 254, 258, 229, 290, 283, 211, 246, 242, 295, 300, 273, 297, 237, 265, 229, 224, 291, 284, 275, 229, 264, 225, 269, 243, 273, 237, 251, 217, 264, 242, 217, 291, 200, 229, 224, 297, 241, 297, 235, 285, 291, 294, 256, 236, 276, 282, 213, 291, 267, 258, 215, 251, 237, 250, 241, 202, 289, 252, 290, 277, 259, 244, 265, 254, 226, 205, 254, 209, 299, 253, 284, 259, 237, 256, 216, 210, 220, 212, 262, 251, 223, 257, 254, 244, 297, 235, 279, 275, 264, 226, 234, 264, 222, 207, 209, 222, 222, 232, 283, 237, 267, 246, 258, 233, 278, 249, 202, 277, 276, 294, 243, 223, 241, 221, 231, 229, 236, 278, 292, 214, 235, 279, 204, 244, 290, 273, 205, 300, 256, 217, 273, 206, 236, 227, 268, 223, 267, 219, 294, 269, 215, 283, 232, 240, 263, 289, 296, 229, 287, 223, 220, 251, 201, 232, 263, 244, 285, 207, 281, 227, 221, 292, 220, 247, 221, 218, 283, 204, 227, 268, 254, 282, 274, 216, 221, 239, 298, 245, 215, 276, 296, 222, 276, 300, 282, 290, 251, 216, 207, 298, 210, 255, 277, 258, 297, 244, 279, 250, 299, 214, 233, 222, 265, 213, 205, 265, 211, 294, 202, 252, 277, 269, 202, 211, 258, 277, 274, 274, 293, 270, 242, 260, 294, 270, 270, 216, 264, 249, 256, 229, 296, 229, 248, 284, 288, 247, 248, 300, 274, 290, 218, 263, 209, 278, 272, 290, 214, 268, 206, 223, 285, 219, 221, 283, 219, 243, 278, 276, 282, 232, 263, 292, 220, 229, 276, 281, 268, 268, 230, 233, 260, 246, 280, 300, 235, 208, 229, 203, 204, 300, 268, 253, 280, 235, 238, 248, 299, 249, 216, 246, 204, 210, 292, 277, 246, 253, 259, 282, 275, 228, 298, 214, 202, 262, 278, 257, 258, 218, 220, 248, 218, 296, 281, 260, 268, 300, 291, 232, 265, 297, 258, 214, 264, 211, 249, 210, 246, 254, 283, 222, 261, 218, 203, 222, 209, 250, 246, 217, 272, 290, 256, 290, 221, 224, 266, 272, 294, 267, 209, 255, 200, 205, 292, 228, 272, 260, 295, 266, 280, 222, 261, 212, 281, 237, 248, 226, 268, 210, 292, 264, 237, 219, 287, 238, 208, 267, 298, 229, 274, 260, 283, 292, 245, 240, 257, 231, 287, 243, 237, 267, 265, 227, 263, 236, 216, 245, 295, 288, 201, 290, 264, 225, 278, 276, 231, 254, 284, 217, 261, 261, 262, 286, 236, 222, 270, 290, 219, 209]\n"
          ]
        },
        {
          "output_type": "display_data",
          "data": {
            "text/plain": [
              "<Figure size 1200x800 with 3 Axes>"
            ],
            "image/png": "[encoded data removed]"
          },
          "metadata": {}
        },
        {
          "output_type": "stream",
          "name": "stdout",
          "text": [
            "Range: 100\n",
            "Variance: 812.7678196392785\n",
            "Standard Deviation: 28.509083107656732\n",
            "IQR: 49.25\n",
            "Coefficient of Variation: 11.320046023227183\n",
            "Mean Absolute Deviation: 24.53308000000001\n",
            "Quartile Deviation: 24.625\n",
            "Range-based Coefficient of Dispersion: 0.2\n"
          ]
        }
      ]
    },
    {
      "cell_type": "markdown",
      "source": [
        "# 3. Write a Python class representing a discrete random variable with methods to calculate its expected value and variance.\n",
        "\n"
      ],
      "metadata": {
        "id": "DPJQ1BNC8PqM"
      }
    },
    {
      "cell_type": "code",
      "source": [
        "class DiscreteRandomVariable:\n",
        "    def __init__(self, outcomes, probabilities):\n",
        "        \"\"\"\n",
        "        Initialize the Discrete Random Variable.\n",
        "\n",
        "        :param outcomes: List of possible outcomes.\n",
        "        :param probabilities: List of probabilities corresponding to each outcome.\n",
        "        \"\"\"\n",
        "        if len(outcomes) != len(probabilities):\n",
        "            raise ValueError(\"Outcomes and probabilities must have the same length.\")\n",
        "\n",
        "        if not all(0 <= p <= 1 for p in probabilities):\n",
        "            raise ValueError(\"Probabilities must be between 0 and 1.\")\n",
        "\n",
        "        if not abs(sum(probabilities) - 1.0) < 1e-6:\n",
        "            raise ValueError(\"The sum of probabilities must equal 1.\")\n",
        "\n",
        "        self.outcomes = outcomes\n",
        "        self.probabilities = probabilities\n",
        "\n",
        "    def expected_value(self):\n",
        "        \"\"\"\n",
        "        Calculate the expected value of the random variable.\n",
        "\n",
        "        :return: Expected value (mean) as a float.\n",
        "        \"\"\"\n",
        "        return sum(outcome * prob for outcome, prob in zip(self.outcomes, self.probabilities))\n",
        "\n",
        "    def variance(self):\n",
        "        \"\"\"\n",
        "        Calculate the variance of the random variable.\n",
        "\n",
        "        :return: Variance as a float.\n",
        "        \"\"\"\n",
        "        mean = self.expected_value()\n",
        "        return sum(prob * (outcome - mean) ** 2 for outcome, prob in zip(self.outcomes, self.probabilities))\n",
        "\n",
        "# Example Usage\n",
        "if __name__ == \"__main__\":\n",
        "    # Define a random variable with outcomes and their corresponding probabilities\n",
        "    outcomes = [1, 2, 3, 4, 5]\n",
        "    probabilities = [0.1, 0.2, 0.3, 0.2, 0.2]\n",
        "\n",
        "    # Create the DiscreteRandomVariable object\n",
        "    random_variable = DiscreteRandomVariable(outcomes, probabilities)\n",
        "\n",
        "    # Calculate expected value and variance\n",
        "    print(\"Expected Value:\", random_variable.expected_value())\n",
        "    print(\"Variance:\", random_variable.variance())\n"
      ],
      "metadata": {
        "colab": {
          "base_uri": "https://localhost:8080/"
        },
        "id": "Qd7xJyLx8llC",
        "outputId": "35580239-2053-48f2-9008-0139c72bbb97"
      },
      "execution_count": null,
      "outputs": [
        {
          "output_type": "stream",
          "name": "stdout",
          "text": [
            "Expected Value: 3.2\n",
            "Variance: 1.56\n"
          ]
        }
      ]
    },
    {
      "cell_type": "markdown",
      "source": [
        "# 4. Implement a program to simulate the rolling of a fair six-sided die and calculate the expected value and variance of the outcomes.\n"
      ],
      "metadata": {
        "id": "R_OceesX81CX"
      }
    },
    {
      "cell_type": "code",
      "source": [
        "import random\n",
        "\n",
        "class DiscreteRandomVariable:\n",
        "    def __init__(self, outcomes, probabilities):\n",
        "        \"\"\"\n",
        "        Initialize the Discrete Random Variable.\n",
        "\n",
        "        :param outcomes: List of possible outcomes.\n",
        "        :param probabilities: List of probabilities corresponding to each outcome.\n",
        "        \"\"\"\n",
        "        if len(outcomes) != len(probabilities):\n",
        "            raise ValueError(\"Outcomes and probabilities must have the same length.\")\n",
        "\n",
        "        if not all(0 <= p <= 1 for p in probabilities):\n",
        "            raise ValueError(\"Probabilities must be between 0 and 1.\")\n",
        "\n",
        "        if not abs(sum(probabilities) - 1.0) < 1e-6:\n",
        "            raise ValueError(\"The sum of probabilities must equal 1.\")\n",
        "\n",
        "        self.outcomes = outcomes\n",
        "        self.probabilities = probabilities\n",
        "\n",
        "    def expected_value(self):\n",
        "        \"\"\"\n",
        "        Calculate the expected value of the random variable.\n",
        "\n",
        "        :return: Expected value (mean) as a float.\n",
        "        \"\"\"\n",
        "        return sum(outcome * prob for outcome, prob in zip(self.outcomes, self.probabilities))\n",
        "\n",
        "    def variance(self):\n",
        "        \"\"\"\n",
        "        Calculate the variance of the random variable.\n",
        "\n",
        "        :return: Variance as a float.\n",
        "        \"\"\"\n",
        "        mean = self.expected_value()\n",
        "        return sum(prob * (outcome - mean) ** 2 for outcome, prob in zip(self.outcomes, self.probabilities))\n",
        "\n",
        "# Simulate rolling a fair six-sided die\n",
        "def simulate_die_roll():\n",
        "    outcomes = [1, 2, 3, 4, 5, 6]  # Possible outcomes of a die roll\n",
        "    probabilities = [1 / 6] * 6  # Each outcome has an equal probability of 1/6\n",
        "\n",
        "    die = DiscreteRandomVariable(outcomes, probabilities)\n",
        "\n",
        "    print(\"Simulating a fair six-sided die:\")\n",
        "    print(\"Outcomes:\", outcomes)\n",
        "    print(\"Probabilities:\", probabilities)\n",
        "    print(\"Expected Value:\", die.expected_value())\n",
        "    print(\"Variance:\", die.variance())\n",
        "\n",
        "if __name__ == \"__main__\":\n",
        "    simulate_die_roll()\n"
      ],
      "metadata": {
        "colab": {
          "base_uri": "https://localhost:8080/"
        },
        "id": "7tDkEPiW9d5i",
        "outputId": "3b533fe8-a677-41cb-b4b8-a200cb8cee27"
      },
      "execution_count": null,
      "outputs": [
        {
          "output_type": "stream",
          "name": "stdout",
          "text": [
            "Simulating a fair six-sided die:\n",
            "Outcomes: [1, 2, 3, 4, 5, 6]\n",
            "Probabilities: [0.16666666666666666, 0.16666666666666666, 0.16666666666666666, 0.16666666666666666, 0.16666666666666666, 0.16666666666666666]\n",
            "Expected Value: 3.5\n",
            "Variance: 2.9166666666666665\n"
          ]
        }
      ]
    },
    {
      "cell_type": "markdown",
      "source": [
        "# 5. Create a Python function to generate random samples from a given probability distribution (e.g.,binomial, Poisson) and calculate their mean and variance.\n",
        "\n"
      ],
      "metadata": {
        "id": "sfYeV0uJ9nzV"
      }
    },
    {
      "cell_type": "code",
      "source": [
        "import numpy as np\n",
        "\n",
        "def generate_distribution_samples(distribution, params, size=1000):\n",
        "    \"\"\"\n",
        "    Generate random samples from a given probability distribution and calculate their mean and variance.\n",
        "\n",
        "    Parameters:\n",
        "    - distribution (str): Name of the distribution ('binomial', 'poisson', etc.).\n",
        "    - params (dict): Parameters required for the distribution.\n",
        "        - For 'binomial': {'n': int, 'p': float}\n",
        "        - For 'poisson': {'lam': float}\n",
        "    - size (int): Number of random samples to generate. Default is 1000.\n",
        "\n",
        "    Returns:\n",
        "    - samples (np.ndarray): Generated random samples.\n",
        "    - mean (float): Mean of the samples.\n",
        "    - variance (float): Variance of the samples.\n",
        "    \"\"\"\n",
        "    if distribution == 'binomial':\n",
        "        if 'n' in params and 'p' in params:\n",
        "            samples = np.random.binomial(n=params['n'], p=params['p'], size=size)\n",
        "        else:\n",
        "            raise ValueError(\"Missing parameters 'n' and/or 'p' for binomial distribution.\")\n",
        "    elif distribution == 'poisson':\n",
        "        if 'lam' in params:\n",
        "            samples = np.random.poisson(lam=params['lam'], size=size)\n",
        "        else:\n",
        "            raise ValueError(\"Missing parameter 'lam' for Poisson distribution.\")\n",
        "    else:\n",
        "        raise ValueError(f\"Unsupported distribution: {distribution}\")\n",
        "\n",
        "    mean = np.mean(samples)\n",
        "    variance = np.var(samples)\n",
        "\n",
        "    return samples, mean, variance\n",
        "\n",
        "# Example usage\n",
        "if __name__ == \"__main__\":\n",
        "    # Generate samples from a binomial distribution\n",
        "    binomial_samples, binomial_mean, binomial_variance = generate_distribution_samples(\n",
        "        distribution='binomial',\n",
        "        params={'n': 10, 'p': 0.5},\n",
        "        size=1000\n",
        "    )\n",
        "    print(\"Binomial Distribution:\")\n",
        "    print(f\"Mean: {binomial_mean}, Variance: {binomial_variance}\")\n",
        "\n",
        "    # Generate samples from a Poisson distribution\n",
        "    poisson_samples, poisson_mean, poisson_variance = generate_distribution_samples(\n",
        "        distribution='poisson',\n",
        "        params={'lam': 5},\n",
        "        size=1000\n",
        "    )\n",
        "    print(\"\\nPoisson Distribution:\")\n",
        "    print(f\"Mean: {poisson_mean}, Variance: {poisson_variance}\")\n"
      ],
      "metadata": {
        "colab": {
          "base_uri": "https://localhost:8080/"
        },
        "id": "6s87Jn1HlGCK",
        "outputId": "efd2ca9b-5baf-486a-f9fc-340922e20dca"
      },
      "execution_count": null,
      "outputs": [
        {
          "output_type": "stream",
          "name": "stdout",
          "text": [
            "Binomial Distribution:\n",
            "Mean: 4.928, Variance: 2.4888160000000004\n",
            "\n",
            "Poisson Distribution:\n",
            "Mean: 5.03, Variance: 4.9491000000000005\n"
          ]
        }
      ]
    },
    {
      "cell_type": "markdown",
      "source": [
        "# 6.Write a Python script to generate random numbers from a Gaussian (normal) distribution and compute the mean, variance, and standard deviation of the samples.\n"
      ],
      "metadata": {
        "id": "G-CFCgnwlli0"
      }
    },
    {
      "cell_type": "code",
      "source": [
        "import numpy as np\n",
        "\n",
        "def generate_gaussian_samples(mean, std_dev, num_samples):\n",
        "    \"\"\"\n",
        "    Generate random samples from a Gaussian (normal) distribution.\n",
        "\n",
        "    Parameters:\n",
        "        mean (float): The mean of the distribution.\n",
        "        std_dev (float): The standard deviation of the distribution.\n",
        "        num_samples (int): The number of samples to generate.\n",
        "\n",
        "    Returns:\n",
        "        np.ndarray: Array of generated samples.\n",
        "    \"\"\"\n",
        "    samples = np.random.normal(mean, std_dev, num_samples)\n",
        "    return samples\n",
        "\n",
        "def compute_statistics(samples):\n",
        "    \"\"\"\n",
        "    Compute mean, variance, and standard deviation of the samples.\n",
        "\n",
        "    Parameters:\n",
        "        samples (np.ndarray): Array of samples.\n",
        "\n",
        "    Returns:\n",
        "        tuple: Mean, variance, and standard deviation of the samples.\n",
        "    \"\"\"\n",
        "    mean = np.mean(samples)\n",
        "    variance = np.var(samples)\n",
        "    std_dev = np.std(samples)\n",
        "    return mean, variance, std_dev\n",
        "\n",
        "if __name__ == \"__main__\":\n",
        "    # Parameters for the Gaussian distribution\n",
        "    mean = 0\n",
        "    std_dev = 1\n",
        "    num_samples = 1000\n",
        "\n",
        "    # Generate random samples\n",
        "    samples = generate_gaussian_samples(mean, std_dev, num_samples)\n",
        "\n",
        "    # Compute statistics\n",
        "    computed_mean, computed_variance, computed_std_dev = compute_statistics(samples)\n",
        "\n",
        "    # Display results\n",
        "    print(\"Generated Gaussian Samples Statistics:\")\n",
        "    print(f\"Mean: {computed_mean}\")\n",
        "    print(f\"Variance: {computed_variance}\")\n",
        "    print(f\"Standard Deviation: {computed_std_dev}\")\n"
      ],
      "metadata": {
        "colab": {
          "base_uri": "https://localhost:8080/"
        },
        "id": "E0WHhwCZlq7x",
        "outputId": "f5aa5b13-b198-46f3-eb71-8d98ed7c07fc"
      },
      "execution_count": null,
      "outputs": [
        {
          "output_type": "stream",
          "name": "stdout",
          "text": [
            "Generated Gaussian Samples Statistics:\n",
            "Mean: 0.035465698778607176\n",
            "Variance: 0.9541459743188048\n",
            "Standard Deviation: 0.9768039590003742\n"
          ]
        }
      ]
    },
    {
      "cell_type": "markdown",
      "source": [
        "# 7.Use seaborn library to load `tips` dataset. Find the following from the dataset for the columns `total_bill` and `tip`:\n",
        "\n",
        " **(i) Write a Python function that calculates their skewness.\n",
        " approximately symmetric.**\n",
        "\n",
        " **(ii) Create a program that determines whether the columns exhibit positive skewness, negative skewness, or is  approximately symmetric**\n",
        "\n",
        "**(iii) Write a function that calculates the covariance between two columns.**\n",
        "\n",
        " **(iv) Implement a Python program that calculates the Pearson correlation coefficient between two columns.**\n",
        "\n",
        " **(v) Write a script to visualize the correlation between two specific columns in a Pandas DataFrame using\n",
        "scatter plots.**"
      ],
      "metadata": {
        "id": "PRWRZBDemJky"
      }
    },
    {
      "cell_type": "code",
      "source": [
        "import seaborn as sns\n",
        "import pandas as pd\n",
        "import numpy as np\n",
        "import matplotlib.pyplot as plt\n",
        "\n",
        "# Load the dataset\n",
        "data = sns.load_dataset('tips')\n",
        "\n",
        "# (i) Write a Python function that calculates their skewness.\n",
        "def calculate_skewness(column):\n",
        "    \"\"\"Calculate skewness of a column.\"\"\"\n",
        "    return column.skew()\n",
        "\n",
        "total_bill_skewness = calculate_skewness(data['total_bill'])\n",
        "tip_skewness = calculate_skewness(data['tip'])\n",
        "print(f\"Skewness of total_bill: {total_bill_skewness}\")\n",
        "print(f\"Skewness of tip: {tip_skewness}\")\n",
        "\n",
        "# (ii) Determine whether columns exhibit positive, negative skewness, or are approximately symmetric\n",
        "def skewness_type(skewness):\n",
        "    \"\"\"Determine type of skewness.\"\"\"\n",
        "    if skewness > 0:\n",
        "        return \"Positive Skewness\"\n",
        "    elif skewness < 0:\n",
        "        return \"Negative Skewness\"\n",
        "    else:\n",
        "        return \"Approximately Symmetric\"\n",
        "\n",
        "print(f\"Skewness type of total_bill: {skewness_type(total_bill_skewness)}\")\n",
        "print(f\"Skewness type of tip: {skewness_type(tip_skewness)}\")\n",
        "\n",
        "# (iii) Write a function that calculates the covariance between two columns.\n",
        "def calculate_covariance(column1, column2):\n",
        "    \"\"\"Calculate covariance between two columns.\"\"\"\n",
        "    return np.cov(column1, column2)[0, 1]\n",
        "\n",
        "covariance = calculate_covariance(data['total_bill'], data['tip'])\n",
        "print(f\"Covariance between total_bill and tip: {covariance}\")\n",
        "\n",
        "# (iv) Calculate the Pearson correlation coefficient between two columns.\n",
        "def calculate_pearson_correlation(column1, column2):\n",
        "    \"\"\"Calculate Pearson correlation coefficient.\"\"\"\n",
        "    return column1.corr(column2)\n",
        "\n",
        "pearson_correlation = calculate_pearson_correlation(data['total_bill'], data['tip'])\n",
        "print(f\"Pearson correlation coefficient between total_bill and tip: {pearson_correlation}\")\n",
        "\n",
        "# (v) Visualize the correlation between two columns using scatter plot.\n",
        "def visualize_correlation(df, column1, column2):\n",
        "    \"\"\"Scatter plot to visualize correlation between two columns.\"\"\"\n",
        "    plt.figure(figsize=(8, 6))\n",
        "    sns.scatterplot(x=column1, y=column2, data=df)\n",
        "    plt.title(f\"Scatter Plot of {column1} vs {column2}\")\n",
        "    plt.xlabel(column1)\n",
        "    plt.ylabel(column2)\n",
        "    plt.show()\n",
        "\n",
        "visualize_correlation(data, 'total_bill', 'tip')"
      ],
      "metadata": {
        "colab": {
          "base_uri": "https://localhost:8080/",
          "height": 668
        },
        "id": "ZkHYBEqDm2Nk",
        "outputId": "dc688ad5-16a5-4cbb-e8cb-3ea59f33c5f0"
      },
      "execution_count": null,
      "outputs": [
        {
          "output_type": "stream",
          "name": "stdout",
          "text": [
            "Skewness of total_bill: 1.1332130376158205\n",
            "Skewness of tip: 1.4654510370979401\n",
            "Skewness type of total_bill: Positive Skewness\n",
            "Skewness type of tip: Positive Skewness\n",
            "Covariance between total_bill and tip: 8.323501629224854\n",
            "Pearson correlation coefficient between total_bill and tip: 0.6757341092113641\n"
          ]
        },
        {
          "output_type": "display_data",
          "data": {
            "text/plain": [
              "<Figure size 800x600 with 1 Axes>"
            ],
            "image/png": "[encoded data removed]"
          },
          "metadata": {}
        }
      ]
    },
    {
      "cell_type": "markdown",
      "source": [
        "# 8.Write a Python function to calculate the probability density function (PDF) of a continuous random variable for a given normal distribution.\n"
      ],
      "metadata": {
        "id": "iApZ99zkncac"
      }
    },
    {
      "cell_type": "code",
      "source": [
        "import math\n",
        "\n",
        "def normal_pdf(x, mean, std_dev):\n",
        "    \"\"\"\n",
        "    Calculate the Probability Density Function (PDF) of a normal distribution.\n",
        "\n",
        "    Parameters:\n",
        "    x (float): The point at which the PDF is evaluated.\n",
        "    mean (float): The mean (μ) of the normal distribution.\n",
        "    std_dev (float): The standard deviation (σ) of the normal distribution.\n",
        "\n",
        "    Returns:\n",
        "    float: The value of the PDF at x.\n",
        "    \"\"\"\n",
        "    variance = std_dev ** 2\n",
        "    pdf_value = (1 / math.sqrt(2 * math.pi * variance)) * math.exp(-((x - mean) ** 2) / (2 * variance))\n",
        "    return pdf_value\n",
        "\n",
        "# Example usage:\n",
        "x = 1.5\n",
        "mean = 0\n",
        "std_dev = 1\n",
        "print(f\"The PDF value at x = {x} is {normal_pdf(x, mean, std_dev)}\")\n"
      ],
      "metadata": {
        "colab": {
          "base_uri": "https://localhost:8080/"
        },
        "id": "53ZDbSDZnoOh",
        "outputId": "8f0d1b09-8f64-480b-b75f-f6f5d6956d62"
      },
      "execution_count": null,
      "outputs": [
        {
          "output_type": "stream",
          "name": "stdout",
          "text": [
            "The PDF value at x = 1.5 is 0.12951759566589174\n"
          ]
        }
      ]
    },
    {
      "cell_type": "markdown",
      "source": [
        "# 9.Create a program to calculate the cumulative distribution function (CDF) of exponential distribution"
      ],
      "metadata": {
        "id": "3tKQhTNMn_SJ"
      }
    },
    {
      "cell_type": "code",
      "source": [
        "import math\n",
        "\n",
        "def exponential_cdf(x, rate):\n",
        "    \"\"\"\n",
        "    Calculate the Cumulative Distribution Function (CDF) of an exponential distribution.\n",
        "\n",
        "    Parameters:\n",
        "    x (float): The point at which the CDF is evaluated.\n",
        "    rate (float): The rate parameter (λ) of the exponential distribution.\n",
        "\n",
        "    Returns:\n",
        "    float: The value of the CDF at x.\n",
        "    \"\"\"\n",
        "    if x < 0:\n",
        "        return 0  # CDF is 0 for x < 0\n",
        "    return 1 - math.exp(-rate * x)\n",
        "\n",
        "# Example usage:\n",
        "x = 2.0  # The value for which to calculate the CDF\n",
        "rate = 1.5  # Rate parameter (λ)\n",
        "print(f\"The CDF value at x = {x} is {exponential_cdf(x, rate):.4f}\")\n"
      ],
      "metadata": {
        "id": "dPt5-E8poCj5",
        "outputId": "903aafb9-6c13-4a65-d41c-fe83af84e469",
        "colab": {
          "base_uri": "https://localhost:8080/"
        }
      },
      "execution_count": null,
      "outputs": [
        {
          "output_type": "stream",
          "name": "stdout",
          "text": [
            "The CDF value at x = 2.0 is 0.9502\n"
          ]
        }
      ]
    },
    {
      "cell_type": "markdown",
      "source": [
        "# 10.Write a Python function to calculate the probability mass function (PMF) of Poisson distribution.\n"
      ],
      "metadata": {
        "id": "SUS5zPM152hL"
      }
    },
    {
      "cell_type": "code",
      "source": [
        "import math\n",
        "\n",
        "def poisson_pmf(lmbda, k):\n",
        "    \"\"\"\n",
        "    Calculate the PMF of the Poisson distribution.\n",
        "\n",
        "    Parameters:\n",
        "    lmbda (float): The average number of occurrences in a given interval (λ).\n",
        "    k (int): The actual number of occurrences.\n",
        "\n",
        "    Returns:\n",
        "    float: The probability of observing k occurrences.\n",
        "    \"\"\"\n",
        "    if k < 0 or not isinstance(k, int):\n",
        "        raise ValueError(\"k must be a non-negative integer.\")\n",
        "    if lmbda <= 0:\n",
        "        raise ValueError(\"λ (lmbda) must be a positive value.\")\n",
        "\n",
        "    return (math.exp(-lmbda) * lmbda**k) / math.factorial(k)\n",
        "\n",
        "# Example usage\n",
        "lambda_value = 3  # average rate (λ)\n",
        "occurrences = 2   # actual occurrences (k)\n",
        "\n",
        "pmf_value = poisson_pmf(lambda_value, occurrences)\n",
        "print(f\"The PMF for λ = {lambda_value} and k = {occurrences} is {pmf_value:.4f}\")\n"
      ],
      "metadata": {
        "colab": {
          "base_uri": "https://localhost:8080/"
        },
        "id": "GR_GONt35-Z3",
        "outputId": "2c6713a3-3d99-4b8e-a4f7-fd2aef32295e"
      },
      "execution_count": null,
      "outputs": [
        {
          "output_type": "stream",
          "name": "stdout",
          "text": [
            "The PMF for λ = 3 and k = 2 is 0.2240\n"
          ]
        }
      ]
    },
    {
      "cell_type": "markdown",
      "source": [
        "#11. A company wants to test if a new website layout leads to a higher conversion rate (percentage of visitors who make a purchase). They collect data from the old and new layouts to compare.\n"
      ],
      "metadata": {
        "id": "7SMHI-OX6oZq"
      }
    },
    {
      "cell_type": "code",
      "source": [
        "import numpy as np\n",
        "from statsmodels.stats.proportion import proportions_ztest\n",
        "\n",
        "# Data: 50 purchases out of 1000 visitors (old layout), 70 purchases out of 1000 visitors (new layout)\n",
        "successes = np.array([50, 70])\n",
        "n_obs = np.array([1000, 1000])\n",
        "\n",
        "# Perform two-proportion z-test\n",
        "z_stat, p_value = proportions_ztest(successes, n_obs, alternative='two-sided')\n",
        "\n",
        "z_stat, p_value\n"
      ],
      "metadata": {
        "colab": {
          "base_uri": "https://localhost:8080/"
        },
        "id": "uVURHWY46kd4",
        "outputId": "9c8c520b-10a9-47e3-d82e-90f336a3aa2c"
      },
      "execution_count": null,
      "outputs": [
        {
          "output_type": "execute_result",
          "data": {
            "text/plain": [
              "(-1.883108942886774, 0.059685605532426224)"
            ]
          },
          "metadata": {},
          "execution_count": 2
        }
      ]
    },
    {
      "cell_type": "code",
      "source": [
        "# Re-import necessary libraries and data after reset\n",
        "import numpy as np\n",
        "from statsmodels.stats.proportion import proportions_ztest\n",
        "\n",
        "# Data: 50 purchases out of 1000 visitors (old layout), 70 purchases out of 1000 visitors (new layout)\n",
        "successes = np.array([50, 70])\n",
        "n_obs = np.array([1000, 1000])\n",
        "\n",
        "# Perform one-tailed z-test (alternative='larger' checks if new > old)\n",
        "z_stat_one_tailed, p_value_one_tailed = proportions_ztest(successes, n_obs, alternative='larger')\n",
        "\n",
        "z_stat_one_tailed, p_value_one_tailed\n"
      ],
      "metadata": {
        "colab": {
          "base_uri": "https://localhost:8080/"
        },
        "id": "IAagp-Jmh_vM",
        "outputId": "0fe4ac40-2f71-4cef-f2a2-2f2dc0163fbf"
      },
      "execution_count": 2,
      "outputs": [
        {
          "output_type": "execute_result",
          "data": {
            "text/plain": [
              "(-1.883108942886774, 0.9701571972337869)"
            ]
          },
          "metadata": {},
          "execution_count": 2
        }
      ]
    },
    {
      "cell_type": "markdown",
      "source": [
        "# 12.A tutoring service claims that its program improves students' exam scores. A sample of students who participated in the program was taken, and their scores before and after the program were recorded.\n",
        "\n"
      ],
      "metadata": {
        "id": "dSZN488picOX"
      }
    },
    {
      "cell_type": "code",
      "source": [
        "import numpy as np\n",
        "from scipy.stats import norm\n",
        "\n",
        "# Given data\n",
        "before_program = np.array([75, 80, 85, 70, 90, 78, 92, 88, 82, 87])\n",
        "after_program = np.array([80, 85, 90, 80, 92, 80, 95, 90, 85, 88])\n",
        "\n",
        "# Calculate the differences\n",
        "differences = after_program - before_program\n",
        "\n",
        "# Mean and standard deviation of differences\n",
        "mean_diff = np.mean(differences)\n",
        "std_diff = np.std(differences, ddof=1)  # Using sample standard deviation\n",
        "n = len(differences)\n",
        "\n",
        "# Null hypothesis mean difference\n",
        "mu_0 = 0\n",
        "\n",
        "# Z-test statistic\n",
        "z = (mean_diff - mu_0) / (std_diff / np.sqrt(n))\n",
        "\n",
        "# Significance level\n",
        "alpha = 0.05\n",
        "\n",
        "# Critical z-value for one-tailed test\n",
        "z_critical = norm.ppf(1 - alpha)\n",
        "\n",
        "# Result interpretation\n",
        "reject_null = z > z_critical\n",
        "\n",
        "mean_diff, std_diff, z, z_critical, reject_null\n"
      ],
      "metadata": {
        "colab": {
          "base_uri": "https://localhost:8080/"
        },
        "id": "3gBXN59gin4m",
        "outputId": "72606691-a3cc-4c5a-c9d0-ac9a2e177743"
      },
      "execution_count": 3,
      "outputs": [
        {
          "output_type": "execute_result",
          "data": {
            "text/plain": [
              "(3.8, 2.616188916046478, 4.593190894944668, 1.6448536269514722, True)"
            ]
          },
          "metadata": {},
          "execution_count": 3
        }
      ]
    },
    {
      "cell_type": "markdown",
      "source": [
        "# 13.A pharmaceutical company wants to determine if a new drug is effective in reducing blood pressure. They conduct a study and record blood pressure measurements before and after administering the drug.\n"
      ],
      "metadata": {
        "id": "ii0-EWpDi1SV"
      }
    },
    {
      "cell_type": "code",
      "source": [
        "import numpy as np\n",
        "from scipy.stats import norm\n",
        "\n",
        "# Blood pressure data\n",
        "before_drug = np.array([145, 150, 140, 135, 155, 160, 152, 148, 130, 138])\n",
        "after_drug = np.array([130, 140, 132, 128, 145, 148, 138, 136, 125, 130])\n",
        "\n",
        "# Calculate the differences\n",
        "differences = before_drug - after_drug\n",
        "\n",
        "# Parameters for the z-test\n",
        "mean_difference = np.mean(differences)\n",
        "std_difference = np.std(differences, ddof=1)  # Sample standard deviation\n",
        "n = len(differences)\n",
        "\n",
        "# Z-test statistic\n",
        "z = mean_difference / (std_difference / np.sqrt(n))\n",
        "\n",
        "# P-value for a one-tailed test\n",
        "p_value = norm.sf(z)\n",
        "\n",
        "# Output results\n",
        "print(f\"Z-statistic: {z}\")\n",
        "print(f\"P-value: {p_value}\")\n",
        "\n",
        "# Decision\n",
        "alpha = 0.05\n",
        "if p_value < alpha:\n",
        "    print(\"Reject the null hypothesis: The drug is effective in reducing blood pressure.\")\n",
        "else:\n",
        "    print(\"Fail to reject the null hypothesis: The drug is not effective in reducing blood pressure.\")\n"
      ],
      "metadata": {
        "colab": {
          "base_uri": "https://localhost:8080/"
        },
        "id": "rhJpz2fVjLC7",
        "outputId": "50ffeb71-414e-48db-ab30-343828a56b07"
      },
      "execution_count": 4,
      "outputs": [
        {
          "output_type": "stream",
          "name": "stdout",
          "text": [
            "Z-statistic: 10.049875621120888\n",
            "P-value: 4.599172203850193e-24\n",
            "Reject the null hypothesis: The drug is effective in reducing blood pressure.\n"
          ]
        }
      ]
    },
    {
      "cell_type": "markdown",
      "source": [
        "# 14.A customer service department claims that their average response time is less than 5 minutes. A sample of recent customer interactions was taken, and the response times were recorded.\n",
        "\n",
        ""
      ],
      "metadata": {
        "id": "OjQp_McCje_Z"
      }
    },
    {
      "cell_type": "code",
      "source": [
        "import numpy as np\n",
        "from scipy.stats import norm\n",
        "\n",
        "# Response times data\n",
        "response_times = np.array([4.3, 3.8, 5.1, 4.9, 4.7, 4.2, 5.2, 4.5, 4.6, 4.4])\n",
        "\n",
        "# Parameters for the z-test\n",
        "population_mean = 5  # Claimed mean\n",
        "sample_mean = np.mean(response_times)\n",
        "sample_std = np.std(response_times, ddof=1)  # Sample standard deviation\n",
        "n = len(response_times)\n",
        "\n",
        "# Z-test statistic\n",
        "z = (sample_mean - population_mean) / (sample_std / np.sqrt(n))\n",
        "\n",
        "# P-value for a one-tailed test\n",
        "p_value = norm.cdf(z)\n",
        "\n",
        "# Output results\n",
        "print(f\"Z-statistic: {z}\")\n",
        "print(f\"P-value: {p_value}\")\n",
        "\n",
        "# Decision\n",
        "alpha = 0.05\n",
        "if p_value < alpha:\n",
        "    print(\"Reject the null hypothesis: The claim that the average response time is less than 5 minutes is true.\")\n",
        "else:\n",
        "    print(\"Fail to reject the null hypothesis: The claim that the average response time is less than 5 minutes is false.\")\n"
      ],
      "metadata": {
        "colab": {
          "base_uri": "https://localhost:8080/"
        },
        "id": "P6jRDGRXjxAl",
        "outputId": "d42f73f8-67ac-4d22-d375-4c027ea3ef91"
      },
      "execution_count": 5,
      "outputs": [
        {
          "output_type": "stream",
          "name": "stdout",
          "text": [
            "Z-statistic: -3.184457226042963\n",
            "P-value: 0.0007251287113068958\n",
            "Reject the null hypothesis: The claim that the average response time is less than 5 minutes is true.\n"
          ]
        }
      ]
    },
    {
      "cell_type": "markdown",
      "source": [
        "# 15.A company is testing two different website layouts to see which one leads to higher click-through rates. Write a Python function to perform an A/B test analysis, including calculating the t-statistic, degrees of freedom, and p-value.\n",
        "\n",
        "\n",
        " **Use the following data:**\n",
        "\n",
        " **layout_a_clicks = [28, 32, 33, 29, 31, 34, 30, 35, 36, 37]**\n",
        "\n",
        "**layout_b_clicks = [40, 41, 38, 42, 39, 44, 43, 41, 45, 47]**"
      ],
      "metadata": {
        "id": "nIVhTGNAj-uO"
      }
    },
    {
      "cell_type": "code",
      "source": [
        "import numpy as np\n",
        "from scipy.stats import t\n",
        "\n",
        "def ab_test_analysis(layout_a, layout_b):\n",
        "    # Calculate sample statistics\n",
        "    mean_a = np.mean(layout_a)\n",
        "    mean_b = np.mean(layout_b)\n",
        "    std_a = np.std(layout_a, ddof=1)  # Sample standard deviation\n",
        "    std_b = np.std(layout_b, ddof=1)\n",
        "    n_a = len(layout_a)\n",
        "    n_b = len(layout_b)\n",
        "\n",
        "    # Calculate the t-statistic\n",
        "    pooled_std = np.sqrt(((std_a**2) / n_a) + ((std_b**2) / n_b))\n",
        "    t_stat = (mean_a - mean_b) / pooled_std\n",
        "\n",
        "    # Degrees of freedom (using Welch-Satterthwaite equation)\n",
        "    df = ((std_a**2 / n_a + std_b**2 / n_b)**2) / \\\n",
        "         (((std_a**2 / n_a)**2 / (n_a - 1)) + ((std_b**2 / n_b)**2 / (n_b - 1)))\n",
        "\n",
        "    # Calculate the p-value (two-tailed test)\n",
        "    p_value = 2 * (1 - t.cdf(abs(t_stat), df))\n",
        "\n",
        "    # Output results\n",
        "    print(f\"T-statistic: {t_stat}\")\n",
        "    print(f\"Degrees of Freedom: {df}\")\n",
        "    print(f\"P-value: {p_value}\")\n",
        "\n",
        "    # Decision\n",
        "    alpha = 0.05\n",
        "    if p_value < alpha:\n",
        "        print(\"Reject the null hypothesis: There is a significant difference between the layouts.\")\n",
        "    else:\n",
        "        print(\"Fail to reject the null hypothesis: No significant difference between the layouts.\")\n",
        "\n",
        "# Data\n",
        "layout_a_clicks = [28, 32, 33, 29, 31, 34, 30, 35, 36, 37]\n",
        "layout_b_clicks = [40, 41, 38, 42, 39, 44, 43, 41, 45, 47]\n",
        "\n",
        "# Perform A/B test analysis\n",
        "ab_test_analysis(layout_a_clicks, layout_b_clicks)\n"
      ],
      "metadata": {
        "colab": {
          "base_uri": "https://localhost:8080/"
        },
        "id": "_jHt8XRNkkpY",
        "outputId": "220f38ec-b14e-4e34-cc44-2940caddfb7b"
      },
      "execution_count": 7,
      "outputs": [
        {
          "output_type": "stream",
          "name": "stdout",
          "text": [
            "T-statistic: -7.298102156175071\n",
            "Degrees of Freedom: 17.879871863320876\n",
            "P-value: 9.19659607134804e-07\n",
            "Reject the null hypothesis: There is a significant difference between the layouts.\n"
          ]
        }
      ]
    },
    {
      "cell_type": "markdown",
      "source": [
        "#16. A pharmaceutical company wants to determine if a new drug is more effective than an existing drug in reducing cholesterol levels. Create a program to analyze the clinical trial data and calculate the t\n",
        "\n",
        "**Use the following data of cholestrol level:**\n",
        "\n",
        "**existing_drug_levels = [180, 182, 175, 185, 178, 176, 172, 184, 179, 183]**\n",
        "\n",
        " **new_drug_levels = [170, 172, 165, 168, 175, 173, 170, 178, 172, 176]**"
      ],
      "metadata": {
        "id": "eqUw-RZUk4BU"
      }
    },
    {
      "cell_type": "code",
      "source": [
        "import numpy as np\n",
        "from scipy.stats import t\n",
        "\n",
        "def drug_effectiveness_analysis(existing_drug, new_drug):\n",
        "    # Calculate sample statistics\n",
        "    mean_existing = np.mean(existing_drug)\n",
        "    mean_new = np.mean(new_drug)\n",
        "    std_existing = np.std(existing_drug, ddof=1)  # Sample standard deviation\n",
        "    std_new = np.std(new_drug, ddof=1)\n",
        "    n_existing = len(existing_drug)\n",
        "    n_new = len(new_drug)\n",
        "\n",
        "    # Calculate the t-statistic\n",
        "    pooled_std = np.sqrt(((std_existing**2) / n_existing) + ((std_new**2) / n_new))\n",
        "    t_stat = (mean_existing - mean_new) / pooled_std\n",
        "\n",
        "    # Degrees of freedom (using Welch-Satterthwaite equation)\n",
        "    df = ((std_existing**2 / n_existing + std_new**2 / n_new)**2) / \\\n",
        "         (((std_existing**2 / n_existing)**2 / (n_existing - 1)) + ((std_new**2 / n_new)**2 / (n_new - 1)))\n",
        "\n",
        "    # Calculate the p-value (two-tailed test)\n",
        "    p_value = 2 * (1 - t.cdf(abs(t_stat), df))\n",
        "\n",
        "    # Output results\n",
        "    print(f\"T-statistic: {t_stat}\")\n",
        "    print(f\"Degrees of Freedom: {df}\")\n",
        "    print(f\"P-value: {p_value}\")\n",
        "\n",
        "    # Decision\n",
        "    alpha = 0.05\n",
        "    if p_value < alpha:\n",
        "        print(\"Reject the null hypothesis: The new drug is more effective in reducing cholesterol levels.\")\n",
        "    else:\n",
        "        print(\"Fail to reject the null hypothesis: There is no significant difference in the effectiveness of the drugs.\")\n",
        "\n",
        "# Data\n",
        "existing_drug_levels = [180, 182, 175, 185, 178, 176, 172, 184, 179, 183]\n",
        "new_drug_levels = [170, 172, 165, 168, 175, 173, 170, 178, 172, 176]\n",
        "\n",
        "# Perform analysis\n",
        "drug_effectiveness_analysis(existing_drug_levels, new_drug_levels)\n"
      ],
      "metadata": {
        "colab": {
          "base_uri": "https://localhost:8080/"
        },
        "id": "75XguwHtlUi5",
        "outputId": "730bad7d-33fa-4acc-9574-226a49c4d94d"
      },
      "execution_count": 8,
      "outputs": [
        {
          "output_type": "stream",
          "name": "stdout",
          "text": [
            "T-statistic: 4.140480986208661\n",
            "Degrees of Freedom: 17.866770765582338\n",
            "P-value: 0.0006229228945469067\n",
            "Reject the null hypothesis: The new drug is more effective in reducing cholesterol levels.\n"
          ]
        }
      ]
    },
    {
      "cell_type": "markdown",
      "source": [
        "#17. A school district introduces an educational intervention program to improve math scores. Write a Python function to analyze pre- and post-intervention test scores, calculating the t-statistic and p-value to determine if the intervention had a significant impact.\n",
        "\n",
        "\n",
        "**Use the following data of test score:**\n",
        "\n",
        " **pre_intervention_scores = [80, 85, 90, 75, 88, 82, 92, 78, 85, 87]**\n",
        "\n",
        " **post_intervention_scores = [90, 92, 88, 92, 95, 91, 96, 93, 89, 93]**"
      ],
      "metadata": {
        "id": "NjussP2glY8N"
      }
    },
    {
      "cell_type": "code",
      "source": [
        "import numpy as np\n",
        "from scipy.stats import t\n",
        "\n",
        "def analyze_intervention(pre_scores, post_scores):\n",
        "    # Calculate the differences\n",
        "    differences = np.array(post_scores) - np.array(pre_scores)\n",
        "\n",
        "    # Calculate sample statistics\n",
        "    mean_diff = np.mean(differences)\n",
        "    std_diff = np.std(differences, ddof=1)  # Sample standard deviation\n",
        "    n = len(differences)\n",
        "\n",
        "    # Calculate the t-statistic\n",
        "    t_stat = mean_diff / (std_diff / np.sqrt(n))\n",
        "\n",
        "    # Degrees of freedom\n",
        "    df = n - 1\n",
        "\n",
        "    # Calculate the p-value (one-tailed test, assuming improvement in scores)\n",
        "    p_value = 1 - t.cdf(t_stat, df)\n",
        "\n",
        "    # Output results\n",
        "    print(f\"T-statistic: {t_stat}\")\n",
        "    print(f\"Degrees of Freedom: {df}\")\n",
        "    print(f\"P-value: {p_value}\")\n",
        "\n",
        "    # Decision\n",
        "    alpha = 0.05\n",
        "    if p_value < alpha:\n",
        "        print(\"Reject the null hypothesis: The intervention had a significant impact on math scores.\")\n",
        "    else:\n",
        "        print(\"Fail to reject the null hypothesis: The intervention did not have a significant impact on math scores.\")\n",
        "\n",
        "# Data\n",
        "pre_intervention_scores = [80, 85, 90, 75, 88, 82, 92, 78, 85, 87]\n",
        "post_intervention_scores = [90, 92, 88, 92, 95, 91, 96, 93, 89, 93]\n",
        "\n",
        "# Perform analysis\n",
        "analyze_intervention(pre_intervention_scores, post_intervention_scores)\n"
      ],
      "metadata": {
        "colab": {
          "base_uri": "https://localhost:8080/"
        },
        "id": "B9fl_TxCl45a",
        "outputId": "aa7c7a4b-e094-41e8-b266-9f0e5d7412d2"
      },
      "execution_count": 9,
      "outputs": [
        {
          "output_type": "stream",
          "name": "stdout",
          "text": [
            "T-statistic: 4.428408839657611\n",
            "Degrees of Freedom: 9\n",
            "P-value: 0.0008254774082897542\n",
            "Reject the null hypothesis: The intervention had a significant impact on math scores.\n"
          ]
        }
      ]
    },
    {
      "cell_type": "markdown",
      "source": [
        "# 18.  An HR department wants to investigate if there's a gender-based salary gap within the company. Develop a program to analyze salary data, calculate the t-statistic, and determine if there's a statistically significant difference between the average salaries of male and female employees.\n",
        "\n",
        "\n",
        "\n",
        " **Use the below code to generate synthetic data:**\n",
        " ```python\n",
        " # Generate synthetic salary data for male and female employees\n",
        " np.random.seed(0)  # For reproducibility\n",
        " male_salaries = np.random.normal(loc=50000, scale=10000, size=20)\n",
        " female_salaries = np.random.normal(loc=55000, scale=9000, size=20)\n",
        " ```"
      ],
      "metadata": {
        "id": "HmtoWUHtmDH0"
      }
    },
    {
      "cell_type": "code",
      "source": [
        "import numpy as np\n",
        "from scipy.stats import t\n",
        "\n",
        "def analyze_gender_salary_gap(male_salaries, female_salaries):\n",
        "    # Calculate sample statistics\n",
        "    mean_male = np.mean(male_salaries)\n",
        "    mean_female = np.mean(female_salaries)\n",
        "    std_male = np.std(male_salaries, ddof=1)  # Sample standard deviation\n",
        "    std_female = np.std(female_salaries, ddof=1)\n",
        "    n_male = len(male_salaries)\n",
        "    n_female = len(female_salaries)\n",
        "\n",
        "    # Calculate the t-statistic\n",
        "    pooled_std = np.sqrt(((std_male**2) / n_male) + ((std_female**2) / n_female))\n",
        "    t_stat = (mean_male - mean_female) / pooled_std\n",
        "\n",
        "    # Degrees of freedom (using Welch-Satterthwaite equation)\n",
        "    df = ((std_male**2 / n_male + std_female**2 / n_female)**2) / \\\n",
        "         (((std_male**2 / n_male)**2 / (n_male - 1)) + ((std_female**2 / n_female)**2 / (n_female - 1)))\n",
        "\n",
        "    # Calculate the p-value (two-tailed test)\n",
        "    p_value = 2 * (1 - t.cdf(abs(t_stat), df))\n",
        "\n",
        "    # Output results\n",
        "    print(f\"T-statistic: {t_stat}\")\n",
        "    print(f\"Degrees of Freedom: {df}\")\n",
        "    print(f\"P-value: {p_value}\")\n",
        "\n",
        "    # Decision\n",
        "    alpha = 0.05\n",
        "    if p_value < alpha:\n",
        "        print(\"Reject the null hypothesis: There is a statistically significant gender-based salary gap.\")\n",
        "    else:\n",
        "        print(\"Fail to reject the null hypothesis: There is no statistically significant gender-based salary gap.\")\n",
        "\n",
        "# Generate synthetic salary data\n",
        "np.random.seed(0)  # For reproducibility\n",
        "male_salaries = np.random.normal(loc=50000, scale=10000, size=20)\n",
        "female_salaries = np.random.normal(loc=55000, scale=9000, size=20)\n",
        "\n",
        "# Perform analysis\n",
        "analyze_gender_salary_gap(male_salaries, female_salaries)\n"
      ],
      "metadata": {
        "colab": {
          "base_uri": "https://localhost:8080/"
        },
        "id": "IXk82rKPmhAg",
        "outputId": "200deb3f-8b85-4a4f-84de-22c34033795a"
      },
      "execution_count": 10,
      "outputs": [
        {
          "output_type": "stream",
          "name": "stdout",
          "text": [
            "T-statistic: 0.061142089696313844\n",
            "Degrees of Freedom: 36.166783312917644\n",
            "P-value: 0.9515826849267925\n",
            "Fail to reject the null hypothesis: There is no statistically significant gender-based salary gap.\n"
          ]
        }
      ]
    },
    {
      "cell_type": "markdown",
      "source": [
        "# 19. A manufacturer produces two different versions of a product and wants to compare their quality scores. Create a Python function to analyze quality assessment data, calculate the t-statistic, and decide whether there's a significant difference in quality between the two versions.\n",
        "\n",
        " **Use the following data:**\n",
        " ```python\n",
        " version1_scores = [85, 88, 82, 89, 87, 84, 90, 88, 85, 86, 91, 83, 87, 84, 89, 86, 84, 88, 85, 86, 89, 90, 87, 88, 85]\n",
        " version2_scores = [80, 78, 83, 81, 79, 82, 76, 80, 78, 81, 77, 82, 80, 79, 82, 79, 80, 81, 79, 82, 79, 78, 80, 81, 82]\n",
        " ```"
      ],
      "metadata": {
        "id": "4Suocfhmmzfs"
      }
    },
    {
      "cell_type": "code",
      "source": [
        "import numpy as np\n",
        "from scipy.stats import t\n",
        "\n",
        "def analyze_product_quality(version1_scores, version2_scores):\n",
        "    # Calculate sample statistics\n",
        "    mean_v1 = np.mean(version1_scores)\n",
        "    mean_v2 = np.mean(version2_scores)\n",
        "    std_v1 = np.std(version1_scores, ddof=1)  # Sample standard deviation\n",
        "    std_v2 = np.std(version2_scores, ddof=1)\n",
        "    n_v1 = len(version1_scores)\n",
        "    n_v2 = len(version2_scores)\n",
        "\n",
        "    # Calculate the t-statistic\n",
        "    pooled_std = np.sqrt(((std_v1**2) / n_v1) + ((std_v2**2) / n_v2))\n",
        "    t_stat = (mean_v1 - mean_v2) / pooled_std\n",
        "\n",
        "    # Degrees of freedom (using Welch-Satterthwaite equation)\n",
        "    df = ((std_v1**2 / n_v1 + std_v2**2 / n_v2)**2) / \\\n",
        "         (((std_v1**2 / n_v1)**2 / (n_v1 - 1)) + ((std_v2**2 / n_v2)**2 / (n_v2 - 1)))\n",
        "\n",
        "    # Calculate the p-value (two-tailed test)\n",
        "    p_value = 2 * (1 - t.cdf(abs(t_stat), df))\n",
        "\n",
        "    # Output results\n",
        "    print(f\"T-statistic: {t_stat}\")\n",
        "    print(f\"Degrees of Freedom: {df}\")\n",
        "    print(f\"P-value: {p_value}\")\n",
        "\n",
        "    # Decision\n",
        "    alpha = 0.05\n",
        "    if p_value < alpha:\n",
        "        print(\"Reject the null hypothesis: There is a significant difference in quality between the two product versions.\")\n",
        "    else:\n",
        "        print(\"Fail to reject the null hypothesis: There is no significant difference in quality between the two product versions.\")\n",
        "\n",
        "# Data\n",
        "version1_scores = [85, 88, 82, 89, 87, 84, 90, 88, 85, 86, 91, 83, 87, 84, 89, 86, 84, 88, 85, 86, 89, 90, 87, 88, 85]\n",
        "version2_scores = [80, 78, 83, 81, 79, 82, 76, 80, 78, 81, 77, 82, 80, 79, 82, 79, 80, 81, 79, 82, 79, 78, 80, 81, 82]\n",
        "\n",
        "# Perform analysis\n",
        "analyze_product_quality(version1_scores, version2_scores)\n"
      ],
      "metadata": {
        "colab": {
          "base_uri": "https://localhost:8080/"
        },
        "id": "rAW88rJVnRoD",
        "outputId": "4041ffe6-ef70-4c63-c5d7-cc6b53b9e33f"
      },
      "execution_count": 11,
      "outputs": [
        {
          "output_type": "stream",
          "name": "stdout",
          "text": [
            "T-statistic: 11.325830417646698\n",
            "Degrees of Freedom: 44.47061033283036\n",
            "P-value: 1.0658141036401503e-14\n",
            "Reject the null hypothesis: There is a significant difference in quality between the two product versions.\n"
          ]
        }
      ]
    },
    {
      "cell_type": "markdown",
      "source": [
        "# 20. A restaurant chain collects customer satisfaction scores for two different branches. Write a program to analyze the scores, calculate the t-statistic, and determine if there's a statistically significant difference in customer satisfaction between the branches.\n",
        "\n",
        " **Use the below data of scores:**\n",
        " ```python\n",
        " branch_a_scores = [4, 5, 3, 4, 5, 4, 5, 3, 4, 4, 5, 4, 4, 3, 4, 5, 5, 4, 3, 4, 5, 4, 3, 5, 4, 4, 5, 3, 4, 5, 4]\n",
        " branch_b_scores = [3, 4, 2, 3, 4, 3, 4, 2, 3, 3, 4, 3, 3, 2, 3, 4, 4, 3, 2, 3, 4, 3, 2, 4, 3, 3, 4, 2, 3, 4, 3]\n",
        " ```"
      ],
      "metadata": {
        "id": "AybJDqJwnV7K"
      }
    },
    {
      "cell_type": "code",
      "source": [
        "import numpy as np\n",
        "from scipy.stats import t\n",
        "\n",
        "def analyze_customer_satisfaction(branch_a_scores, branch_b_scores):\n",
        "    # Calculate sample statistics\n",
        "    mean_a = np.mean(branch_a_scores)\n",
        "    mean_b = np.mean(branch_b_scores)\n",
        "    std_a = np.std(branch_a_scores, ddof=1)  # Sample standard deviation\n",
        "    std_b = np.std(branch_b_scores, ddof=1)\n",
        "    n_a = len(branch_a_scores)\n",
        "    n_b = len(branch_b_scores)\n",
        "\n",
        "    # Calculate the t-statistic\n",
        "    pooled_std = np.sqrt(((std_a**2) / n_a) + ((std_b**2) / n_b))\n",
        "    t_stat = (mean_a - mean_b) / pooled_std\n",
        "\n",
        "    # Degrees of freedom (using Welch-Satterthwaite equation)\n",
        "    df = ((std_a**2 / n_a + std_b**2 / n_b)**2) / \\\n",
        "         (((std_a**2 / n_a)**2 / (n_a - 1)) + ((std_b**2 / n_b)**2 / (n_b - 1)))\n",
        "\n",
        "    # Calculate the p-value (two-tailed test)\n",
        "    p_value = 2 * (1 - t.cdf(abs(t_stat), df))\n",
        "\n",
        "    # Output results\n",
        "    print(f\"T-statistic: {t_stat}\")\n",
        "    print(f\"Degrees of Freedom: {df}\")\n",
        "    print(f\"P-value: {p_value}\")\n",
        "\n",
        "    # Decision\n",
        "    alpha = 0.05\n",
        "    if p_value < alpha:\n",
        "        print(\"Reject the null hypothesis: There is a statistically significant difference in customer satisfaction between the two branches.\")\n",
        "    else:\n",
        "        print(\"Fail to reject the null hypothesis: There is no statistically significant difference in customer satisfaction between the two branches.\")\n",
        "\n",
        "# Data\n",
        "branch_a_scores = [4, 5, 3, 4, 5, 4, 5, 3, 4, 4, 5, 4, 4, 3, 4, 5, 5, 4, 3, 4, 5, 4, 3, 5, 4, 4, 5, 3, 4, 5, 4]\n",
        "branch_b_scores = [3, 4, 2, 3, 4, 3, 4, 2, 3, 3, 4, 3, 3, 2, 3, 4, 4, 3, 2, 3, 4, 3, 2, 4, 3, 3, 4, 2, 3, 4, 3]\n",
        "\n",
        "# Perform analysis\n",
        "analyze_customer_satisfaction(branch_a_scores, branch_b_scores)\n"
      ],
      "metadata": {
        "colab": {
          "base_uri": "https://localhost:8080/"
        },
        "id": "SSOXKYxjnyBq",
        "outputId": "fc23199c-0d75-416a-d772-e3c3baa0b05f"
      },
      "execution_count": 12,
      "outputs": [
        {
          "output_type": "stream",
          "name": "stdout",
          "text": [
            "T-statistic: 5.480077554195743\n",
            "Degrees of Freedom: 60.0\n",
            "P-value: 8.895290508625919e-07\n",
            "Reject the null hypothesis: There is a statistically significant difference in customer satisfaction between the two branches.\n"
          ]
        }
      ]
    },
    {
      "cell_type": "markdown",
      "source": [
        "# 21. A political analyst wants to determine if there is a significant association between age groups and voter preferences (Candidate A or Candidate B).They collect data from a sample of 500 voters and classify  them into different age groups and candidate preferences. Perform a Chi-Square test to determine if there is a significant association between age groups and voter preferences.\n",
        "\n",
        "\n",
        "\n",
        " **Use the below code to generate data:**\n",
        " ```python\n",
        " np.random.seed(0)\n",
        " age_groups = np.random.choice(['18-30', '31-50', '51+', '51+'], size=30)\n",
        " voter_preferences = np.random.choice(['Candidate A', 'Candidate B'], size=30)\n",
        " ```"
      ],
      "metadata": {
        "id": "2bNWcxcBn-nx"
      }
    },
    {
      "cell_type": "code",
      "source": [
        "import numpy as np\n",
        "import pandas as pd\n",
        "from scipy.stats import chi2_contingency\n",
        "\n",
        "def chi_square_test(age_groups, voter_preferences):\n",
        "    # Create a contingency table\n",
        "    data = pd.crosstab(age_groups, voter_preferences)\n",
        "    print(\"Contingency Table:\")\n",
        "    print(data)\n",
        "\n",
        "    # Perform Chi-Square Test\n",
        "    chi2_stat, p_value, dof, expected = chi2_contingency(data)\n",
        "\n",
        "    # Output results\n",
        "    print(f\"\\nChi-Square Statistic: {chi2_stat}\")\n",
        "    print(f\"Degrees of Freedom: {dof}\")\n",
        "    print(f\"Expected Frequencies:\\n{expected}\")\n",
        "    print(f\"P-value: {p_value}\")\n",
        "\n",
        "    # Decision\n",
        "    alpha = 0.05\n",
        "    if p_value < alpha:\n",
        "        print(\"Reject the null hypothesis: There is a significant association between age groups and voter preferences.\")\n",
        "    else:\n",
        "        print(\"Fail to reject the null hypothesis: There is no significant association between age groups and voter preferences.\")\n",
        "\n",
        "# Data generation\n",
        "np.random.seed(0)\n",
        "age_groups = np.random.choice(['18-30', '31-50', '51+', '51+'], size=30)\n",
        "voter_preferences = np.random.choice(['Candidate A', 'Candidate B'], size=30)\n",
        "\n",
        "# Perform Chi-Square Test\n",
        "chi_square_test(age_groups, voter_preferences)\n"
      ],
      "metadata": {
        "colab": {
          "base_uri": "https://localhost:8080/"
        },
        "id": "h2FpegiOoVkg",
        "outputId": "231d9754-3ed0-4e77-e8bf-a3994266fdd6"
      },
      "execution_count": 13,
      "outputs": [
        {
          "output_type": "stream",
          "name": "stdout",
          "text": [
            "Contingency Table:\n",
            "col_0  Candidate A  Candidate B\n",
            "row_0                          \n",
            "18-30            2            6\n",
            "31-50            4            4\n",
            "51+              5            9\n",
            "\n",
            "Chi-Square Statistic: 1.086807928913192\n",
            "Degrees of Freedom: 2\n",
            "Expected Frequencies:\n",
            "[[2.93333333 5.06666667]\n",
            " [2.93333333 5.06666667]\n",
            " [5.13333333 8.86666667]]\n",
            "P-value: 0.5807679703526951\n",
            "Fail to reject the null hypothesis: There is no significant association between age groups and voter preferences.\n"
          ]
        }
      ]
    },
    {
      "cell_type": "markdown",
      "source": [
        "# 22. A company conducted a customer satisfaction survey to determine if there is a significant relationship between product satisfaction levels (Satisfied, Neutral, Dissatisfied) and the region where customers are located (East, West, North, South). The survey data is summarized in a contingency table. Conduct a Chi Square test to determine if there is a significant relationship between product satisfaction levels and customer regions.\n",
        "\n",
        " **Sample data:**\n",
        " ```python\n",
        "  Product satisfaction levels (rows) vs. Customer regions (columns)\n",
        " data = np.array([[50, 30, 40, 20], [30, 40, 30, 50], [20, 30, 40, 30]])\n",
        " ```"
      ],
      "metadata": {
        "id": "5Dm5wBjro6h9"
      }
    },
    {
      "cell_type": "code",
      "source": [
        "import numpy as np\n",
        "from scipy.stats import chi2_contingency\n",
        "\n",
        "# Sample data: Product satisfaction levels (rows) vs. Customer regions (columns)\n",
        "data = np.array([[50, 30, 40, 20],  # Satisfied\n",
        "                 [30, 40, 30, 50],  # Neutral\n",
        "                 [20, 30, 40, 30]])  # Dissatisfied\n",
        "\n",
        "# Perform Chi-Square Test\n",
        "chi2_stat, p_value, dof, expected = chi2_contingency(data)\n",
        "\n",
        "# Output results\n",
        "print(\"Contingency Table:\")\n",
        "print(data)\n",
        "print(f\"\\nChi-Square Statistic: {chi2_stat}\")\n",
        "print(f\"Degrees of Freedom: {dof}\")\n",
        "print(f\"Expected Frequencies:\\n{expected}\")\n",
        "print(f\"P-value: {p_value}\")\n",
        "\n",
        "# Decision\n",
        "alpha = 0.05\n",
        "if p_value < alpha:\n",
        "    print(\"Reject the null hypothesis: There is a significant relationship between product satisfaction levels and customer regions.\")\n",
        "else:\n",
        "    print(\"Fail to reject the null hypothesis: There is no significant relationship between product satisfaction levels and customer regions.\")\n"
      ],
      "metadata": {
        "colab": {
          "base_uri": "https://localhost:8080/"
        },
        "id": "cf3ypX6YpfuH",
        "outputId": "64276f4c-ef1a-48c1-b603-82c8a7f9a497"
      },
      "execution_count": 14,
      "outputs": [
        {
          "output_type": "stream",
          "name": "stdout",
          "text": [
            "Contingency Table:\n",
            "[[50 30 40 20]\n",
            " [30 40 30 50]\n",
            " [20 30 40 30]]\n",
            "\n",
            "Chi-Square Statistic: 27.777056277056275\n",
            "Degrees of Freedom: 6\n",
            "Expected Frequencies:\n",
            "[[34.14634146 34.14634146 37.56097561 34.14634146]\n",
            " [36.58536585 36.58536585 40.24390244 36.58536585]\n",
            " [29.26829268 29.26829268 32.19512195 29.26829268]]\n",
            "P-value: 0.00010349448486004387\n",
            "Reject the null hypothesis: There is a significant relationship between product satisfaction levels and customer regions.\n"
          ]
        }
      ]
    },
    {
      "cell_type": "markdown",
      "source": [
        "# 23. A company implemented an employee training program to improve job performance (Effective, Neutral,Ineffective). After the training, they collected data from a sample of employees and classified them based on their job performance before and after the training. Perform a Chi-Square test to determine if there is a significant difference between job performance levels before and after the training.\n",
        " **Sample data:**\n",
        " ```python\n",
        " data = np.array([[50, 30, 20], [30, 40, 30], [20, 30, 40]])\n",
        " ```"
      ],
      "metadata": {
        "id": "i6B9E-Kup6d2"
      }
    },
    {
      "cell_type": "code",
      "source": [
        "import numpy as np\n",
        "from scipy.stats import chi2_contingency\n",
        "\n",
        "# Sample data: Job performance before and after the training (rows: Before, columns: After)\n",
        "data = np.array([[50, 30, 20],  # Before Training - Effective, Neutral, Ineffective\n",
        "                 [30, 40, 30],  # After Training - Effective, Neutral, Ineffective\n",
        "                 [20, 30, 40]])  # After Training - Effective, Neutral, Ineffective\n",
        "\n",
        "# Perform Chi-Square Test\n",
        "chi2_stat, p_value, dof, expected = chi2_contingency(data)\n",
        "\n",
        "# Output results\n",
        "print(\"Contingency Table:\")\n",
        "print(data)\n",
        "print(f\"\\nChi-Square Statistic: {chi2_stat}\")\n",
        "print(f\"Degrees of Freedom: {dof}\")\n",
        "print(f\"Expected Frequencies:\\n{expected}\")\n",
        "print(f\"P-value: {p_value}\")\n",
        "\n",
        "# Decision\n",
        "alpha = 0.05\n",
        "if p_value < alpha:\n",
        "    print(\"Reject the null hypothesis: There is a significant difference in job performance before and after training.\")\n",
        "else:\n",
        "    print(\"Fail to reject the null hypothesis: There is no significant difference in job performance before and after training.\")\n"
      ],
      "metadata": {
        "colab": {
          "base_uri": "https://localhost:8080/"
        },
        "id": "Mv3aEebUqP_W",
        "outputId": "9a3b3be7-52e7-4acb-c714-adcf29c43be5"
      },
      "execution_count": 15,
      "outputs": [
        {
          "output_type": "stream",
          "name": "stdout",
          "text": [
            "Contingency Table:\n",
            "[[50 30 20]\n",
            " [30 40 30]\n",
            " [20 30 40]]\n",
            "\n",
            "Chi-Square Statistic: 22.161728395061726\n",
            "Degrees of Freedom: 4\n",
            "Expected Frequencies:\n",
            "[[34.48275862 34.48275862 31.03448276]\n",
            " [34.48275862 34.48275862 31.03448276]\n",
            " [31.03448276 31.03448276 27.93103448]]\n",
            "P-value: 0.00018609719479882557\n",
            "Reject the null hypothesis: There is a significant difference in job performance before and after training.\n"
          ]
        }
      ]
    },
    {
      "cell_type": "markdown",
      "source": [
        "# 24. A company produces three different versions of a product: Standard, Premium, and Deluxe. The company wants to determine if there is a significant difference in customer satisfaction scores among the three product versions. They conducted a survey and collected customer satisfaction scores for each # version from a random sample of customers. Perform an ANOVA test to determine if there is a significant difference in customer satisfaction scores.\n",
        " **Use the following data:**\n",
        " ```python\n",
        " # Sample data: Customer satisfaction scores for each product version\n",
        " standard_scores = [80, 85, 90, 78, 88, 82, 92, 78, 85, 87]\n",
        " premium_scores = [90, 92, 88, 92, 95, 91, 96, 93, 89, 93]\n",
        " deluxe_scores = [95, 98, 92, 97, 96, 94, 98, 97, 92, 99]\n",
        " ```"
      ],
      "metadata": {
        "id": "NVC6MZX5qUVU"
      }
    },
    {
      "cell_type": "code",
      "source": [
        "import numpy as np\n",
        "from scipy.stats import f_oneway\n",
        "\n",
        "# Sample data: Customer satisfaction scores for each product version\n",
        "standard_scores = [80, 85, 90, 78, 88, 82, 92, 78, 85, 87]\n",
        "premium_scores = [90, 92, 88, 92, 95, 91, 96, 93, 89, 93]\n",
        "deluxe_scores = [95, 98, 92, 97, 96, 94, 98, 97, 92, 99]\n",
        "\n",
        "# Perform ANOVA\n",
        "f_stat, p_value = f_oneway(standard_scores, premium_scores, deluxe_scores)\n",
        "\n",
        "# Output results\n",
        "print(f\"F-statistic: {f_stat}\")\n",
        "print(f\"P-value: {p_value}\")\n",
        "\n",
        "# Decision\n",
        "alpha = 0.05\n",
        "if p_value < alpha:\n",
        "    print(\"Reject the null hypothesis: There is a significant difference in customer satisfaction scores among the product versions.\")\n",
        "else:\n",
        "    print(\"Fail to reject the null hypothesis: There is no significant difference in customer satisfaction scores among the product versions.\")\n"
      ],
      "metadata": {
        "colab": {
          "base_uri": "https://localhost:8080/"
        },
        "id": "sXG47Lpoq0yc",
        "outputId": "a4a21740-4b4a-4c47-b364-2636976f4cd5"
      },
      "execution_count": 16,
      "outputs": [
        {
          "output_type": "stream",
          "name": "stdout",
          "text": [
            "F-statistic: 27.03556231003039\n",
            "P-value: 3.5786328857349003e-07\n",
            "Reject the null hypothesis: There is a significant difference in customer satisfaction scores among the product versions.\n"
          ]
        }
      ]
    }
  ]
}