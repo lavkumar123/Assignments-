{
  "cells": [
    {
      "cell_type": "markdown",
      "metadata": {
        "id": "m7-dGeg3A4z8"
      },
      "source": [
        "# 1.Discuss string slicing and provide examples.\n",
        "**Ans:-** String slicing in programming refers to the process of extracting a portion (or \"slice\") of a string. In many programming languages like Python, this is done using indexing, which allows you to access specific parts of the string based on their position.\n",
        "\n",
        "**Syntax:**\n",
        "\n",
        "         string[start:end:step]\n",
        "**start:** The starting index (inclusive). If omitted, it defaults to the beginning of the string.\n",
        "\n",
        "**end:** The ending index (exclusive). If omitted, it defaults to the end of the string.\n",
        "\n",
        "**step:** The interval between characters. If omitted, it defaults to 1.\n",
        "\n",
        "**Examples:**\n",
        "\n",
        "**1. Basic Slicing:**"
      ]
    },
    {
      "cell_type": "code",
      "execution_count": 1,
      "metadata": {
        "colab": {
          "base_uri": "https://localhost:8080/"
        },
        "id": "jYTdU0LhCQtu",
        "outputId": "60a7a479-9f42-41dd-d63e-7df40ede2e04"
      },
      "outputs": [
        {
          "name": "stdout",
          "output_type": "stream",
          "text": [
            "Hello\n"
          ]
        }
      ],
      "source": [
        "text = \"Hello, World!\"\n",
        "print(text[0:5])  # Output: Hello\n"
      ]
    },
    {
      "cell_type": "markdown",
      "metadata": {
        "id": "-D5HAYQ2CVyK"
      },
      "source": [
        "**2. Omitting Start and End:**"
      ]
    },
    {
      "cell_type": "code",
      "execution_count": 2,
      "metadata": {
        "colab": {
          "base_uri": "https://localhost:8080/"
        },
        "id": "vowlM-szCmxt",
        "outputId": "96de8cc6-20c4-40ea-f56f-f5e405a7852f"
      },
      "outputs": [
        {
          "name": "stdout",
          "output_type": "stream",
          "text": [
            "Hello\n",
            "World!\n"
          ]
        }
      ],
      "source": [
        "print(text[:5])    # Output: Hello\n",
        "print(text[7:])    # Output: World!\n"
      ]
    },
    {
      "cell_type": "markdown",
      "metadata": {
        "id": "TyvIIWxCCsSl"
      },
      "source": [
        "**3. Negative Indexing:**"
      ]
    },
    {
      "cell_type": "code",
      "execution_count": 3,
      "metadata": {
        "colab": {
          "base_uri": "https://localhost:8080/"
        },
        "id": "kpqN2lc1C0lL",
        "outputId": "050dc7c9-86a7-40c4-f84e-533a0987f7ee"
      },
      "outputs": [
        {
          "name": "stdout",
          "output_type": "stream",
          "text": [
            "World!\n"
          ]
        }
      ],
      "source": [
        "print(text[-6:])   # Output: World!\n"
      ]
    },
    {
      "cell_type": "markdown",
      "metadata": {
        "id": "TMJazxjXDBA8"
      },
      "source": [
        "**4. Slicing with Steps:**"
      ]
    },
    {
      "cell_type": "code",
      "execution_count": 4,
      "metadata": {
        "colab": {
          "base_uri": "https://localhost:8080/"
        },
        "id": "VMAwpCBADGPH",
        "outputId": "ff031695-23f9-40f9-fdcd-a89be0f31441"
      },
      "outputs": [
        {
          "name": "stdout",
          "output_type": "stream",
          "text": [
            "Hlo ol!\n"
          ]
        }
      ],
      "source": [
        "print(text[0:13:2])   # Output: Hlo ol!\n"
      ]
    },
    {
      "cell_type": "markdown",
      "metadata": {
        "id": "0A9tdCYyDW66"
      },
      "source": [
        "**5. Reversing a String:**"
      ]
    },
    {
      "cell_type": "code",
      "execution_count": 5,
      "metadata": {
        "colab": {
          "base_uri": "https://localhost:8080/"
        },
        "id": "BhA3AeqGDgFB",
        "outputId": "0e338929-2a6f-4824-9c53-1c25c53edd0a"
      },
      "outputs": [
        {
          "name": "stdout",
          "output_type": "stream",
          "text": [
            "!dlroW ,olleH\n"
          ]
        }
      ],
      "source": [
        "print(text[::-1])  # Output: !dlroW ,olleH\n"
      ]
    },
    {
      "cell_type": "markdown",
      "metadata": {
        "id": "r_Bz5_UDD8he"
      },
      "source": [
        "# 2. Explain the key features of lists in Python.\n",
        "**Ans:-** Lists in Python are one of the most versatile and commonly used data structures. They allow you to store collections of items (elements), which can be of different types, including other lists. Here are the key features of lists in Python:\n",
        "\n",
        "**1. Ordered Collection**\n",
        "\n",
        "  Lists maintain the order of elements. The order in which elements are inserted is the order in which they are accessed.\n",
        "  \n",
        "**Example:**"
      ]
    },
    {
      "cell_type": "code",
      "execution_count": 6,
      "metadata": {
        "colab": {
          "base_uri": "https://localhost:8080/"
        },
        "id": "oQwiAy0dE3Zf",
        "outputId": "836eaba0-3e8e-4a1a-e0ec-52bde6855f45"
      },
      "outputs": [
        {
          "name": "stdout",
          "output_type": "stream",
          "text": [
            "10\n"
          ]
        }
      ],
      "source": [
        "my_list = [10, 20, 30]\n",
        "print(my_list[0])  # Output: 10\n"
      ]
    },
    {
      "cell_type": "markdown",
      "metadata": {
        "id": "GsjouTC0E7om"
      },
      "source": [
        "**2. Mutable**\n",
        "\n",
        "Lists are mutable, meaning you can modify the elements after the list has been created.\n",
        "\n",
        "**Example:**\n"
      ]
    },
    {
      "cell_type": "code",
      "execution_count": 7,
      "metadata": {
        "colab": {
          "base_uri": "https://localhost:8080/"
        },
        "id": "IjSXvfFyFWAc",
        "outputId": "49b1087e-1ca0-44a9-e685-45aa30fe396a"
      },
      "outputs": [
        {
          "name": "stdout",
          "output_type": "stream",
          "text": [
            "[10, 25, 30]\n"
          ]
        }
      ],
      "source": [
        "my_list[1] = 25\n",
        "print(my_list)  # Output: [10, 25, 30]\n"
      ]
    },
    {
      "cell_type": "markdown",
      "metadata": {
        "id": "SRnqLzThFbDu"
      },
      "source": [
        "**3. Heterogeneous Elements**\n",
        "\n",
        "A list can contain elements of different data types, such as integers, strings, floats, and even other lists.\n",
        "\n",
        "**Example:**"
      ]
    },
    {
      "cell_type": "code",
      "execution_count": 8,
      "metadata": {
        "colab": {
          "base_uri": "https://localhost:8080/"
        },
        "id": "x70B9ZSiFvYW",
        "outputId": "097b502c-6a7f-4c65-dd1b-63c571259418"
      },
      "outputs": [
        {
          "name": "stdout",
          "output_type": "stream",
          "text": [
            "[1, 'Hello', 3.14, [2, 4, 6]]\n"
          ]
        }
      ],
      "source": [
        "my_list = [1, \"Hello\", 3.14, [2, 4, 6]]\n",
        "print(my_list)  # Output: [1, 'Hello', 3.14, [2, 4, 6]]\n"
      ]
    },
    {
      "cell_type": "markdown",
      "metadata": {
        "id": "87D7JdUoF0Fl"
      },
      "source": [
        "**4. Dynamic Size**\n",
        "\n",
        "Lists are dynamic, meaning you can add or remove elements after the list is created, and its size changes automatically.\n",
        "\n",
        "**Example:**"
      ]
    },
    {
      "cell_type": "code",
      "execution_count": 9,
      "metadata": {
        "colab": {
          "base_uri": "https://localhost:8080/"
        },
        "id": "p47RwHqMGA4I",
        "outputId": "7758f23c-30c9-49fc-e9bd-017bb4ed3a88"
      },
      "outputs": [
        {
          "name": "stdout",
          "output_type": "stream",
          "text": [
            "[10, 20, 30]\n"
          ]
        }
      ],
      "source": [
        "my_list = [10, 20]\n",
        "my_list.append(30)  # Adds 30 to the list\n",
        "print(my_list)  # Output: [10, 20, 30]\n"
      ]
    },
    {
      "cell_type": "markdown",
      "metadata": {
        "id": "QETzPrkyGQHs"
      },
      "source": [
        "**5. Indexing and Slicing**\n",
        "\n",
        "Lists support indexing (both positive and negative) and slicing to access or modify portions of the list.\n",
        "\n",
        "**Example:**"
      ]
    },
    {
      "cell_type": "code",
      "execution_count": 10,
      "metadata": {
        "colab": {
          "base_uri": "https://localhost:8080/"
        },
        "id": "Mb9QD6XDGaPK",
        "outputId": "087a4a38-ab4c-49ae-b918-ba733ec87ab0"
      },
      "outputs": [
        {
          "name": "stdout",
          "output_type": "stream",
          "text": [
            "30\n",
            "50\n",
            "[20, 30, 40]\n"
          ]
        }
      ],
      "source": [
        "my_list = [10, 20, 30, 40, 50]\n",
        "print(my_list[2])     # Output: 30 (positive indexing)\n",
        "print(my_list[-1])    # Output: 50 (negative indexing)\n",
        "print(my_list[1:4])   # Output: [20, 30, 40] (slicing)\n"
      ]
    },
    {
      "cell_type": "markdown",
      "metadata": {
        "id": "vakjk4eNGpwc"
      },
      "source": [
        "**6. Methods for List Manipulation**\n",
        "\n",
        "Lists come with many built-in methods for manipulation:\n",
        "\n",
        "**append():** Adds an element to the end of the list.\n",
        "\n",
        "**insert():** Adds an element at a specific position.\n",
        "\n",
        "**remove():** Removes the first occurrence of a value.\n",
        "\n",
        "**pop():** Removes an element at a given index (default is the last element).\n",
        "\n",
        "**sort():** Sorts the list in ascending order.\n",
        "\n",
        "**reverse():** Reverses the list order.\n",
        "\n",
        "**extend():** Extends the list by appending elements from another list.\n",
        "\n",
        "**Example:**\n"
      ]
    },
    {
      "cell_type": "code",
      "execution_count": 11,
      "metadata": {
        "colab": {
          "base_uri": "https://localhost:8080/"
        },
        "id": "T1ggT31OHINh",
        "outputId": "7074e991-8c24-42e9-e8fe-5427e936beb7"
      },
      "outputs": [
        {
          "name": "stdout",
          "output_type": "stream",
          "text": [
            "[40, 30, 10]\n"
          ]
        }
      ],
      "source": [
        "my_list = [10, 20, 30]\n",
        "my_list.append(40)      # Adds 40 to the list\n",
        "my_list.remove(20)      # Removes 20 from the list\n",
        "my_list.reverse()       # Reverses the list\n",
        "print(my_list)          # Output: [40, 30, 10]\n"
      ]
    },
    {
      "cell_type": "markdown",
      "metadata": {
        "id": "Pi6OF2QOHhcD"
      },
      "source": [
        "**7. List Comprehension**\n",
        "\n",
        "Python supports list comprehensions for concise and readable creation of lists.\n",
        "\n",
        "**Example:**\n"
      ]
    },
    {
      "cell_type": "code",
      "execution_count": 12,
      "metadata": {
        "colab": {
          "base_uri": "https://localhost:8080/"
        },
        "id": "EVoOE9h7Hqfx",
        "outputId": "e309a3cb-35f7-46f7-af5c-f286b4a900c1"
      },
      "outputs": [
        {
          "name": "stdout",
          "output_type": "stream",
          "text": [
            "[0, 1, 4, 9, 16]\n"
          ]
        }
      ],
      "source": [
        "squares = [x**2 for x in range(5)]\n",
        "print(squares)  # Output: [0, 1, 4, 9, 16]\n"
      ]
    },
    {
      "cell_type": "markdown",
      "metadata": {
        "id": "vW4JrpM1H3PI"
      },
      "source": [
        "**8. Nested Lists**\n",
        "\n",
        "Lists can contain other lists (called nested lists), making them useful for representing matrices or multi-dimensional data.\n",
        "\n",
        "**Example:**"
      ]
    },
    {
      "cell_type": "code",
      "execution_count": 13,
      "metadata": {
        "colab": {
          "base_uri": "https://localhost:8080/"
        },
        "id": "CdyLiWlUH_Ql",
        "outputId": "c2ef4d9f-ec99-414d-b763-21d266bfee36"
      },
      "outputs": [
        {
          "name": "stdout",
          "output_type": "stream",
          "text": [
            "6\n"
          ]
        }
      ],
      "source": [
        "matrix = [[1, 2, 3], [4, 5, 6], [7, 8, 9]]\n",
        "print(matrix[1][2])  # Output: 6\n"
      ]
    },
    {
      "cell_type": "markdown",
      "metadata": {
        "id": "tg4YdU9VIcZI"
      },
      "source": [
        "**9. Iterable**\n",
        "\n",
        "Lists are iterable, meaning you can loop through their elements using a for loop or similar constructs.\n",
        "\n",
        "**Example:**"
      ]
    },
    {
      "cell_type": "code",
      "execution_count": 14,
      "metadata": {
        "colab": {
          "base_uri": "https://localhost:8080/"
        },
        "id": "rt_J0_GaIhtl",
        "outputId": "6dd30626-7e11-4cd6-a7df-0a97a85f9b5e"
      },
      "outputs": [
        {
          "name": "stdout",
          "output_type": "stream",
          "text": [
            "10\n",
            "20\n",
            "30\n"
          ]
        }
      ],
      "source": [
        "for item in [10, 20, 30]:\n",
        "    print(item)\n",
        "# Output:\n",
        "# 10\n",
        "# 20\n",
        "# 30\n"
      ]
    },
    {
      "cell_type": "markdown",
      "metadata": {
        "id": "xBDHSdq1Ivfl"
      },
      "source": [
        "**10. Memory Efficient**\n",
        "\n",
        "Lists are implemented as dynamic arrays, which allows them to grow dynamically in memory without the need for manual reallocation."
      ]
    },
    {
      "cell_type": "markdown",
      "metadata": {
        "id": "erXOV_IAIz5U"
      },
      "source": [
        "# 3. Describe how to access, modify, and delete elements in a list with examples\n",
        "\n",
        "**Ans:-** In Python, lists are flexible and allow you to easily access, modify, and delete elements using different techniques. Below is a detailed explanation of how to perform these actions with examples.\n",
        "\n",
        "**1. Accessing Elements in a List**\n",
        "\n",
        "  You can access elements in a list using indexing or slicing. Indexing is used to access individual elements, while slicing allows you to access a range of elements.\n",
        "\n",
        "**a. Using Indexing:**\n",
        "\n",
        "Indexing starts at 0 for the first element and -1 for the last element.\n",
        "\n",
        "Example:"
      ]
    },
    {
      "cell_type": "code",
      "execution_count": 15,
      "metadata": {
        "colab": {
          "base_uri": "https://localhost:8080/"
        },
        "id": "sJhGv86rKI_s",
        "outputId": "f74ffa1a-eb0e-4d91-f57c-8f39a5d8374f"
      },
      "outputs": [
        {
          "name": "stdout",
          "output_type": "stream",
          "text": [
            "10\n",
            "30\n",
            "50\n"
          ]
        }
      ],
      "source": [
        "my_list = [10, 20, 30, 40, 50]\n",
        "print(my_list[0])    # Output: 10 (First element)\n",
        "print(my_list[2])    # Output: 30 (Third element)\n",
        "print(my_list[-1])   # Output: 50 (Last element)\n"
      ]
    },
    {
      "cell_type": "markdown",
      "metadata": {
        "id": "q6KhsW24KM1L"
      },
      "source": [
        "**b. Using Slicing:**\n",
        "\n",
        "You can access multiple elements using slicing (list[start:end]), where start is inclusive, and end is exclusive.\n",
        "\n",
        "Example:"
      ]
    },
    {
      "cell_type": "code",
      "execution_count": 16,
      "metadata": {
        "colab": {
          "base_uri": "https://localhost:8080/"
        },
        "id": "ozposBHzKbWu",
        "outputId": "d3e81740-5535-469d-8996-eb863781299a"
      },
      "outputs": [
        {
          "name": "stdout",
          "output_type": "stream",
          "text": [
            "[20, 30, 40]\n",
            "[10, 20, 30]\n",
            "[30, 40, 50]\n"
          ]
        }
      ],
      "source": [
        "print(my_list[1:4])  # Output: [20, 30, 40] (Elements from index 1 to 3)\n",
        "print(my_list[:3])   # Output: [10, 20, 30] (Elements from start to index 2)\n",
        "print(my_list[2:])   # Output: [30, 40, 50] (Elements from index 2 to the end)\n"
      ]
    },
    {
      "cell_type": "markdown",
      "metadata": {
        "id": "CxEPOazaKh07"
      },
      "source": [
        "**2. Modifying Elements in a List**\n",
        "\n",
        "Lists are mutable, meaning you can change individual elements or ranges of elements using indexing or slicing.\n",
        "\n",
        "**a. Modify a Single Element:**\n",
        "\n",
        "You can assign a new value to a specific element by accessing it via its index.\n",
        "\n",
        "Example:"
      ]
    },
    {
      "cell_type": "code",
      "execution_count": 17,
      "metadata": {
        "colab": {
          "base_uri": "https://localhost:8080/"
        },
        "id": "3_1X287xKzVT",
        "outputId": "a002ae11-c70b-4e72-9497-c11f7cabc20b"
      },
      "outputs": [
        {
          "name": "stdout",
          "output_type": "stream",
          "text": [
            "[10, 25, 30, 40, 50]\n"
          ]
        }
      ],
      "source": [
        "my_list[1] = 25\n",
        "print(my_list)  # Output: [10, 25, 30, 40, 50] (Modified second element)\n"
      ]
    },
    {
      "cell_type": "markdown",
      "metadata": {
        "id": "2oBFNwRCK7xh"
      },
      "source": [
        "**b. Modify Multiple Elements Using Slicing:**\n",
        "\n",
        "You can replace a slice of the list with new values.\n",
        "\n",
        "Example:"
      ]
    },
    {
      "cell_type": "code",
      "execution_count": 18,
      "metadata": {
        "colab": {
          "base_uri": "https://localhost:8080/"
        },
        "id": "aJ0wxbSvK_Xv",
        "outputId": "f2000894-b31a-43f6-8bef-906e440c1a5e"
      },
      "outputs": [
        {
          "name": "stdout",
          "output_type": "stream",
          "text": [
            "[10, 200, 300, 40, 50]\n"
          ]
        }
      ],
      "source": [
        "my_list[1:3] = [200, 300]\n",
        "print(my_list)  # Output: [10, 200, 300, 40, 50] (Replaced two elements)\n"
      ]
    },
    {
      "cell_type": "markdown",
      "metadata": {
        "id": "BwJaUmWMLCxo"
      },
      "source": [
        "**c. Add New Elements:**\n",
        "\n",
        "You can append elements at the end using append() or insert elements at specific positions using insert().\n",
        "\n",
        "Example:"
      ]
    },
    {
      "cell_type": "code",
      "execution_count": 19,
      "metadata": {
        "colab": {
          "base_uri": "https://localhost:8080/"
        },
        "id": "5OadRO6SLKk2",
        "outputId": "e30cf43b-339c-497d-aafe-e4840880053e"
      },
      "outputs": [
        {
          "name": "stdout",
          "output_type": "stream",
          "text": [
            "[10, 200, 300, 40, 50, 60]\n",
            "[10, 200, 150, 300, 40, 50, 60]\n"
          ]
        }
      ],
      "source": [
        "my_list.append(60)\n",
        "print(my_list)  # Output: [10, 200, 300, 40, 50, 60] (Added element at the end)\n",
        "\n",
        "my_list.insert(2, 150)\n",
        "print(my_list)  # Output: [10, 200, 150, 300, 40, 50, 60] (Inserted 150 at index 2)\n"
      ]
    },
    {
      "cell_type": "markdown",
      "metadata": {
        "id": "fg8cPMq4LfFi"
      },
      "source": [
        "**3. Deleting Elements from a List**\n",
        "\n",
        "Python provides several ways to remove elements from a list, including using the del statement, remove(), and pop().\n",
        "\n",
        "**a. Using del Statement:**\n",
        "\n",
        "You can delete a single element or a slice of elements.\n",
        "\n",
        "Example:"
      ]
    },
    {
      "cell_type": "code",
      "execution_count": 20,
      "metadata": {
        "colab": {
          "base_uri": "https://localhost:8080/"
        },
        "id": "Jcg5X1k3Loeq",
        "outputId": "1428776e-ac7d-4ff3-d5dc-59586d09fb6b"
      },
      "outputs": [
        {
          "name": "stdout",
          "output_type": "stream",
          "text": [
            "[10, 200, 300, 40, 50, 60]\n",
            "[10, 40, 50, 60]\n"
          ]
        }
      ],
      "source": [
        "del my_list[2]      # Deletes the element at index 2\n",
        "print(my_list)      # Output: [10, 200, 300, 40, 50, 60]\n",
        "\n",
        "del my_list[1:3]    # Deletes a slice from index 1 to 2\n",
        "print(my_list)      # Output: [10, 40, 50, 60]\n"
      ]
    },
    {
      "cell_type": "markdown",
      "metadata": {
        "id": "2TX6-8jELuNK"
      },
      "source": [
        "**b. Using remove() Method:**\n",
        "\n",
        "remove() deletes the first occurrence of a specified value.\n",
        "\n",
        "Example:"
      ]
    },
    {
      "cell_type": "code",
      "execution_count": 21,
      "metadata": {
        "colab": {
          "base_uri": "https://localhost:8080/"
        },
        "id": "2vvfDSmkL3ru",
        "outputId": "f5cbed26-bcab-4079-e962-a15e0e0d33d9"
      },
      "outputs": [
        {
          "name": "stdout",
          "output_type": "stream",
          "text": [
            "[10, 40, 60]\n"
          ]
        }
      ],
      "source": [
        "my_list.remove(50)\n",
        "print(my_list)  # Output: [10, 40, 60] (Removed the first occurrence of 50)\n"
      ]
    },
    {
      "cell_type": "markdown",
      "metadata": {
        "id": "NPdlW0mjMDqe"
      },
      "source": [
        "**c. Using pop() Method:**\n",
        "\n",
        "pop() removes and returns the element at a specified index. If no index is provided, it removes the last element.\n",
        "\n",
        "Example:"
      ]
    },
    {
      "cell_type": "code",
      "execution_count": 22,
      "metadata": {
        "colab": {
          "base_uri": "https://localhost:8080/"
        },
        "id": "k4MVTzwgMPV4",
        "outputId": "587f5f25-4b7e-48bd-812b-7c8994b35b08"
      },
      "outputs": [
        {
          "name": "stdout",
          "output_type": "stream",
          "text": [
            "60\n",
            "[10, 40]\n",
            "40\n",
            "[10]\n"
          ]
        }
      ],
      "source": [
        "last_element = my_list.pop()   # Removes and returns the last element\n",
        "print(last_element)            # Output: 60\n",
        "print(my_list)                 # Output: [10, 40]\n",
        "\n",
        "second_element = my_list.pop(1) # Removes and returns the element at index 1\n",
        "print(second_element)          # Output: 40\n",
        "print(my_list)                 # Output: [10]\n"
      ]
    },
    {
      "cell_type": "markdown",
      "metadata": {
        "id": "iBHI4SE_MZdm"
      },
      "source": [
        "# 4. Compare and contrast tuples and lists with examples\n",
        "\n",
        "**Ans:-** Tuples and lists are both built-in data structures in Python that allow you to store collections of items. However, they have distinct characteristics that make them suitable for different use cases. Below is a comparison of tuples and lists along with examples.\n",
        "\n",
        "**1. Mutability**\n",
        "\n",
        "* Lists are mutable, meaning you can change, add, or remove elements after the list has been created.\n",
        "\n",
        "* Tuples are immutable, meaning once a tuple is created, you cannot change its elements or its size.\n",
        "\n",
        "\n",
        "\n",
        "\n",
        "\n",
        "Example:"
      ]
    },
    {
      "cell_type": "code",
      "execution_count": 23,
      "metadata": {
        "colab": {
          "base_uri": "https://localhost:8080/"
        },
        "id": "-Xtyf8kjNQmU",
        "outputId": "4fcd42a1-1816-43c0-98d4-afe5d00c0a6f"
      },
      "outputs": [
        {
          "name": "stdout",
          "output_type": "stream",
          "text": [
            "[1, 20, 3, 4]\n",
            "(1, 2, 3)\n"
          ]
        }
      ],
      "source": [
        "# Lists (mutable)\n",
        "my_list = [1, 2, 3]\n",
        "my_list[1] = 20        # Modifying an element\n",
        "my_list.append(4)      # Adding an element\n",
        "print(my_list)         # Output: [1, 20, 3, 4]\n",
        "\n",
        "# Tuples (immutable)\n",
        "my_tuple = (1, 2, 3)\n",
        "# my_tuple[1] = 20     # This will raise a TypeError\n",
        "# my_tuple.append(4)   # This will also raise an AttributeError\n",
        "print(my_tuple)        # Output: (1, 2, 3)\n"
      ]
    },
    {
      "cell_type": "markdown",
      "metadata": {
        "id": "pu2LjShvNYjG"
      },
      "source": [
        "**2. Syntax**\n",
        "\n",
        "* Lists use square brackets [] for their creation.\n",
        "* Tuples use parentheses ().\n",
        "\n",
        "Example:"
      ]
    },
    {
      "cell_type": "code",
      "execution_count": 24,
      "metadata": {
        "id": "M4YofZKsNl3p"
      },
      "outputs": [],
      "source": [
        "my_list = [1, 2, 3]      # List\n",
        "my_tuple = (1, 2, 3)     # Tuple\n"
      ]
    },
    {
      "cell_type": "markdown",
      "metadata": {
        "id": "RjpGnzV4OC_I"
      },
      "source": [
        "**3. Use Cases**\n",
        "\n",
        "* Lists are typically used for collections of items that may need to be modified, such as when you need to add or remove elements.\n",
        "\n",
        "* Tuples are often used for fixed collections of items that should not change, such as representing coordinates, returning multiple values from a function, or storing records.\n",
        "\n",
        "Example:"
      ]
    },
    {
      "cell_type": "code",
      "execution_count": 25,
      "metadata": {
        "colab": {
          "base_uri": "https://localhost:8080/"
        },
        "id": "BEvCDmctORxF",
        "outputId": "05c7f50f-ba65-4238-c07d-d9c060e76481"
      },
      "outputs": [
        {
          "name": "stdout",
          "output_type": "stream",
          "text": [
            "['apple', 'banana', 'carrot', 'date']\n",
            "(10.0, 20.0)\n"
          ]
        }
      ],
      "source": [
        "# List use case\n",
        "grocery_list = ['apple', 'banana', 'carrot']\n",
        "grocery_list.append('date')  # Adding an item\n",
        "print(grocery_list)           # Output: ['apple', 'banana', 'carrot', 'date']\n",
        "\n",
        "# Tuple use case\n",
        "coordinates = (10.0, 20.0)    # Fixed set of coordinates\n",
        "print(coordinates)             # Output: (10.0, 20.0)\n"
      ]
    },
    {
      "cell_type": "markdown",
      "metadata": {
        "id": "pS4aLA0SOjLc"
      },
      "source": [
        "**4. Methods**\n",
        "\n",
        "* Lists come with many built-in methods such as append(), remove(), pop(), sort(), etc., for modifying the list.\n",
        "\n",
        "* Tuples have fewer built-in methods since they are immutable. The main methods are count() and index().\n",
        "\n",
        "Example:"
      ]
    },
    {
      "cell_type": "code",
      "execution_count": 26,
      "metadata": {
        "colab": {
          "base_uri": "https://localhost:8080/"
        },
        "id": "PfjDzJ0dOr_K",
        "outputId": "64170815-e719-4bc6-c762-af7122f4836a"
      },
      "outputs": [
        {
          "name": "stdout",
          "output_type": "stream",
          "text": [
            "[1, 2, 3, 4]\n",
            "2\n",
            "2\n"
          ]
        }
      ],
      "source": [
        "# List methods\n",
        "my_list = [1, 2, 3]\n",
        "my_list.append(4)            # Adds an element\n",
        "print(my_list)               # Output: [1, 2, 3, 4]\n",
        "\n",
        "# Tuple methods\n",
        "my_tuple = (1, 2, 3, 2)\n",
        "print(my_tuple.count(2))     # Output: 2 (Counts occurrences of 2)\n",
        "print(my_tuple.index(3))     # Output: 2 (Index of first occurrence of 3)\n"
      ]
    },
    {
      "cell_type": "markdown",
      "metadata": {
        "id": "o3A0mo6bO0fr"
      },
      "source": [
        "**6. Packing and Unpacking**\n",
        "\n",
        "* Both lists and tuples support packing and unpacking, which allows you to group and separate elements easily.\n",
        "\n",
        "Example:"
      ]
    },
    {
      "cell_type": "code",
      "execution_count": 27,
      "metadata": {
        "colab": {
          "base_uri": "https://localhost:8080/"
        },
        "id": "Lo5L0N64O60r",
        "outputId": "7334943b-f2bf-4671-c2a4-22a1143656d3"
      },
      "outputs": [
        {
          "name": "stdout",
          "output_type": "stream",
          "text": [
            "1 2 3\n",
            "1 2 3\n"
          ]
        }
      ],
      "source": [
        "# Packing\n",
        "my_tuple = (1, 2, 3)       # Packing into a tuple\n",
        "my_list = [1, 2, 3]        # Packing into a list\n",
        "\n",
        "# Unpacking\n",
        "a, b, c = my_tuple         # Unpacking tuple into variables\n",
        "print(a, b, c)             # Output: 1 2 3\n",
        "\n",
        "x, y, z = my_list          # Unpacking list into variables\n",
        "print(x, y, z)             # Output: 1 2 3\n"
      ]
    },
    {
      "cell_type": "markdown",
      "metadata": {
        "id": "VGzFKQSiPYuH"
      },
      "source": [
        "# 5. Describe the key features of sets and provide examples of their use\n",
        "**Ans:-**Sets in Python are a built-in data structure that allows you to store unique elements. They are useful for various operations involving collections of items. Here are the key features of sets, along with examples of their use:\n",
        "\n",
        "**Key Features of Sets**\n",
        "\n",
        "**1. Unordered Collection:**\n",
        "\n",
        "* Sets do not maintain any order. The elements are stored in a way that does not guarantee the order of insertion.\n",
        "\n",
        "Example:"
      ]
    },
    {
      "cell_type": "code",
      "execution_count": 28,
      "metadata": {
        "colab": {
          "base_uri": "https://localhost:8080/"
        },
        "id": "NCe910uqQmDG",
        "outputId": "80ec92d1-1d1f-4621-fe56-105feb704c4f"
      },
      "outputs": [
        {
          "name": "stdout",
          "output_type": "stream",
          "text": [
            "{1, 2, 3}\n"
          ]
        }
      ],
      "source": [
        "my_set = {3, 1, 2}\n",
        "print(my_set)  # Output: {1, 2, 3} (Order may vary)\n"
      ]
    },
    {
      "cell_type": "markdown",
      "metadata": {
        "id": "2MJ8rVt9QrEC"
      },
      "source": [
        "**2. Unique Elements:**\n",
        "\n",
        "* Sets automatically enforce uniqueness; duplicate elements are not allowed.\n",
        "\n",
        "Example:"
      ]
    },
    {
      "cell_type": "code",
      "execution_count": 29,
      "metadata": {
        "colab": {
          "base_uri": "https://localhost:8080/"
        },
        "id": "kqHcuIUgQ5SF",
        "outputId": "27c84125-5612-4154-96e2-080ab7f86b6e"
      },
      "outputs": [
        {
          "name": "stdout",
          "output_type": "stream",
          "text": [
            "{1, 2, 3}\n"
          ]
        }
      ],
      "source": [
        "my_set = {1, 2, 2, 3}\n",
        "print(my_set)  # Output: {1, 2, 3} (Duplicates are removed)\n"
      ]
    },
    {
      "cell_type": "markdown",
      "metadata": {
        "id": "RvVo0dywQ9Lr"
      },
      "source": [
        "**3. Mutable:**\n",
        "\n",
        "* Sets are mutable, which means you can add or remove elements after the set has been created.\n",
        "\n",
        "Example:"
      ]
    },
    {
      "cell_type": "code",
      "execution_count": 30,
      "metadata": {
        "colab": {
          "base_uri": "https://localhost:8080/"
        },
        "id": "nWEQfAZ-RKYu",
        "outputId": "14a3e37e-f638-416a-9936-714563147d68"
      },
      "outputs": [
        {
          "name": "stdout",
          "output_type": "stream",
          "text": [
            "{1, 3, 4}\n"
          ]
        }
      ],
      "source": [
        "my_set = {1, 2, 3}\n",
        "my_set.add(4)       # Adding an element\n",
        "my_set.remove(2)    # Removing an element\n",
        "print(my_set)       # Output: {1, 3, 4}\n"
      ]
    },
    {
      "cell_type": "markdown",
      "metadata": {
        "id": "Aaw2ECVdRRX1"
      },
      "source": [
        "**4. Supports Mathematical Set Operations:**\n",
        "\n",
        "* Sets support operations like union, intersection, difference, and symmetric difference.\n",
        "\n",
        "Example:"
      ]
    },
    {
      "cell_type": "code",
      "execution_count": 31,
      "metadata": {
        "colab": {
          "base_uri": "https://localhost:8080/"
        },
        "id": "wF98hZj2RjWQ",
        "outputId": "3f6b67d2-120d-4c70-b1c6-3295fe256f82"
      },
      "outputs": [
        {
          "name": "stdout",
          "output_type": "stream",
          "text": [
            "{1, 2, 3, 4, 5}\n",
            "{3}\n",
            "{1, 2}\n",
            "{1, 2, 4, 5}\n"
          ]
        }
      ],
      "source": [
        "set_a = {1, 2, 3}\n",
        "set_b = {3, 4, 5}\n",
        "\n",
        "# Union\n",
        "union_set = set_a | set_b\n",
        "print(union_set)  # Output: {1, 2, 3, 4, 5}\n",
        "\n",
        "# Intersection\n",
        "intersection_set = set_a & set_b\n",
        "print(intersection_set)  # Output: {3}\n",
        "\n",
        "# Difference\n",
        "difference_set = set_a - set_b\n",
        "print(difference_set)  # Output: {1, 2}\n",
        "\n",
        "# Symmetric Difference\n",
        "symmetric_difference_set = set_a ^ set_b\n",
        "print(symmetric_difference_set)  # Output: {1, 2, 4, 5}\n"
      ]
    },
    {
      "cell_type": "markdown",
      "metadata": {
        "id": "KSTqslQrRyaU"
      },
      "source": [
        "**5. No Indexing:**\n",
        "\n",
        "* Sets do not support indexing or slicing because they are unordered.\n",
        "\n",
        "Example:"
      ]
    },
    {
      "cell_type": "code",
      "execution_count": 32,
      "metadata": {
        "id": "v052e7xOR7DS"
      },
      "outputs": [],
      "source": [
        "my_set = {1, 2, 3}\n",
        "# print(my_set[0])  # This will raise a TypeError\n"
      ]
    },
    {
      "cell_type": "markdown",
      "metadata": {
        "id": "_n7uf_rCSBVJ"
      },
      "source": [
        "**6. Comprehension:**\n",
        "\n",
        "* Sets can be created using set comprehensions, allowing for concise construction.\n",
        "\n",
        "Example"
      ]
    },
    {
      "cell_type": "code",
      "execution_count": 33,
      "metadata": {
        "colab": {
          "base_uri": "https://localhost:8080/"
        },
        "id": "-MnFv039SU9x",
        "outputId": "9f0aad9b-5545-47b5-af93-3bfdd93506a3"
      },
      "outputs": [
        {
          "name": "stdout",
          "output_type": "stream",
          "text": [
            "{0, 1, 4, 9, 16}\n"
          ]
        }
      ],
      "source": [
        "squares_set = {x**2 for x in range(5)}\n",
        "print(squares_set)  # Output: {0, 1, 4, 9, 16}\n"
      ]
    },
    {
      "cell_type": "markdown",
      "metadata": {
        "id": "R89DwF9OSjIX"
      },
      "source": [
        "**7. Subset and Superset Operations:**\n",
        "\n",
        "* You can check if one set is a subset or superset of another.\n",
        "\n",
        "Example"
      ]
    },
    {
      "cell_type": "code",
      "execution_count": 34,
      "metadata": {
        "colab": {
          "base_uri": "https://localhost:8080/"
        },
        "id": "2Kq6Y7bDSpsa",
        "outputId": "f54d4a05-ecb2-4c74-9814-7b14993a525a"
      },
      "outputs": [
        {
          "name": "stdout",
          "output_type": "stream",
          "text": [
            "True\n",
            "True\n"
          ]
        }
      ],
      "source": [
        "set_a = {1, 2}\n",
        "set_b = {1, 2, 3, 4}\n",
        "\n",
        "print(set_a.issubset(set_b))  # Output: True\n",
        "print(set_b.issuperset(set_a)) # Output: True\n"
      ]
    },
    {
      "cell_type": "markdown",
      "metadata": {
        "id": "KASEfCe0Sw0u"
      },
      "source": [
        "**Use Cases of Sets**\n",
        "\n",
        "**1. Removing Duplicates:**\n",
        "\n",
        "* Sets are commonly used to remove duplicates from a list.\n",
        "\n",
        "Example:"
      ]
    },
    {
      "cell_type": "code",
      "execution_count": 35,
      "metadata": {
        "colab": {
          "base_uri": "https://localhost:8080/"
        },
        "id": "t4EqbsNQTEZn",
        "outputId": "fb2bf4be-c2c1-41a6-be37-e0f30583405d"
      },
      "outputs": [
        {
          "name": "stdout",
          "output_type": "stream",
          "text": [
            "{1, 2, 3, 4, 5}\n"
          ]
        }
      ],
      "source": [
        "my_list = [1, 2, 2, 3, 4, 4, 5]\n",
        "unique_elements = set(my_list)\n",
        "print(unique_elements)  # Output: {1, 2, 3, 4, 5}\n"
      ]
    },
    {
      "cell_type": "markdown",
      "metadata": {
        "id": "2QghHlmdTIcW"
      },
      "source": [
        "**2. Membership Testing:**\n",
        "\n",
        "* Checking for membership in a set is faster than in a list, making sets ideal for this purpose.\n",
        "\n",
        "Example"
      ]
    },
    {
      "cell_type": "code",
      "execution_count": 36,
      "metadata": {
        "colab": {
          "base_uri": "https://localhost:8080/"
        },
        "id": "x4_3QFljTROI",
        "outputId": "0a555f72-36d4-4edb-ce59-720f08fb4b02"
      },
      "outputs": [
        {
          "name": "stdout",
          "output_type": "stream",
          "text": [
            "True\n",
            "False\n"
          ]
        }
      ],
      "source": [
        "my_set = {1, 2, 3}\n",
        "print(2 in my_set)  # Output: True\n",
        "print(4 in my_set)  # Output: False\n"
      ]
    },
    {
      "cell_type": "markdown",
      "metadata": {
        "id": "52nlEwnXTb8g"
      },
      "source": [
        "**3. Mathematical Set Operations:**\n",
        "\n",
        "* Sets are useful for performing operations like finding common elements (intersection) or combining elements (union).\n",
        "\n",
        "Example:\n"
      ]
    },
    {
      "cell_type": "code",
      "execution_count": 37,
      "metadata": {
        "colab": {
          "base_uri": "https://localhost:8080/"
        },
        "id": "0R9qtgB5TkRo",
        "outputId": "f99ce080-830e-47a2-ed46-d75e4e17bedb"
      },
      "outputs": [
        {
          "name": "stdout",
          "output_type": "stream",
          "text": [
            "{'David', 'Bob', 'Charlie', 'Alice', 'Eve'}\n"
          ]
        }
      ],
      "source": [
        "students_math = {'Alice', 'Bob', 'Charlie'}\n",
        "students_science = {'Bob', 'David', 'Eve'}\n",
        "\n",
        "# Find students enrolled in either math or science\n",
        "all_students = students_math | students_science\n",
        "print(all_students)  # Output: {'Alice', 'Bob', 'Charlie', 'David', 'Eve'}\n"
      ]
    },
    {
      "cell_type": "markdown",
      "metadata": {
        "id": "z4fa85s-T5Wv"
      },
      "source": [
        "**4. Data Cleaning:**\n",
        "\n",
        "* Sets can be used in data preprocessing to ensure that a collection of items is unique before further analysis.\n",
        "\n",
        "Example:\n"
      ]
    },
    {
      "cell_type": "code",
      "execution_count": 38,
      "metadata": {
        "colab": {
          "base_uri": "https://localhost:8080/"
        },
        "id": "sGjE-RhSUR0O",
        "outputId": "a2c92a16-87f7-4155-e0f2-aabb1539171f"
      },
      "outputs": [
        {
          "name": "stdout",
          "output_type": "stream",
          "text": [
            "{'apple', 'orange', 'banana'}\n"
          ]
        }
      ],
      "source": [
        "data = [\"apple\", \"banana\", \"apple\", \"orange\", \"banana\"]\n",
        "cleaned_data = set(data)\n",
        "print(cleaned_data)  # Output: {'orange', 'banana', 'apple'}\n"
      ]
    },
    {
      "cell_type": "markdown",
      "metadata": {},
      "source": [
        "# 6. Discuss the use cases of tuples and sets in Python programming.\n",
        "\n",
        "**Ans:-** Tuples and sets are both fundamental data structures in Python, each with its unique characteristics that make them suitable for different programming scenarios. Below are the key use cases for each.\n",
        "\n",
        "**Use Cases of Tuples in Python**\n",
        "\n",
        "**1.Data Integrity:**\n",
        "\n",
        "* Tuples are immutable, making them ideal for representing fixed collections of data that should not change. For example, they can store configuration settings or constants.\n",
        "\n",
        "Example:\n"
      ]
    },
    {
      "cell_type": "code",
      "execution_count": 39,
      "metadata": {
        "id": "-ZOS51APV25P"
      },
      "outputs": [],
      "source": [
        "config = (\"localhost\", 8080, \"user\", \"password\")\n"
      ]
    },
    {
      "cell_type": "markdown",
      "metadata": {
        "id": "nsLPjikpWMPn"
      },
      "source": [
        "**2. Returning Multiple Values from Functions:**\n",
        "\n",
        "* Functions can return multiple values as a tuple, allowing you to return related pieces of information without creating a custom object.\n",
        "\n",
        "Example:\n"
      ]
    },
    {
      "cell_type": "code",
      "execution_count": 40,
      "metadata": {
        "colab": {
          "base_uri": "https://localhost:8080/"
        },
        "id": "N6xXyJpvWYKH",
        "outputId": "ecf3122d-518f-4bd0-b494-b7e5ef58eb01"
      },
      "outputs": [
        {
          "name": "stdout",
          "output_type": "stream",
          "text": [
            "Name: Alice, Age: 22, Major: Data Science\n"
          ]
        }
      ],
      "source": [
        "def get_student_info():\n",
        "    return (\"Alice\", 22, \"Data Science\")\n",
        "\n",
        "name, age, major = get_student_info()\n",
        "print(f\"Name: {name}, Age: {age}, Major: {major}\")\n"
      ]
    },
    {
      "cell_type": "markdown",
      "metadata": {
        "id": "2R06Dw5fWsPW"
      },
      "source": [
        "**3. Using Tuples as Dictionary Keys:**\n",
        "\n",
        "* Tuples can be used as keys in dictionaries since they are hashable. This is useful when you need to create composite keys from multiple elements.\n",
        "\n",
        "Example"
      ]
    },
    {
      "cell_type": "code",
      "execution_count": 41,
      "metadata": {
        "colab": {
          "base_uri": "https://localhost:8080/"
        },
        "id": "cv8g3iklW3je",
        "outputId": "1615feab-1eba-48b5-d963-8ee848affcea"
      },
      "outputs": [
        {
          "name": "stdout",
          "output_type": "stream",
          "text": [
            "A\n"
          ]
        }
      ],
      "source": [
        "points = {(1, 2): \"A\", (3, 4): \"B\"}\n",
        "print(points[(1, 2)])  # Output: A\n"
      ]
    },
    {
      "cell_type": "markdown",
      "metadata": {
        "id": "ztFrU3tPW56Q"
      },
      "source": [
        "**4. Packing and Unpacking:**\n",
        "\n",
        "* Tuples enable packing and unpacking of data in a clean and readable way, which can improve code readability.\n",
        "\n",
        "Example:\n"
      ]
    },
    {
      "cell_type": "code",
      "execution_count": 42,
      "metadata": {
        "colab": {
          "base_uri": "https://localhost:8080/"
        },
        "id": "tdGqoctUXHzK",
        "outputId": "ea2512e9-ac56-483f-9764-dcf49b9fa38e"
      },
      "outputs": [
        {
          "name": "stdout",
          "output_type": "stream",
          "text": [
            "10\n",
            "20\n"
          ]
        }
      ],
      "source": [
        "point = (10, 20)\n",
        "x, y = point  # Unpacking\n",
        "print(x)\n",
        "print(y)\n"
      ]
    },
    {
      "cell_type": "markdown",
      "metadata": {
        "id": "XAtNrqt8XVOs"
      },
      "source": [
        "**5. Storing Records:**\n",
        "\n",
        "* Tuples can be used to store related records, such as a database row, where each element of the tuple represents a column value.\n",
        "\n",
        "Example:\n"
      ]
    },
    {
      "cell_type": "code",
      "execution_count": 43,
      "metadata": {
        "colab": {
          "base_uri": "https://localhost:8080/"
        },
        "id": "uvQqGve2XktP",
        "outputId": "03f62f9a-bbca-4f4d-b3ab-db8cc9982f27"
      },
      "outputs": [
        {
          "name": "stdout",
          "output_type": "stream",
          "text": [
            "('John Doe', 30, 'Developer')\n"
          ]
        }
      ],
      "source": [
        "employee = (\"John Doe\", 30, \"Developer\")\n",
        "print(employee)\n"
      ]
    },
    {
      "cell_type": "markdown",
      "metadata": {
        "id": "Urskb-dDXvU6"
      },
      "source": [
        "**Use Cases of Sets in Python**\n",
        "\n",
        "**1. Removing Duplicates:**\n",
        "\n",
        "* Sets automatically enforce uniqueness, making them ideal for removing duplicates from a collection, such as a list.\n",
        "\n",
        "Example:\n"
      ]
    },
    {
      "cell_type": "code",
      "execution_count": 44,
      "metadata": {
        "colab": {
          "base_uri": "https://localhost:8080/"
        },
        "id": "dSrz7pLQX6_h",
        "outputId": "5e46ca01-2284-4fbe-955e-eccd7d76ce60"
      },
      "outputs": [
        {
          "name": "stdout",
          "output_type": "stream",
          "text": [
            "{1, 2, 3, 4, 5}\n"
          ]
        }
      ],
      "source": [
        "numbers = [1, 2, 2, 3, 4, 4, 5]\n",
        "unique_numbers = set(numbers)\n",
        "print(unique_numbers)  # Output: {1, 2, 3, 4, 5}\n"
      ]
    },
    {
      "cell_type": "markdown",
      "metadata": {
        "id": "tGQCrUQWYAut"
      },
      "source": [
        "**2. Membership Testing:**\n",
        "\n",
        "* Sets provide O(1) average time complexity for membership tests, making them faster for checking if an item exists compared to lists.\n",
        "\n",
        "Example:\n"
      ]
    },
    {
      "cell_type": "code",
      "execution_count": 45,
      "metadata": {
        "colab": {
          "base_uri": "https://localhost:8080/"
        },
        "id": "yxsNp1O2YKx6",
        "outputId": "604e67e6-651b-43e8-fb26-972d8b0edaee"
      },
      "outputs": [
        {
          "name": "stdout",
          "output_type": "stream",
          "text": [
            "True\n",
            "False\n"
          ]
        }
      ],
      "source": [
        "my_set = {1, 2, 3}\n",
        "print(2 in my_set)  # Output: True\n",
        "print(4 in my_set)  # Output: False\n"
      ]
    },
    {
      "cell_type": "markdown",
      "metadata": {
        "id": "YGcG8VEUYUIO"
      },
      "source": [
        "**3. Mathematical Set Operations:**\n",
        "\n",
        "* Sets support various mathematical operations like union, intersection, difference, and symmetric difference, making them useful for mathematical computations.\n",
        "\n",
        "Example:\n"
      ]
    },
    {
      "cell_type": "code",
      "execution_count": 46,
      "metadata": {
        "colab": {
          "base_uri": "https://localhost:8080/"
        },
        "id": "MBWfPEe9YeH3",
        "outputId": "69798db4-7683-42c2-c56b-85d7f82e6f4a"
      },
      "outputs": [
        {
          "name": "stdout",
          "output_type": "stream",
          "text": [
            "{1, 2, 3, 4, 5}\n",
            "{3}\n",
            "{1, 2}\n",
            "{1, 2, 4, 5}\n"
          ]
        }
      ],
      "source": [
        "set_a = {1, 2, 3}\n",
        "set_b = {3, 4, 5}\n",
        "\n",
        "# Union\n",
        "print(set_a | set_b)  # Output: {1, 2, 3, 4, 5}\n",
        "\n",
        "# Intersection\n",
        "print(set_a & set_b)  # Output: {3}\n",
        "\n",
        "# Difference\n",
        "print(set_a - set_b)  # Output: {1, 2}\n",
        "\n",
        "# Symmetric Difference\n",
        "print(set_a ^ set_b)  # Output: {1, 2, 4, 5}\n"
      ]
    },
    {
      "cell_type": "markdown",
      "metadata": {
        "id": "a0BcxnnsYgRc"
      },
      "source": [
        "**4. Data Cleaning:**\n",
        "\n",
        "* Sets can be used in data preprocessing to ensure that a collection of items is unique before further analysis.\n",
        "\n",
        "Example:\n"
      ]
    },
    {
      "cell_type": "code",
      "execution_count": 47,
      "metadata": {
        "colab": {
          "base_uri": "https://localhost:8080/"
        },
        "id": "8N_rxwuEZA1H",
        "outputId": "9498b07c-f429-478e-8c55-bb9cba396ffe"
      },
      "outputs": [
        {
          "name": "stdout",
          "output_type": "stream",
          "text": [
            "{'apple', 'orange', 'banana'}\n"
          ]
        }
      ],
      "source": [
        "raw_data = [\"apple\", \"banana\", \"apple\", \"orange\", \"banana\"]\n",
        "cleaned_data = set(raw_data)\n",
        "print(cleaned_data)  # Output: {'apple', 'banana', 'orange'}\n"
      ]
    },
    {
      "cell_type": "markdown",
      "metadata": {
        "id": "-0KvJ86FY6VH"
      },
      "source": [
        "**5. Tracking Unique Items:**\n",
        "\n",
        "* Sets are often used to track unique items, such as unique user IDs or unique items in an inventory system.\n",
        "\n",
        "Example:\n"
      ]
    },
    {
      "cell_type": "code",
      "execution_count": 48,
      "metadata": {
        "colab": {
          "base_uri": "https://localhost:8080/"
        },
        "id": "CyCN8mWDZEMZ",
        "outputId": "65bf8498-6522-483e-c276-a7f5d59cf172"
      },
      "outputs": [
        {
          "name": "stdout",
          "output_type": "stream",
          "text": [
            "{'user2', 'user1'}\n"
          ]
        }
      ],
      "source": [
        "unique_users = set()\n",
        "unique_users.add(\"user1\")\n",
        "unique_users.add(\"user2\")\n",
        "unique_users.add(\"user1\")  # Duplicate, won't be added\n",
        "\n",
        "print(unique_users)  # Output: {'user1', 'user2'}\n"
      ]
    },
    {
      "cell_type": "markdown",
      "metadata": {
        "id": "rWBFeZh0ZW94"
      },
      "source": [
        "# 7. Describe how to add, modify, and delete items in a dictionary with examples.\n",
        "**ans:-** In Python, dictionaries are mutable, unordered collections of key-value pairs. You can easily add, modify, and delete items in a dictionary. Here’s how to do it with examples:\n",
        "\n",
        "**Adding Items to a Dictionary**\n",
        "\n",
        "**1. Using Square Bracket Notation:**\n",
        "\n",
        "* You can add a new key-value pair to the dictionary by assigning a value to a new key.\n",
        "\n",
        "Example:\n"
      ]
    },
    {
      "cell_type": "code",
      "execution_count": 49,
      "metadata": {
        "colab": {
          "base_uri": "https://localhost:8080/"
        },
        "id": "opdpiWWvZ-Bx",
        "outputId": "678d99a5-f6a0-4a06-8885-8c584158b4b9"
      },
      "outputs": [
        {
          "name": "stdout",
          "output_type": "stream",
          "text": [
            "{'name': 'Alice', 'age': 30, 'city': 'New York'}\n"
          ]
        }
      ],
      "source": [
        "# Creating an empty dictionary\n",
        "my_dict = {}\n",
        "\n",
        "# Adding items\n",
        "my_dict[\"name\"] = \"Alice\"\n",
        "my_dict[\"age\"] = 30\n",
        "my_dict[\"city\"] = \"New York\"\n",
        "\n",
        "print(my_dict)  # Output: {'name': 'Alice', 'age': 30, 'city': 'New York'}\n"
      ]
    },
    {
      "cell_type": "markdown",
      "metadata": {
        "id": "-8i4LQ8caKLH"
      },
      "source": [
        "**2. Using the update() Method:**\n",
        "\n",
        "* The update() method can also be used to add multiple key-value pairs to a dictionary.\n",
        "\n",
        "Example:\n"
      ]
    },
    {
      "cell_type": "code",
      "execution_count": 50,
      "metadata": {
        "colab": {
          "base_uri": "https://localhost:8080/"
        },
        "id": "TPW7LeOUaU65",
        "outputId": "0b0e827b-3592-424b-b4ed-324782d34c14"
      },
      "outputs": [
        {
          "name": "stdout",
          "output_type": "stream",
          "text": [
            "{'name': 'Alice', 'age': 30, 'city': 'New York'}\n"
          ]
        }
      ],
      "source": [
        "my_dict = {\"name\": \"Alice\"}\n",
        "my_dict.update({\"age\": 30, \"city\": \"New York\"})\n",
        "\n",
        "print(my_dict)  # Output: {'name': 'Alice', 'age': 30, 'city': 'New York'}\n"
      ]
    },
    {
      "cell_type": "markdown",
      "metadata": {
        "id": "QFbtKhd2aes3"
      },
      "source": [
        "**Modifying Items in a Dictionary**\n",
        "\n",
        "* You can modify an existing key's value by simply assigning a new value to that key.\n",
        "\n",
        "Example"
      ]
    },
    {
      "cell_type": "code",
      "execution_count": 51,
      "metadata": {
        "colab": {
          "base_uri": "https://localhost:8080/"
        },
        "id": "L9mr8xJManQq",
        "outputId": "d8c546fd-bca4-4e6c-88be-ed97c4712af2"
      },
      "outputs": [
        {
          "name": "stdout",
          "output_type": "stream",
          "text": [
            "{'name': 'Alice', 'age': 31, 'city': 'New York'}\n"
          ]
        }
      ],
      "source": [
        "my_dict = {\"name\": \"Alice\", \"age\": 30, \"city\": \"New York\"}\n",
        "\n",
        "# Modifying the age\n",
        "my_dict[\"age\"] = 31\n",
        "\n",
        "print(my_dict)  # Output: {'name': 'Alice', 'age': 31, 'city': 'New York'}\n"
      ]
    },
    {
      "cell_type": "markdown",
      "metadata": {
        "id": "eqtOHwM8attG"
      },
      "source": [
        "**Deleting Items from a Dictionary**\n",
        "\n",
        "**1. Using the del Statement:**\n",
        "\n",
        "* The del statement can be used to remove a key-value pair from the dictionary.\n",
        "\n",
        "Example:\n"
      ]
    },
    {
      "cell_type": "code",
      "execution_count": 52,
      "metadata": {
        "colab": {
          "base_uri": "https://localhost:8080/"
        },
        "id": "Is1cmgiCbCwU",
        "outputId": "28150d55-dbc6-4406-fd79-7e233a2af7c1"
      },
      "outputs": [
        {
          "name": "stdout",
          "output_type": "stream",
          "text": [
            "{'name': 'Alice', 'age': 30}\n"
          ]
        }
      ],
      "source": [
        "my_dict = {\"name\": \"Alice\", \"age\": 30, \"city\": \"New York\"}\n",
        "\n",
        "# Deleting the city key\n",
        "del my_dict[\"city\"]\n",
        "\n",
        "print(my_dict)  # Output: {'name': 'Alice', 'age': 30}\n"
      ]
    },
    {
      "cell_type": "markdown",
      "metadata": {
        "id": "m8mGGRUTbGpS"
      },
      "source": [
        "**2. Using the pop() Method:**\n",
        "\n",
        "* The pop() method removes a specified key and returns its value. If the key is not found, it raises a KeyError unless a default value is provided.\n",
        "\n",
        "Example:\n"
      ]
    },
    {
      "cell_type": "code",
      "execution_count": 53,
      "metadata": {
        "colab": {
          "base_uri": "https://localhost:8080/"
        },
        "id": "JV0W4p-kbTYu",
        "outputId": "71563245-eda9-448d-a408-66e4e5b4fc93"
      },
      "outputs": [
        {
          "name": "stdout",
          "output_type": "stream",
          "text": [
            "{'name': 'Alice', 'city': 'New York'}\n",
            "Popped age: 30\n"
          ]
        }
      ],
      "source": [
        "my_dict = {\"name\": \"Alice\", \"age\": 30, \"city\": \"New York\"}\n",
        "\n",
        "# Popping the age key\n",
        "age = my_dict.pop(\"age\")\n",
        "\n",
        "print(my_dict)  # Output: {'name': 'Alice', 'city': 'New York'}\n",
        "print(\"Popped age:\", age)  # Output: Popped age: 30\n"
      ]
    },
    {
      "cell_type": "markdown",
      "metadata": {
        "id": "3JvuoJ_qbbkN"
      },
      "source": [
        "**3. Using the popitem() Method:**\n",
        "\n",
        "* The popitem() method removes and returns the last inserted key-value pair as a tuple. It raises a KeyError if the dictionary is empty.\n",
        "\n",
        "Example:\n"
      ]
    },
    {
      "cell_type": "code",
      "execution_count": 54,
      "metadata": {
        "colab": {
          "base_uri": "https://localhost:8080/"
        },
        "id": "2j5Dg03rbiMN",
        "outputId": "07b80a24-3ed5-4a7f-bb95-8557fe5cdcd5"
      },
      "outputs": [
        {
          "name": "stdout",
          "output_type": "stream",
          "text": [
            "{'name': 'Alice', 'age': 30}\n",
            "Popped item: ('city', 'New York')\n"
          ]
        }
      ],
      "source": [
        "my_dict = {\"name\": \"Alice\", \"age\": 30, \"city\": \"New York\"}\n",
        "\n",
        "# Popping the last item\n",
        "last_item = my_dict.popitem()\n",
        "\n",
        "print(my_dict)  # Output: {'name': 'Alice', 'age': 30}\n",
        "print(\"Popped item:\", last_item)  # Output: Popped item: ('city', 'New York')\n"
      ]
    },
    {
      "cell_type": "markdown",
      "metadata": {
        "id": "f1PAaUTNbwa7"
      },
      "source": [
        "**4. Using the clear() Method:**\n",
        "\n",
        "* The clear() method removes all key-value pairs from the dictionary.\n",
        "\n",
        "Example:\n"
      ]
    },
    {
      "cell_type": "code",
      "execution_count": 55,
      "metadata": {
        "colab": {
          "base_uri": "https://localhost:8080/"
        },
        "id": "0aByHKgOb4a6",
        "outputId": "0eef2740-b205-4855-9386-3e9ab432e0be"
      },
      "outputs": [
        {
          "name": "stdout",
          "output_type": "stream",
          "text": [
            "{}\n"
          ]
        }
      ],
      "source": [
        "my_dict = {\"name\": \"Alice\", \"age\": 30, \"city\": \"New York\"}\n",
        "\n",
        "# Clearing the dictionary\n",
        "my_dict.clear()\n",
        "\n",
        "print(my_dict)  # Output: {}\n"
      ]
    },
    {
      "cell_type": "markdown",
      "metadata": {
        "id": "1aNgRWWgcRKw"
      },
      "source": [
        "# 8. Discuss the importance of dictionary keys being immutable and provide examples.\n",
        "\n",
        "**Ans:-** In Python, the keys of a dictionary must be immutable types. This requirement is essential for several reasons, which I’ll discuss along with examples.\n",
        "\n",
        "**Importance of Immutable Keys in Dictionaries**\n",
        "\n",
        "**1. Hashability:**\n",
        "\n",
        "* Dictionary keys must be hashable, which means they must have a fixed hash value throughout their lifetime. This property is essential for efficient data retrieval.\n",
        "\n",
        "* Immutable types like strings, numbers, and tuples can be hashed, while mutable types like lists and dictionaries cannot. Using immutable keys ensures that the hash value remains constant and prevents unexpected behavior.\n",
        "\n",
        "Example:\n"
      ]
    },
    {
      "cell_type": "code",
      "execution_count": 56,
      "metadata": {
        "colab": {
          "base_uri": "https://localhost:8080/"
        },
        "id": "4FZ5gBv9coN1",
        "outputId": "f7da730f-867f-44fb-ad1a-11e51fa9b577"
      },
      "outputs": [
        {
          "name": "stdout",
          "output_type": "stream",
          "text": [
            "unhashable type: 'list'\n"
          ]
        }
      ],
      "source": [
        "# Valid dictionary with immutable keys\n",
        "my_dict = {\n",
        "    \"name\": \"Alice\",\n",
        "    \"age\": 30,\n",
        "    (1, 2): \"Point A\"  # Tuple as a key\n",
        "}\n",
        "\n",
        "# Invalid dictionary with mutable keys (will raise TypeError)\n",
        "try:\n",
        "    my_dict[[1, 2]] = \"List as key\"\n",
        "except TypeError as e:\n",
        "    print(e)  # Output: unhashable type: 'list'\n"
      ]
    },
    {
      "cell_type": "markdown",
      "metadata": {
        "id": "eSFRQa8Rc0I5"
      },
      "source": [
        "**2. Data Integrity:**\n",
        "\n",
        "* By enforcing immutability, dictionaries ensure that the keys cannot be altered after they are created. This preserves the integrity of the key-value mapping, which is critical for reliable data retrieval.\n",
        "\n",
        "Example:\n"
      ]
    },
    {
      "cell_type": "code",
      "execution_count": 57,
      "metadata": {
        "colab": {
          "base_uri": "https://localhost:8080/"
        },
        "id": "j55L0TdvdAxS",
        "outputId": "0e745a45-aa5b-41c9-9cfc-cc4febdd7fa9"
      },
      "outputs": [
        {
          "name": "stdout",
          "output_type": "stream",
          "text": [
            "{1: 'One', 2: 'Two'}\n"
          ]
        }
      ],
      "source": [
        "my_dict = {1: \"One\", 2: \"Two\"}\n",
        "\n",
        "# Attempting to modify the key would lead to confusion\n",
        "# This operation is not allowed as keys cannot be changed\n",
        "# my_dict[1] = \"Changed\"  # This modifies the value, not the key\n",
        "\n",
        "print(my_dict)  # Output: {1: 'One', 2: 'Two'}\n"
      ]
    },
    {
      "cell_type": "markdown",
      "metadata": {
        "id": "0J57A437dPmZ"
      },
      "source": [
        "**3. Efficient Lookups:**\n",
        "\n",
        "* The immutability of keys allows dictionaries to use hash tables for fast data retrieval. If keys were mutable, it would complicate how entries are stored and retrieved, significantly slowing down the process.\n",
        "\n",
        "Example:\n"
      ]
    },
    {
      "cell_type": "code",
      "execution_count": 58,
      "metadata": {
        "colab": {
          "base_uri": "https://localhost:8080/"
        },
        "id": "L0UBeiSodXKf",
        "outputId": "159e2e91-5cda-4e40-b968-f86fa408c2df"
      },
      "outputs": [
        {
          "name": "stdout",
          "output_type": "stream",
          "text": [
            "2\n"
          ]
        }
      ],
      "source": [
        "my_dict = {\"apple\": 1, \"banana\": 2, \"orange\": 3}\n",
        "\n",
        "# Fast lookup\n",
        "print(my_dict[\"banana\"])  # Output: 2\n"
      ]
    },
    {
      "cell_type": "markdown",
      "metadata": {
        "id": "p9JrCr9HdfOx"
      },
      "source": [
        "**4. Preventing Errors:**\n",
        "\n",
        "* Immutable keys help prevent errors that could arise from accidentally changing a key's value. If mutable objects were allowed, modifying the object would lead to inconsistent states and potential data loss.\n",
        "\n",
        "Example:\n"
      ]
    },
    {
      "cell_type": "code",
      "execution_count": 59,
      "metadata": {
        "id": "wwvezBXeeApO"
      },
      "outputs": [],
      "source": [
        "my_dict = {\"name\": \"Alice\", \"age\": 30}\n",
        "\n",
        "# If mutable keys were allowed, modifying the key could cause errors\n",
        "# e.g., if a list was used as a key\n",
        "# my_dict[[1, 2]] = \"List\"  # Imagine modifying the list after this assignment\n"
      ]
    },
    {
      "cell_type": "markdown",
      "metadata": {
        "id": "frIUuSRgeMU3"
      },
      "source": [
        "**5. Use Cases for Tuples as Keys:**\n",
        "\n",
        "* Immutable types, particularly tuples, are often used as keys to represent compound keys (multiple values combined).\n",
        "\n",
        "Example:\n"
      ]
    },
    {
      "cell_type": "code",
      "execution_count": 60,
      "metadata": {
        "colab": {
          "base_uri": "https://localhost:8080/"
        },
        "id": "V2iHW2PAeS1u",
        "outputId": "7e226188-dd38-4c7d-a377-7a99385c1cdd"
      },
      "outputs": [
        {
          "name": "stdout",
          "output_type": "stream",
          "text": [
            "Point A\n"
          ]
        }
      ],
      "source": [
        "# Using a tuple as a key for a coordinate system\n",
        "coordinates = {\n",
        "    (0, 0): \"Origin\",\n",
        "    (1, 2): \"Point A\",\n",
        "    (2, 3): \"Point B\"\n",
        "}\n",
        "\n",
        "print(coordinates[(1, 2)])  # Output: Point A\n"
      ]
    },
    {
      "cell_type": "markdown",
      "metadata": {
        "id": "mHm3KThsee-K"
      },
      "source": [
        "**Conclusion**\n",
        "\n",
        "The requirement for dictionary keys to be immutable is crucial for ensuring the integrity, efficiency, and reliability of the dictionary's operation. By enforcing immutability, Python guarantees that keys remain constant, facilitating quick lookups and preventing potential errors caused by unintended modifications. This characteristic allows developers to use dictionaries effectively as robust data structures for managing key-value pairs in their applications."
      ]
    }
  ],
  "metadata": {
    "colab": {
      "provenance": []
    },
    "kernelspec": {
      "display_name": "Python 3",
      "name": "python3"
    },
    "language_info": {
      "codemirror_mode": {
        "name": "ipython",
        "version": 3
      },
      "file_extension": ".py",
      "mimetype": "text/x-python",
      "name": "python",
      "nbconvert_exporter": "python",
      "pygments_lexer": "ipython3",
      "version": "3.12.4"
    }
  },
  "nbformat": 4,
  "nbformat_minor": 0
}
