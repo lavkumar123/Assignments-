{
  "nbformat": 4,
  "nbformat_minor": 0,
  "metadata": {
    "colab": {
      "provenance": [],
      "toc_visible": true
    },
    "kernelspec": {
      "name": "python3",
      "display_name": "Python 3"
    },
    "language_info": {
      "name": "python"
    }
  },
  "cells": [
    {
      "cell_type": "markdown",
      "source": [
        "# 1. Write a code to reverse a string."
      ],
      "metadata": {
        "id": "7N_WatKrt80y"
      }
    },
    {
      "cell_type": "code",
      "source": [
        "# Function to reverse a string\n",
        "def reverse_string(s):\n",
        "    return s[::-1]\n",
        "\n",
        "# Example usage\n",
        "input_string = \"Hello, World!\"\n",
        "reversed_string = reverse_string(input_string)\n",
        "print(\"Reversed String:\", reversed_string)\n"
      ],
      "metadata": {
        "colab": {
          "base_uri": "https://localhost:8080/"
        },
        "id": "kwMtBXxBuENP",
        "outputId": "37651ba2-ea25-49c7-eaca-d2455fe5bb34"
      },
      "execution_count": null,
      "outputs": [
        {
          "output_type": "stream",
          "name": "stdout",
          "text": [
            "Reversed String: !dlroW ,olleH\n"
          ]
        }
      ]
    },
    {
      "cell_type": "markdown",
      "source": [
        "# 2. Write a code to count the number of vowels in a string."
      ],
      "metadata": {
        "id": "LNIMKSsIuXwy"
      }
    },
    {
      "cell_type": "code",
      "source": [
        "# Function to count vowels in a string\n",
        "def count_vowels(s):\n",
        "    vowels = \"aeiouAEIOU\"  # List of vowels (both lowercase and uppercase)\n",
        "    count = 0\n",
        "    for char in s:\n",
        "        if char in vowels:\n",
        "            count += 1\n",
        "    return count\n",
        "\n",
        "# Example usage\n",
        "input_string = \"Hello, World!\"\n",
        "vowel_count = count_vowels(input_string)\n",
        "print(\"Number of vowels:\", vowel_count)\n"
      ],
      "metadata": {
        "colab": {
          "base_uri": "https://localhost:8080/"
        },
        "id": "Zr7qp0FVuodu",
        "outputId": "b1810091-71c8-4860-e008-0473c9a67559"
      },
      "execution_count": null,
      "outputs": [
        {
          "output_type": "stream",
          "name": "stdout",
          "text": [
            "Number of vowels: 3\n"
          ]
        }
      ]
    },
    {
      "cell_type": "markdown",
      "source": [
        "# 3 Write a code to check if a given string is a palindrome or not."
      ],
      "metadata": {
        "id": "JrnHOxlGvGzg"
      }
    },
    {
      "cell_type": "code",
      "source": [
        "# Function to check if a string is a palindrome\n",
        "def is_palindrome(s):\n",
        "    # Remove spaces and convert to lowercase\n",
        "    cleaned_string = ''.join(s.split()).lower()\n",
        "    # Check if the string is equal to its reverse\n",
        "    return cleaned_string == cleaned_string[::-1]\n",
        "\n",
        "# Example usage\n",
        "input_string = \"A man a plan a canal Panama\"\n",
        "if is_palindrome(input_string):\n",
        "    print(f'\"{input_string}\" is a palindrome.')\n",
        "else:\n",
        "    print(f'\"{input_string}\" is not a palindrome.')\n"
      ],
      "metadata": {
        "colab": {
          "base_uri": "https://localhost:8080/"
        },
        "id": "n3AjgUG_vLyx",
        "outputId": "e76aea4b-f632-4d0b-a2bf-65e89b8be76c"
      },
      "execution_count": null,
      "outputs": [
        {
          "output_type": "stream",
          "name": "stdout",
          "text": [
            "\"A man a plan a canal Panama\" is a palindrome.\n"
          ]
        }
      ]
    },
    {
      "cell_type": "markdown",
      "source": [
        "# 4.Write a code to check if two given strings are anagrams of each other.\n"
      ],
      "metadata": {
        "id": "F4Ls0bA_w09h"
      }
    },
    {
      "cell_type": "code",
      "source": [
        "# Function to check if two strings are anagrams\n",
        "def are_anagrams(str1, str2):\n",
        "    # Remove spaces and convert to lowercase\n",
        "    cleaned_str1 = ''.join(str1.split()).lower()\n",
        "    cleaned_str2 = ''.join(str2.split()).lower()\n",
        "\n",
        "    # Sort the characters of both strings and compare\n",
        "    return sorted(cleaned_str1) == sorted(cleaned_str2)\n",
        "\n",
        "# Example usage\n",
        "string1 = \"Listen\"\n",
        "string2 = \"Silent\"\n",
        "if are_anagrams(string1, string2):\n",
        "    print(f'\"{string1}\" and \"{string2}\" are anagrams.')\n",
        "else:\n",
        "    print(f'\"{string1}\" and \"{string2}\" are not anagrams.')\n"
      ],
      "metadata": {
        "colab": {
          "base_uri": "https://localhost:8080/"
        },
        "id": "Gfg5m5j9w4yr",
        "outputId": "d62e1dc1-21e9-470d-dffd-eefb36a9fc08"
      },
      "execution_count": null,
      "outputs": [
        {
          "output_type": "stream",
          "name": "stdout",
          "text": [
            "\"Listen\" and \"Silent\" are anagrams.\n"
          ]
        }
      ]
    },
    {
      "cell_type": "markdown",
      "source": [
        "# 5.Write a code to find all occurrences of a given substring within another string."
      ],
      "metadata": {
        "id": "C-9P-hvFxGag"
      }
    },
    {
      "cell_type": "code",
      "source": [
        "# Function to find all occurrences of a substring\n",
        "def find_all_occurrences(string, substring):\n",
        "    start = 0  # Start searching from the beginning\n",
        "    occurrences = []  # List to store the starting indices of occurrences\n",
        "\n",
        "    while True:\n",
        "        start = string.find(substring, start)  # Find the substring starting from index 'start'\n",
        "\n",
        "        if start == -1:  # If no more occurrences are found\n",
        "            break\n",
        "\n",
        "        occurrences.append(start)  # Add the index to the occurrences list\n",
        "        start += 1  # Move to the next character for subsequent searches\n",
        "\n",
        "    return occurrences\n",
        "\n",
        "# Example usage\n",
        "main_string = \"This is a test string. This string is for testing.\"\n",
        "substring = \"is\"\n",
        "indices = find_all_occurrences(main_string, substring)\n",
        "\n",
        "print(f'All occurrences of \"{substring}\" in the main string are at indices: {indices}')\n"
      ],
      "metadata": {
        "colab": {
          "base_uri": "https://localhost:8080/"
        },
        "id": "kcU61jUkxOrz",
        "outputId": "b526a2bd-2cda-4402-e806-28e1d5298cc5"
      },
      "execution_count": null,
      "outputs": [
        {
          "output_type": "stream",
          "name": "stdout",
          "text": [
            "All occurrences of \"is\" in the main string are at indices: [2, 5, 25, 35]\n"
          ]
        }
      ]
    },
    {
      "cell_type": "markdown",
      "source": [
        "# 6.Write a code to perform basic string compression using the counts of repeated characters."
      ],
      "metadata": {
        "id": "jWoSJvYiywCO"
      }
    },
    {
      "cell_type": "code",
      "source": [
        "# Function to compress a string\n",
        "def compress_string(s):\n",
        "    if not s:  # Return empty string if input is empty\n",
        "        return \"\"\n",
        "\n",
        "    compressed = []  # List to hold compressed parts\n",
        "    count = 1  # Initialize count of repeated characters\n",
        "\n",
        "    for i in range(1, len(s)):\n",
        "        if s[i] == s[i - 1]:\n",
        "            count += 1  # Increment count if the same character repeats\n",
        "        else:\n",
        "            # Append the character and its count to the list\n",
        "            compressed.append(s[i - 1] + str(count))\n",
        "            count = 1  # Reset count for the new character\n",
        "\n",
        "    # Append the last character and its count\n",
        "    compressed.append(s[-1] + str(count))\n",
        "\n",
        "    # Join the list into a string\n",
        "    compressed_string = ''.join(compressed)\n",
        "\n",
        "    # Return the original string if compressed string is longer\n",
        "    return compressed_string if len(compressed_string) < len(s) else s\n",
        "\n",
        "# Example usage\n",
        "input_string = \"aaaaabdddcccc\"\n",
        "compressed_string = compress_string(input_string)\n",
        "print(\"Compressed string:\", compressed_string)\n"
      ],
      "metadata": {
        "colab": {
          "base_uri": "https://localhost:8080/"
        },
        "id": "50Bu0EY2zFSg",
        "outputId": "c625557a-65f5-4fb4-ba55-cf78188f81ab"
      },
      "execution_count": null,
      "outputs": [
        {
          "output_type": "stream",
          "name": "stdout",
          "text": [
            "Compressed string: a5b1d3c4\n"
          ]
        }
      ]
    },
    {
      "cell_type": "markdown",
      "source": [
        "# 7.Write a code to determine if a string has all unique characters."
      ],
      "metadata": {
        "id": "tObihh0X0w1x"
      }
    },
    {
      "cell_type": "code",
      "source": [
        "def has_unique_characters(s):\n",
        "    # Create an empty set to store encountered characters\n",
        "    seen = set()\n",
        "\n",
        "    # Traverse each character in the string\n",
        "    for char in s:\n",
        "        if char in seen:  # If the character is already in the set, it's a duplicate\n",
        "            return False\n",
        "        seen.add(char)  # Add the character to the set if it's not already there\n",
        "\n",
        "    return True  # If no duplicates are found, all characters are unique\n",
        "\n",
        "# Example usage\n",
        "input_string = input(\"Enter a string: \")\n",
        "result = has_unique_characters(input_string)\n",
        "print(f\"Does '{input_string}' have all unique characters? => {result}\")\n"
      ],
      "metadata": {
        "colab": {
          "base_uri": "https://localhost:8080/"
        },
        "id": "JGpmNvQF2g7f",
        "outputId": "74fbaa08-72fe-41f0-bb7b-29827cf131b7"
      },
      "execution_count": null,
      "outputs": [
        {
          "output_type": "stream",
          "name": "stdout",
          "text": [
            "Enter a string: lav kumar\n",
            "Does 'lav kumar' have all unique characters? => False\n"
          ]
        }
      ]
    },
    {
      "cell_type": "markdown",
      "source": [
        "# 8.Write a code to convert a given string to uppercase or lowercase."
      ],
      "metadata": {
        "id": "WH0E2oH24EaN"
      }
    },
    {
      "cell_type": "code",
      "source": [
        "def convert_case(s, to_upper=True):\n",
        "    if to_upper:\n",
        "        return s.upper()  # Convert to uppercase\n",
        "    else:\n",
        "        return s.lower()  # Convert to lowercase\n",
        "\n",
        "# Example usage\n",
        "input_string = \"Hello World!\"\n",
        "\n",
        "# Convert to uppercase\n",
        "uppercase_string = convert_case(input_string, to_upper=True)\n",
        "print(f\"Uppercase: {uppercase_string}\")\n",
        "\n",
        "# Convert to lowercase\n",
        "lowercase_string = convert_case(input_string, to_upper=False)\n",
        "print(f\"Lowercase: {lowercase_string}\")\n"
      ],
      "metadata": {
        "colab": {
          "base_uri": "https://localhost:8080/"
        },
        "id": "8mNaviWI4GqC",
        "outputId": "25894736-9037-4b0d-a692-1855ec1bb862"
      },
      "execution_count": null,
      "outputs": [
        {
          "output_type": "stream",
          "name": "stdout",
          "text": [
            "Uppercase: HELLO WORLD!\n",
            "Lowercase: hello world!\n"
          ]
        }
      ]
    },
    {
      "cell_type": "markdown",
      "source": [
        "# 9.Write a code to count the number of words in a string."
      ],
      "metadata": {
        "id": "GuN8OaAN4sd6"
      }
    },
    {
      "cell_type": "code",
      "source": [
        "def count_words(s):\n",
        "    # Split the string into words using whitespace as the delimiter\n",
        "    words = s.split()\n",
        "\n",
        "    # Return the number of words\n",
        "    return len(words)\n",
        "\n",
        "# Example usage\n",
        "input_string = \"Hello, how are you doing today?\"\n",
        "word_count = count_words(input_string)\n",
        "print(f\"Number of words: {word_count}\")\n"
      ],
      "metadata": {
        "colab": {
          "base_uri": "https://localhost:8080/"
        },
        "id": "xaEfqhq5448i",
        "outputId": "94b9afe0-26f1-4ee5-a3c4-da7f287cd136"
      },
      "execution_count": null,
      "outputs": [
        {
          "output_type": "stream",
          "name": "stdout",
          "text": [
            "Number of words: 6\n"
          ]
        }
      ]
    },
    {
      "cell_type": "markdown",
      "source": [
        "# 10.Write a code to concatenate two strings without using the + operator."
      ],
      "metadata": {
        "id": "a5Dlagpk5Vz3"
      }
    },
    {
      "cell_type": "code",
      "source": [
        "def concatenate_strings(s1, s2):\n",
        "    return ''.join([s1, s2])\n",
        "\n",
        "# Example usage\n",
        "string1 = \"Hello\"\n",
        "string2 = \"World\"\n",
        "result = concatenate_strings(string1, string2)\n",
        "print(f\"Concatenated String: {result}\")\n"
      ],
      "metadata": {
        "colab": {
          "base_uri": "https://localhost:8080/"
        },
        "id": "6PeQc_Kn5gHQ",
        "outputId": "9694ab9c-bf38-4e14-e824-6bb8d32dec6c"
      },
      "execution_count": null,
      "outputs": [
        {
          "output_type": "stream",
          "name": "stdout",
          "text": [
            "Concatenated String: HelloWorld\n"
          ]
        }
      ]
    },
    {
      "cell_type": "markdown",
      "source": [
        "# 11.Write a code to remove all occurrences of a specific element from a list."
      ],
      "metadata": {
        "id": "3lnzoqxV51-m"
      }
    },
    {
      "cell_type": "code",
      "source": [
        "def remove_element(lst, element):\n",
        "    # Using list comprehension to exclude the specific element\n",
        "    return [item for item in lst if item != element]\n",
        "\n",
        "# Example usage\n",
        "my_list = [1, 2, 3, 4, 3, 5, 3, 6]\n",
        "element_to_remove = 3\n",
        "result = remove_element(my_list, element_to_remove)\n",
        "print(f\"List after removing {element_to_remove}: {result}\")\n"
      ],
      "metadata": {
        "colab": {
          "base_uri": "https://localhost:8080/"
        },
        "id": "Ji3y1W336A6Q",
        "outputId": "04e91587-2bfb-4291-dbe8-4a74dc20c12a"
      },
      "execution_count": null,
      "outputs": [
        {
          "output_type": "stream",
          "name": "stdout",
          "text": [
            "List after removing 3: [1, 2, 4, 5, 6]\n"
          ]
        }
      ]
    },
    {
      "cell_type": "markdown",
      "source": [
        "# 12.Implement a code to find the second largest number in a given list of integer."
      ],
      "metadata": {
        "id": "2MOVxeyc6b8A"
      }
    },
    {
      "cell_type": "code",
      "source": [
        "def find_second_largest(lst):\n",
        "    if len(lst) < 2:\n",
        "        return None  # If there are fewer than two elements, no second largest\n",
        "\n",
        "    first_largest = second_largest = float('-inf')  # Initialize as negative infinity\n",
        "\n",
        "    for num in lst:\n",
        "        if num > first_largest:  # Found a new largest number\n",
        "            second_largest = first_largest  # The old largest becomes the second largest\n",
        "            first_largest = num  # Update the largest\n",
        "        elif first_largest > num > second_largest:  # Update the second largest if necessary\n",
        "            second_largest = num\n",
        "\n",
        "    return second_largest if second_largest != float('-inf') else None  # Return second largest\n",
        "\n",
        "# Example usage\n",
        "my_list = [10, 5, 8, 12, 7, 3, 12]\n",
        "result = find_second_largest(my_list)\n",
        "print(f\"Second largest number: {result}\")\n"
      ],
      "metadata": {
        "colab": {
          "base_uri": "https://localhost:8080/"
        },
        "id": "j-KBLAnw6nkd",
        "outputId": "1120d9f4-ee9a-45f5-c23c-d21144bbfd94"
      },
      "execution_count": null,
      "outputs": [
        {
          "output_type": "stream",
          "name": "stdout",
          "text": [
            "Second largest number: 10\n"
          ]
        }
      ]
    },
    {
      "cell_type": "markdown",
      "source": [
        "# 13.Create a code to count the occurrences of each element in a list and return a dictionary with elements as keys and their counts as values.\n"
      ],
      "metadata": {
        "id": "8k6-1yIc7Q9O"
      }
    },
    {
      "cell_type": "code",
      "source": [
        "def count_occurrences(lst):\n",
        "    # Initialize an empty dictionary to store the counts\n",
        "    counts = {}\n",
        "\n",
        "    # Iterate through the list\n",
        "    for element in lst:\n",
        "        # If the element is already in the dictionary, increment its count\n",
        "        if element in counts:\n",
        "            counts[element] += 1\n",
        "        else:\n",
        "            # Otherwise, add the element to the dictionary with a count of 1\n",
        "            counts[element] = 1\n",
        "\n",
        "    return counts\n",
        "\n",
        "# Example usage\n",
        "my_list = [1, 2, 2, 3, 4, 4, 4, 5, 1, 2]\n",
        "result = count_occurrences(my_list)\n",
        "print(f\"Element counts: {result}\")\n"
      ],
      "metadata": {
        "colab": {
          "base_uri": "https://localhost:8080/"
        },
        "id": "YcbGgBIu8MhF",
        "outputId": "5cdea04c-0c4f-48ca-eca6-bd3658c543db"
      },
      "execution_count": null,
      "outputs": [
        {
          "output_type": "stream",
          "name": "stdout",
          "text": [
            "Element counts: {1: 2, 2: 3, 3: 1, 4: 3, 5: 1}\n"
          ]
        }
      ]
    },
    {
      "cell_type": "markdown",
      "source": [
        "# 14.Write a code to reverse a list in-place without using any built-in reverse functions."
      ],
      "metadata": {
        "id": "Kn29i2rp8l4f"
      }
    },
    {
      "cell_type": "code",
      "source": [
        "def reverse_list(lst):\n",
        "    left = 0  # Start pointer\n",
        "    right = len(lst) - 1  # End pointer\n",
        "\n",
        "    while left < right:\n",
        "        # Swap the elements at left and right pointers\n",
        "        lst[left], lst[right] = lst[right], lst[left]\n",
        "        # Move the pointers towards the center\n",
        "        left += 1\n",
        "        right -= 1\n",
        "\n",
        "# Example usage\n",
        "my_list = [1, 2, 3, 4, 5]\n",
        "reverse_list(my_list)\n",
        "print(f\"Reversed List: {my_list}\")\n"
      ],
      "metadata": {
        "colab": {
          "base_uri": "https://localhost:8080/"
        },
        "id": "hIgqCnO68_WF",
        "outputId": "2fb228f2-c4c7-4b04-ca77-f7a4f6e3747f"
      },
      "execution_count": null,
      "outputs": [
        {
          "output_type": "stream",
          "name": "stdout",
          "text": [
            "Reversed List: [5, 4, 3, 2, 1]\n"
          ]
        }
      ]
    },
    {
      "cell_type": "markdown",
      "source": [
        "# 15.Implement a code to find and remove duplicates from a list while preserving the original order of elements.\n"
      ],
      "metadata": {
        "id": "YMCZKVtS9atV"
      }
    },
    {
      "cell_type": "code",
      "source": [
        "def remove_duplicates(lst):\n",
        "    seen = set()  # Set to keep track of seen elements\n",
        "    unique_list = []  # List to hold unique elements\n",
        "\n",
        "    for element in lst:\n",
        "        if element not in seen:\n",
        "            seen.add(element)  # Add the element to the set\n",
        "            unique_list.append(element)  # Append to the unique list\n",
        "\n",
        "    return unique_list\n",
        "\n",
        "# Example usage\n",
        "my_list = [1, 2, 3, 1, 2, 4, 5, 4, 3]\n",
        "result = remove_duplicates(my_list)\n",
        "print(f\"List after removing duplicates: {result}\")\n"
      ],
      "metadata": {
        "colab": {
          "base_uri": "https://localhost:8080/"
        },
        "id": "UyGHZN3Y90-p",
        "outputId": "ae37fd61-2414-4f6f-d70f-c01acd221d7b"
      },
      "execution_count": null,
      "outputs": [
        {
          "output_type": "stream",
          "name": "stdout",
          "text": [
            "List after removing duplicates: [1, 2, 3, 4, 5]\n"
          ]
        }
      ]
    },
    {
      "cell_type": "markdown",
      "source": [
        "# 16. Create a code to check if a given list is sorted (either in ascending or descending order) or not."
      ],
      "metadata": {
        "id": "StsrDvSF94VI"
      }
    },
    {
      "cell_type": "code",
      "source": [
        "def is_sorted(lst):\n",
        "    if len(lst) < 2:\n",
        "        return True  # A list with fewer than 2 elements is considered sorted\n",
        "\n",
        "    ascending = True\n",
        "    descending = True\n",
        "\n",
        "    for i in range(len(lst) - 1):\n",
        "        if lst[i] < lst[i + 1]:\n",
        "            descending = False  # If we find an ascending pair, it's not descending\n",
        "        elif lst[i] > lst[i + 1]:\n",
        "            ascending = False  # If we find a descending pair, it's not ascending\n",
        "\n",
        "    return ascending, descending\n",
        "\n",
        "# Example usage\n",
        "my_list = [1, 2, 3, 4, 5]  # Change this to test different lists\n",
        "result = is_sorted(my_list)\n",
        "\n",
        "if result[0]:\n",
        "    print(\"The list is sorted in ascending order.\")\n",
        "elif result[1]:\n",
        "    print(\"The list is sorted in descending order.\")\n",
        "else:\n",
        "    print(\"The list is not sorted.\")\n"
      ],
      "metadata": {
        "colab": {
          "base_uri": "https://localhost:8080/"
        },
        "id": "Da62PkR7-It_",
        "outputId": "71532b2e-cd7a-4436-922c-e367ac97af46"
      },
      "execution_count": null,
      "outputs": [
        {
          "output_type": "stream",
          "name": "stdout",
          "text": [
            "The list is sorted in ascending order.\n"
          ]
        }
      ]
    },
    {
      "cell_type": "markdown",
      "source": [
        "# 17.Write a code to merge two sorted lists into a single sorted list."
      ],
      "metadata": {
        "id": "NguDLA2e5yME"
      }
    },
    {
      "cell_type": "code",
      "source": [
        "def merge_sorted_lists(list1, list2):\n",
        "    merged_list = []\n",
        "    i, j = 0, 0  # Pointers for both lists\n",
        "\n",
        "    # Traverse both lists\n",
        "    while i < len(list1) and j < len(list2):\n",
        "        if list1[i] < list2[j]:\n",
        "            merged_list.append(list1[i])\n",
        "            i += 1\n",
        "        else:\n",
        "            merged_list.append(list2[j])\n",
        "            j += 1\n",
        "\n",
        "    # If there are remaining elements in list1, add them\n",
        "    while i < len(list1):\n",
        "        merged_list.append(list1[i])\n",
        "        i += 1\n",
        "\n",
        "    # If there are remaining elements in list2, add them\n",
        "    while j < len(list2):\n",
        "        merged_list.append(list2[j])\n",
        "        j += 1\n",
        "\n",
        "    return merged_list\n",
        "\n",
        "# Example usage\n",
        "list1 = [1, 3, 5, 7]\n",
        "list2 = [2, 4, 6, 8]\n",
        "result = merge_sorted_lists(list1, list2)\n",
        "print(f\"Merged Sorted List: {result}\")\n"
      ],
      "metadata": {
        "colab": {
          "base_uri": "https://localhost:8080/"
        },
        "id": "B0GHkNER7p25",
        "outputId": "5902c73e-952a-446a-a201-cc4106936ef7"
      },
      "execution_count": null,
      "outputs": [
        {
          "output_type": "stream",
          "name": "stdout",
          "text": [
            "Merged Sorted List: [1, 2, 3, 4, 5, 6, 7, 8]\n"
          ]
        }
      ]
    },
    {
      "cell_type": "markdown",
      "source": [
        "# 18. Implement a code to find the intersection of two given lists."
      ],
      "metadata": {
        "id": "G3gEmGEM-0yT"
      }
    },
    {
      "cell_type": "code",
      "source": [
        "def find_intersection(list1, list2):\n",
        "    set1 = set(list2)  # Convert list1 to a set for faster lookup\n",
        "    intersection = [item for item in list1 if item in set1]  # List comprehension to find common elements\n",
        "    return intersection\n",
        "\n",
        "# Example usage\n",
        "list1 = [1, 2, 3, 4, 5]\n",
        "list2 = [4, 5, 6, 7, 8]\n",
        "result = find_intersection(list1, list2)\n",
        "print(f\"Intersection of the two lists: {result}\")\n"
      ],
      "metadata": {
        "colab": {
          "base_uri": "https://localhost:8080/"
        },
        "id": "G7pP4OSn84N5",
        "outputId": "d97e0202-82d1-4fb8-8d9c-e6f6d93efe30"
      },
      "execution_count": null,
      "outputs": [
        {
          "output_type": "stream",
          "name": "stdout",
          "text": [
            "Intersection of the two lists: [4, 5]\n"
          ]
        }
      ]
    },
    {
      "cell_type": "markdown",
      "source": [
        "# 19. Create a code to find the union of two lists without duplicates."
      ],
      "metadata": {
        "id": "W4HXquMe9jQo"
      }
    },
    {
      "cell_type": "code",
      "source": [
        "def find_union(list1, list2):\n",
        "    # Convert both lists to sets and take the union\n",
        "    union_set = set(list1).union(set(list2))\n",
        "    # Convert the set back to a list to maintain list output\n",
        "    return list(union_set)\n",
        "\n",
        "# Example usage\n",
        "list1 = [1, 2, 3, 4, 5]\n",
        "list2 = [4, 5, 6,5, 7, 8]\n",
        "result = find_union(list1, list2)\n",
        "print(f\"Union of the two lists without duplicates: {result}\")\n"
      ],
      "metadata": {
        "colab": {
          "base_uri": "https://localhost:8080/"
        },
        "id": "lFGvuqVh9liT",
        "outputId": "2a3abb95-b99f-40af-8cb4-90daca64e6cf"
      },
      "execution_count": null,
      "outputs": [
        {
          "output_type": "stream",
          "name": "stdout",
          "text": [
            "Union of the two lists without duplicates: [1, 2, 3, 4, 5, 6, 7, 8]\n"
          ]
        }
      ]
    },
    {
      "cell_type": "markdown",
      "source": [
        "# 20. Write a code to shuffle a given list randomly without using any built-in shuffle functions."
      ],
      "metadata": {
        "id": "zefd9f6493JH"
      }
    },
    {
      "cell_type": "code",
      "source": [
        "import random  # Only using random for generating random indices\n",
        "\n",
        "def shuffle_list(arr):\n",
        "    n = len(arr)\n",
        "    for i in range(n-1, 0, -1):  # Iterate from last element to the second one\n",
        "        j = random.randint(0, i)  # Select a random index from 0 to i\n",
        "        arr[i], arr[j] = arr[j], arr[i]  # Swap arr[i] with arr[j]\n",
        "    return arr\n",
        "\n",
        "# Example usage\n",
        "my_list = [1, 2, 3, 4, 5]\n",
        "shuffled_list = shuffle_list(my_list.copy())  # Shuffle a copy to preserve original list\n",
        "print(f\"Original list: {my_list}\")\n",
        "print(f\"Shuffled list: {shuffled_list}\")\n"
      ],
      "metadata": {
        "colab": {
          "base_uri": "https://localhost:8080/"
        },
        "id": "6W9xfua8-Z31",
        "outputId": "3f196a07-efc4-480c-e6a7-b2bd2d403541"
      },
      "execution_count": null,
      "outputs": [
        {
          "output_type": "stream",
          "name": "stdout",
          "text": [
            "Original list: [1, 2, 3, 4, 5]\n",
            "Shuffled list: [3, 2, 1, 5, 4]\n"
          ]
        }
      ]
    },
    {
      "cell_type": "markdown",
      "source": [
        "# 21. Write a code that takes two tuples as input and returns a new tuple containing elements that are common to both input tuples.\n"
      ],
      "metadata": {
        "id": "cSzBG62X-gvF"
      }
    },
    {
      "cell_type": "code",
      "source": [
        "def common_elements(tuple1, tuple2):\n",
        "    # Convert tuples to sets and find the intersection\n",
        "    common_set = set(tuple1).intersection(set(tuple2))\n",
        "    # Convert the result back to a tuple\n",
        "    return tuple(common_set)\n",
        "\n",
        "# Example usage\n",
        "tuple1 = (1, 2, 3, 4, 5)\n",
        "tuple2 = (4, 5, 6, 7, 8)\n",
        "result = common_elements(tuple1, tuple2)\n",
        "print(f\"Common elements between the tuples: {result}\")\n"
      ],
      "metadata": {
        "colab": {
          "base_uri": "https://localhost:8080/"
        },
        "id": "qkB53sIo-198",
        "outputId": "dfef276b-d13d-483d-99fd-61420db3d206"
      },
      "execution_count": null,
      "outputs": [
        {
          "output_type": "stream",
          "name": "stdout",
          "text": [
            "Common elements between the tuples: (4, 5)\n"
          ]
        }
      ]
    },
    {
      "cell_type": "markdown",
      "source": [
        "# 22.Create a code that prompts the user to enter two sets of integers separated by commas. Then, print the intersection of these two sets."
      ],
      "metadata": {
        "id": "5n82gAZT_HHn"
      }
    },
    {
      "cell_type": "code",
      "source": [
        "def get_set_from_input(prompt):\n",
        "    # Get input from the user and convert it to a set of integers\n",
        "    return set(map(int, input(prompt).split(',')))\n",
        "\n",
        "def main():\n",
        "    # Prompt user to enter two sets of integers\n",
        "    set1 = get_set_from_input(\"Enter the first set of integers separated by commas: \")\n",
        "    set2 = get_set_from_input(\"Enter the second set of integers separated by commas: \")\n",
        "\n",
        "    # Find the intersection of both sets\n",
        "    intersection = set1.intersection(set2)\n",
        "\n",
        "    # Print the result\n",
        "    print(f\"The intersection of the two sets is: {intersection}\")\n",
        "\n",
        "# Run the program\n",
        "main()\n"
      ],
      "metadata": {
        "colab": {
          "base_uri": "https://localhost:8080/"
        },
        "id": "sedvt03__qq1",
        "outputId": "c95cc771-1d5d-4605-b9ef-9919fb878d88"
      },
      "execution_count": null,
      "outputs": [
        {
          "output_type": "stream",
          "name": "stdout",
          "text": [
            "Enter the first set of integers separated by commas: 1,2,3,4,5\n",
            "Enter the second set of integers separated by commas: 1,2,3,4,6,8\n",
            "The intersection of the two sets is: {1, 2, 3, 4}\n"
          ]
        }
      ]
    },
    {
      "cell_type": "markdown",
      "source": [
        "# 23. Write a code to concatenate two tuples. The function should take two tuples as input and return a new tuple containing elements from both input tuples.\n"
      ],
      "metadata": {
        "id": "a2shwzfIA0-4"
      }
    },
    {
      "cell_type": "code",
      "source": [
        "def concatenate_tuples(tuple1, tuple2):\n",
        "    # Use the + operator to concatenate the two tuples\n",
        "    return tuple1 + tuple2\n",
        "\n",
        "# Example usage\n",
        "tuple1 = (1, 2, 3)\n",
        "tuple2 = (4, 5, 6)\n",
        "result = concatenate_tuples(tuple1, tuple2)\n",
        "print(f\"Concatenated tuple: {result}\")\n"
      ],
      "metadata": {
        "colab": {
          "base_uri": "https://localhost:8080/"
        },
        "id": "NS9wz3bPBKjw",
        "outputId": "d15d1692-90e5-4435-dc01-f7f7a37b9128"
      },
      "execution_count": null,
      "outputs": [
        {
          "output_type": "stream",
          "name": "stdout",
          "text": [
            "Concatenated tuple: (1, 2, 3, 4, 5, 6)\n"
          ]
        }
      ]
    },
    {
      "cell_type": "markdown",
      "source": [
        "# 24.Develop a code that prompts the user to input two sets of strings. Then, print the elements that are present in the first set but not in the second set.\n"
      ],
      "metadata": {
        "id": "9VRvhN5HBRQn"
      }
    },
    {
      "cell_type": "code",
      "source": [
        "def get_set_from_input(prompt):\n",
        "    # Get input from the user and convert it to a set of strings\n",
        "    return set(input(prompt).split(','))\n",
        "\n",
        "# Get input for the first set\n",
        "set1 = get_set_from_input(\"Enter the first set of strings (comma-separated): \")\n",
        "\n",
        "# Get input for the second set\n",
        "set2 = get_set_from_input(\"Enter the second set of strings (comma-separated): \")\n",
        "\n",
        "# Find elements present in the first set but not in the second set\n",
        "difference = set1 - set2\n",
        "\n",
        "# Print the result\n",
        "print(f\"Elements present in the first set but not in the second set: {difference}\")\n"
      ],
      "metadata": {
        "colab": {
          "base_uri": "https://localhost:8080/"
        },
        "id": "MhWc3M9cB-9P",
        "outputId": "e7a12b13-15ba-4ee0-d628-34462ebb1846"
      },
      "execution_count": null,
      "outputs": [
        {
          "output_type": "stream",
          "name": "stdout",
          "text": [
            "Enter the first set of strings (comma-separated): lav,kumar\n",
            "Enter the second set of strings (comma-separated): anish,kumar\n",
            "Elements present in the first set but not in the second set: {'lav'}\n"
          ]
        }
      ]
    },
    {
      "cell_type": "markdown",
      "source": [
        "# 25. Create a code that takes a tuple and two integers as input. The function should return a new tuple containing elements from the original tuple within the specified range of indices.\n",
        "\n"
      ],
      "metadata": {
        "id": "ZBXgBbXMYego"
      }
    },
    {
      "cell_type": "code",
      "source": [
        "def get_tuple_from_input(prompt):\n",
        "    # Get input from the user and convert it to a tuple of integers\n",
        "    return tuple(map(int, input(prompt).split(',')))\n",
        "\n",
        "def extract_range_from_tuple(input_tuple, start_idx, end_idx):\n",
        "    # Slice the tuple to extract elements within the specified range\n",
        "    return input_tuple[start_idx:end_idx]\n",
        "\n",
        "# Get the tuple input from the user\n",
        "input_tuple = get_tuple_from_input(\"Enter a tuple of integers (comma-separated): \")\n",
        "\n",
        "# Get the start and end indices from the user\n",
        "start_idx = int(input(\"Enter the start index: \"))\n",
        "end_idx = int(input(\"Enter the end index: \"))\n",
        "\n",
        "# Extract the range of elements from the tuple\n",
        "result = extract_range_from_tuple(input_tuple, start_idx, end_idx)\n",
        "\n",
        "# Print the resulting tuple\n",
        "print(f\"New tuple with elements from index {start_idx} to {end_idx}: {result}\")\n"
      ],
      "metadata": {
        "colab": {
          "base_uri": "https://localhost:8080/"
        },
        "id": "q2AHoTKKYoD5",
        "outputId": "66cf09b5-a2b3-4f55-b1bc-2c74ccb04e8f"
      },
      "execution_count": 1,
      "outputs": [
        {
          "output_type": "stream",
          "name": "stdout",
          "text": [
            "Enter a tuple of integers (comma-separated): 1,2,34,5,6,7,8\n",
            "Enter the start index: 3\n",
            "Enter the end index: 7\n",
            "New tuple with elements from index 3 to 7: (5, 6, 7, 8)\n"
          ]
        }
      ]
    },
    {
      "cell_type": "markdown",
      "source": [
        "# 26. Write a code that prompts the user to input two sets of characters. Then, print the union of these two sets."
      ],
      "metadata": {
        "id": "woSbxUzeY-pM"
      }
    },
    {
      "cell_type": "code",
      "source": [
        "def get_set_from_input(prompt):\n",
        "    # Get input from the user and convert it to a set of characters\n",
        "    return set(input(prompt).split(','))\n",
        "\n",
        "# Get input for the first set\n",
        "set1 = get_set_from_input(\"Enter the first set of characters (comma-separated): \")\n",
        "\n",
        "# Get input for the second set\n",
        "set2 = get_set_from_input(\"Enter the second set of characters (comma-separated): \")\n",
        "\n",
        "# Find the union of the two sets\n",
        "union_set = set1.union(set2)\n",
        "\n",
        "# Print the result\n",
        "print(f\"Union of the two sets: {union_set}\")\n"
      ],
      "metadata": {
        "colab": {
          "base_uri": "https://localhost:8080/"
        },
        "id": "iqi2DwzPZUsk",
        "outputId": "76616a43-575a-4d1d-a93c-b82cd22690a4"
      },
      "execution_count": 2,
      "outputs": [
        {
          "output_type": "stream",
          "name": "stdout",
          "text": [
            "Enter the first set of characters (comma-separated): l , a ,v \n",
            "Enter the second set of characters (comma-separated): k,u,m,a,r\n",
            "Union of the two sets: {' a ', 'u', 'l ', 'm', 'v ', 'k', 'a', 'r'}\n"
          ]
        }
      ]
    },
    {
      "cell_type": "markdown",
      "source": [
        "# 27. Develop a code that takes a tuple of integers as input. The function should return the maximum and minimum values from the tuple using tuple unpacking.\n"
      ],
      "metadata": {
        "id": "U7-ocELNZzxB"
      }
    },
    {
      "cell_type": "code",
      "source": [
        "def get_tuple_from_input(prompt):\n",
        "    # Get input from the user and convert it to a tuple of integers\n",
        "    return tuple(map(int, input(prompt).split(',')))\n",
        "\n",
        "def find_max_min(input_tuple):\n",
        "    # Find the maximum and minimum values\n",
        "    max_value = max(input_tuple)\n",
        "    min_value = min(input_tuple)\n",
        "\n",
        "    # Return the max and min values as a tuple (unpacking occurs when returned)\n",
        "    return max_value, min_value\n",
        "\n",
        "# Get the tuple input from the user\n",
        "input_tuple = get_tuple_from_input(\"Enter a tuple of integers (comma-separated): \")\n",
        "\n",
        "# Find the maximum and minimum values\n",
        "max_val, min_val = find_max_min(input_tuple)\n",
        "\n",
        "# Print the result\n",
        "print(f\"Maximum value: {max_val}\")\n",
        "print(f\"Minimum value: {min_val}\")\n"
      ],
      "metadata": {
        "colab": {
          "base_uri": "https://localhost:8080/"
        },
        "id": "aUsc2Yh7aDDO",
        "outputId": "dde4fe3c-de15-4d06-dc5e-c7ac8792a456"
      },
      "execution_count": 3,
      "outputs": [
        {
          "output_type": "stream",
          "name": "stdout",
          "text": [
            "Enter a tuple of integers (comma-separated): 2,3,4,56,8,26,78,5\n",
            "Maximum value: 78\n",
            "Minimum value: 2\n"
          ]
        }
      ]
    },
    {
      "cell_type": "markdown",
      "source": [
        "# 28. Create a code that defines two sets of integers. Then, print the union, intersection, and difference of these two sets.\n"
      ],
      "metadata": {
        "id": "8aHVK-DcaXMg"
      }
    },
    {
      "cell_type": "code",
      "source": [
        "def get_set_from_input(prompt):\n",
        "    # Get input from the user and convert it to a set of integers\n",
        "    return set(map(int, input(prompt).split(',')))\n",
        "\n",
        "# Get the first set of integers from the user\n",
        "set1 = get_set_from_input(\"Enter the first set of integers (comma-separated): \")\n",
        "\n",
        "# Get the second set of integers from the user\n",
        "set2 = get_set_from_input(\"Enter the second set of integers (comma-separated): \")\n",
        "\n",
        "# Calculate the union of the two sets\n",
        "union_set = set1.union(set2)\n",
        "\n",
        "# Calculate the intersection of the two sets\n",
        "intersection_set = set1.intersection(set2)\n",
        "\n",
        "# Calculate the difference between the two sets (set1 - set2)\n",
        "difference_set = set1.difference(set2)\n",
        "\n",
        "# Print the results\n",
        "print(f\"Union of the two sets: {union_set}\")\n",
        "print(f\"Intersection of the two sets: {intersection_set}\")\n",
        "print(f\"Difference (set1 - set2): {difference_set}\")\n"
      ],
      "metadata": {
        "colab": {
          "base_uri": "https://localhost:8080/"
        },
        "id": "zqZYQ0odaqvj",
        "outputId": "06d5bc80-d9a9-4889-bb8c-b5bf978627ae"
      },
      "execution_count": 4,
      "outputs": [
        {
          "output_type": "stream",
          "name": "stdout",
          "text": [
            "Enter the first set of integers (comma-separated): 2,4,6,8,10\n",
            "Enter the second set of integers (comma-separated): 1,2,3,4,5,6\n",
            "Union of the two sets: {1, 2, 3, 4, 5, 6, 8, 10}\n",
            "Intersection of the two sets: {2, 4, 6}\n",
            "Difference (set1 - set2): {8, 10}\n"
          ]
        }
      ]
    },
    {
      "cell_type": "markdown",
      "source": [
        "# 29.Write a code that takes a tuple and an element as input. The function should return the count of occurrences of the given element in the tuple.\n"
      ],
      "metadata": {
        "id": "4nGo59JbbEhT"
      }
    },
    {
      "cell_type": "code",
      "source": [
        "def get_tuple_from_input(prompt):\n",
        "    # Get input from the user and convert it to a tuple of integers\n",
        "    return tuple(map(int, input(prompt).split(',')))\n",
        "\n",
        "def count_occurrences(input_tuple, element):\n",
        "    # Use the count() method to count occurrences of the element in the tuple\n",
        "    return input_tuple.count(element)\n",
        "\n",
        "# Get the tuple input from the user\n",
        "input_tuple = get_tuple_from_input(\"Enter a tuple of integers (comma-separated): \")\n",
        "\n",
        "# Get the element input from the user\n",
        "element = int(input(\"Enter the element to count its occurrences: \"))\n",
        "\n",
        "# Count the occurrences of the element in the tuple\n",
        "occurrences = count_occurrences(input_tuple, element)\n",
        "\n",
        "# Print the result\n",
        "print(f\"The element {element} occurs {occurrences} times in the tuple.\")\n"
      ],
      "metadata": {
        "colab": {
          "base_uri": "https://localhost:8080/"
        },
        "id": "wTDhkuPtbWi0",
        "outputId": "c0c84498-231f-482c-c5d8-1a297cac5acd"
      },
      "execution_count": 5,
      "outputs": [
        {
          "output_type": "stream",
          "name": "stdout",
          "text": [
            "Enter a tuple of integers (comma-separated): 12,3,3,5,4,5,5,5,6,7\n",
            "Enter the element to count its occurrences: 5\n",
            "The element 5 occurs 4 times in the tuple.\n"
          ]
        }
      ]
    },
    {
      "cell_type": "markdown",
      "source": [
        "# 30.Develop a code that prompts the user to input two sets of strings. Then, print the symmetric difference of these two sets.\n"
      ],
      "metadata": {
        "id": "lrsTuOghbtQh"
      }
    },
    {
      "cell_type": "code",
      "source": [
        "def get_set_of_strings(prompt):\n",
        "    # Get input from the user and convert it to a set of strings\n",
        "    return set(input(prompt).split(','))\n",
        "\n",
        "def print_symmetric_difference(set1, set2):\n",
        "    # Calculate the symmetric difference between two sets\n",
        "    symmetric_diff = set1.symmetric_difference(set2)\n",
        "    print(f\"Symmetric Difference: {symmetric_diff}\")\n",
        "\n",
        "# Get the first set of strings from the user\n",
        "set1 = get_set_of_strings(\"Enter the first set of strings (comma-separated): \")\n",
        "\n",
        "# Get the second set of strings from the user\n",
        "set2 = get_set_of_strings(\"Enter the second set of strings (comma-separated): \")\n",
        "\n",
        "# Print the symmetric difference\n",
        "print_symmetric_difference(set1, set2)\n"
      ],
      "metadata": {
        "colab": {
          "base_uri": "https://localhost:8080/"
        },
        "id": "PPPP1rzWb2Nb",
        "outputId": "7fef5a52-6479-4541-ae33-90e6e26a1bef"
      },
      "execution_count": 7,
      "outputs": [
        {
          "output_type": "stream",
          "name": "stdout",
          "text": [
            "Enter the first set of strings (comma-separated): apple,banana,chery\n",
            "Enter the second set of strings (comma-separated): banana,grapes,orange\n",
            "Symmetric Difference: {'chery', 'apple', 'orange', 'grapes'}\n"
          ]
        }
      ]
    },
    {
      "cell_type": "markdown",
      "source": [
        "# 31.& Write a code that takes a list of words as input and returns a dictionary where the keys are unique words and the values are the frequencies of those words in the input list.\n"
      ],
      "metadata": {
        "id": "CdDd-H1ic6dL"
      }
    },
    {
      "cell_type": "code",
      "source": [
        "def get_word_list_from_input(prompt):\n",
        "    # Get input from the user and convert it to a list of words\n",
        "    return input(prompt).split(\",\")\n",
        "\n",
        "def count_word_frequencies(word_list):\n",
        "    # Create an empty dictionary to store word frequencies\n",
        "    word_frequency = {}\n",
        "\n",
        "    # Iterate through the list of words\n",
        "    for word in word_list:\n",
        "        # If the word is already in the dictionary, increment its count\n",
        "        if word in word_frequency:\n",
        "            word_frequency[word] += 1\n",
        "        # Otherwise, add the word to the dictionary with a count of 1\n",
        "        else:\n",
        "            word_frequency[word] = 1\n",
        "\n",
        "    return word_frequency\n",
        "\n",
        "# Get the list of words from the user\n",
        "word_list = get_word_list_from_input(\"Enter a list of words (space-separated): \")\n",
        "\n",
        "# Get the word frequencies\n",
        "word_frequencies = count_word_frequencies(word_list)\n",
        "\n",
        "# Print the dictionary of word frequencies\n",
        "print(\"Word Frequencies:\", word_frequencies)\n"
      ],
      "metadata": {
        "colab": {
          "base_uri": "https://localhost:8080/"
        },
        "id": "AKoT5v8Jc_fx",
        "outputId": "91f3ee6b-f5db-489b-ceaa-0325ab82741c"
      },
      "execution_count": 9,
      "outputs": [
        {
          "output_type": "stream",
          "name": "stdout",
          "text": [
            "Enter a list of words (space-separated): lav,kumar\n",
            "Word Frequencies: {'lav': 1, 'kumar': 1}\n"
          ]
        }
      ]
    },
    {
      "cell_type": "markdown",
      "source": [
        "# 32. Write a code that takes two dictionaries as input and merges them into a single dictionary. If there are common keys, the values should be added together&.\n"
      ],
      "metadata": {
        "id": "G-wzmTiddvrj"
      }
    },
    {
      "cell_type": "code",
      "source": [
        "def get_dictionary_from_input(prompt):\n",
        "    # Get input from the user in the form of key:value pairs separated by commas\n",
        "    dict_input = input(prompt)\n",
        "    # Convert the input string to a dictionary\n",
        "    return dict(map(lambda x: (x.split(':')[0], int(x.split(':')[1])), dict_input.split(',')))\n",
        "\n",
        "def merge_dictionaries(dict1, dict2):\n",
        "    # Create a new dictionary to store the result\n",
        "    merged_dict = dict1.copy()\n",
        "\n",
        "    # Iterate through the second dictionary\n",
        "    for key, value in dict2.items():\n",
        "        # If the key is already in the first dictionary, add the values\n",
        "        if key in merged_dict:\n",
        "            merged_dict[key] += value\n",
        "        # Otherwise, add the key-value pair to the result dictionary\n",
        "        else:\n",
        "            merged_dict[key] = value\n",
        "\n",
        "    return merged_dict\n",
        "\n",
        "# Get the first dictionary from the user\n",
        "dict1 = get_dictionary_from_input(\"Enter the first dictionary (key:value, separated by commas): \")\n",
        "\n",
        "# Get the second dictionary from the user\n",
        "dict2 = get_dictionary_from_input(\"Enter the second dictionary (key:value, separated by commas): \")\n",
        "\n",
        "# Merge the two dictionaries\n",
        "merged_dict = merge_dictionaries(dict1, dict2)\n",
        "\n",
        "# Print the merged dictionary\n",
        "print(\"Merged Dictionary:\", merged_dict)\n"
      ],
      "metadata": {
        "colab": {
          "base_uri": "https://localhost:8080/"
        },
        "id": "lSlrKgmwd9QM",
        "outputId": "28388991-0ba2-428f-b9e5-39e732c3b2cd"
      },
      "execution_count": 11,
      "outputs": [
        {
          "output_type": "stream",
          "name": "stdout",
          "text": [
            "Enter the first dictionary (key:value, separated by commas): a:23,b:34\n",
            "Enter the second dictionary (key:value, separated by commas): b:20,c:45\n",
            "Merged Dictionary: {'a': 23, 'b': 54, 'c': 45}\n"
          ]
        }
      ]
    },
    {
      "cell_type": "markdown",
      "source": [
        "# 33. Write a code to access a value in a nested dictionary. The function should take the dictionary and a list of keys as input, and return the corresponding value. If any of the keys do not exist in the dictionary, the function should return None.\n",
        "\n"
      ],
      "metadata": {
        "id": "YcMwmD3VeyP8"
      }
    },
    {
      "cell_type": "code",
      "source": [
        "def get_nested_value(nested_dict, keys_list):\n",
        "    # Start with the original dictionary\n",
        "    current_value = nested_dict\n",
        "\n",
        "    # Iterate through the list of keys\n",
        "    for key in keys_list:\n",
        "        # Check if the key exists in the current level of the dictionary\n",
        "        if key in current_value:\n",
        "            # Move deeper into the nested dictionary\n",
        "            current_value = current_value[key]\n",
        "        else:\n",
        "            # If the key does not exist, return None\n",
        "            return None\n",
        "\n",
        "    # Return the final value\n",
        "    return current_value\n",
        "\n",
        "# Example usage\n",
        "nested_dict = {\n",
        "    'a': {\n",
        "        'b': {\n",
        "            'c': 42\n",
        "        }\n",
        "    },\n",
        "    'x': {\n",
        "        'y': 100\n",
        "    }\n",
        "}\n",
        "\n",
        "keys_list = ['a', 'b', 'c']\n",
        "value = get_nested_value(nested_dict, keys_list)\n",
        "print(f\"Value for keys {keys_list}: {value}\")\n",
        "\n",
        "keys_list_missing = ['a', 'b', 'z']  # Non-existent key\n",
        "missing_value = get_nested_value(nested_dict, keys_list_missing)\n",
        "print(f\"Value for keys {keys_list_missing}: {missing_value}\")\n"
      ],
      "metadata": {
        "colab": {
          "base_uri": "https://localhost:8080/"
        },
        "id": "F0NG8sFlexAD",
        "outputId": "1662a9c0-cdc8-4224-ebe3-7b2d6619c545"
      },
      "execution_count": 12,
      "outputs": [
        {
          "output_type": "stream",
          "name": "stdout",
          "text": [
            "Value for keys ['a', 'b', 'c']: 42\n",
            "Value for keys ['a', 'b', 'z']: None\n"
          ]
        }
      ]
    },
    {
      "cell_type": "markdown",
      "source": [
        "# 34. Write a code that takes a dictionary as input and returns a sorted version of it based on the values. You can choose whether to sort in ascending or descending order.\n"
      ],
      "metadata": {
        "id": "XgE2BbkJfZOn"
      }
    },
    {
      "cell_type": "code",
      "source": [
        "def sort_dict_by_values(input_dict, ascending=True):\n",
        "    # Sort the dictionary by values and return it as a new dictionary\n",
        "    sorted_dict = dict(sorted(input_dict.items(), key=lambda item: item[1], reverse=not ascending))\n",
        "    return sorted_dict\n",
        "\n",
        "# Example usage\n",
        "example_dict = {'apple': 3, 'banana': 1, 'orange': 2, 'mango': 5}\n",
        "\n",
        "# Sort in ascending order (default)\n",
        "sorted_ascending = sort_dict_by_values(example_dict)\n",
        "print(\"Sorted in ascending order:\", sorted_ascending)\n",
        "\n",
        "# Sort in descending order\n",
        "sorted_descending = sort_dict_by_values(example_dict, ascending=False)\n",
        "print(\"Sorted in descending order:\", sorted_descending)\n"
      ],
      "metadata": {
        "colab": {
          "base_uri": "https://localhost:8080/"
        },
        "id": "BKANrR43fock",
        "outputId": "422dcab5-5fc8-48e9-e5ba-7084f5663aa4"
      },
      "execution_count": 13,
      "outputs": [
        {
          "output_type": "stream",
          "name": "stdout",
          "text": [
            "Sorted in ascending order: {'banana': 1, 'orange': 2, 'apple': 3, 'mango': 5}\n",
            "Sorted in descending order: {'mango': 5, 'apple': 3, 'orange': 2, 'banana': 1}\n"
          ]
        }
      ]
    },
    {
      "cell_type": "markdown",
      "source": [
        "# 35. Write a code that inverts a dictionary, swapping keys and values. Ensure that the inverted dictionary correctly handles cases where multiple keys have the same value by storing the keys as a list in the inverted dictionary.\n",
        "\n"
      ],
      "metadata": {
        "id": "16Kr_jXLf2iA"
      }
    },
    {
      "cell_type": "code",
      "source": [
        "def invert_dictionary(original_dict):\n",
        "    inverted_dict = {}\n",
        "\n",
        "    for key, value in original_dict.items():\n",
        "        if value in inverted_dict:\n",
        "            # If the value already exists, append the key to the list\n",
        "            inverted_dict[value].append(key)\n",
        "        else:\n",
        "            # Otherwise, create a new entry with the key in a list\n",
        "            inverted_dict[value] = [key]\n",
        "\n",
        "    return inverted_dict\n",
        "\n",
        "# Example usage\n",
        "original_dict = {\n",
        "    'a': 1,\n",
        "    'b': 2,\n",
        "    'c': 1,\n",
        "    'd': 3,\n",
        "    'e': 2\n",
        "}\n",
        "\n",
        "inverted_dict = invert_dictionary(original_dict)\n",
        "print(inverted_dict)\n"
      ],
      "metadata": {
        "colab": {
          "base_uri": "https://localhost:8080/"
        },
        "id": "HZLuX_GNgG2N",
        "outputId": "87cd5f03-0444-412e-e339-ce1314183731"
      },
      "execution_count": 14,
      "outputs": [
        {
          "output_type": "stream",
          "name": "stdout",
          "text": [
            "{1: ['a', 'c'], 2: ['b', 'e'], 3: ['d']}\n"
          ]
        }
      ]
    }
  ]
}